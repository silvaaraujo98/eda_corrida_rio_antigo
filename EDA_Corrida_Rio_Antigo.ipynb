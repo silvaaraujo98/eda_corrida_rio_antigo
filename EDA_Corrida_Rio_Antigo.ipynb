{
 "cells": [
  {
   "cell_type": "markdown",
   "metadata": {},
   "source": [
    "### Sobre o DataSet:\n",
    "\n",
    "O Dataset contem dados da Corrida Rio Antigo que foi organizada pela De Castilho Sports que foi realizada no dia 09/06/2024, foi minha primeira corrida de rua, esperem que goste da minha Análise Exploratória.\n",
    "\n",
    "Características:\n",
    "\n",
    "* O dataset é da corrida de 10 km.\n",
    "\n",
    "* O dataset possui 11 colunas, que são as seguintes.\n",
    "    1. ***Pos*** que significa a posição geral que a pessoa chegou;\n",
    "    2. ***Num*** que é referente ao número que fica na camisa da pessoa;\n",
    "    3. ***Nome*** que é referente ao nome completo da pessoa;\n",
    "    4. ***Equipe*** que é referente a equipe que o corredor faz parte;\n",
    "    5. ***Sx*** que é referente ao sexo da pessoa sendo Masculino ou Feminino;\n",
    "    6. ***Cat*** que signfica em qual categoria a pessoa se encontra;\n",
    "    7. ***Por categoria*** que significa qual a posição da pessoa na categoria;\n",
    "    7. ***PC*** que significa o tempo que a pessoa chegou no ponto de controle (a corrida teve apenas 1 ponto de controle);\n",
    "    8. ***Tempo*** que significa o tempo decorrido da pessoa do momento que que ela passa pela linha de partida e chega na linha de chegada\n",
    "    9. ***Tempo Bruto*** que significa o tempo decorrida da pessoa do momento que a prova começa até a linha de chegada.\n",
    "    10. ***Vel. Média*** é a velocidade média do corredor na prova.\n",
    "\n",
    "Algumas Observações:\n",
    "\n",
    "* O Tempo Bruto e o Tempo podem ser ligeiramente diferentes de acordo com a posição da saída do atleta, quanto mais longe ele estiver da linha de partida maior será essa diferença.\n",
    "\n",
    "* Usaremos a Vel. Média como nosso indicador de desempenho, pois como é uma corrida de 10 km, todos os que completaram se deslocaram 10 km de forma identica so modificando o tempo necessário para esse deslocamento.\n"
   ]
  },
  {
   "cell_type": "code",
   "execution_count": null,
   "metadata": {},
   "outputs": [],
   "source": []
  }
 ],
 "metadata": {
  "kernelspec": {
   "display_name": "Python 3",
   "language": "python",
   "name": "python3"
  },
  "language_info": {
   "codemirror_mode": {
    "name": "ipython",
    "version": 3
   },
   "file_extension": ".py",
   "mimetype": "text/x-python",
   "name": "python",
   "nbconvert_exporter": "python",
   "pygments_lexer": "ipython3",
   "version": "3.11.9"
  }
 },
 "nbformat": 4,
 "nbformat_minor": 2
}
