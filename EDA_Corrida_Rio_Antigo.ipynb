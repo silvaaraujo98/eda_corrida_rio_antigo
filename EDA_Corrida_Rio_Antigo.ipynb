{
 "cells": [
  {
   "cell_type": "markdown",
   "metadata": {},
   "source": [
    "## Sobre o DataSet:\n",
    "\n",
    "O Dataset contem dados da Corrida Rio Antigo que foi organizada pela De Castilho Sports que foi realizada no dia 09/06/2024, foi minha primeira corrida de rua, esperem que goste da minha Análise Exploratória.\n",
    "\n",
    "Características:\n",
    "\n",
    "* O dataset é da corrida de 10 km.\n",
    "\n",
    "* O dataset possui 11 colunas, que são as seguintes.\n",
    "    1. ***Pos*** que significa a posição geral que a pessoa chegou;\n",
    "    2. ***Num*** que é referente ao número que fica na camisa da pessoa;\n",
    "    3. ***Nome*** que é referente ao nome completo da pessoa;\n",
    "    4. ***Equipe*** que é referente a equipe que o corredor faz parte;\n",
    "    5. ***Sx*** que é referente ao sexo da pessoa sendo Masculino ou Feminino;\n",
    "    6. ***Cat*** que signfica em qual categoria a pessoa se encontra;\n",
    "    7. ***Por categoria*** que significa qual a posição da pessoa na categoria;\n",
    "    7. ***PC*** que significa o tempo que a pessoa chegou no ponto de controle (a corrida teve apenas 1 ponto de controle);\n",
    "    8. ***Tempo*** que significa o tempo decorrido da pessoa do momento que que ela passa pela linha de partida e chega na linha de chegada\n",
    "    9. ***Tempo Bruto*** que significa o tempo decorrida da pessoa do momento que a prova começa até a linha de chegada.\n",
    "    10. ***Vel. Média*** é a velocidade média do corredor na prova.\n",
    "\n",
    "Algumas Observações:\n",
    "\n",
    "* O Tempo Bruto e o Tempo podem ser ligeiramente diferentes de acordo com a posição da saída do atleta, quanto mais longe ele estiver da linha de partida maior será essa diferença.\n",
    "\n",
    "* Usaremos a Vel. Média como nosso indicador de desempenho, pois como é uma corrida de 10 km, todos os que completaram se deslocaram 10 km de forma identica so modificando o tempo necessário para esse deslocamento.\n",
    "\n",
    "* Faremos essa EDA utilizando o plotly.express como biblioteca gráfica.\n"
   ]
  },
  {
   "cell_type": "code",
   "execution_count": 2,
   "metadata": {},
   "outputs": [],
   "source": [
    "#Importando as bibliotecas Necessárias\n",
    "import pandas as pd\n",
    "import numpy as np\n",
    "import plotly.express as px"
   ]
  },
  {
   "cell_type": "code",
   "execution_count": 3,
   "metadata": {},
   "outputs": [],
   "source": [
    "dados_corrida = pd.read_excel(\"Dados da Corrida Rio Antigo.xlsx\")"
   ]
  },
  {
   "cell_type": "code",
   "execution_count": 4,
   "metadata": {},
   "outputs": [
    {
     "name": "stdout",
     "output_type": "stream",
     "text": [
      "<class 'pandas.core.frame.DataFrame'>\n",
      "Index: 973 entries, 0 to 972\n",
      "Data columns (total 11 columns):\n",
      " #   Column         Non-Null Count  Dtype  \n",
      "---  ------         --------------  -----  \n",
      " 0   Pos            973 non-null    object \n",
      " 1   Num            973 non-null    float64\n",
      " 2   Nome           973 non-null    object \n",
      " 3   Equipe         961 non-null    object \n",
      " 4   Sx             973 non-null    object \n",
      " 5   Cat            972 non-null    object \n",
      " 6   Por Categoria  957 non-null    float64\n",
      " 7   PC             957 non-null    object \n",
      " 8   Tempo          971 non-null    object \n",
      " 9   Tempo Bruto    958 non-null    object \n",
      " 10  Vel.Média      958 non-null    float64\n",
      "dtypes: float64(3), object(8)\n",
      "memory usage: 91.2+ KB\n"
     ]
    },
    {
     "data": {
      "text/html": [
       "<div>\n",
       "<style scoped>\n",
       "    .dataframe tbody tr th:only-of-type {\n",
       "        vertical-align: middle;\n",
       "    }\n",
       "\n",
       "    .dataframe tbody tr th {\n",
       "        vertical-align: top;\n",
       "    }\n",
       "\n",
       "    .dataframe thead th {\n",
       "        text-align: right;\n",
       "    }\n",
       "</style>\n",
       "<table border=\"1\" class=\"dataframe\">\n",
       "  <thead>\n",
       "    <tr style=\"text-align: right;\">\n",
       "      <th></th>\n",
       "      <th>Pos</th>\n",
       "      <th>Num</th>\n",
       "      <th>Nome</th>\n",
       "      <th>Equipe</th>\n",
       "      <th>Sx</th>\n",
       "      <th>Cat</th>\n",
       "      <th>Por Categoria</th>\n",
       "      <th>PC</th>\n",
       "      <th>Tempo</th>\n",
       "      <th>Tempo Bruto</th>\n",
       "      <th>Vel.Média</th>\n",
       "      <th>Sprint_Final</th>\n",
       "    </tr>\n",
       "  </thead>\n",
       "  <tbody>\n",
       "    <tr>\n",
       "      <th>0</th>\n",
       "      <td>1.</td>\n",
       "      <td>543.0</td>\n",
       "      <td>COSME ANCELMO</td>\n",
       "      <td>NaN</td>\n",
       "      <td>Masculino</td>\n",
       "      <td>GM</td>\n",
       "      <td>1.0</td>\n",
       "      <td>1900-01-01 00:28:04.650</td>\n",
       "      <td>1900-01-01 00:31:36.430</td>\n",
       "      <td>0:31:39.35</td>\n",
       "      <td>18.99</td>\n",
       "      <td>0 days 00:03:31.780000</td>\n",
       "    </tr>\n",
       "    <tr>\n",
       "      <th>1</th>\n",
       "      <td>2.</td>\n",
       "      <td>5.0</td>\n",
       "      <td>Jose Eloy</td>\n",
       "      <td>EloAtle - Petropolis</td>\n",
       "      <td>Masculino</td>\n",
       "      <td>GM</td>\n",
       "      <td>2.0</td>\n",
       "      <td>1900-01-01 00:29:45.880</td>\n",
       "      <td>1900-01-01 00:33:42.890</td>\n",
       "      <td>0:33:44.60</td>\n",
       "      <td>17.80</td>\n",
       "      <td>0 days 00:03:57.010000</td>\n",
       "    </tr>\n",
       "    <tr>\n",
       "      <th>2</th>\n",
       "      <td>3.</td>\n",
       "      <td>7.0</td>\n",
       "      <td>Fabio Baltasar Da Silva</td>\n",
       "      <td>EloAtle - Petropolis</td>\n",
       "      <td>Masculino</td>\n",
       "      <td>GM</td>\n",
       "      <td>3.0</td>\n",
       "      <td>1900-01-01 00:30:34.410</td>\n",
       "      <td>1900-01-01 00:34:27.920</td>\n",
       "      <td>0:34:29.59</td>\n",
       "      <td>17.42</td>\n",
       "      <td>0 days 00:03:53.510000</td>\n",
       "    </tr>\n",
       "    <tr>\n",
       "      <th>3</th>\n",
       "      <td>4.</td>\n",
       "      <td>286.0</td>\n",
       "      <td>Renato Rodrigues Castro</td>\n",
       "      <td>KPR CADU PERRUCI FARIA</td>\n",
       "      <td>Masculino</td>\n",
       "      <td>GM</td>\n",
       "      <td>4.0</td>\n",
       "      <td>1900-01-01 00:30:42.420</td>\n",
       "      <td>1900-01-01 00:34:28.940</td>\n",
       "      <td>0:34:29.10</td>\n",
       "      <td>17.41</td>\n",
       "      <td>0 days 00:03:46.520000</td>\n",
       "    </tr>\n",
       "    <tr>\n",
       "      <th>4</th>\n",
       "      <td>5.</td>\n",
       "      <td>250.0</td>\n",
       "      <td>Marcio Antonio Rodrigues De Souza</td>\n",
       "      <td>Toscano</td>\n",
       "      <td>Masculino</td>\n",
       "      <td>GM</td>\n",
       "      <td>5.0</td>\n",
       "      <td>1900-01-01 00:30:43.410</td>\n",
       "      <td>1900-01-01 00:34:30.670</td>\n",
       "      <td>0:34:34.35</td>\n",
       "      <td>17.39</td>\n",
       "      <td>0 days 00:03:47.260000</td>\n",
       "    </tr>\n",
       "  </tbody>\n",
       "</table>\n",
       "</div>"
      ],
      "text/plain": [
       "  Pos    Num                               Nome                  Equipe  \\\n",
       "0  1.  543.0                      COSME ANCELMO                     NaN   \n",
       "1  2.    5.0                          Jose Eloy    EloAtle - Petropolis   \n",
       "2  3.    7.0            Fabio Baltasar Da Silva    EloAtle - Petropolis   \n",
       "3  4.  286.0            Renato Rodrigues Castro  KPR CADU PERRUCI FARIA   \n",
       "4  5.  250.0  Marcio Antonio Rodrigues De Souza                 Toscano   \n",
       "\n",
       "          Sx Cat  Por Categoria                      PC  \\\n",
       "0  Masculino  GM            1.0 1900-01-01 00:28:04.650   \n",
       "1  Masculino  GM            2.0 1900-01-01 00:29:45.880   \n",
       "2  Masculino  GM            3.0 1900-01-01 00:30:34.410   \n",
       "3  Masculino  GM            4.0 1900-01-01 00:30:42.420   \n",
       "4  Masculino  GM            5.0 1900-01-01 00:30:43.410   \n",
       "\n",
       "                    Tempo Tempo Bruto    Vel.Média           Sprint_Final  \n",
       "0 1900-01-01 00:31:36.430    0:31:39.35      18.99 0 days 00:03:31.780000  \n",
       "1 1900-01-01 00:33:42.890    0:33:44.60      17.80 0 days 00:03:57.010000  \n",
       "2 1900-01-01 00:34:27.920    0:34:29.59      17.42 0 days 00:03:53.510000  \n",
       "3 1900-01-01 00:34:28.940    0:34:29.10      17.41 0 days 00:03:46.520000  \n",
       "4 1900-01-01 00:34:30.670    0:34:34.35      17.39 0 days 00:03:47.260000  "
      ]
     },
     "execution_count": 4,
     "metadata": {},
     "output_type": "execute_result"
    }
   ],
   "source": [
    "#Limpando os dados que vieram sem o Num que é a chave primária dos corredores\n",
    "dados_corrida.dropna(subset='Num',inplace=True)\n",
    "dados_corrida.info()\n",
    "\n",
    "#Fazendo a coluna de sprint final\n",
    "dados_corrida['Tempo'] = pd.to_datetime(dados_corrida['Tempo'], format='%H:%M:%S.%f',errors='coerce')\n",
    "dados_corrida['PC'] = pd.to_datetime(dados_corrida['PC'], format='%H:%M:%S.%f',errors='coerce')\n",
    "\n",
    "dados_corrida['Sprint_Final'] = dados_corrida['Tempo'] - dados_corrida['PC']\n",
    "dados_corrida.head()"
   ]
  },
  {
   "cell_type": "code",
   "execution_count": 5,
   "metadata": {},
   "outputs": [
    {
     "name": "stdout",
     "output_type": "stream",
     "text": [
      "O número de pessoas que não concluiram foi de 15 pessoas.\n",
      "O número de pessoas que participaram foi de 973 pessoas.\n",
      "A porcentagem de pessoas que concluíram foi de 98.46%\n"
     ]
    }
   ],
   "source": [
    "numero_de_pessoas_que_nao_concluiram = dados_corrida['Vel.Média'].isnull().sum()\n",
    "numero_de_pessoas_que_participaram = dados_corrida['Num'].count()\n",
    "porcentagem_das_pessoas_que_participaram_e_concluiram = (numero_de_pessoas_que_participaram-numero_de_pessoas_que_nao_concluiram)/numero_de_pessoas_que_participaram\n",
    "print(f\"O número de pessoas que não concluiram foi de {numero_de_pessoas_que_nao_concluiram} pessoas.\")\n",
    "print(f\"O número de pessoas que participaram foi de {numero_de_pessoas_que_participaram} pessoas.\")\n",
    "print(f\"A porcentagem de pessoas que concluíram foi de {porcentagem_das_pessoas_que_participaram_e_concluiram:.2%}\")\n"
   ]
  },
  {
   "cell_type": "markdown",
   "metadata": {},
   "source": [
    "## **Distribuição Geral dos Dados**\n",
    "\n",
    "- **Distribuição de Participantes por Categoria**: Quantos corredores há em cada categoria (por exemplo, faixa etária, gênero)?\n",
    "- **Distribuição de Participantes por Equipe**: Quantos corredores há em cada equipe?"
   ]
  },
  {
   "cell_type": "markdown",
   "metadata": {},
   "source": [
    "### Distribuição Geral por Gênero"
   ]
  },
  {
   "cell_type": "code",
   "execution_count": 6,
   "metadata": {},
   "outputs": [
    {
     "data": {
      "application/vnd.plotly.v1+json": {
       "config": {
        "plotlyServerURL": "https://plot.ly"
       },
       "data": [
        {
         "alignmentgroup": "True",
         "hovertemplate": "Sx=%{x}<br>Num=%{text}<extra></extra>",
         "legendgroup": "",
         "marker": {
          "color": "#636efa",
          "pattern": {
           "shape": ""
          }
         },
         "name": "",
         "offsetgroup": "",
         "orientation": "v",
         "showlegend": false,
         "text": [
          299,
          674
         ],
         "textposition": "auto",
         "type": "bar",
         "x": [
          "Feminino",
          "Masculino"
         ],
         "xaxis": "x",
         "y": [
          299,
          674
         ],
         "yaxis": "y"
        }
       ],
       "layout": {
        "barmode": "relative",
        "legend": {
         "tracegroupgap": 0
        },
        "template": {
         "data": {
          "bar": [
           {
            "error_x": {
             "color": "#2a3f5f"
            },
            "error_y": {
             "color": "#2a3f5f"
            },
            "marker": {
             "line": {
              "color": "#E5ECF6",
              "width": 0.5
             },
             "pattern": {
              "fillmode": "overlay",
              "size": 10,
              "solidity": 0.2
             }
            },
            "type": "bar"
           }
          ],
          "barpolar": [
           {
            "marker": {
             "line": {
              "color": "#E5ECF6",
              "width": 0.5
             },
             "pattern": {
              "fillmode": "overlay",
              "size": 10,
              "solidity": 0.2
             }
            },
            "type": "barpolar"
           }
          ],
          "carpet": [
           {
            "aaxis": {
             "endlinecolor": "#2a3f5f",
             "gridcolor": "white",
             "linecolor": "white",
             "minorgridcolor": "white",
             "startlinecolor": "#2a3f5f"
            },
            "baxis": {
             "endlinecolor": "#2a3f5f",
             "gridcolor": "white",
             "linecolor": "white",
             "minorgridcolor": "white",
             "startlinecolor": "#2a3f5f"
            },
            "type": "carpet"
           }
          ],
          "choropleth": [
           {
            "colorbar": {
             "outlinewidth": 0,
             "ticks": ""
            },
            "type": "choropleth"
           }
          ],
          "contour": [
           {
            "colorbar": {
             "outlinewidth": 0,
             "ticks": ""
            },
            "colorscale": [
             [
              0,
              "#0d0887"
             ],
             [
              0.1111111111111111,
              "#46039f"
             ],
             [
              0.2222222222222222,
              "#7201a8"
             ],
             [
              0.3333333333333333,
              "#9c179e"
             ],
             [
              0.4444444444444444,
              "#bd3786"
             ],
             [
              0.5555555555555556,
              "#d8576b"
             ],
             [
              0.6666666666666666,
              "#ed7953"
             ],
             [
              0.7777777777777778,
              "#fb9f3a"
             ],
             [
              0.8888888888888888,
              "#fdca26"
             ],
             [
              1,
              "#f0f921"
             ]
            ],
            "type": "contour"
           }
          ],
          "contourcarpet": [
           {
            "colorbar": {
             "outlinewidth": 0,
             "ticks": ""
            },
            "type": "contourcarpet"
           }
          ],
          "heatmap": [
           {
            "colorbar": {
             "outlinewidth": 0,
             "ticks": ""
            },
            "colorscale": [
             [
              0,
              "#0d0887"
             ],
             [
              0.1111111111111111,
              "#46039f"
             ],
             [
              0.2222222222222222,
              "#7201a8"
             ],
             [
              0.3333333333333333,
              "#9c179e"
             ],
             [
              0.4444444444444444,
              "#bd3786"
             ],
             [
              0.5555555555555556,
              "#d8576b"
             ],
             [
              0.6666666666666666,
              "#ed7953"
             ],
             [
              0.7777777777777778,
              "#fb9f3a"
             ],
             [
              0.8888888888888888,
              "#fdca26"
             ],
             [
              1,
              "#f0f921"
             ]
            ],
            "type": "heatmap"
           }
          ],
          "heatmapgl": [
           {
            "colorbar": {
             "outlinewidth": 0,
             "ticks": ""
            },
            "colorscale": [
             [
              0,
              "#0d0887"
             ],
             [
              0.1111111111111111,
              "#46039f"
             ],
             [
              0.2222222222222222,
              "#7201a8"
             ],
             [
              0.3333333333333333,
              "#9c179e"
             ],
             [
              0.4444444444444444,
              "#bd3786"
             ],
             [
              0.5555555555555556,
              "#d8576b"
             ],
             [
              0.6666666666666666,
              "#ed7953"
             ],
             [
              0.7777777777777778,
              "#fb9f3a"
             ],
             [
              0.8888888888888888,
              "#fdca26"
             ],
             [
              1,
              "#f0f921"
             ]
            ],
            "type": "heatmapgl"
           }
          ],
          "histogram": [
           {
            "marker": {
             "pattern": {
              "fillmode": "overlay",
              "size": 10,
              "solidity": 0.2
             }
            },
            "type": "histogram"
           }
          ],
          "histogram2d": [
           {
            "colorbar": {
             "outlinewidth": 0,
             "ticks": ""
            },
            "colorscale": [
             [
              0,
              "#0d0887"
             ],
             [
              0.1111111111111111,
              "#46039f"
             ],
             [
              0.2222222222222222,
              "#7201a8"
             ],
             [
              0.3333333333333333,
              "#9c179e"
             ],
             [
              0.4444444444444444,
              "#bd3786"
             ],
             [
              0.5555555555555556,
              "#d8576b"
             ],
             [
              0.6666666666666666,
              "#ed7953"
             ],
             [
              0.7777777777777778,
              "#fb9f3a"
             ],
             [
              0.8888888888888888,
              "#fdca26"
             ],
             [
              1,
              "#f0f921"
             ]
            ],
            "type": "histogram2d"
           }
          ],
          "histogram2dcontour": [
           {
            "colorbar": {
             "outlinewidth": 0,
             "ticks": ""
            },
            "colorscale": [
             [
              0,
              "#0d0887"
             ],
             [
              0.1111111111111111,
              "#46039f"
             ],
             [
              0.2222222222222222,
              "#7201a8"
             ],
             [
              0.3333333333333333,
              "#9c179e"
             ],
             [
              0.4444444444444444,
              "#bd3786"
             ],
             [
              0.5555555555555556,
              "#d8576b"
             ],
             [
              0.6666666666666666,
              "#ed7953"
             ],
             [
              0.7777777777777778,
              "#fb9f3a"
             ],
             [
              0.8888888888888888,
              "#fdca26"
             ],
             [
              1,
              "#f0f921"
             ]
            ],
            "type": "histogram2dcontour"
           }
          ],
          "mesh3d": [
           {
            "colorbar": {
             "outlinewidth": 0,
             "ticks": ""
            },
            "type": "mesh3d"
           }
          ],
          "parcoords": [
           {
            "line": {
             "colorbar": {
              "outlinewidth": 0,
              "ticks": ""
             }
            },
            "type": "parcoords"
           }
          ],
          "pie": [
           {
            "automargin": true,
            "type": "pie"
           }
          ],
          "scatter": [
           {
            "fillpattern": {
             "fillmode": "overlay",
             "size": 10,
             "solidity": 0.2
            },
            "type": "scatter"
           }
          ],
          "scatter3d": [
           {
            "line": {
             "colorbar": {
              "outlinewidth": 0,
              "ticks": ""
             }
            },
            "marker": {
             "colorbar": {
              "outlinewidth": 0,
              "ticks": ""
             }
            },
            "type": "scatter3d"
           }
          ],
          "scattercarpet": [
           {
            "marker": {
             "colorbar": {
              "outlinewidth": 0,
              "ticks": ""
             }
            },
            "type": "scattercarpet"
           }
          ],
          "scattergeo": [
           {
            "marker": {
             "colorbar": {
              "outlinewidth": 0,
              "ticks": ""
             }
            },
            "type": "scattergeo"
           }
          ],
          "scattergl": [
           {
            "marker": {
             "colorbar": {
              "outlinewidth": 0,
              "ticks": ""
             }
            },
            "type": "scattergl"
           }
          ],
          "scattermapbox": [
           {
            "marker": {
             "colorbar": {
              "outlinewidth": 0,
              "ticks": ""
             }
            },
            "type": "scattermapbox"
           }
          ],
          "scatterpolar": [
           {
            "marker": {
             "colorbar": {
              "outlinewidth": 0,
              "ticks": ""
             }
            },
            "type": "scatterpolar"
           }
          ],
          "scatterpolargl": [
           {
            "marker": {
             "colorbar": {
              "outlinewidth": 0,
              "ticks": ""
             }
            },
            "type": "scatterpolargl"
           }
          ],
          "scatterternary": [
           {
            "marker": {
             "colorbar": {
              "outlinewidth": 0,
              "ticks": ""
             }
            },
            "type": "scatterternary"
           }
          ],
          "surface": [
           {
            "colorbar": {
             "outlinewidth": 0,
             "ticks": ""
            },
            "colorscale": [
             [
              0,
              "#0d0887"
             ],
             [
              0.1111111111111111,
              "#46039f"
             ],
             [
              0.2222222222222222,
              "#7201a8"
             ],
             [
              0.3333333333333333,
              "#9c179e"
             ],
             [
              0.4444444444444444,
              "#bd3786"
             ],
             [
              0.5555555555555556,
              "#d8576b"
             ],
             [
              0.6666666666666666,
              "#ed7953"
             ],
             [
              0.7777777777777778,
              "#fb9f3a"
             ],
             [
              0.8888888888888888,
              "#fdca26"
             ],
             [
              1,
              "#f0f921"
             ]
            ],
            "type": "surface"
           }
          ],
          "table": [
           {
            "cells": {
             "fill": {
              "color": "#EBF0F8"
             },
             "line": {
              "color": "white"
             }
            },
            "header": {
             "fill": {
              "color": "#C8D4E3"
             },
             "line": {
              "color": "white"
             }
            },
            "type": "table"
           }
          ]
         },
         "layout": {
          "annotationdefaults": {
           "arrowcolor": "#2a3f5f",
           "arrowhead": 0,
           "arrowwidth": 1
          },
          "autotypenumbers": "strict",
          "coloraxis": {
           "colorbar": {
            "outlinewidth": 0,
            "ticks": ""
           }
          },
          "colorscale": {
           "diverging": [
            [
             0,
             "#8e0152"
            ],
            [
             0.1,
             "#c51b7d"
            ],
            [
             0.2,
             "#de77ae"
            ],
            [
             0.3,
             "#f1b6da"
            ],
            [
             0.4,
             "#fde0ef"
            ],
            [
             0.5,
             "#f7f7f7"
            ],
            [
             0.6,
             "#e6f5d0"
            ],
            [
             0.7,
             "#b8e186"
            ],
            [
             0.8,
             "#7fbc41"
            ],
            [
             0.9,
             "#4d9221"
            ],
            [
             1,
             "#276419"
            ]
           ],
           "sequential": [
            [
             0,
             "#0d0887"
            ],
            [
             0.1111111111111111,
             "#46039f"
            ],
            [
             0.2222222222222222,
             "#7201a8"
            ],
            [
             0.3333333333333333,
             "#9c179e"
            ],
            [
             0.4444444444444444,
             "#bd3786"
            ],
            [
             0.5555555555555556,
             "#d8576b"
            ],
            [
             0.6666666666666666,
             "#ed7953"
            ],
            [
             0.7777777777777778,
             "#fb9f3a"
            ],
            [
             0.8888888888888888,
             "#fdca26"
            ],
            [
             1,
             "#f0f921"
            ]
           ],
           "sequentialminus": [
            [
             0,
             "#0d0887"
            ],
            [
             0.1111111111111111,
             "#46039f"
            ],
            [
             0.2222222222222222,
             "#7201a8"
            ],
            [
             0.3333333333333333,
             "#9c179e"
            ],
            [
             0.4444444444444444,
             "#bd3786"
            ],
            [
             0.5555555555555556,
             "#d8576b"
            ],
            [
             0.6666666666666666,
             "#ed7953"
            ],
            [
             0.7777777777777778,
             "#fb9f3a"
            ],
            [
             0.8888888888888888,
             "#fdca26"
            ],
            [
             1,
             "#f0f921"
            ]
           ]
          },
          "colorway": [
           "#636efa",
           "#EF553B",
           "#00cc96",
           "#ab63fa",
           "#FFA15A",
           "#19d3f3",
           "#FF6692",
           "#B6E880",
           "#FF97FF",
           "#FECB52"
          ],
          "font": {
           "color": "#2a3f5f"
          },
          "geo": {
           "bgcolor": "white",
           "lakecolor": "white",
           "landcolor": "#E5ECF6",
           "showlakes": true,
           "showland": true,
           "subunitcolor": "white"
          },
          "hoverlabel": {
           "align": "left"
          },
          "hovermode": "closest",
          "mapbox": {
           "style": "light"
          },
          "paper_bgcolor": "white",
          "plot_bgcolor": "#E5ECF6",
          "polar": {
           "angularaxis": {
            "gridcolor": "white",
            "linecolor": "white",
            "ticks": ""
           },
           "bgcolor": "#E5ECF6",
           "radialaxis": {
            "gridcolor": "white",
            "linecolor": "white",
            "ticks": ""
           }
          },
          "scene": {
           "xaxis": {
            "backgroundcolor": "#E5ECF6",
            "gridcolor": "white",
            "gridwidth": 2,
            "linecolor": "white",
            "showbackground": true,
            "ticks": "",
            "zerolinecolor": "white"
           },
           "yaxis": {
            "backgroundcolor": "#E5ECF6",
            "gridcolor": "white",
            "gridwidth": 2,
            "linecolor": "white",
            "showbackground": true,
            "ticks": "",
            "zerolinecolor": "white"
           },
           "zaxis": {
            "backgroundcolor": "#E5ECF6",
            "gridcolor": "white",
            "gridwidth": 2,
            "linecolor": "white",
            "showbackground": true,
            "ticks": "",
            "zerolinecolor": "white"
           }
          },
          "shapedefaults": {
           "line": {
            "color": "#2a3f5f"
           }
          },
          "ternary": {
           "aaxis": {
            "gridcolor": "white",
            "linecolor": "white",
            "ticks": ""
           },
           "baxis": {
            "gridcolor": "white",
            "linecolor": "white",
            "ticks": ""
           },
           "bgcolor": "#E5ECF6",
           "caxis": {
            "gridcolor": "white",
            "linecolor": "white",
            "ticks": ""
           }
          },
          "title": {
           "x": 0.05
          },
          "xaxis": {
           "automargin": true,
           "gridcolor": "white",
           "linecolor": "white",
           "ticks": "",
           "title": {
            "standoff": 15
           },
           "zerolinecolor": "white",
           "zerolinewidth": 2
          },
          "yaxis": {
           "automargin": true,
           "gridcolor": "white",
           "linecolor": "white",
           "ticks": "",
           "title": {
            "standoff": 15
           },
           "zerolinecolor": "white",
           "zerolinewidth": 2
          }
         }
        },
        "title": {
         "text": "Distribuição de Participantes por Sexo"
        },
        "xaxis": {
         "anchor": "y",
         "domain": [
          0,
          1
         ],
         "title": {
          "text": "Sexo"
         }
        },
        "yaxis": {
         "anchor": "x",
         "domain": [
          0,
          1
         ],
         "showticklabels": false,
         "title": {
          "text": "Num"
         },
         "visible": false
        }
       }
      }
     },
     "metadata": {},
     "output_type": "display_data"
    }
   ],
   "source": [
    "dados_agrupados_por_sx = dados_corrida.groupby(\"Sx\").count()[\"Num\"].reset_index()\n",
    "\n",
    "figura = px.bar(\n",
    "    dados_agrupados_por_sx,\n",
    "    x = \"Sx\",\n",
    "    y = 'Num',\n",
    "    text = 'Num',\n",
    "    title = 'Distribuição de Participantes por Sexo'\n",
    "\n",
    "\n",
    ")\n",
    "figura.update_layout(xaxis_title = 'Sexo',\n",
    "    yaxis=dict(\n",
    "        showticklabels=False,\n",
    "        visible=False\n",
    "    )\n",
    ")\n"
   ]
  },
  {
   "cell_type": "markdown",
   "metadata": {},
   "source": [
    "![Gráfico Plotly](Distribuicao_Participantes_Por_Sexo.png)"
   ]
  },
  {
   "cell_type": "markdown",
   "metadata": {},
   "source": [
    "Aproximadamente 30,73% dos participantes da corrida de 10 KM foram mulheres."
   ]
  },
  {
   "cell_type": "markdown",
   "metadata": {},
   "source": [
    "### Distribuição Geral por Categoria"
   ]
  },
  {
   "cell_type": "code",
   "execution_count": 8,
   "metadata": {},
   "outputs": [],
   "source": [
    "# Fazer uma categoria que nao leva em consideração o sexo\n",
    "# Extraimos essa faixa etária por conta da classificação, portanto, as 5 melhores pessoas no masculino e feminino, nós não conseguimos saber a f\n",
    "dados_corrida['Categoria_Sem_Sexo'] = dados_corrida['Cat'].str.replace(\"M\",\"\").str.replace(\"F\",\"\")"
   ]
  },
  {
   "cell_type": "markdown",
   "metadata": {},
   "source": [
    "* Extraimos essa faixa etária por conta da classificação, portanto, as 5 melhores pessoas no masculino e feminino, nós não conseguimos saber a faixa etária , pois suas classificações são 1,2,3,4,5 no Geral Masculino ou Feminino (GM ou GF).\n",
    "\n",
    "* Por isso quando plotarmos a faixa etária teremos 10 pessoas com valor G, que tiraremos da analise, para não sujar. Essas 10 pessoas são aproximadamente 1% das pessoas que participaram da corrida. \n"
   ]
  },
  {
   "cell_type": "code",
   "execution_count": 10,
   "metadata": {},
   "outputs": [
    {
     "data": {
      "application/vnd.plotly.v1+json": {
       "config": {
        "plotlyServerURL": "https://plot.ly"
       },
       "data": [
        {
         "alignmentgroup": "True",
         "hovertemplate": "Categoria_Sem_Sexo=%{x}<br>Num=%{text}<extra></extra>",
         "legendgroup": "",
         "marker": {
          "color": "#636efa",
          "pattern": {
           "shape": ""
          }
         },
         "name": "",
         "offsetgroup": "",
         "orientation": "v",
         "showlegend": false,
         "text": [
          8,
          52,
          97,
          115,
          154,
          153,
          101,
          84,
          71,
          61,
          32,
          20,
          10,
          4
         ],
         "textposition": "auto",
         "type": "bar",
         "x": [
          "1519",
          "2024",
          "2529",
          "3034",
          "3539",
          "4044",
          "4549",
          "5054",
          "5559",
          "6064",
          "6569",
          "7074",
          "7579",
          "8099"
         ],
         "xaxis": "x",
         "y": [
          8,
          52,
          97,
          115,
          154,
          153,
          101,
          84,
          71,
          61,
          32,
          20,
          10,
          4
         ],
         "yaxis": "y"
        }
       ],
       "layout": {
        "barmode": "relative",
        "legend": {
         "tracegroupgap": 0
        },
        "template": {
         "data": {
          "bar": [
           {
            "error_x": {
             "color": "#2a3f5f"
            },
            "error_y": {
             "color": "#2a3f5f"
            },
            "marker": {
             "line": {
              "color": "#E5ECF6",
              "width": 0.5
             },
             "pattern": {
              "fillmode": "overlay",
              "size": 10,
              "solidity": 0.2
             }
            },
            "type": "bar"
           }
          ],
          "barpolar": [
           {
            "marker": {
             "line": {
              "color": "#E5ECF6",
              "width": 0.5
             },
             "pattern": {
              "fillmode": "overlay",
              "size": 10,
              "solidity": 0.2
             }
            },
            "type": "barpolar"
           }
          ],
          "carpet": [
           {
            "aaxis": {
             "endlinecolor": "#2a3f5f",
             "gridcolor": "white",
             "linecolor": "white",
             "minorgridcolor": "white",
             "startlinecolor": "#2a3f5f"
            },
            "baxis": {
             "endlinecolor": "#2a3f5f",
             "gridcolor": "white",
             "linecolor": "white",
             "minorgridcolor": "white",
             "startlinecolor": "#2a3f5f"
            },
            "type": "carpet"
           }
          ],
          "choropleth": [
           {
            "colorbar": {
             "outlinewidth": 0,
             "ticks": ""
            },
            "type": "choropleth"
           }
          ],
          "contour": [
           {
            "colorbar": {
             "outlinewidth": 0,
             "ticks": ""
            },
            "colorscale": [
             [
              0,
              "#0d0887"
             ],
             [
              0.1111111111111111,
              "#46039f"
             ],
             [
              0.2222222222222222,
              "#7201a8"
             ],
             [
              0.3333333333333333,
              "#9c179e"
             ],
             [
              0.4444444444444444,
              "#bd3786"
             ],
             [
              0.5555555555555556,
              "#d8576b"
             ],
             [
              0.6666666666666666,
              "#ed7953"
             ],
             [
              0.7777777777777778,
              "#fb9f3a"
             ],
             [
              0.8888888888888888,
              "#fdca26"
             ],
             [
              1,
              "#f0f921"
             ]
            ],
            "type": "contour"
           }
          ],
          "contourcarpet": [
           {
            "colorbar": {
             "outlinewidth": 0,
             "ticks": ""
            },
            "type": "contourcarpet"
           }
          ],
          "heatmap": [
           {
            "colorbar": {
             "outlinewidth": 0,
             "ticks": ""
            },
            "colorscale": [
             [
              0,
              "#0d0887"
             ],
             [
              0.1111111111111111,
              "#46039f"
             ],
             [
              0.2222222222222222,
              "#7201a8"
             ],
             [
              0.3333333333333333,
              "#9c179e"
             ],
             [
              0.4444444444444444,
              "#bd3786"
             ],
             [
              0.5555555555555556,
              "#d8576b"
             ],
             [
              0.6666666666666666,
              "#ed7953"
             ],
             [
              0.7777777777777778,
              "#fb9f3a"
             ],
             [
              0.8888888888888888,
              "#fdca26"
             ],
             [
              1,
              "#f0f921"
             ]
            ],
            "type": "heatmap"
           }
          ],
          "heatmapgl": [
           {
            "colorbar": {
             "outlinewidth": 0,
             "ticks": ""
            },
            "colorscale": [
             [
              0,
              "#0d0887"
             ],
             [
              0.1111111111111111,
              "#46039f"
             ],
             [
              0.2222222222222222,
              "#7201a8"
             ],
             [
              0.3333333333333333,
              "#9c179e"
             ],
             [
              0.4444444444444444,
              "#bd3786"
             ],
             [
              0.5555555555555556,
              "#d8576b"
             ],
             [
              0.6666666666666666,
              "#ed7953"
             ],
             [
              0.7777777777777778,
              "#fb9f3a"
             ],
             [
              0.8888888888888888,
              "#fdca26"
             ],
             [
              1,
              "#f0f921"
             ]
            ],
            "type": "heatmapgl"
           }
          ],
          "histogram": [
           {
            "marker": {
             "pattern": {
              "fillmode": "overlay",
              "size": 10,
              "solidity": 0.2
             }
            },
            "type": "histogram"
           }
          ],
          "histogram2d": [
           {
            "colorbar": {
             "outlinewidth": 0,
             "ticks": ""
            },
            "colorscale": [
             [
              0,
              "#0d0887"
             ],
             [
              0.1111111111111111,
              "#46039f"
             ],
             [
              0.2222222222222222,
              "#7201a8"
             ],
             [
              0.3333333333333333,
              "#9c179e"
             ],
             [
              0.4444444444444444,
              "#bd3786"
             ],
             [
              0.5555555555555556,
              "#d8576b"
             ],
             [
              0.6666666666666666,
              "#ed7953"
             ],
             [
              0.7777777777777778,
              "#fb9f3a"
             ],
             [
              0.8888888888888888,
              "#fdca26"
             ],
             [
              1,
              "#f0f921"
             ]
            ],
            "type": "histogram2d"
           }
          ],
          "histogram2dcontour": [
           {
            "colorbar": {
             "outlinewidth": 0,
             "ticks": ""
            },
            "colorscale": [
             [
              0,
              "#0d0887"
             ],
             [
              0.1111111111111111,
              "#46039f"
             ],
             [
              0.2222222222222222,
              "#7201a8"
             ],
             [
              0.3333333333333333,
              "#9c179e"
             ],
             [
              0.4444444444444444,
              "#bd3786"
             ],
             [
              0.5555555555555556,
              "#d8576b"
             ],
             [
              0.6666666666666666,
              "#ed7953"
             ],
             [
              0.7777777777777778,
              "#fb9f3a"
             ],
             [
              0.8888888888888888,
              "#fdca26"
             ],
             [
              1,
              "#f0f921"
             ]
            ],
            "type": "histogram2dcontour"
           }
          ],
          "mesh3d": [
           {
            "colorbar": {
             "outlinewidth": 0,
             "ticks": ""
            },
            "type": "mesh3d"
           }
          ],
          "parcoords": [
           {
            "line": {
             "colorbar": {
              "outlinewidth": 0,
              "ticks": ""
             }
            },
            "type": "parcoords"
           }
          ],
          "pie": [
           {
            "automargin": true,
            "type": "pie"
           }
          ],
          "scatter": [
           {
            "fillpattern": {
             "fillmode": "overlay",
             "size": 10,
             "solidity": 0.2
            },
            "type": "scatter"
           }
          ],
          "scatter3d": [
           {
            "line": {
             "colorbar": {
              "outlinewidth": 0,
              "ticks": ""
             }
            },
            "marker": {
             "colorbar": {
              "outlinewidth": 0,
              "ticks": ""
             }
            },
            "type": "scatter3d"
           }
          ],
          "scattercarpet": [
           {
            "marker": {
             "colorbar": {
              "outlinewidth": 0,
              "ticks": ""
             }
            },
            "type": "scattercarpet"
           }
          ],
          "scattergeo": [
           {
            "marker": {
             "colorbar": {
              "outlinewidth": 0,
              "ticks": ""
             }
            },
            "type": "scattergeo"
           }
          ],
          "scattergl": [
           {
            "marker": {
             "colorbar": {
              "outlinewidth": 0,
              "ticks": ""
             }
            },
            "type": "scattergl"
           }
          ],
          "scattermapbox": [
           {
            "marker": {
             "colorbar": {
              "outlinewidth": 0,
              "ticks": ""
             }
            },
            "type": "scattermapbox"
           }
          ],
          "scatterpolar": [
           {
            "marker": {
             "colorbar": {
              "outlinewidth": 0,
              "ticks": ""
             }
            },
            "type": "scatterpolar"
           }
          ],
          "scatterpolargl": [
           {
            "marker": {
             "colorbar": {
              "outlinewidth": 0,
              "ticks": ""
             }
            },
            "type": "scatterpolargl"
           }
          ],
          "scatterternary": [
           {
            "marker": {
             "colorbar": {
              "outlinewidth": 0,
              "ticks": ""
             }
            },
            "type": "scatterternary"
           }
          ],
          "surface": [
           {
            "colorbar": {
             "outlinewidth": 0,
             "ticks": ""
            },
            "colorscale": [
             [
              0,
              "#0d0887"
             ],
             [
              0.1111111111111111,
              "#46039f"
             ],
             [
              0.2222222222222222,
              "#7201a8"
             ],
             [
              0.3333333333333333,
              "#9c179e"
             ],
             [
              0.4444444444444444,
              "#bd3786"
             ],
             [
              0.5555555555555556,
              "#d8576b"
             ],
             [
              0.6666666666666666,
              "#ed7953"
             ],
             [
              0.7777777777777778,
              "#fb9f3a"
             ],
             [
              0.8888888888888888,
              "#fdca26"
             ],
             [
              1,
              "#f0f921"
             ]
            ],
            "type": "surface"
           }
          ],
          "table": [
           {
            "cells": {
             "fill": {
              "color": "#EBF0F8"
             },
             "line": {
              "color": "white"
             }
            },
            "header": {
             "fill": {
              "color": "#C8D4E3"
             },
             "line": {
              "color": "white"
             }
            },
            "type": "table"
           }
          ]
         },
         "layout": {
          "annotationdefaults": {
           "arrowcolor": "#2a3f5f",
           "arrowhead": 0,
           "arrowwidth": 1
          },
          "autotypenumbers": "strict",
          "coloraxis": {
           "colorbar": {
            "outlinewidth": 0,
            "ticks": ""
           }
          },
          "colorscale": {
           "diverging": [
            [
             0,
             "#8e0152"
            ],
            [
             0.1,
             "#c51b7d"
            ],
            [
             0.2,
             "#de77ae"
            ],
            [
             0.3,
             "#f1b6da"
            ],
            [
             0.4,
             "#fde0ef"
            ],
            [
             0.5,
             "#f7f7f7"
            ],
            [
             0.6,
             "#e6f5d0"
            ],
            [
             0.7,
             "#b8e186"
            ],
            [
             0.8,
             "#7fbc41"
            ],
            [
             0.9,
             "#4d9221"
            ],
            [
             1,
             "#276419"
            ]
           ],
           "sequential": [
            [
             0,
             "#0d0887"
            ],
            [
             0.1111111111111111,
             "#46039f"
            ],
            [
             0.2222222222222222,
             "#7201a8"
            ],
            [
             0.3333333333333333,
             "#9c179e"
            ],
            [
             0.4444444444444444,
             "#bd3786"
            ],
            [
             0.5555555555555556,
             "#d8576b"
            ],
            [
             0.6666666666666666,
             "#ed7953"
            ],
            [
             0.7777777777777778,
             "#fb9f3a"
            ],
            [
             0.8888888888888888,
             "#fdca26"
            ],
            [
             1,
             "#f0f921"
            ]
           ],
           "sequentialminus": [
            [
             0,
             "#0d0887"
            ],
            [
             0.1111111111111111,
             "#46039f"
            ],
            [
             0.2222222222222222,
             "#7201a8"
            ],
            [
             0.3333333333333333,
             "#9c179e"
            ],
            [
             0.4444444444444444,
             "#bd3786"
            ],
            [
             0.5555555555555556,
             "#d8576b"
            ],
            [
             0.6666666666666666,
             "#ed7953"
            ],
            [
             0.7777777777777778,
             "#fb9f3a"
            ],
            [
             0.8888888888888888,
             "#fdca26"
            ],
            [
             1,
             "#f0f921"
            ]
           ]
          },
          "colorway": [
           "#636efa",
           "#EF553B",
           "#00cc96",
           "#ab63fa",
           "#FFA15A",
           "#19d3f3",
           "#FF6692",
           "#B6E880",
           "#FF97FF",
           "#FECB52"
          ],
          "font": {
           "color": "#2a3f5f"
          },
          "geo": {
           "bgcolor": "white",
           "lakecolor": "white",
           "landcolor": "#E5ECF6",
           "showlakes": true,
           "showland": true,
           "subunitcolor": "white"
          },
          "hoverlabel": {
           "align": "left"
          },
          "hovermode": "closest",
          "mapbox": {
           "style": "light"
          },
          "paper_bgcolor": "white",
          "plot_bgcolor": "#E5ECF6",
          "polar": {
           "angularaxis": {
            "gridcolor": "white",
            "linecolor": "white",
            "ticks": ""
           },
           "bgcolor": "#E5ECF6",
           "radialaxis": {
            "gridcolor": "white",
            "linecolor": "white",
            "ticks": ""
           }
          },
          "scene": {
           "xaxis": {
            "backgroundcolor": "#E5ECF6",
            "gridcolor": "white",
            "gridwidth": 2,
            "linecolor": "white",
            "showbackground": true,
            "ticks": "",
            "zerolinecolor": "white"
           },
           "yaxis": {
            "backgroundcolor": "#E5ECF6",
            "gridcolor": "white",
            "gridwidth": 2,
            "linecolor": "white",
            "showbackground": true,
            "ticks": "",
            "zerolinecolor": "white"
           },
           "zaxis": {
            "backgroundcolor": "#E5ECF6",
            "gridcolor": "white",
            "gridwidth": 2,
            "linecolor": "white",
            "showbackground": true,
            "ticks": "",
            "zerolinecolor": "white"
           }
          },
          "shapedefaults": {
           "line": {
            "color": "#2a3f5f"
           }
          },
          "ternary": {
           "aaxis": {
            "gridcolor": "white",
            "linecolor": "white",
            "ticks": ""
           },
           "baxis": {
            "gridcolor": "white",
            "linecolor": "white",
            "ticks": ""
           },
           "bgcolor": "#E5ECF6",
           "caxis": {
            "gridcolor": "white",
            "linecolor": "white",
            "ticks": ""
           }
          },
          "title": {
           "x": 0.05
          },
          "xaxis": {
           "automargin": true,
           "gridcolor": "white",
           "linecolor": "white",
           "ticks": "",
           "title": {
            "standoff": 15
           },
           "zerolinecolor": "white",
           "zerolinewidth": 2
          },
          "yaxis": {
           "automargin": true,
           "gridcolor": "white",
           "linecolor": "white",
           "ticks": "",
           "title": {
            "standoff": 15
           },
           "zerolinecolor": "white",
           "zerolinewidth": 2
          }
         }
        },
        "title": {
         "text": "Distribuição de Corredores por Faixa Etária"
        },
        "xaxis": {
         "anchor": "y",
         "domain": [
          0,
          1
         ],
         "title": {
          "text": "Categoria"
         }
        },
        "yaxis": {
         "anchor": "x",
         "domain": [
          0,
          1
         ],
         "showticklabels": false,
         "title": {
          "text": "Num"
         },
         "visible": false
        }
       }
      }
     },
     "metadata": {},
     "output_type": "display_data"
    }
   ],
   "source": [
    "dados_agrupados_por_categoria = dados_corrida.groupby(\"Categoria_Sem_Sexo\").count()[\"Num\"].reset_index()\n",
    "\n",
    "figura = px.bar(\n",
    "    dados_agrupados_por_categoria.query(\"Categoria_Sem_Sexo !='G'\"),\n",
    "    x = \"Categoria_Sem_Sexo\",\n",
    "    y = 'Num',\n",
    "    text = 'Num',\n",
    "    title = 'Distribuição de Corredores por Faixa Etária'\n",
    "\n",
    "\n",
    ")\n",
    "figura.update_layout(xaxis_title = 'Categoria',\n",
    "    yaxis=dict(\n",
    "        showticklabels=False,\n",
    "        visible=False\n",
    "    )\n",
    ")\n",
    "\n",
    "figura.show()"
   ]
  },
  {
   "cell_type": "markdown",
   "metadata": {},
   "source": [
    "![Gráfico Plotly](Distribuicao_Corredores_Por_Faixa_Etária.png)"
   ]
  },
  {
   "cell_type": "markdown",
   "metadata": {},
   "source": [
    "* 31% dos participantes tem entre 35 e 44 anos.\n",
    "* A moda dos participantes é de 35 a 39 anos.\n",
    "* Vemos claramente uma distribuição assimétrica a direita, portanto temos mais valores a esquerda do que a direita, formando essa cauda a direita. Temos mais participantes jovens do que velhos."
   ]
  },
  {
   "cell_type": "code",
   "execution_count": 16,
   "metadata": {},
   "outputs": [
    {
     "data": {
      "application/vnd.plotly.v1+json": {
       "config": {
        "plotlyServerURL": "https://plot.ly"
       },
       "data": [
        {
         "alignmentgroup": "True",
         "hovertemplate": "Cat=%{x}<br>Num=%{text}<extra></extra>",
         "legendgroup": "",
         "marker": {
          "color": "#636efa",
          "pattern": {
           "shape": ""
          }
         },
         "name": "",
         "offsetgroup": "",
         "orientation": "v",
         "showlegend": false,
         "text": [
          4,
          13,
          30,
          34,
          55,
          44,
          27,
          23,
          16,
          21,
          15,
          9,
          2,
          1
         ],
         "textposition": "auto",
         "type": "bar",
         "x": [
          "F1519",
          "F2024",
          "F2529",
          "F3034",
          "F3539",
          "F4044",
          "F4549",
          "F5054",
          "F5559",
          "F6064",
          "F6569",
          "F7074",
          "F7579",
          "F8099"
         ],
         "xaxis": "x",
         "y": [
          4,
          13,
          30,
          34,
          55,
          44,
          27,
          23,
          16,
          21,
          15,
          9,
          2,
          1
         ],
         "yaxis": "y"
        }
       ],
       "layout": {
        "barmode": "relative",
        "legend": {
         "tracegroupgap": 0
        },
        "template": {
         "data": {
          "bar": [
           {
            "error_x": {
             "color": "#2a3f5f"
            },
            "error_y": {
             "color": "#2a3f5f"
            },
            "marker": {
             "line": {
              "color": "#E5ECF6",
              "width": 0.5
             },
             "pattern": {
              "fillmode": "overlay",
              "size": 10,
              "solidity": 0.2
             }
            },
            "type": "bar"
           }
          ],
          "barpolar": [
           {
            "marker": {
             "line": {
              "color": "#E5ECF6",
              "width": 0.5
             },
             "pattern": {
              "fillmode": "overlay",
              "size": 10,
              "solidity": 0.2
             }
            },
            "type": "barpolar"
           }
          ],
          "carpet": [
           {
            "aaxis": {
             "endlinecolor": "#2a3f5f",
             "gridcolor": "white",
             "linecolor": "white",
             "minorgridcolor": "white",
             "startlinecolor": "#2a3f5f"
            },
            "baxis": {
             "endlinecolor": "#2a3f5f",
             "gridcolor": "white",
             "linecolor": "white",
             "minorgridcolor": "white",
             "startlinecolor": "#2a3f5f"
            },
            "type": "carpet"
           }
          ],
          "choropleth": [
           {
            "colorbar": {
             "outlinewidth": 0,
             "ticks": ""
            },
            "type": "choropleth"
           }
          ],
          "contour": [
           {
            "colorbar": {
             "outlinewidth": 0,
             "ticks": ""
            },
            "colorscale": [
             [
              0,
              "#0d0887"
             ],
             [
              0.1111111111111111,
              "#46039f"
             ],
             [
              0.2222222222222222,
              "#7201a8"
             ],
             [
              0.3333333333333333,
              "#9c179e"
             ],
             [
              0.4444444444444444,
              "#bd3786"
             ],
             [
              0.5555555555555556,
              "#d8576b"
             ],
             [
              0.6666666666666666,
              "#ed7953"
             ],
             [
              0.7777777777777778,
              "#fb9f3a"
             ],
             [
              0.8888888888888888,
              "#fdca26"
             ],
             [
              1,
              "#f0f921"
             ]
            ],
            "type": "contour"
           }
          ],
          "contourcarpet": [
           {
            "colorbar": {
             "outlinewidth": 0,
             "ticks": ""
            },
            "type": "contourcarpet"
           }
          ],
          "heatmap": [
           {
            "colorbar": {
             "outlinewidth": 0,
             "ticks": ""
            },
            "colorscale": [
             [
              0,
              "#0d0887"
             ],
             [
              0.1111111111111111,
              "#46039f"
             ],
             [
              0.2222222222222222,
              "#7201a8"
             ],
             [
              0.3333333333333333,
              "#9c179e"
             ],
             [
              0.4444444444444444,
              "#bd3786"
             ],
             [
              0.5555555555555556,
              "#d8576b"
             ],
             [
              0.6666666666666666,
              "#ed7953"
             ],
             [
              0.7777777777777778,
              "#fb9f3a"
             ],
             [
              0.8888888888888888,
              "#fdca26"
             ],
             [
              1,
              "#f0f921"
             ]
            ],
            "type": "heatmap"
           }
          ],
          "heatmapgl": [
           {
            "colorbar": {
             "outlinewidth": 0,
             "ticks": ""
            },
            "colorscale": [
             [
              0,
              "#0d0887"
             ],
             [
              0.1111111111111111,
              "#46039f"
             ],
             [
              0.2222222222222222,
              "#7201a8"
             ],
             [
              0.3333333333333333,
              "#9c179e"
             ],
             [
              0.4444444444444444,
              "#bd3786"
             ],
             [
              0.5555555555555556,
              "#d8576b"
             ],
             [
              0.6666666666666666,
              "#ed7953"
             ],
             [
              0.7777777777777778,
              "#fb9f3a"
             ],
             [
              0.8888888888888888,
              "#fdca26"
             ],
             [
              1,
              "#f0f921"
             ]
            ],
            "type": "heatmapgl"
           }
          ],
          "histogram": [
           {
            "marker": {
             "pattern": {
              "fillmode": "overlay",
              "size": 10,
              "solidity": 0.2
             }
            },
            "type": "histogram"
           }
          ],
          "histogram2d": [
           {
            "colorbar": {
             "outlinewidth": 0,
             "ticks": ""
            },
            "colorscale": [
             [
              0,
              "#0d0887"
             ],
             [
              0.1111111111111111,
              "#46039f"
             ],
             [
              0.2222222222222222,
              "#7201a8"
             ],
             [
              0.3333333333333333,
              "#9c179e"
             ],
             [
              0.4444444444444444,
              "#bd3786"
             ],
             [
              0.5555555555555556,
              "#d8576b"
             ],
             [
              0.6666666666666666,
              "#ed7953"
             ],
             [
              0.7777777777777778,
              "#fb9f3a"
             ],
             [
              0.8888888888888888,
              "#fdca26"
             ],
             [
              1,
              "#f0f921"
             ]
            ],
            "type": "histogram2d"
           }
          ],
          "histogram2dcontour": [
           {
            "colorbar": {
             "outlinewidth": 0,
             "ticks": ""
            },
            "colorscale": [
             [
              0,
              "#0d0887"
             ],
             [
              0.1111111111111111,
              "#46039f"
             ],
             [
              0.2222222222222222,
              "#7201a8"
             ],
             [
              0.3333333333333333,
              "#9c179e"
             ],
             [
              0.4444444444444444,
              "#bd3786"
             ],
             [
              0.5555555555555556,
              "#d8576b"
             ],
             [
              0.6666666666666666,
              "#ed7953"
             ],
             [
              0.7777777777777778,
              "#fb9f3a"
             ],
             [
              0.8888888888888888,
              "#fdca26"
             ],
             [
              1,
              "#f0f921"
             ]
            ],
            "type": "histogram2dcontour"
           }
          ],
          "mesh3d": [
           {
            "colorbar": {
             "outlinewidth": 0,
             "ticks": ""
            },
            "type": "mesh3d"
           }
          ],
          "parcoords": [
           {
            "line": {
             "colorbar": {
              "outlinewidth": 0,
              "ticks": ""
             }
            },
            "type": "parcoords"
           }
          ],
          "pie": [
           {
            "automargin": true,
            "type": "pie"
           }
          ],
          "scatter": [
           {
            "fillpattern": {
             "fillmode": "overlay",
             "size": 10,
             "solidity": 0.2
            },
            "type": "scatter"
           }
          ],
          "scatter3d": [
           {
            "line": {
             "colorbar": {
              "outlinewidth": 0,
              "ticks": ""
             }
            },
            "marker": {
             "colorbar": {
              "outlinewidth": 0,
              "ticks": ""
             }
            },
            "type": "scatter3d"
           }
          ],
          "scattercarpet": [
           {
            "marker": {
             "colorbar": {
              "outlinewidth": 0,
              "ticks": ""
             }
            },
            "type": "scattercarpet"
           }
          ],
          "scattergeo": [
           {
            "marker": {
             "colorbar": {
              "outlinewidth": 0,
              "ticks": ""
             }
            },
            "type": "scattergeo"
           }
          ],
          "scattergl": [
           {
            "marker": {
             "colorbar": {
              "outlinewidth": 0,
              "ticks": ""
             }
            },
            "type": "scattergl"
           }
          ],
          "scattermapbox": [
           {
            "marker": {
             "colorbar": {
              "outlinewidth": 0,
              "ticks": ""
             }
            },
            "type": "scattermapbox"
           }
          ],
          "scatterpolar": [
           {
            "marker": {
             "colorbar": {
              "outlinewidth": 0,
              "ticks": ""
             }
            },
            "type": "scatterpolar"
           }
          ],
          "scatterpolargl": [
           {
            "marker": {
             "colorbar": {
              "outlinewidth": 0,
              "ticks": ""
             }
            },
            "type": "scatterpolargl"
           }
          ],
          "scatterternary": [
           {
            "marker": {
             "colorbar": {
              "outlinewidth": 0,
              "ticks": ""
             }
            },
            "type": "scatterternary"
           }
          ],
          "surface": [
           {
            "colorbar": {
             "outlinewidth": 0,
             "ticks": ""
            },
            "colorscale": [
             [
              0,
              "#0d0887"
             ],
             [
              0.1111111111111111,
              "#46039f"
             ],
             [
              0.2222222222222222,
              "#7201a8"
             ],
             [
              0.3333333333333333,
              "#9c179e"
             ],
             [
              0.4444444444444444,
              "#bd3786"
             ],
             [
              0.5555555555555556,
              "#d8576b"
             ],
             [
              0.6666666666666666,
              "#ed7953"
             ],
             [
              0.7777777777777778,
              "#fb9f3a"
             ],
             [
              0.8888888888888888,
              "#fdca26"
             ],
             [
              1,
              "#f0f921"
             ]
            ],
            "type": "surface"
           }
          ],
          "table": [
           {
            "cells": {
             "fill": {
              "color": "#EBF0F8"
             },
             "line": {
              "color": "white"
             }
            },
            "header": {
             "fill": {
              "color": "#C8D4E3"
             },
             "line": {
              "color": "white"
             }
            },
            "type": "table"
           }
          ]
         },
         "layout": {
          "annotationdefaults": {
           "arrowcolor": "#2a3f5f",
           "arrowhead": 0,
           "arrowwidth": 1
          },
          "autotypenumbers": "strict",
          "coloraxis": {
           "colorbar": {
            "outlinewidth": 0,
            "ticks": ""
           }
          },
          "colorscale": {
           "diverging": [
            [
             0,
             "#8e0152"
            ],
            [
             0.1,
             "#c51b7d"
            ],
            [
             0.2,
             "#de77ae"
            ],
            [
             0.3,
             "#f1b6da"
            ],
            [
             0.4,
             "#fde0ef"
            ],
            [
             0.5,
             "#f7f7f7"
            ],
            [
             0.6,
             "#e6f5d0"
            ],
            [
             0.7,
             "#b8e186"
            ],
            [
             0.8,
             "#7fbc41"
            ],
            [
             0.9,
             "#4d9221"
            ],
            [
             1,
             "#276419"
            ]
           ],
           "sequential": [
            [
             0,
             "#0d0887"
            ],
            [
             0.1111111111111111,
             "#46039f"
            ],
            [
             0.2222222222222222,
             "#7201a8"
            ],
            [
             0.3333333333333333,
             "#9c179e"
            ],
            [
             0.4444444444444444,
             "#bd3786"
            ],
            [
             0.5555555555555556,
             "#d8576b"
            ],
            [
             0.6666666666666666,
             "#ed7953"
            ],
            [
             0.7777777777777778,
             "#fb9f3a"
            ],
            [
             0.8888888888888888,
             "#fdca26"
            ],
            [
             1,
             "#f0f921"
            ]
           ],
           "sequentialminus": [
            [
             0,
             "#0d0887"
            ],
            [
             0.1111111111111111,
             "#46039f"
            ],
            [
             0.2222222222222222,
             "#7201a8"
            ],
            [
             0.3333333333333333,
             "#9c179e"
            ],
            [
             0.4444444444444444,
             "#bd3786"
            ],
            [
             0.5555555555555556,
             "#d8576b"
            ],
            [
             0.6666666666666666,
             "#ed7953"
            ],
            [
             0.7777777777777778,
             "#fb9f3a"
            ],
            [
             0.8888888888888888,
             "#fdca26"
            ],
            [
             1,
             "#f0f921"
            ]
           ]
          },
          "colorway": [
           "#636efa",
           "#EF553B",
           "#00cc96",
           "#ab63fa",
           "#FFA15A",
           "#19d3f3",
           "#FF6692",
           "#B6E880",
           "#FF97FF",
           "#FECB52"
          ],
          "font": {
           "color": "#2a3f5f"
          },
          "geo": {
           "bgcolor": "white",
           "lakecolor": "white",
           "landcolor": "#E5ECF6",
           "showlakes": true,
           "showland": true,
           "subunitcolor": "white"
          },
          "hoverlabel": {
           "align": "left"
          },
          "hovermode": "closest",
          "mapbox": {
           "style": "light"
          },
          "paper_bgcolor": "white",
          "plot_bgcolor": "#E5ECF6",
          "polar": {
           "angularaxis": {
            "gridcolor": "white",
            "linecolor": "white",
            "ticks": ""
           },
           "bgcolor": "#E5ECF6",
           "radialaxis": {
            "gridcolor": "white",
            "linecolor": "white",
            "ticks": ""
           }
          },
          "scene": {
           "xaxis": {
            "backgroundcolor": "#E5ECF6",
            "gridcolor": "white",
            "gridwidth": 2,
            "linecolor": "white",
            "showbackground": true,
            "ticks": "",
            "zerolinecolor": "white"
           },
           "yaxis": {
            "backgroundcolor": "#E5ECF6",
            "gridcolor": "white",
            "gridwidth": 2,
            "linecolor": "white",
            "showbackground": true,
            "ticks": "",
            "zerolinecolor": "white"
           },
           "zaxis": {
            "backgroundcolor": "#E5ECF6",
            "gridcolor": "white",
            "gridwidth": 2,
            "linecolor": "white",
            "showbackground": true,
            "ticks": "",
            "zerolinecolor": "white"
           }
          },
          "shapedefaults": {
           "line": {
            "color": "#2a3f5f"
           }
          },
          "ternary": {
           "aaxis": {
            "gridcolor": "white",
            "linecolor": "white",
            "ticks": ""
           },
           "baxis": {
            "gridcolor": "white",
            "linecolor": "white",
            "ticks": ""
           },
           "bgcolor": "#E5ECF6",
           "caxis": {
            "gridcolor": "white",
            "linecolor": "white",
            "ticks": ""
           }
          },
          "title": {
           "x": 0.05
          },
          "xaxis": {
           "automargin": true,
           "gridcolor": "white",
           "linecolor": "white",
           "ticks": "",
           "title": {
            "standoff": 15
           },
           "zerolinecolor": "white",
           "zerolinewidth": 2
          },
          "yaxis": {
           "automargin": true,
           "gridcolor": "white",
           "linecolor": "white",
           "ticks": "",
           "title": {
            "standoff": 15
           },
           "zerolinecolor": "white",
           "zerolinewidth": 2
          }
         }
        },
        "title": {
         "text": "Distribuição de Corredores do Sexo Feminino por Faixa Etária"
        },
        "xaxis": {
         "anchor": "y",
         "domain": [
          0,
          1
         ],
         "title": {
          "text": "Faixa Etária"
         }
        },
        "yaxis": {
         "anchor": "x",
         "domain": [
          0,
          1
         ],
         "showticklabels": false,
         "title": {
          "text": "Num"
         },
         "visible": false
        }
       }
      }
     },
     "metadata": {},
     "output_type": "display_data"
    },
    {
     "data": {
      "application/vnd.plotly.v1+json": {
       "config": {
        "plotlyServerURL": "https://plot.ly"
       },
       "data": [
        {
         "alignmentgroup": "True",
         "hovertemplate": "Cat=%{x}<br>Num=%{text}<extra></extra>",
         "legendgroup": "",
         "marker": {
          "color": "#636efa",
          "pattern": {
           "shape": ""
          }
         },
         "name": "",
         "offsetgroup": "",
         "orientation": "v",
         "showlegend": false,
         "text": [
          4,
          39,
          67,
          81,
          99,
          109,
          74,
          61,
          55,
          40,
          17,
          11,
          8,
          3
         ],
         "textposition": "auto",
         "type": "bar",
         "x": [
          "M1519",
          "M2024",
          "M2529",
          "M3034",
          "M3539",
          "M4044",
          "M4549",
          "M5054",
          "M5559",
          "M6064",
          "M6569",
          "M7074",
          "M7579",
          "M8099"
         ],
         "xaxis": "x",
         "y": [
          4,
          39,
          67,
          81,
          99,
          109,
          74,
          61,
          55,
          40,
          17,
          11,
          8,
          3
         ],
         "yaxis": "y"
        }
       ],
       "layout": {
        "barmode": "relative",
        "legend": {
         "tracegroupgap": 0
        },
        "template": {
         "data": {
          "bar": [
           {
            "error_x": {
             "color": "#2a3f5f"
            },
            "error_y": {
             "color": "#2a3f5f"
            },
            "marker": {
             "line": {
              "color": "#E5ECF6",
              "width": 0.5
             },
             "pattern": {
              "fillmode": "overlay",
              "size": 10,
              "solidity": 0.2
             }
            },
            "type": "bar"
           }
          ],
          "barpolar": [
           {
            "marker": {
             "line": {
              "color": "#E5ECF6",
              "width": 0.5
             },
             "pattern": {
              "fillmode": "overlay",
              "size": 10,
              "solidity": 0.2
             }
            },
            "type": "barpolar"
           }
          ],
          "carpet": [
           {
            "aaxis": {
             "endlinecolor": "#2a3f5f",
             "gridcolor": "white",
             "linecolor": "white",
             "minorgridcolor": "white",
             "startlinecolor": "#2a3f5f"
            },
            "baxis": {
             "endlinecolor": "#2a3f5f",
             "gridcolor": "white",
             "linecolor": "white",
             "minorgridcolor": "white",
             "startlinecolor": "#2a3f5f"
            },
            "type": "carpet"
           }
          ],
          "choropleth": [
           {
            "colorbar": {
             "outlinewidth": 0,
             "ticks": ""
            },
            "type": "choropleth"
           }
          ],
          "contour": [
           {
            "colorbar": {
             "outlinewidth": 0,
             "ticks": ""
            },
            "colorscale": [
             [
              0,
              "#0d0887"
             ],
             [
              0.1111111111111111,
              "#46039f"
             ],
             [
              0.2222222222222222,
              "#7201a8"
             ],
             [
              0.3333333333333333,
              "#9c179e"
             ],
             [
              0.4444444444444444,
              "#bd3786"
             ],
             [
              0.5555555555555556,
              "#d8576b"
             ],
             [
              0.6666666666666666,
              "#ed7953"
             ],
             [
              0.7777777777777778,
              "#fb9f3a"
             ],
             [
              0.8888888888888888,
              "#fdca26"
             ],
             [
              1,
              "#f0f921"
             ]
            ],
            "type": "contour"
           }
          ],
          "contourcarpet": [
           {
            "colorbar": {
             "outlinewidth": 0,
             "ticks": ""
            },
            "type": "contourcarpet"
           }
          ],
          "heatmap": [
           {
            "colorbar": {
             "outlinewidth": 0,
             "ticks": ""
            },
            "colorscale": [
             [
              0,
              "#0d0887"
             ],
             [
              0.1111111111111111,
              "#46039f"
             ],
             [
              0.2222222222222222,
              "#7201a8"
             ],
             [
              0.3333333333333333,
              "#9c179e"
             ],
             [
              0.4444444444444444,
              "#bd3786"
             ],
             [
              0.5555555555555556,
              "#d8576b"
             ],
             [
              0.6666666666666666,
              "#ed7953"
             ],
             [
              0.7777777777777778,
              "#fb9f3a"
             ],
             [
              0.8888888888888888,
              "#fdca26"
             ],
             [
              1,
              "#f0f921"
             ]
            ],
            "type": "heatmap"
           }
          ],
          "heatmapgl": [
           {
            "colorbar": {
             "outlinewidth": 0,
             "ticks": ""
            },
            "colorscale": [
             [
              0,
              "#0d0887"
             ],
             [
              0.1111111111111111,
              "#46039f"
             ],
             [
              0.2222222222222222,
              "#7201a8"
             ],
             [
              0.3333333333333333,
              "#9c179e"
             ],
             [
              0.4444444444444444,
              "#bd3786"
             ],
             [
              0.5555555555555556,
              "#d8576b"
             ],
             [
              0.6666666666666666,
              "#ed7953"
             ],
             [
              0.7777777777777778,
              "#fb9f3a"
             ],
             [
              0.8888888888888888,
              "#fdca26"
             ],
             [
              1,
              "#f0f921"
             ]
            ],
            "type": "heatmapgl"
           }
          ],
          "histogram": [
           {
            "marker": {
             "pattern": {
              "fillmode": "overlay",
              "size": 10,
              "solidity": 0.2
             }
            },
            "type": "histogram"
           }
          ],
          "histogram2d": [
           {
            "colorbar": {
             "outlinewidth": 0,
             "ticks": ""
            },
            "colorscale": [
             [
              0,
              "#0d0887"
             ],
             [
              0.1111111111111111,
              "#46039f"
             ],
             [
              0.2222222222222222,
              "#7201a8"
             ],
             [
              0.3333333333333333,
              "#9c179e"
             ],
             [
              0.4444444444444444,
              "#bd3786"
             ],
             [
              0.5555555555555556,
              "#d8576b"
             ],
             [
              0.6666666666666666,
              "#ed7953"
             ],
             [
              0.7777777777777778,
              "#fb9f3a"
             ],
             [
              0.8888888888888888,
              "#fdca26"
             ],
             [
              1,
              "#f0f921"
             ]
            ],
            "type": "histogram2d"
           }
          ],
          "histogram2dcontour": [
           {
            "colorbar": {
             "outlinewidth": 0,
             "ticks": ""
            },
            "colorscale": [
             [
              0,
              "#0d0887"
             ],
             [
              0.1111111111111111,
              "#46039f"
             ],
             [
              0.2222222222222222,
              "#7201a8"
             ],
             [
              0.3333333333333333,
              "#9c179e"
             ],
             [
              0.4444444444444444,
              "#bd3786"
             ],
             [
              0.5555555555555556,
              "#d8576b"
             ],
             [
              0.6666666666666666,
              "#ed7953"
             ],
             [
              0.7777777777777778,
              "#fb9f3a"
             ],
             [
              0.8888888888888888,
              "#fdca26"
             ],
             [
              1,
              "#f0f921"
             ]
            ],
            "type": "histogram2dcontour"
           }
          ],
          "mesh3d": [
           {
            "colorbar": {
             "outlinewidth": 0,
             "ticks": ""
            },
            "type": "mesh3d"
           }
          ],
          "parcoords": [
           {
            "line": {
             "colorbar": {
              "outlinewidth": 0,
              "ticks": ""
             }
            },
            "type": "parcoords"
           }
          ],
          "pie": [
           {
            "automargin": true,
            "type": "pie"
           }
          ],
          "scatter": [
           {
            "fillpattern": {
             "fillmode": "overlay",
             "size": 10,
             "solidity": 0.2
            },
            "type": "scatter"
           }
          ],
          "scatter3d": [
           {
            "line": {
             "colorbar": {
              "outlinewidth": 0,
              "ticks": ""
             }
            },
            "marker": {
             "colorbar": {
              "outlinewidth": 0,
              "ticks": ""
             }
            },
            "type": "scatter3d"
           }
          ],
          "scattercarpet": [
           {
            "marker": {
             "colorbar": {
              "outlinewidth": 0,
              "ticks": ""
             }
            },
            "type": "scattercarpet"
           }
          ],
          "scattergeo": [
           {
            "marker": {
             "colorbar": {
              "outlinewidth": 0,
              "ticks": ""
             }
            },
            "type": "scattergeo"
           }
          ],
          "scattergl": [
           {
            "marker": {
             "colorbar": {
              "outlinewidth": 0,
              "ticks": ""
             }
            },
            "type": "scattergl"
           }
          ],
          "scattermapbox": [
           {
            "marker": {
             "colorbar": {
              "outlinewidth": 0,
              "ticks": ""
             }
            },
            "type": "scattermapbox"
           }
          ],
          "scatterpolar": [
           {
            "marker": {
             "colorbar": {
              "outlinewidth": 0,
              "ticks": ""
             }
            },
            "type": "scatterpolar"
           }
          ],
          "scatterpolargl": [
           {
            "marker": {
             "colorbar": {
              "outlinewidth": 0,
              "ticks": ""
             }
            },
            "type": "scatterpolargl"
           }
          ],
          "scatterternary": [
           {
            "marker": {
             "colorbar": {
              "outlinewidth": 0,
              "ticks": ""
             }
            },
            "type": "scatterternary"
           }
          ],
          "surface": [
           {
            "colorbar": {
             "outlinewidth": 0,
             "ticks": ""
            },
            "colorscale": [
             [
              0,
              "#0d0887"
             ],
             [
              0.1111111111111111,
              "#46039f"
             ],
             [
              0.2222222222222222,
              "#7201a8"
             ],
             [
              0.3333333333333333,
              "#9c179e"
             ],
             [
              0.4444444444444444,
              "#bd3786"
             ],
             [
              0.5555555555555556,
              "#d8576b"
             ],
             [
              0.6666666666666666,
              "#ed7953"
             ],
             [
              0.7777777777777778,
              "#fb9f3a"
             ],
             [
              0.8888888888888888,
              "#fdca26"
             ],
             [
              1,
              "#f0f921"
             ]
            ],
            "type": "surface"
           }
          ],
          "table": [
           {
            "cells": {
             "fill": {
              "color": "#EBF0F8"
             },
             "line": {
              "color": "white"
             }
            },
            "header": {
             "fill": {
              "color": "#C8D4E3"
             },
             "line": {
              "color": "white"
             }
            },
            "type": "table"
           }
          ]
         },
         "layout": {
          "annotationdefaults": {
           "arrowcolor": "#2a3f5f",
           "arrowhead": 0,
           "arrowwidth": 1
          },
          "autotypenumbers": "strict",
          "coloraxis": {
           "colorbar": {
            "outlinewidth": 0,
            "ticks": ""
           }
          },
          "colorscale": {
           "diverging": [
            [
             0,
             "#8e0152"
            ],
            [
             0.1,
             "#c51b7d"
            ],
            [
             0.2,
             "#de77ae"
            ],
            [
             0.3,
             "#f1b6da"
            ],
            [
             0.4,
             "#fde0ef"
            ],
            [
             0.5,
             "#f7f7f7"
            ],
            [
             0.6,
             "#e6f5d0"
            ],
            [
             0.7,
             "#b8e186"
            ],
            [
             0.8,
             "#7fbc41"
            ],
            [
             0.9,
             "#4d9221"
            ],
            [
             1,
             "#276419"
            ]
           ],
           "sequential": [
            [
             0,
             "#0d0887"
            ],
            [
             0.1111111111111111,
             "#46039f"
            ],
            [
             0.2222222222222222,
             "#7201a8"
            ],
            [
             0.3333333333333333,
             "#9c179e"
            ],
            [
             0.4444444444444444,
             "#bd3786"
            ],
            [
             0.5555555555555556,
             "#d8576b"
            ],
            [
             0.6666666666666666,
             "#ed7953"
            ],
            [
             0.7777777777777778,
             "#fb9f3a"
            ],
            [
             0.8888888888888888,
             "#fdca26"
            ],
            [
             1,
             "#f0f921"
            ]
           ],
           "sequentialminus": [
            [
             0,
             "#0d0887"
            ],
            [
             0.1111111111111111,
             "#46039f"
            ],
            [
             0.2222222222222222,
             "#7201a8"
            ],
            [
             0.3333333333333333,
             "#9c179e"
            ],
            [
             0.4444444444444444,
             "#bd3786"
            ],
            [
             0.5555555555555556,
             "#d8576b"
            ],
            [
             0.6666666666666666,
             "#ed7953"
            ],
            [
             0.7777777777777778,
             "#fb9f3a"
            ],
            [
             0.8888888888888888,
             "#fdca26"
            ],
            [
             1,
             "#f0f921"
            ]
           ]
          },
          "colorway": [
           "#636efa",
           "#EF553B",
           "#00cc96",
           "#ab63fa",
           "#FFA15A",
           "#19d3f3",
           "#FF6692",
           "#B6E880",
           "#FF97FF",
           "#FECB52"
          ],
          "font": {
           "color": "#2a3f5f"
          },
          "geo": {
           "bgcolor": "white",
           "lakecolor": "white",
           "landcolor": "#E5ECF6",
           "showlakes": true,
           "showland": true,
           "subunitcolor": "white"
          },
          "hoverlabel": {
           "align": "left"
          },
          "hovermode": "closest",
          "mapbox": {
           "style": "light"
          },
          "paper_bgcolor": "white",
          "plot_bgcolor": "#E5ECF6",
          "polar": {
           "angularaxis": {
            "gridcolor": "white",
            "linecolor": "white",
            "ticks": ""
           },
           "bgcolor": "#E5ECF6",
           "radialaxis": {
            "gridcolor": "white",
            "linecolor": "white",
            "ticks": ""
           }
          },
          "scene": {
           "xaxis": {
            "backgroundcolor": "#E5ECF6",
            "gridcolor": "white",
            "gridwidth": 2,
            "linecolor": "white",
            "showbackground": true,
            "ticks": "",
            "zerolinecolor": "white"
           },
           "yaxis": {
            "backgroundcolor": "#E5ECF6",
            "gridcolor": "white",
            "gridwidth": 2,
            "linecolor": "white",
            "showbackground": true,
            "ticks": "",
            "zerolinecolor": "white"
           },
           "zaxis": {
            "backgroundcolor": "#E5ECF6",
            "gridcolor": "white",
            "gridwidth": 2,
            "linecolor": "white",
            "showbackground": true,
            "ticks": "",
            "zerolinecolor": "white"
           }
          },
          "shapedefaults": {
           "line": {
            "color": "#2a3f5f"
           }
          },
          "ternary": {
           "aaxis": {
            "gridcolor": "white",
            "linecolor": "white",
            "ticks": ""
           },
           "baxis": {
            "gridcolor": "white",
            "linecolor": "white",
            "ticks": ""
           },
           "bgcolor": "#E5ECF6",
           "caxis": {
            "gridcolor": "white",
            "linecolor": "white",
            "ticks": ""
           }
          },
          "title": {
           "x": 0.05
          },
          "xaxis": {
           "automargin": true,
           "gridcolor": "white",
           "linecolor": "white",
           "ticks": "",
           "title": {
            "standoff": 15
           },
           "zerolinecolor": "white",
           "zerolinewidth": 2
          },
          "yaxis": {
           "automargin": true,
           "gridcolor": "white",
           "linecolor": "white",
           "ticks": "",
           "title": {
            "standoff": 15
           },
           "zerolinecolor": "white",
           "zerolinewidth": 2
          }
         }
        },
        "title": {
         "text": "Distribuição de Corredores do Sexo Masculino por Faixa Etária"
        },
        "xaxis": {
         "anchor": "y",
         "domain": [
          0,
          1
         ],
         "title": {
          "text": "Faixa Etária"
         }
        },
        "yaxis": {
         "anchor": "x",
         "domain": [
          0,
          1
         ],
         "showticklabels": false,
         "title": {
          "text": "Num"
         },
         "visible": false
        }
       }
      }
     },
     "metadata": {},
     "output_type": "display_data"
    }
   ],
   "source": [
    "dados_corrida_mulheres = dados_corrida.query(\"Sx == 'Feminino'\")\n",
    "\n",
    "dados_agrupados_mulheres_por_categoria = dados_corrida_mulheres.groupby(\"Cat\").count()[\"Num\"].reset_index()\n",
    "\n",
    "figura = px.bar(\n",
    "    dados_agrupados_mulheres_por_categoria.query(\"Cat != 'GF'\"),#Retirando os 5 melhores, ja que nao conseguimos atribuir uma faixa etária\n",
    "    x = \"Cat\",\n",
    "    y = 'Num',\n",
    "    text = 'Num',\n",
    "    title = 'Distribuição de Corredores do Sexo Feminino por Faixa Etária'\n",
    "\n",
    "\n",
    ")\n",
    "figura.update_layout(xaxis_title = 'Faixa Etária',\n",
    "    yaxis=dict(\n",
    "        showticklabels=False,\n",
    "        visible=False\n",
    "    )\n",
    ")\n",
    "\n",
    "figura.show()\n",
    "\n",
    "dados_corrida_homens = dados_corrida.query(\"Sx == 'Masculino'\")\n",
    "\n",
    "dados_agrupados_homens_por_categoria = dados_corrida_homens.groupby(\"Cat\").count()[\"Num\"].reset_index()\n",
    "\n",
    "figura = px.bar(\n",
    "    dados_agrupados_homens_por_categoria.query(\"Cat != 'GM'\"), #Retirando os 5 melhores, ja que nao conseguimos atribuir uma faixa etária\n",
    "    x = \"Cat\",\n",
    "    y = 'Num',\n",
    "    text = 'Num',\n",
    "    title = 'Distribuição de Corredores do Sexo Masculino por Faixa Etária'\n",
    "\n",
    "\n",
    ")\n",
    "figura.update_layout(xaxis_title = 'Faixa Etária',\n",
    "    yaxis=dict(\n",
    "        showticklabels=False,\n",
    "        visible=False\n",
    "    )\n",
    ")\n",
    "\n",
    "figura.show()"
   ]
  },
  {
   "cell_type": "markdown",
   "metadata": {},
   "source": [
    "![Gráfico Plotly](Distribuicao_Corredores_Feminino_Por_Faixa_Etária.png)"
   ]
  },
  {
   "cell_type": "markdown",
   "metadata": {},
   "source": [
    "![Gráfico Plotly](Distribuicao_Corredores_Masculino_Por_Faixa_Etária.png)"
   ]
  },
  {
   "cell_type": "markdown",
   "metadata": {},
   "source": [
    "### Algumas Observações:\n",
    "\n",
    "* As categorias são para fins de classificação, então, os 5 melhores a gente não consegue atribuir a nenhuma categoria, por isso o nome GM para homens e GF para mulheres.\n",
    "\n",
    "* Tanto homens como mulheres tem o maior número de participantes entre 35 e 44 anos.\n",
    "\n",
    "* Mulheres tem Moda ao 3539 e homens tem moda no 4044.\n",
    "\n",
    "* Tanto homens quanto mulheres tem uma queda acentuada de 4044 para 4549, cabe verificar se nas próximas corridas esse valor irá se manter, pois uma pessoa que faz uma corrida de 10 km de 40 a 44 nao teria motivos aparentes para deixar de correr no 45 e 49.\n",
    "\n",
    "\n"
   ]
  },
  {
   "cell_type": "markdown",
   "metadata": {},
   "source": [
    "### Distribuição Geral por Equipe"
   ]
  },
  {
   "cell_type": "code",
   "execution_count": 36,
   "metadata": {},
   "outputs": [
    {
     "data": {
      "text/plain": [
       "Equipe\n",
       "APPAI                                      477\n",
       "SECRETARIA DE ESTADO DE ESPORTE E LAZER     16\n",
       "TALENTOS EM CORRIDA                          8\n",
       "Nao                                          8\n",
       "EloAtle - Petropolis                         6\n",
       "                                          ... \n",
       "Correndo pelo corrida                        1\n",
       "Murillo Esteves                              1\n",
       "Pimenta                                      1\n",
       "Moncao                                       1\n",
       "MUNIZ                                        1\n",
       "Name: count, Length: 322, dtype: int64"
      ]
     },
     "execution_count": 36,
     "metadata": {},
     "output_type": "execute_result"
    }
   ],
   "source": [
    "dados_corrida['Equipe'].value_counts()"
   ]
  },
  {
   "cell_type": "markdown",
   "metadata": {},
   "source": [
    "* A maior parte dos atletas são da APPAI, portanto vamos ver a composição de quem é APPAI (Associação Beneficente Professores Públicos Ativos e Inativos) e quem nao é APPAI\n"
   ]
  },
  {
   "cell_type": "code",
   "execution_count": 20,
   "metadata": {},
   "outputs": [
    {
     "data": {
      "application/vnd.plotly.v1+json": {
       "config": {
        "plotlyServerURL": "https://plot.ly"
       },
       "data": [
        {
         "alignmentgroup": "True",
         "hovertemplate": "Equipe Appai=%{x}<br>Num=%{text}<extra></extra>",
         "legendgroup": "",
         "marker": {
          "color": "#636efa",
          "pattern": {
           "shape": ""
          }
         },
         "name": "",
         "offsetgroup": "",
         "orientation": "v",
         "showlegend": false,
         "text": [
          496,
          477
         ],
         "textposition": "auto",
         "type": "bar",
         "x": [
          false,
          true
         ],
         "xaxis": "x",
         "y": [
          496,
          477
         ],
         "yaxis": "y"
        }
       ],
       "layout": {
        "barmode": "relative",
        "legend": {
         "tracegroupgap": 0
        },
        "template": {
         "data": {
          "bar": [
           {
            "error_x": {
             "color": "#2a3f5f"
            },
            "error_y": {
             "color": "#2a3f5f"
            },
            "marker": {
             "line": {
              "color": "#E5ECF6",
              "width": 0.5
             },
             "pattern": {
              "fillmode": "overlay",
              "size": 10,
              "solidity": 0.2
             }
            },
            "type": "bar"
           }
          ],
          "barpolar": [
           {
            "marker": {
             "line": {
              "color": "#E5ECF6",
              "width": 0.5
             },
             "pattern": {
              "fillmode": "overlay",
              "size": 10,
              "solidity": 0.2
             }
            },
            "type": "barpolar"
           }
          ],
          "carpet": [
           {
            "aaxis": {
             "endlinecolor": "#2a3f5f",
             "gridcolor": "white",
             "linecolor": "white",
             "minorgridcolor": "white",
             "startlinecolor": "#2a3f5f"
            },
            "baxis": {
             "endlinecolor": "#2a3f5f",
             "gridcolor": "white",
             "linecolor": "white",
             "minorgridcolor": "white",
             "startlinecolor": "#2a3f5f"
            },
            "type": "carpet"
           }
          ],
          "choropleth": [
           {
            "colorbar": {
             "outlinewidth": 0,
             "ticks": ""
            },
            "type": "choropleth"
           }
          ],
          "contour": [
           {
            "colorbar": {
             "outlinewidth": 0,
             "ticks": ""
            },
            "colorscale": [
             [
              0,
              "#0d0887"
             ],
             [
              0.1111111111111111,
              "#46039f"
             ],
             [
              0.2222222222222222,
              "#7201a8"
             ],
             [
              0.3333333333333333,
              "#9c179e"
             ],
             [
              0.4444444444444444,
              "#bd3786"
             ],
             [
              0.5555555555555556,
              "#d8576b"
             ],
             [
              0.6666666666666666,
              "#ed7953"
             ],
             [
              0.7777777777777778,
              "#fb9f3a"
             ],
             [
              0.8888888888888888,
              "#fdca26"
             ],
             [
              1,
              "#f0f921"
             ]
            ],
            "type": "contour"
           }
          ],
          "contourcarpet": [
           {
            "colorbar": {
             "outlinewidth": 0,
             "ticks": ""
            },
            "type": "contourcarpet"
           }
          ],
          "heatmap": [
           {
            "colorbar": {
             "outlinewidth": 0,
             "ticks": ""
            },
            "colorscale": [
             [
              0,
              "#0d0887"
             ],
             [
              0.1111111111111111,
              "#46039f"
             ],
             [
              0.2222222222222222,
              "#7201a8"
             ],
             [
              0.3333333333333333,
              "#9c179e"
             ],
             [
              0.4444444444444444,
              "#bd3786"
             ],
             [
              0.5555555555555556,
              "#d8576b"
             ],
             [
              0.6666666666666666,
              "#ed7953"
             ],
             [
              0.7777777777777778,
              "#fb9f3a"
             ],
             [
              0.8888888888888888,
              "#fdca26"
             ],
             [
              1,
              "#f0f921"
             ]
            ],
            "type": "heatmap"
           }
          ],
          "heatmapgl": [
           {
            "colorbar": {
             "outlinewidth": 0,
             "ticks": ""
            },
            "colorscale": [
             [
              0,
              "#0d0887"
             ],
             [
              0.1111111111111111,
              "#46039f"
             ],
             [
              0.2222222222222222,
              "#7201a8"
             ],
             [
              0.3333333333333333,
              "#9c179e"
             ],
             [
              0.4444444444444444,
              "#bd3786"
             ],
             [
              0.5555555555555556,
              "#d8576b"
             ],
             [
              0.6666666666666666,
              "#ed7953"
             ],
             [
              0.7777777777777778,
              "#fb9f3a"
             ],
             [
              0.8888888888888888,
              "#fdca26"
             ],
             [
              1,
              "#f0f921"
             ]
            ],
            "type": "heatmapgl"
           }
          ],
          "histogram": [
           {
            "marker": {
             "pattern": {
              "fillmode": "overlay",
              "size": 10,
              "solidity": 0.2
             }
            },
            "type": "histogram"
           }
          ],
          "histogram2d": [
           {
            "colorbar": {
             "outlinewidth": 0,
             "ticks": ""
            },
            "colorscale": [
             [
              0,
              "#0d0887"
             ],
             [
              0.1111111111111111,
              "#46039f"
             ],
             [
              0.2222222222222222,
              "#7201a8"
             ],
             [
              0.3333333333333333,
              "#9c179e"
             ],
             [
              0.4444444444444444,
              "#bd3786"
             ],
             [
              0.5555555555555556,
              "#d8576b"
             ],
             [
              0.6666666666666666,
              "#ed7953"
             ],
             [
              0.7777777777777778,
              "#fb9f3a"
             ],
             [
              0.8888888888888888,
              "#fdca26"
             ],
             [
              1,
              "#f0f921"
             ]
            ],
            "type": "histogram2d"
           }
          ],
          "histogram2dcontour": [
           {
            "colorbar": {
             "outlinewidth": 0,
             "ticks": ""
            },
            "colorscale": [
             [
              0,
              "#0d0887"
             ],
             [
              0.1111111111111111,
              "#46039f"
             ],
             [
              0.2222222222222222,
              "#7201a8"
             ],
             [
              0.3333333333333333,
              "#9c179e"
             ],
             [
              0.4444444444444444,
              "#bd3786"
             ],
             [
              0.5555555555555556,
              "#d8576b"
             ],
             [
              0.6666666666666666,
              "#ed7953"
             ],
             [
              0.7777777777777778,
              "#fb9f3a"
             ],
             [
              0.8888888888888888,
              "#fdca26"
             ],
             [
              1,
              "#f0f921"
             ]
            ],
            "type": "histogram2dcontour"
           }
          ],
          "mesh3d": [
           {
            "colorbar": {
             "outlinewidth": 0,
             "ticks": ""
            },
            "type": "mesh3d"
           }
          ],
          "parcoords": [
           {
            "line": {
             "colorbar": {
              "outlinewidth": 0,
              "ticks": ""
             }
            },
            "type": "parcoords"
           }
          ],
          "pie": [
           {
            "automargin": true,
            "type": "pie"
           }
          ],
          "scatter": [
           {
            "fillpattern": {
             "fillmode": "overlay",
             "size": 10,
             "solidity": 0.2
            },
            "type": "scatter"
           }
          ],
          "scatter3d": [
           {
            "line": {
             "colorbar": {
              "outlinewidth": 0,
              "ticks": ""
             }
            },
            "marker": {
             "colorbar": {
              "outlinewidth": 0,
              "ticks": ""
             }
            },
            "type": "scatter3d"
           }
          ],
          "scattercarpet": [
           {
            "marker": {
             "colorbar": {
              "outlinewidth": 0,
              "ticks": ""
             }
            },
            "type": "scattercarpet"
           }
          ],
          "scattergeo": [
           {
            "marker": {
             "colorbar": {
              "outlinewidth": 0,
              "ticks": ""
             }
            },
            "type": "scattergeo"
           }
          ],
          "scattergl": [
           {
            "marker": {
             "colorbar": {
              "outlinewidth": 0,
              "ticks": ""
             }
            },
            "type": "scattergl"
           }
          ],
          "scattermapbox": [
           {
            "marker": {
             "colorbar": {
              "outlinewidth": 0,
              "ticks": ""
             }
            },
            "type": "scattermapbox"
           }
          ],
          "scatterpolar": [
           {
            "marker": {
             "colorbar": {
              "outlinewidth": 0,
              "ticks": ""
             }
            },
            "type": "scatterpolar"
           }
          ],
          "scatterpolargl": [
           {
            "marker": {
             "colorbar": {
              "outlinewidth": 0,
              "ticks": ""
             }
            },
            "type": "scatterpolargl"
           }
          ],
          "scatterternary": [
           {
            "marker": {
             "colorbar": {
              "outlinewidth": 0,
              "ticks": ""
             }
            },
            "type": "scatterternary"
           }
          ],
          "surface": [
           {
            "colorbar": {
             "outlinewidth": 0,
             "ticks": ""
            },
            "colorscale": [
             [
              0,
              "#0d0887"
             ],
             [
              0.1111111111111111,
              "#46039f"
             ],
             [
              0.2222222222222222,
              "#7201a8"
             ],
             [
              0.3333333333333333,
              "#9c179e"
             ],
             [
              0.4444444444444444,
              "#bd3786"
             ],
             [
              0.5555555555555556,
              "#d8576b"
             ],
             [
              0.6666666666666666,
              "#ed7953"
             ],
             [
              0.7777777777777778,
              "#fb9f3a"
             ],
             [
              0.8888888888888888,
              "#fdca26"
             ],
             [
              1,
              "#f0f921"
             ]
            ],
            "type": "surface"
           }
          ],
          "table": [
           {
            "cells": {
             "fill": {
              "color": "#EBF0F8"
             },
             "line": {
              "color": "white"
             }
            },
            "header": {
             "fill": {
              "color": "#C8D4E3"
             },
             "line": {
              "color": "white"
             }
            },
            "type": "table"
           }
          ]
         },
         "layout": {
          "annotationdefaults": {
           "arrowcolor": "#2a3f5f",
           "arrowhead": 0,
           "arrowwidth": 1
          },
          "autotypenumbers": "strict",
          "coloraxis": {
           "colorbar": {
            "outlinewidth": 0,
            "ticks": ""
           }
          },
          "colorscale": {
           "diverging": [
            [
             0,
             "#8e0152"
            ],
            [
             0.1,
             "#c51b7d"
            ],
            [
             0.2,
             "#de77ae"
            ],
            [
             0.3,
             "#f1b6da"
            ],
            [
             0.4,
             "#fde0ef"
            ],
            [
             0.5,
             "#f7f7f7"
            ],
            [
             0.6,
             "#e6f5d0"
            ],
            [
             0.7,
             "#b8e186"
            ],
            [
             0.8,
             "#7fbc41"
            ],
            [
             0.9,
             "#4d9221"
            ],
            [
             1,
             "#276419"
            ]
           ],
           "sequential": [
            [
             0,
             "#0d0887"
            ],
            [
             0.1111111111111111,
             "#46039f"
            ],
            [
             0.2222222222222222,
             "#7201a8"
            ],
            [
             0.3333333333333333,
             "#9c179e"
            ],
            [
             0.4444444444444444,
             "#bd3786"
            ],
            [
             0.5555555555555556,
             "#d8576b"
            ],
            [
             0.6666666666666666,
             "#ed7953"
            ],
            [
             0.7777777777777778,
             "#fb9f3a"
            ],
            [
             0.8888888888888888,
             "#fdca26"
            ],
            [
             1,
             "#f0f921"
            ]
           ],
           "sequentialminus": [
            [
             0,
             "#0d0887"
            ],
            [
             0.1111111111111111,
             "#46039f"
            ],
            [
             0.2222222222222222,
             "#7201a8"
            ],
            [
             0.3333333333333333,
             "#9c179e"
            ],
            [
             0.4444444444444444,
             "#bd3786"
            ],
            [
             0.5555555555555556,
             "#d8576b"
            ],
            [
             0.6666666666666666,
             "#ed7953"
            ],
            [
             0.7777777777777778,
             "#fb9f3a"
            ],
            [
             0.8888888888888888,
             "#fdca26"
            ],
            [
             1,
             "#f0f921"
            ]
           ]
          },
          "colorway": [
           "#636efa",
           "#EF553B",
           "#00cc96",
           "#ab63fa",
           "#FFA15A",
           "#19d3f3",
           "#FF6692",
           "#B6E880",
           "#FF97FF",
           "#FECB52"
          ],
          "font": {
           "color": "#2a3f5f"
          },
          "geo": {
           "bgcolor": "white",
           "lakecolor": "white",
           "landcolor": "#E5ECF6",
           "showlakes": true,
           "showland": true,
           "subunitcolor": "white"
          },
          "hoverlabel": {
           "align": "left"
          },
          "hovermode": "closest",
          "mapbox": {
           "style": "light"
          },
          "paper_bgcolor": "white",
          "plot_bgcolor": "#E5ECF6",
          "polar": {
           "angularaxis": {
            "gridcolor": "white",
            "linecolor": "white",
            "ticks": ""
           },
           "bgcolor": "#E5ECF6",
           "radialaxis": {
            "gridcolor": "white",
            "linecolor": "white",
            "ticks": ""
           }
          },
          "scene": {
           "xaxis": {
            "backgroundcolor": "#E5ECF6",
            "gridcolor": "white",
            "gridwidth": 2,
            "linecolor": "white",
            "showbackground": true,
            "ticks": "",
            "zerolinecolor": "white"
           },
           "yaxis": {
            "backgroundcolor": "#E5ECF6",
            "gridcolor": "white",
            "gridwidth": 2,
            "linecolor": "white",
            "showbackground": true,
            "ticks": "",
            "zerolinecolor": "white"
           },
           "zaxis": {
            "backgroundcolor": "#E5ECF6",
            "gridcolor": "white",
            "gridwidth": 2,
            "linecolor": "white",
            "showbackground": true,
            "ticks": "",
            "zerolinecolor": "white"
           }
          },
          "shapedefaults": {
           "line": {
            "color": "#2a3f5f"
           }
          },
          "ternary": {
           "aaxis": {
            "gridcolor": "white",
            "linecolor": "white",
            "ticks": ""
           },
           "baxis": {
            "gridcolor": "white",
            "linecolor": "white",
            "ticks": ""
           },
           "bgcolor": "#E5ECF6",
           "caxis": {
            "gridcolor": "white",
            "linecolor": "white",
            "ticks": ""
           }
          },
          "title": {
           "x": 0.05
          },
          "xaxis": {
           "automargin": true,
           "gridcolor": "white",
           "linecolor": "white",
           "ticks": "",
           "title": {
            "standoff": 15
           },
           "zerolinecolor": "white",
           "zerolinewidth": 2
          },
          "yaxis": {
           "automargin": true,
           "gridcolor": "white",
           "linecolor": "white",
           "ticks": "",
           "title": {
            "standoff": 15
           },
           "zerolinecolor": "white",
           "zerolinewidth": 2
          }
         }
        },
        "title": {
         "text": "Distribuição de Corredores por Ser ou Nao da APPAI"
        },
        "xaxis": {
         "anchor": "y",
         "domain": [
          0,
          1
         ],
         "ticktext": [
          "Não é APPAI",
          "APPAI"
         ],
         "tickvals": [
          false,
          true
         ],
         "title": {
          "text": "Equipe"
         }
        },
        "yaxis": {
         "anchor": "x",
         "domain": [
          0,
          1
         ],
         "showticklabels": false,
         "title": {
          "text": "Num"
         },
         "visible": false
        }
       }
      }
     },
     "metadata": {},
     "output_type": "display_data"
    }
   ],
   "source": [
    "dados_corrida['Equipe Appai'] = dados_corrida['Equipe'] == 'APPAI'\n",
    "\n",
    "dados_agrupados_por_categoria = dados_corrida.groupby(\"Equipe Appai\").count()[\"Num\"].reset_index()\n",
    "\n",
    "figura = px.bar(\n",
    "    dados_agrupados_por_categoria,\n",
    "    x = \"Equipe Appai\",\n",
    "    y = 'Num',\n",
    "    text = 'Num',\n",
    "    title = 'Distribuição de Corredores por Ser ou Nao da APPAI'\n",
    "\n",
    "\n",
    ")\n",
    "figura.update_layout(xaxis_title = 'Equipe',\n",
    "    yaxis=dict(\n",
    "        showticklabels=False,\n",
    "        visible=False\n",
    "    )\n",
    ")\n",
    "figura.update_xaxes( tickvals = [False, True], # Valores dos ticks\n",
    "    ticktext=['Não é APPAI', 'APPAI']  # Textos dos ticks\n",
    ")\n",
    "figura.show()"
   ]
  },
  {
   "cell_type": "markdown",
   "metadata": {},
   "source": [
    "![Gráfico Plotly](Distribuicao_Corredores_Sendo_APPAI.png)"
   ]
  },
  {
   "cell_type": "markdown",
   "metadata": {},
   "source": [
    "* A distribuição APPAI e nao APPAI é dividida quase pela metade, ou seja, demonstra que fazer convenios e incentivar os participantes de associaçôes podem trazer beneficios para eles.\n",
    "https://www.appai.org.br/lazer/caminhadas-corridas/\n",
    "\n",
    "* Surge aqui uma sugestão de fazer convênios com mais associações e explorar associações de pessoas mais velhas para compensar a queda natural de pessoas mais velhas na corrida."
   ]
  },
  {
   "cell_type": "markdown",
   "metadata": {},
   "source": [
    "## **Desempenho**\n",
    "\n",
    "* Em geral, qual a distribuição do desempenho na corrida?\n",
    "* Como é o desempenho em relação ao sexo?\n",
    "* Como é o desempenho em relação a categorial geral?\n",
    "* Como é o desempenho em relação a categoria e sexo?\n",
    "* Como é o desempenho em relação a ser ou não da APPAI?\n",
    "* Em qual posição eu ficaria nas mulheres?\n",
    "\n",
    "\n",
    "Obs: Lembrando que usaremos o Pace como medidor de desempenho"
   ]
  },
  {
   "cell_type": "markdown",
   "metadata": {},
   "source": [
    "### Desempenho na Corrida"
   ]
  },
  {
   "cell_type": "code",
   "execution_count": 22,
   "metadata": {},
   "outputs": [
    {
     "name": "stdout",
     "output_type": "stream",
     "text": [
      "Meu Pace na Corrida foi de 5.92 minutos por KM\n"
     ]
    }
   ],
   "source": [
    "# Alterar a Vel.Média que ta em km/h para min/km que é geralmente como vemos o pace.\n",
    "dados_corrida['Pace_Final'] = 60/dados_corrida['Vel.Média']\n",
    "dados_corrida.head()\n",
    "meu_pace = dados_corrida.query(\"Nome == 'Joao Victor Da Silva Araujo'\")['Pace_Final'].iloc[0]\n",
    "\n",
    "print(f\"Meu Pace na Corrida foi de {meu_pace:.2f} minutos por KM\")\n"
   ]
  },
  {
   "cell_type": "code",
   "execution_count": 24,
   "metadata": {},
   "outputs": [
    {
     "data": {
      "application/vnd.plotly.v1+json": {
       "config": {
        "plotlyServerURL": "https://plot.ly"
       },
       "data": [
        {
         "alignmentgroup": "True",
         "hovertemplate": "x=%{x}<br>Pace_Final=%{y}<extra></extra>",
         "legendgroup": "",
         "marker": {
          "color": "#636efa"
         },
         "name": "",
         "notched": false,
         "offsetgroup": "",
         "orientation": "v",
         "showlegend": false,
         "type": "box",
         "x": [
          0,
          0,
          0,
          0,
          0,
          0,
          0,
          0,
          0,
          0,
          0,
          0,
          0,
          0,
          0,
          0,
          0,
          0,
          0,
          0,
          0,
          0,
          0,
          0,
          0,
          0,
          0,
          0,
          0,
          0,
          0,
          0,
          0,
          0,
          0,
          0,
          0,
          0,
          0,
          0,
          0,
          0,
          0,
          0,
          0,
          0,
          0,
          0,
          0,
          0,
          0,
          0,
          0,
          0,
          0,
          0,
          0,
          0,
          0,
          0,
          0,
          0,
          0,
          0,
          0,
          0,
          0,
          0,
          0,
          0,
          0,
          0,
          0,
          0,
          0,
          0,
          0,
          0,
          0,
          0,
          0,
          0,
          0,
          0,
          0,
          0,
          0,
          0,
          0,
          0,
          0,
          0,
          0,
          0,
          0,
          0,
          0,
          0,
          0,
          0,
          0,
          0,
          0,
          0,
          0,
          0,
          0,
          0,
          0,
          0,
          0,
          0,
          0,
          0,
          0,
          0,
          0,
          0,
          0,
          0,
          0,
          0,
          0,
          0,
          0,
          0,
          0,
          0,
          0,
          0,
          0,
          0,
          0,
          0,
          0,
          0,
          0,
          0,
          0,
          0,
          0,
          0,
          0,
          0,
          0,
          0,
          0,
          0,
          0,
          0,
          0,
          0,
          0,
          0,
          0,
          0,
          0,
          0,
          0,
          0,
          0,
          0,
          0,
          0,
          0,
          0,
          0,
          0,
          0,
          0,
          0,
          0,
          0,
          0,
          0,
          0,
          0,
          0,
          0,
          0,
          0,
          0,
          0,
          0,
          0,
          0,
          0,
          0,
          0,
          0,
          0,
          0,
          0,
          0,
          0,
          0,
          0,
          0,
          0,
          0,
          0,
          0,
          0,
          0,
          0,
          0,
          0,
          0,
          0,
          0,
          0,
          0,
          0,
          0,
          0,
          0,
          0,
          0,
          0,
          0,
          0,
          0,
          0,
          0,
          0,
          0,
          0,
          0,
          0,
          0,
          0,
          0,
          0,
          0,
          0,
          0,
          0,
          0,
          0,
          0,
          0,
          0,
          0,
          0,
          0,
          0,
          0,
          0,
          0,
          0,
          0,
          0,
          0,
          0,
          0,
          0,
          0,
          0,
          0,
          0,
          0,
          0,
          0,
          0,
          0,
          0,
          0,
          0,
          0,
          0,
          0,
          0,
          0,
          0,
          0,
          0,
          0,
          0,
          0,
          0,
          0,
          0,
          0,
          0,
          0,
          0,
          0,
          0,
          0,
          0,
          0,
          0,
          0,
          0,
          0,
          0,
          0,
          0,
          0,
          0,
          0,
          0,
          0,
          0,
          0,
          0,
          0,
          0,
          0,
          0,
          0,
          0,
          0,
          0,
          0,
          0,
          0,
          0,
          0,
          0,
          0,
          0,
          0,
          0,
          0,
          0,
          0,
          0,
          0,
          0,
          0,
          0,
          0,
          0,
          0,
          0,
          0,
          0,
          0,
          0,
          0,
          0,
          0,
          0,
          0,
          0,
          0,
          0,
          0,
          0,
          0,
          0,
          0,
          0,
          0,
          0,
          0,
          0,
          0,
          0,
          0,
          0,
          0,
          0,
          0,
          0,
          0,
          0,
          0,
          0,
          0,
          0,
          0,
          0,
          0,
          0,
          0,
          0,
          0,
          0,
          0,
          0,
          0,
          0,
          0,
          0,
          0,
          0,
          0,
          0,
          0,
          0,
          0,
          0,
          0,
          0,
          0,
          0,
          0,
          0,
          0,
          0,
          0,
          0,
          0,
          0,
          0,
          0,
          0,
          0,
          0,
          0,
          0,
          0,
          0,
          0,
          0,
          0,
          0,
          0,
          0,
          0,
          0,
          0,
          0,
          0,
          0,
          0,
          0,
          0,
          0,
          0,
          0,
          0,
          0,
          0,
          0,
          0,
          0,
          0,
          0,
          0,
          0,
          0,
          0,
          0,
          0,
          0,
          0,
          0,
          0,
          0,
          0,
          0,
          0,
          0,
          0,
          0,
          0,
          0,
          0,
          0,
          0,
          0,
          0,
          0,
          0,
          0,
          0,
          0,
          0,
          0,
          0,
          0,
          0,
          0,
          0,
          0,
          0,
          0,
          0,
          0,
          0,
          0,
          0,
          0,
          0,
          0,
          0,
          0,
          0,
          0,
          0,
          0,
          0,
          0,
          0,
          0,
          0,
          0,
          0,
          0,
          0,
          0,
          0,
          0,
          0,
          0,
          0,
          0,
          0,
          0,
          0,
          0,
          0,
          0,
          0,
          0,
          0,
          0,
          0,
          0,
          0,
          0,
          0,
          0,
          0,
          0,
          0,
          0,
          0,
          0,
          0,
          0,
          0,
          0,
          0,
          0,
          0,
          0,
          0,
          0,
          0,
          0,
          0,
          0,
          0,
          0,
          0,
          0,
          0,
          0,
          0,
          0,
          0,
          0,
          0,
          0,
          0,
          0,
          0,
          0,
          0,
          0,
          0,
          0,
          0,
          0,
          0,
          0,
          0,
          0,
          0,
          0,
          0,
          0,
          0,
          0,
          0,
          0,
          0,
          0,
          0,
          0,
          0,
          0,
          0,
          0,
          0,
          0,
          0,
          0,
          0,
          0,
          0,
          0,
          0,
          0,
          0,
          0,
          0,
          0,
          0,
          0,
          0,
          0,
          0,
          0,
          0,
          0,
          0,
          0,
          0,
          0,
          0,
          0,
          0,
          0,
          0,
          0,
          0,
          0,
          0,
          0,
          0,
          0,
          0,
          0,
          0,
          0,
          0,
          0,
          0,
          0,
          0,
          0,
          0,
          0,
          0,
          0,
          0,
          0,
          0,
          0,
          0,
          0,
          0,
          0,
          0,
          0,
          0,
          0,
          0,
          0,
          0,
          0,
          0,
          0,
          0,
          0,
          0,
          0,
          0,
          0,
          0,
          0,
          0,
          0,
          0,
          0,
          0,
          0,
          0,
          0,
          0,
          0,
          0,
          0,
          0,
          0,
          0,
          0,
          0,
          0,
          0,
          0,
          0,
          0,
          0,
          0,
          0,
          0,
          0,
          0,
          0,
          0,
          0,
          0,
          0,
          0,
          0,
          0,
          0,
          0,
          0,
          0,
          0,
          0,
          0,
          0,
          0,
          0,
          0,
          0,
          0,
          0,
          0,
          0,
          0,
          0,
          0,
          0,
          0,
          0,
          0,
          0,
          0,
          0,
          0,
          0,
          0,
          0,
          0,
          0,
          0,
          0,
          0,
          0,
          0,
          0,
          0,
          0,
          0,
          0,
          0,
          0,
          0,
          0,
          0,
          0,
          0,
          0,
          0,
          0,
          0,
          0,
          0,
          0,
          0,
          0,
          0,
          0,
          0,
          0,
          0,
          0,
          0,
          0,
          0,
          0,
          0,
          0,
          0,
          0,
          0,
          0,
          0,
          0,
          0,
          0,
          0,
          0,
          0,
          0,
          0,
          0,
          0,
          0,
          0,
          0,
          0,
          0,
          0,
          0,
          0,
          0,
          0,
          0,
          0,
          0,
          0,
          0,
          0,
          0,
          0,
          0,
          0,
          0,
          0,
          0,
          0,
          0,
          0,
          0,
          0,
          0,
          0,
          0,
          0,
          0,
          0,
          0,
          0,
          0,
          0,
          0,
          0,
          0,
          0,
          0,
          0,
          0,
          0,
          0,
          0,
          0,
          0,
          0,
          0,
          0,
          0,
          0,
          0,
          0,
          0,
          0,
          0,
          0,
          0,
          0,
          0,
          0,
          0,
          0,
          0,
          0,
          0,
          0,
          0,
          0,
          0,
          0,
          0,
          0,
          0,
          0,
          0,
          0,
          0,
          0,
          0,
          0,
          0,
          0,
          0,
          0,
          0,
          0,
          0,
          0,
          0,
          0,
          0,
          0,
          0,
          0,
          0,
          0,
          0,
          0,
          0,
          0,
          0,
          0,
          0,
          0,
          0,
          0,
          0,
          0,
          0,
          0,
          0,
          0,
          0,
          0,
          0,
          0,
          0,
          0,
          0,
          0,
          0,
          0,
          0,
          0,
          0,
          0,
          0,
          0,
          0,
          0,
          0,
          0,
          0,
          0,
          0,
          0,
          0,
          0,
          0,
          0,
          0,
          0,
          0,
          0,
          0,
          0,
          0,
          0,
          0,
          0,
          0,
          0,
          0,
          0,
          0,
          0,
          0,
          0,
          0,
          0,
          0,
          0,
          0,
          0,
          0,
          0
         ],
         "x0": " ",
         "xaxis": "x",
         "y": [
          3.1595576619273302,
          3.3707865168539324,
          3.4443168771526977,
          3.4462952326249283,
          3.4502587694077054,
          3.544004725339634,
          3.621001810500905,
          3.621001810500905,
          3.6607687614399023,
          3.6607687614399023,
          3.780718336483932,
          3.7854889589905363,
          3.8095238095238093,
          3.870967741935484,
          3.878474466709761,
          3.8935756002595716,
          3.90625,
          3.9761431411530817,
          3.9787798408488064,
          3.9787798408488064,
          3.9946737683089215,
          4,
          4.008016032064128,
          4.029550033579583,
          4.0733197556008145,
          4.078857919782461,
          4.118050789293068,
          4.123711340206185,
          4.135079255685734,
          4.14651002073255,
          4.14651002073255,
          4.14651002073255,
          4.158004158004158,
          4.178272980501393,
          4.1928721174004195,
          4.195804195804196,
          4.198740377886634,
          4.204625087596356,
          4.240282685512367,
          4.2492917847025495,
          4.2492917847025495,
          4.261363636363637,
          4.264392324093817,
          4.279600570613409,
          4.288777698355968,
          4.288777698355968,
          4.291845493562231,
          4.291845493562231,
          4.297994269340974,
          4.301075268817205,
          4.313443565780014,
          4.319654427645788,
          4.344677769732078,
          4.354136429608128,
          4.363636363636363,
          4.369992716678805,
          4.385964912280702,
          4.389173372348208,
          4.389173372348208,
          4.402054292002934,
          4.405286343612335,
          4.411764705882353,
          4.428044280442804,
          4.428044280442804,
          4.434589800443459,
          4.444444444444445,
          4.451038575667655,
          4.4543429844097995,
          4.4543429844097995,
          4.49438202247191,
          4.497751124437781,
          4.504504504504505,
          4.507888805409467,
          4.511278195488722,
          4.511278195488722,
          4.52147701582517,
          4.524886877828054,
          4.524886877828054,
          4.524886877828054,
          4.524886877828054,
          4.528301886792453,
          4.531722054380665,
          4.531722054380665,
          4.552352048558422,
          4.552352048558422,
          4.562737642585551,
          4.566210045662101,
          4.566210045662101,
          4.580152671755726,
          4.580152671755726,
          4.587155963302752,
          4.597701149425287,
          4.597701149425287,
          4.601226993865031,
          4.604758250191865,
          4.6082949308755765,
          4.622496147919876,
          4.626060138781804,
          4.633204633204634,
          4.640371229698376,
          4.640371229698376,
          4.647560030983733,
          4.662004662004662,
          4.662004662004662,
          4.665629860031104,
          4.669260700389105,
          4.672897196261682,
          4.676539360872954,
          4.6801872074882995,
          4.68384074941452,
          4.68384074941452,
          4.68384074941452,
          4.68384074941452,
          4.6875,
          4.6875,
          4.691164972634871,
          4.694835680751174,
          4.698512137823023,
          4.702194357366771,
          4.702194357366771,
          4.7095761381475665,
          4.7095761381475665,
          4.7095761381475665,
          4.713275726630008,
          4.724409448818898,
          4.724409448818898,
          4.724409448818898,
          4.728132387706856,
          4.728132387706856,
          4.73559589581689,
          4.73559589581689,
          4.743083003952569,
          4.746835443037974,
          4.758128469468676,
          4.765687053216839,
          4.765687053216839,
          4.765687053216839,
          4.77326968973747,
          4.77326968973747,
          4.77326968973747,
          4.777070063694267,
          4.803843074459568,
          4.803843074459568,
          4.803843074459568,
          4.8076923076923075,
          4.811547714514836,
          4.815409309791332,
          4.815409309791332,
          4.815409309791332,
          4.819277108433735,
          4.823151125401929,
          4.823151125401929,
          4.823151125401929,
          4.823151125401929,
          4.8270313757039425,
          4.830917874396135,
          4.8348106365834,
          4.8348106365834,
          4.842615012106537,
          4.846526655896607,
          4.846526655896607,
          4.8543689320388355,
          4.858299595141701,
          4.862236628849271,
          4.862236628849271,
          4.87012987012987,
          4.8740861088545895,
          4.8740861088545895,
          4.878048780487805,
          4.882017900732303,
          4.88599348534202,
          4.88599348534202,
          4.88599348534202,
          4.893964110929853,
          4.905968928863451,
          4.918032786885246,
          4.9220672682526665,
          4.930156121610517,
          4.938271604938271,
          4.938271604938271,
          4.938271604938271,
          4.938271604938271,
          4.9464138499587795,
          4.9464138499587795,
          4.9464138499587795,
          4.9464138499587795,
          4.9504950495049505,
          4.958677685950414,
          4.958677685950414,
          4.962779156327543,
          4.971002485501242,
          4.987531172069826,
          4.9916805324459235,
          4.9916805324459235,
          5.004170141784821,
          5.004170141784821,
          5.016722408026755,
          5.020920502092051,
          5.020920502092051,
          5.029337803855825,
          5.029337803855825,
          5.029337803855825,
          5.029337803855825,
          5.037783375314861,
          5.037783375314861,
          5.037783375314861,
          5.046257359125315,
          5.05050505050505,
          5.054759898904802,
          5.059021922428331,
          5.059021922428331,
          5.059021922428331,
          5.0675675675675675,
          5.07185122569738,
          5.0761421319796955,
          5.080440304826418,
          5.080440304826418,
          5.089058524173028,
          5.1020408163265305,
          5.1020408163265305,
          5.1020408163265305,
          5.1063829787234045,
          5.1063829787234045,
          5.110732538330494,
          5.115089514066496,
          5.1194539249146755,
          5.1194539249146755,
          5.1194539249146755,
          5.123825789923142,
          5.123825789923142,
          5.128205128205129,
          5.128205128205129,
          5.132591958939265,
          5.132591958939265,
          5.136986301369864,
          5.136986301369864,
          5.136986301369864,
          5.141388174807198,
          5.145797598627787,
          5.150214592274678,
          5.150214592274678,
          5.150214592274678,
          5.150214592274678,
          5.150214592274678,
          5.150214592274678,
          5.150214592274678,
          5.154639175257731,
          5.159071367153912,
          5.163511187607574,
          5.167958656330749,
          5.167958656330749,
          5.167958656330749,
          5.172413793103448,
          5.172413793103448,
          5.176876617773943,
          5.181347150259067,
          5.181347150259067,
          5.190311418685121,
          5.190311418685121,
          5.194805194805195,
          5.199306759098787,
          5.199306759098787,
          5.199306759098787,
          5.203816131830009,
          5.203816131830009,
          5.203816131830009,
          5.208333333333334,
          5.208333333333334,
          5.2264808362369335,
          5.2264808362369335,
          5.2264808362369335,
          5.2264808362369335,
          5.2264808362369335,
          5.2264808362369335,
          5.231037489102005,
          5.231037489102005,
          5.2356020942408374,
          5.240174672489084,
          5.244755244755245,
          5.244755244755245,
          5.244755244755245,
          5.244755244755245,
          5.253940455341506,
          5.253940455341506,
          5.25854513584575,
          5.267778753292362,
          5.267778753292362,
          5.267778753292362,
          5.267778753292362,
          5.277044854881267,
          5.277044854881267,
          5.277044854881267,
          5.277044854881267,
          5.281690140845071,
          5.281690140845071,
          5.286343612334802,
          5.286343612334802,
          5.291005291005291,
          5.291005291005291,
          5.29567519858782,
          5.300353356890459,
          5.300353356890459,
          5.305039787798409,
          5.305039787798409,
          5.309734513274336,
          5.314437555358725,
          5.314437555358725,
          5.314437555358725,
          5.319148936170213,
          5.319148936170213,
          5.319148936170213,
          5.323868677905945,
          5.328596802841918,
          5.328596802841918,
          5.328596802841918,
          5.328596802841918,
          5.333333333333333,
          5.338078291814947,
          5.342831700801424,
          5.342831700801424,
          5.357142857142858,
          5.357142857142858,
          5.357142857142858,
          5.361930294906166,
          5.361930294906166,
          5.366726296958856,
          5.366726296958856,
          5.371530886302597,
          5.371530886302597,
          5.371530886302597,
          5.376344086021505,
          5.376344086021505,
          5.376344086021505,
          5.376344086021505,
          5.376344086021505,
          5.376344086021505,
          5.376344086021505,
          5.381165919282511,
          5.381165919282511,
          5.381165919282511,
          5.381165919282511,
          5.390835579514825,
          5.390835579514825,
          5.390835579514825,
          5.39568345323741,
          5.39568345323741,
          5.4005400540054005,
          5.405405405405405,
          5.405405405405405,
          5.410279531109107,
          5.410279531109107,
          5.415162454873646,
          5.415162454873646,
          5.420054200542006,
          5.420054200542006,
          5.420054200542006,
          5.420054200542006,
          5.424954792043399,
          5.4298642533936645,
          5.4298642533936645,
          5.4298642533936645,
          5.4298642533936645,
          5.434782608695652,
          5.434782608695652,
          5.434782608695652,
          5.434782608695652,
          5.43970988213962,
          5.43970988213962,
          5.44464609800363,
          5.44464609800363,
          5.4495912806539515,
          5.4495912806539515,
          5.454545454545454,
          5.454545454545454,
          5.454545454545454,
          5.454545454545454,
          5.45950864422202,
          5.45950864422202,
          5.46448087431694,
          5.46448087431694,
          5.46448087431694,
          5.469462169553327,
          5.474452554744525,
          5.474452554744525,
          5.479452054794521,
          5.479452054794521,
          5.484460694698355,
          5.484460694698355,
          5.484460694698355,
          5.484460694698355,
          5.489478499542543,
          5.489478499542543,
          5.489478499542543,
          5.489478499542543,
          5.499541704857928,
          5.499541704857928,
          5.499541704857928,
          5.504587155963303,
          5.504587155963303,
          5.504587155963303,
          5.509641873278237,
          5.514705882352941,
          5.519779208831647,
          5.524861878453039,
          5.524861878453039,
          5.535055350553505,
          5.535055350553505,
          5.535055350553505,
          5.535055350553505,
          5.54016620498615,
          5.54016620498615,
          5.54016620498615,
          5.545286506469501,
          5.545286506469501,
          5.550416281221091,
          5.555555555555555,
          5.555555555555555,
          5.565862708719852,
          5.565862708719852,
          5.571030640668524,
          5.571030640668524,
          5.571030640668524,
          5.5762081784386615,
          5.5762081784386615,
          5.5762081784386615,
          5.5762081784386615,
          5.5762081784386615,
          5.5813953488372094,
          5.58659217877095,
          5.58659217877095,
          5.58659217877095,
          5.58659217877095,
          5.58659217877095,
          5.58659217877095,
          5.591798695246971,
          5.591798695246971,
          5.597014925373134,
          5.597014925373134,
          5.597014925373134,
          5.597014925373134,
          5.597014925373134,
          5.602240896358543,
          5.607476635514019,
          5.607476635514019,
          5.612722170252573,
          5.617977528089888,
          5.623242736644799,
          5.628517823639775,
          5.628517823639775,
          5.628517823639775,
          5.628517823639775,
          5.628517823639775,
          5.633802816901408,
          5.633802816901408,
          5.639097744360902,
          5.639097744360902,
          5.639097744360902,
          5.639097744360902,
          5.639097744360902,
          5.639097744360902,
          5.644402634054562,
          5.644402634054562,
          5.644402634054562,
          5.655042412818096,
          5.655042412818096,
          5.660377358490567,
          5.660377358490567,
          5.660377358490567,
          5.665722379603399,
          5.665722379603399,
          5.665722379603399,
          5.665722379603399,
          5.671077504725898,
          5.671077504725898,
          5.676442762535477,
          5.676442762535477,
          5.676442762535477,
          5.681818181818182,
          5.6872037914691935,
          5.6872037914691935,
          5.692599620493359,
          5.692599620493359,
          5.692599620493359,
          5.692599620493359,
          5.692599620493359,
          5.692599620493359,
          5.692599620493359,
          5.692599620493359,
          5.698005698005699,
          5.7034220532319395,
          5.7034220532319395,
          5.7034220532319395,
          5.7034220532319395,
          5.714285714285714,
          5.714285714285714,
          5.719733079122975,
          5.719733079122975,
          5.7251908396946565,
          5.7251908396946565,
          5.730659025787965,
          5.730659025787965,
          5.730659025787965,
          5.730659025787965,
          5.730659025787965,
          5.736137667304015,
          5.741626794258374,
          5.74712643678161,
          5.752636625119846,
          5.752636625119846,
          5.752636625119846,
          5.752636625119846,
          5.752636625119846,
          5.752636625119846,
          5.758157389635317,
          5.758157389635317,
          5.7747834456207885,
          5.780346820809248,
          5.780346820809248,
          5.780346820809248,
          5.785920925747349,
          5.7915057915057915,
          5.797101449275362,
          5.802707930367505,
          5.802707930367505,
          5.802707930367505,
          5.802707930367505,
          5.802707930367505,
          5.808325266214908,
          5.808325266214908,
          5.808325266214908,
          5.813953488372093,
          5.813953488372093,
          5.819592628516004,
          5.825242718446601,
          5.830903790087464,
          5.830903790087464,
          5.830903790087464,
          5.836575875486382,
          5.836575875486382,
          5.836575875486382,
          5.842259006815969,
          5.842259006815969,
          5.847953216374269,
          5.847953216374269,
          5.847953216374269,
          5.847953216374269,
          5.853658536585366,
          5.859375,
          5.870841487279843,
          5.870841487279843,
          5.870841487279843,
          5.876591576885406,
          5.876591576885406,
          5.882352941176471,
          5.888125613346419,
          5.888125613346419,
          5.893909626719057,
          5.893909626719057,
          5.893909626719057,
          5.893909626719057,
          5.893909626719057,
          5.899705014749262,
          5.899705014749262,
          5.899705014749262,
          5.905511811023622,
          5.905511811023622,
          5.905511811023622,
          5.905511811023622,
          5.9171597633136095,
          5.9171597633136095,
          5.9171597633136095,
          5.9171597633136095,
          5.9171597633136095,
          5.9171597633136095,
          5.9171597633136095,
          5.9171597633136095,
          5.923000987166831,
          5.923000987166831,
          5.928853754940712,
          5.934718100890208,
          5.934718100890208,
          5.9523809523809526,
          5.9523809523809526,
          5.964214711729622,
          5.964214711729622,
          5.964214711729622,
          5.976095617529881,
          5.982053838484546,
          5.9880239520958085,
          5.9880239520958085,
          5.994005994005994,
          5.994005994005994,
          5.994005994005994,
          6.018054162487462,
          6.018054162487462,
          6.024096385542168,
          6.030150753768845,
          6.036217303822938,
          6.036217303822938,
          6.036217303822938,
          6.036217303822938,
          6.0606060606060606,
          6.0606060606060606,
          6.0606060606060606,
          6.0606060606060606,
          6.0606060606060606,
          6.072874493927125,
          6.072874493927125,
          6.072874493927125,
          6.072874493927125,
          6.079027355623101,
          6.079027355623101,
          6.079027355623101,
          6.079027355623101,
          6.079027355623101,
          6.085192697768763,
          6.091370558375635,
          6.091370558375635,
          6.091370558375635,
          6.091370558375635,
          6.097560975609756,
          6.109979633401222,
          6.109979633401222,
          6.109979633401222,
          6.116207951070336,
          6.116207951070336,
          6.116207951070336,
          6.116207951070336,
          6.122448979591836,
          6.134969325153374,
          6.141248720573183,
          6.141248720573183,
          6.153846153846154,
          6.153846153846154,
          6.153846153846154,
          6.153846153846154,
          6.160164271047228,
          6.160164271047228,
          6.160164271047228,
          6.160164271047228,
          6.160164271047228,
          6.166495375128468,
          6.166495375128468,
          6.172839506172839,
          6.179196704428424,
          6.185567010309279,
          6.185567010309279,
          6.185567010309279,
          6.185567010309279,
          6.191950464396285,
          6.198347107438017,
          6.211180124223603,
          6.217616580310881,
          6.224066390041493,
          6.230529595015576,
          6.237006237006238,
          6.243496357960458,
          6.243496357960458,
          6.25,
          6.25,
          6.25,
          6.256517205422315,
          6.263048016701461,
          6.263048016701461,
          6.269592476489028,
          6.269592476489028,
          6.269592476489028,
          6.2761506276150625,
          6.2761506276150625,
          6.2761506276150625,
          6.282722513089005,
          6.282722513089005,
          6.282722513089005,
          6.282722513089005,
          6.289308176100629,
          6.289308176100629,
          6.295907660020987,
          6.295907660020987,
          6.302521008403362,
          6.309148264984227,
          6.309148264984227,
          6.309148264984227,
          6.315789473684211,
          6.315789473684211,
          6.322444678609062,
          6.329113924050633,
          6.329113924050633,
          6.335797254487856,
          6.335797254487856,
          6.335797254487856,
          6.34920634920635,
          6.3559322033898304,
          6.3559322033898304,
          6.3559322033898304,
          6.3559322033898304,
          6.3559322033898304,
          6.362672322375398,
          6.376195536663125,
          6.382978723404255,
          6.382978723404255,
          6.3965884861407245,
          6.3965884861407245,
          6.3965884861407245,
          6.3965884861407245,
          6.4034151547492,
          6.4034151547492,
          6.4034151547492,
          6.410256410256411,
          6.410256410256411,
          6.4171122994652405,
          6.4239828693790155,
          6.430868167202572,
          6.430868167202572,
          6.437768240343347,
          6.4446831364124595,
          6.451612903225806,
          6.458557588805167,
          6.4655172413793105,
          6.4655172413793105,
          6.4655172413793105,
          6.479481641468682,
          6.500541711809317,
          6.507592190889371,
          6.514657980456025,
          6.521739130434783,
          6.521739130434783,
          6.5359477124183005,
          6.543075245365322,
          6.543075245365322,
          6.557377049180328,
          6.557377049180328,
          6.557377049180328,
          6.571741511500547,
          6.571741511500547,
          6.578947368421053,
          6.593406593406594,
          6.607929515418502,
          6.607929515418502,
          6.615214994487321,
          6.615214994487321,
          6.615214994487321,
          6.6298342541436455,
          6.6298342541436455,
          6.6298342541436455,
          6.637168141592921,
          6.651884700665189,
          6.659267480577137,
          6.666666666666667,
          6.674082313681868,
          6.674082313681868,
          6.674082313681868,
          6.681514476614699,
          6.681514476614699,
          6.681514476614699,
          6.681514476614699,
          6.68896321070234,
          6.68896321070234,
          6.703910614525141,
          6.7114093959731544,
          6.7114093959731544,
          6.71892497200448,
          6.71892497200448,
          6.726457399103139,
          6.741573033707865,
          6.741573033707865,
          6.749156355455567,
          6.756756756756756,
          6.756756756756756,
          6.764374295377678,
          6.764374295377678,
          6.772009029345373,
          6.787330316742081,
          6.787330316742081,
          6.795016987542469,
          6.795016987542469,
          6.795016987542469,
          6.795016987542469,
          6.795016987542469,
          6.81044267877412,
          6.8181818181818175,
          6.8181818181818175,
          6.8181818181818175,
          6.825938566552901,
          6.825938566552901,
          6.825938566552901,
          6.825938566552901,
          6.825938566552901,
          6.83371298405467,
          6.83371298405467,
          6.83371298405467,
          6.83371298405467,
          6.83371298405467,
          6.83371298405467,
          6.83371298405467,
          6.841505131128849,
          6.857142857142857,
          6.857142857142857,
          6.857142857142857,
          6.857142857142857,
          6.8728522336769755,
          6.8728522336769755,
          6.880733944954128,
          6.8886337543053955,
          6.8886337543053955,
          6.8965517241379315,
          6.904487917146145,
          6.904487917146145,
          6.928406466512702,
          6.936416184971098,
          6.952491309385863,
          6.960556844547565,
          6.960556844547565,
          6.968641114982579,
          6.968641114982579,
          6.968641114982579,
          6.968641114982579,
          6.976744186046512,
          6.976744186046512,
          6.993006993006993,
          6.993006993006993,
          6.993006993006993,
          7.017543859649122,
          7.017543859649122,
          7.0257611241217806,
          7.042253521126761,
          7.050528789659225,
          7.0588235294117645,
          7.0588235294117645,
          7.0588235294117645,
          7.0754716981132075,
          7.0754716981132075,
          7.0754716981132075,
          7.083825265643447,
          7.083825265643447,
          7.083825265643447,
          7.092198581560283,
          7.109004739336493,
          7.109004739336493,
          7.109004739336493,
          7.117437722419929,
          7.117437722419929,
          7.1258907363420425,
          7.13436385255648,
          7.13436385255648,
          7.151370679380214,
          7.151370679380214,
          7.151370679380214,
          7.159904534606205,
          7.168458781362008,
          7.185628742514971,
          7.202881152460984,
          7.202881152460984,
          7.2202166064981945,
          7.246376811594203,
          7.246376811594203,
          7.246376811594203,
          7.246376811594203,
          7.255139056831923,
          7.255139056831923,
          7.263922518159807,
          7.263922518159807,
          7.263922518159807,
          7.263922518159807,
          7.2727272727272725,
          7.281553398058252,
          7.281553398058252,
          7.290400972053463,
          7.2992700729927,
          7.3081607795371495,
          7.3081607795371495,
          7.3081607795371495,
          7.326007326007327,
          7.326007326007327,
          7.334963325183375,
          7.37100737100737,
          7.37100737100737,
          7.380073800738007,
          7.380073800738007,
          7.407407407407407,
          7.407407407407407,
          7.407407407407407,
          7.425742574257426,
          7.425742574257426,
          7.444168734491314,
          7.444168734491314,
          7.4812967581047385,
          7.490636704119851,
          7.490636704119851,
          7.5,
          7.509386733416771,
          7.518796992481203,
          7.547169811320755,
          7.566204287515763,
          7.585335018963337,
          7.6238881829733165,
          7.633587786259541,
          7.633587786259541,
          7.633587786259541,
          7.643312101910828,
          7.643312101910828,
          7.653061224489796,
          7.662835249042145,
          7.751937984496124,
          7.751937984496124,
          7.751937984496124,
          7.782101167315175,
          7.782101167315175,
          7.802340702210663,
          7.8125,
          7.822685788787484,
          7.83289817232376,
          7.83289817232376,
          7.83289817232376,
          7.8431372549019605,
          7.884362680683311,
          7.905138339920949,
          7.905138339920949,
          7.915567282321899,
          7.936507936507937,
          7.9470198675496695,
          7.9787234042553195,
          7.989347536617843,
          7.989347536617843,
          8,
          8.01068090787717,
          8.032128514056225,
          8.04289544235925,
          8.108108108108107,
          8.207934336525309,
          8.219178082191782,
          8.253094910591471,
          8.253094910591471,
          8.310249307479225,
          8.310249307479225,
          8.321775312066574,
          8.356545961002785,
          8.474576271186441,
          8.583690987124463,
          8.620689655172415,
          8.658008658008658,
          8.771929824561404,
          8.784773060029282,
          8.849557522123893,
          8.941877794336811,
          9.036144578313253,
          9.06344410876133,
          9.174311926605505,
          9.30232558139535,
          9.090909090909092,
          9.273570324574962,
          9.6,
          9.630818619582664,
          9.966777408637874,
          9.30232558139535,
          10,
          10.849909584086799,
          11.049723756906078,
          11.049723756906078
         ],
         "y0": " ",
         "yaxis": "y"
        },
        {
         "marker": {
          "color": "black",
          "size": 8
         },
         "mode": "markers",
         "name": "Meu Tempo",
         "type": "scatter",
         "x": [
          0
         ],
         "y": [
          5.9171597633136095
         ]
        }
       ],
       "layout": {
        "boxmode": "group",
        "legend": {
         "tracegroupgap": 0
        },
        "template": {
         "data": {
          "bar": [
           {
            "error_x": {
             "color": "#2a3f5f"
            },
            "error_y": {
             "color": "#2a3f5f"
            },
            "marker": {
             "line": {
              "color": "#E5ECF6",
              "width": 0.5
             },
             "pattern": {
              "fillmode": "overlay",
              "size": 10,
              "solidity": 0.2
             }
            },
            "type": "bar"
           }
          ],
          "barpolar": [
           {
            "marker": {
             "line": {
              "color": "#E5ECF6",
              "width": 0.5
             },
             "pattern": {
              "fillmode": "overlay",
              "size": 10,
              "solidity": 0.2
             }
            },
            "type": "barpolar"
           }
          ],
          "carpet": [
           {
            "aaxis": {
             "endlinecolor": "#2a3f5f",
             "gridcolor": "white",
             "linecolor": "white",
             "minorgridcolor": "white",
             "startlinecolor": "#2a3f5f"
            },
            "baxis": {
             "endlinecolor": "#2a3f5f",
             "gridcolor": "white",
             "linecolor": "white",
             "minorgridcolor": "white",
             "startlinecolor": "#2a3f5f"
            },
            "type": "carpet"
           }
          ],
          "choropleth": [
           {
            "colorbar": {
             "outlinewidth": 0,
             "ticks": ""
            },
            "type": "choropleth"
           }
          ],
          "contour": [
           {
            "colorbar": {
             "outlinewidth": 0,
             "ticks": ""
            },
            "colorscale": [
             [
              0,
              "#0d0887"
             ],
             [
              0.1111111111111111,
              "#46039f"
             ],
             [
              0.2222222222222222,
              "#7201a8"
             ],
             [
              0.3333333333333333,
              "#9c179e"
             ],
             [
              0.4444444444444444,
              "#bd3786"
             ],
             [
              0.5555555555555556,
              "#d8576b"
             ],
             [
              0.6666666666666666,
              "#ed7953"
             ],
             [
              0.7777777777777778,
              "#fb9f3a"
             ],
             [
              0.8888888888888888,
              "#fdca26"
             ],
             [
              1,
              "#f0f921"
             ]
            ],
            "type": "contour"
           }
          ],
          "contourcarpet": [
           {
            "colorbar": {
             "outlinewidth": 0,
             "ticks": ""
            },
            "type": "contourcarpet"
           }
          ],
          "heatmap": [
           {
            "colorbar": {
             "outlinewidth": 0,
             "ticks": ""
            },
            "colorscale": [
             [
              0,
              "#0d0887"
             ],
             [
              0.1111111111111111,
              "#46039f"
             ],
             [
              0.2222222222222222,
              "#7201a8"
             ],
             [
              0.3333333333333333,
              "#9c179e"
             ],
             [
              0.4444444444444444,
              "#bd3786"
             ],
             [
              0.5555555555555556,
              "#d8576b"
             ],
             [
              0.6666666666666666,
              "#ed7953"
             ],
             [
              0.7777777777777778,
              "#fb9f3a"
             ],
             [
              0.8888888888888888,
              "#fdca26"
             ],
             [
              1,
              "#f0f921"
             ]
            ],
            "type": "heatmap"
           }
          ],
          "heatmapgl": [
           {
            "colorbar": {
             "outlinewidth": 0,
             "ticks": ""
            },
            "colorscale": [
             [
              0,
              "#0d0887"
             ],
             [
              0.1111111111111111,
              "#46039f"
             ],
             [
              0.2222222222222222,
              "#7201a8"
             ],
             [
              0.3333333333333333,
              "#9c179e"
             ],
             [
              0.4444444444444444,
              "#bd3786"
             ],
             [
              0.5555555555555556,
              "#d8576b"
             ],
             [
              0.6666666666666666,
              "#ed7953"
             ],
             [
              0.7777777777777778,
              "#fb9f3a"
             ],
             [
              0.8888888888888888,
              "#fdca26"
             ],
             [
              1,
              "#f0f921"
             ]
            ],
            "type": "heatmapgl"
           }
          ],
          "histogram": [
           {
            "marker": {
             "pattern": {
              "fillmode": "overlay",
              "size": 10,
              "solidity": 0.2
             }
            },
            "type": "histogram"
           }
          ],
          "histogram2d": [
           {
            "colorbar": {
             "outlinewidth": 0,
             "ticks": ""
            },
            "colorscale": [
             [
              0,
              "#0d0887"
             ],
             [
              0.1111111111111111,
              "#46039f"
             ],
             [
              0.2222222222222222,
              "#7201a8"
             ],
             [
              0.3333333333333333,
              "#9c179e"
             ],
             [
              0.4444444444444444,
              "#bd3786"
             ],
             [
              0.5555555555555556,
              "#d8576b"
             ],
             [
              0.6666666666666666,
              "#ed7953"
             ],
             [
              0.7777777777777778,
              "#fb9f3a"
             ],
             [
              0.8888888888888888,
              "#fdca26"
             ],
             [
              1,
              "#f0f921"
             ]
            ],
            "type": "histogram2d"
           }
          ],
          "histogram2dcontour": [
           {
            "colorbar": {
             "outlinewidth": 0,
             "ticks": ""
            },
            "colorscale": [
             [
              0,
              "#0d0887"
             ],
             [
              0.1111111111111111,
              "#46039f"
             ],
             [
              0.2222222222222222,
              "#7201a8"
             ],
             [
              0.3333333333333333,
              "#9c179e"
             ],
             [
              0.4444444444444444,
              "#bd3786"
             ],
             [
              0.5555555555555556,
              "#d8576b"
             ],
             [
              0.6666666666666666,
              "#ed7953"
             ],
             [
              0.7777777777777778,
              "#fb9f3a"
             ],
             [
              0.8888888888888888,
              "#fdca26"
             ],
             [
              1,
              "#f0f921"
             ]
            ],
            "type": "histogram2dcontour"
           }
          ],
          "mesh3d": [
           {
            "colorbar": {
             "outlinewidth": 0,
             "ticks": ""
            },
            "type": "mesh3d"
           }
          ],
          "parcoords": [
           {
            "line": {
             "colorbar": {
              "outlinewidth": 0,
              "ticks": ""
             }
            },
            "type": "parcoords"
           }
          ],
          "pie": [
           {
            "automargin": true,
            "type": "pie"
           }
          ],
          "scatter": [
           {
            "fillpattern": {
             "fillmode": "overlay",
             "size": 10,
             "solidity": 0.2
            },
            "type": "scatter"
           }
          ],
          "scatter3d": [
           {
            "line": {
             "colorbar": {
              "outlinewidth": 0,
              "ticks": ""
             }
            },
            "marker": {
             "colorbar": {
              "outlinewidth": 0,
              "ticks": ""
             }
            },
            "type": "scatter3d"
           }
          ],
          "scattercarpet": [
           {
            "marker": {
             "colorbar": {
              "outlinewidth": 0,
              "ticks": ""
             }
            },
            "type": "scattercarpet"
           }
          ],
          "scattergeo": [
           {
            "marker": {
             "colorbar": {
              "outlinewidth": 0,
              "ticks": ""
             }
            },
            "type": "scattergeo"
           }
          ],
          "scattergl": [
           {
            "marker": {
             "colorbar": {
              "outlinewidth": 0,
              "ticks": ""
             }
            },
            "type": "scattergl"
           }
          ],
          "scattermapbox": [
           {
            "marker": {
             "colorbar": {
              "outlinewidth": 0,
              "ticks": ""
             }
            },
            "type": "scattermapbox"
           }
          ],
          "scatterpolar": [
           {
            "marker": {
             "colorbar": {
              "outlinewidth": 0,
              "ticks": ""
             }
            },
            "type": "scatterpolar"
           }
          ],
          "scatterpolargl": [
           {
            "marker": {
             "colorbar": {
              "outlinewidth": 0,
              "ticks": ""
             }
            },
            "type": "scatterpolargl"
           }
          ],
          "scatterternary": [
           {
            "marker": {
             "colorbar": {
              "outlinewidth": 0,
              "ticks": ""
             }
            },
            "type": "scatterternary"
           }
          ],
          "surface": [
           {
            "colorbar": {
             "outlinewidth": 0,
             "ticks": ""
            },
            "colorscale": [
             [
              0,
              "#0d0887"
             ],
             [
              0.1111111111111111,
              "#46039f"
             ],
             [
              0.2222222222222222,
              "#7201a8"
             ],
             [
              0.3333333333333333,
              "#9c179e"
             ],
             [
              0.4444444444444444,
              "#bd3786"
             ],
             [
              0.5555555555555556,
              "#d8576b"
             ],
             [
              0.6666666666666666,
              "#ed7953"
             ],
             [
              0.7777777777777778,
              "#fb9f3a"
             ],
             [
              0.8888888888888888,
              "#fdca26"
             ],
             [
              1,
              "#f0f921"
             ]
            ],
            "type": "surface"
           }
          ],
          "table": [
           {
            "cells": {
             "fill": {
              "color": "#EBF0F8"
             },
             "line": {
              "color": "white"
             }
            },
            "header": {
             "fill": {
              "color": "#C8D4E3"
             },
             "line": {
              "color": "white"
             }
            },
            "type": "table"
           }
          ]
         },
         "layout": {
          "annotationdefaults": {
           "arrowcolor": "#2a3f5f",
           "arrowhead": 0,
           "arrowwidth": 1
          },
          "autotypenumbers": "strict",
          "coloraxis": {
           "colorbar": {
            "outlinewidth": 0,
            "ticks": ""
           }
          },
          "colorscale": {
           "diverging": [
            [
             0,
             "#8e0152"
            ],
            [
             0.1,
             "#c51b7d"
            ],
            [
             0.2,
             "#de77ae"
            ],
            [
             0.3,
             "#f1b6da"
            ],
            [
             0.4,
             "#fde0ef"
            ],
            [
             0.5,
             "#f7f7f7"
            ],
            [
             0.6,
             "#e6f5d0"
            ],
            [
             0.7,
             "#b8e186"
            ],
            [
             0.8,
             "#7fbc41"
            ],
            [
             0.9,
             "#4d9221"
            ],
            [
             1,
             "#276419"
            ]
           ],
           "sequential": [
            [
             0,
             "#0d0887"
            ],
            [
             0.1111111111111111,
             "#46039f"
            ],
            [
             0.2222222222222222,
             "#7201a8"
            ],
            [
             0.3333333333333333,
             "#9c179e"
            ],
            [
             0.4444444444444444,
             "#bd3786"
            ],
            [
             0.5555555555555556,
             "#d8576b"
            ],
            [
             0.6666666666666666,
             "#ed7953"
            ],
            [
             0.7777777777777778,
             "#fb9f3a"
            ],
            [
             0.8888888888888888,
             "#fdca26"
            ],
            [
             1,
             "#f0f921"
            ]
           ],
           "sequentialminus": [
            [
             0,
             "#0d0887"
            ],
            [
             0.1111111111111111,
             "#46039f"
            ],
            [
             0.2222222222222222,
             "#7201a8"
            ],
            [
             0.3333333333333333,
             "#9c179e"
            ],
            [
             0.4444444444444444,
             "#bd3786"
            ],
            [
             0.5555555555555556,
             "#d8576b"
            ],
            [
             0.6666666666666666,
             "#ed7953"
            ],
            [
             0.7777777777777778,
             "#fb9f3a"
            ],
            [
             0.8888888888888888,
             "#fdca26"
            ],
            [
             1,
             "#f0f921"
            ]
           ]
          },
          "colorway": [
           "#636efa",
           "#EF553B",
           "#00cc96",
           "#ab63fa",
           "#FFA15A",
           "#19d3f3",
           "#FF6692",
           "#B6E880",
           "#FF97FF",
           "#FECB52"
          ],
          "font": {
           "color": "#2a3f5f"
          },
          "geo": {
           "bgcolor": "white",
           "lakecolor": "white",
           "landcolor": "#E5ECF6",
           "showlakes": true,
           "showland": true,
           "subunitcolor": "white"
          },
          "hoverlabel": {
           "align": "left"
          },
          "hovermode": "closest",
          "mapbox": {
           "style": "light"
          },
          "paper_bgcolor": "white",
          "plot_bgcolor": "#E5ECF6",
          "polar": {
           "angularaxis": {
            "gridcolor": "white",
            "linecolor": "white",
            "ticks": ""
           },
           "bgcolor": "#E5ECF6",
           "radialaxis": {
            "gridcolor": "white",
            "linecolor": "white",
            "ticks": ""
           }
          },
          "scene": {
           "xaxis": {
            "backgroundcolor": "#E5ECF6",
            "gridcolor": "white",
            "gridwidth": 2,
            "linecolor": "white",
            "showbackground": true,
            "ticks": "",
            "zerolinecolor": "white"
           },
           "yaxis": {
            "backgroundcolor": "#E5ECF6",
            "gridcolor": "white",
            "gridwidth": 2,
            "linecolor": "white",
            "showbackground": true,
            "ticks": "",
            "zerolinecolor": "white"
           },
           "zaxis": {
            "backgroundcolor": "#E5ECF6",
            "gridcolor": "white",
            "gridwidth": 2,
            "linecolor": "white",
            "showbackground": true,
            "ticks": "",
            "zerolinecolor": "white"
           }
          },
          "shapedefaults": {
           "line": {
            "color": "#2a3f5f"
           }
          },
          "ternary": {
           "aaxis": {
            "gridcolor": "white",
            "linecolor": "white",
            "ticks": ""
           },
           "baxis": {
            "gridcolor": "white",
            "linecolor": "white",
            "ticks": ""
           },
           "bgcolor": "#E5ECF6",
           "caxis": {
            "gridcolor": "white",
            "linecolor": "white",
            "ticks": ""
           }
          },
          "title": {
           "x": 0.05
          },
          "xaxis": {
           "automargin": true,
           "gridcolor": "white",
           "linecolor": "white",
           "ticks": "",
           "title": {
            "standoff": 15
           },
           "zerolinecolor": "white",
           "zerolinewidth": 2
          },
          "yaxis": {
           "automargin": true,
           "gridcolor": "white",
           "linecolor": "white",
           "ticks": "",
           "title": {
            "standoff": 15
           },
           "zerolinecolor": "white",
           "zerolinewidth": 2
          }
         }
        },
        "title": {
         "text": "Perfomance da Corrida Através do Box Plot"
        },
        "xaxis": {
         "anchor": "y",
         "domain": [
          0,
          1
         ],
         "ticktext": [
          ""
         ],
         "tickvals": [
          0
         ],
         "title": {
          "text": "x"
         }
        },
        "yaxis": {
         "anchor": "x",
         "domain": [
          0,
          1
         ],
         "title": {
          "text": "Pace_Final"
         }
        }
       }
      }
     },
     "metadata": {},
     "output_type": "display_data"
    }
   ],
   "source": [
    "import plotly.graph_objects as go\n",
    "dados_corrida_so_quem_completou = dados_corrida.dropna(subset=\"Pace_Final\")\n",
    "\n",
    "\n",
    "\n",
    "fig = px.box(\n",
    "    dados_corrida_so_quem_completou,\n",
    "    x = [0]*958, #Multipliquei aqui somente para termos um eixo x e eu conseguir fazer um scatter do meu pace\n",
    "    y='Pace_Final',\n",
    "    title = 'Perfomance da Corrida Através do Box Plot'\n",
    "    \n",
    ")\n",
    "\n",
    "fig.add_trace(\n",
    "    go.Scatter( \n",
    "        x=[0],\n",
    "        y=[meu_pace],\n",
    "        mode='markers',\n",
    "        marker=dict(color='black', size=8),\n",
    "        name='Meu Tempo'\n",
    "    )\n",
    ")\n",
    "\n",
    "fig.update_layout(\n",
    "    xaxis=dict(\n",
    "        tickvals=[0],\n",
    "        ticktext=['']\n",
    "    )\n",
    ")\n",
    "\n",
    "\n",
    "\n",
    "fig.show()"
   ]
  },
  {
   "cell_type": "markdown",
   "metadata": {},
   "source": [
    "![Gráfico Plotly](Perfomance_de_Corrida_Geral.png)"
   ]
  },
  {
   "cell_type": "markdown",
   "metadata": {},
   "source": [
    "* Como podemos ver, eu fiquei proximo da mediana, lembrando que quanto mais baixo o pace, melhor a perfomance. \n",
    "* O primeiro colocado foi um outlier e tanto. 3,15 de Pace é um número muito bom, até porque o segundo colocado foi 3,37.\n",
    "* Tivemos vários candidatos a outlier ruins que são representados pelos pontos acima do bigode superior. "
   ]
  },
  {
   "cell_type": "code",
   "execution_count": 25,
   "metadata": {},
   "outputs": [
    {
     "data": {
      "text/html": [
       "<div>\n",
       "<style scoped>\n",
       "    .dataframe tbody tr th:only-of-type {\n",
       "        vertical-align: middle;\n",
       "    }\n",
       "\n",
       "    .dataframe tbody tr th {\n",
       "        vertical-align: top;\n",
       "    }\n",
       "\n",
       "    .dataframe thead th {\n",
       "        text-align: right;\n",
       "    }\n",
       "</style>\n",
       "<table border=\"1\" class=\"dataframe\">\n",
       "  <thead>\n",
       "    <tr style=\"text-align: right;\">\n",
       "      <th></th>\n",
       "      <th>Num</th>\n",
       "      <th>Por Categoria</th>\n",
       "      <th>PC</th>\n",
       "      <th>Tempo</th>\n",
       "      <th>Vel.Média</th>\n",
       "      <th>Sprint_Final</th>\n",
       "      <th>Pace_Final</th>\n",
       "    </tr>\n",
       "  </thead>\n",
       "  <tbody>\n",
       "    <tr>\n",
       "      <th>count</th>\n",
       "      <td>958.000000</td>\n",
       "      <td>957.000000</td>\n",
       "      <td>946</td>\n",
       "      <td>958</td>\n",
       "      <td>958.000000</td>\n",
       "      <td>946</td>\n",
       "      <td>958.000000</td>\n",
       "    </tr>\n",
       "    <tr>\n",
       "      <th>mean</th>\n",
       "      <td>5280.797495</td>\n",
       "      <td>30.218391</td>\n",
       "      <td>1900-01-01 00:53:35.749111808</td>\n",
       "      <td>1900-01-01 00:58:35.900146176</td>\n",
       "      <td>10.590021</td>\n",
       "      <td>0 days 00:04:51.116183932</td>\n",
       "      <td>5.858980</td>\n",
       "    </tr>\n",
       "    <tr>\n",
       "      <th>min</th>\n",
       "      <td>1.000000</td>\n",
       "      <td>1.000000</td>\n",
       "      <td>1900-01-01 00:28:04.650000</td>\n",
       "      <td>1900-01-01 00:31:36.430000</td>\n",
       "      <td>5.430000</td>\n",
       "      <td>-1 days +23:53:44.970000</td>\n",
       "      <td>3.159558</td>\n",
       "    </tr>\n",
       "    <tr>\n",
       "      <th>25%</th>\n",
       "      <td>288.250000</td>\n",
       "      <td>10.000000</td>\n",
       "      <td>1900-01-01 00:45:50.557500160</td>\n",
       "      <td>1900-01-01 00:51:29.364999936</td>\n",
       "      <td>9.280000</td>\n",
       "      <td>0 days 00:04:40.397500</td>\n",
       "      <td>5.150215</td>\n",
       "    </tr>\n",
       "    <tr>\n",
       "      <th>50%</th>\n",
       "      <td>821.000000</td>\n",
       "      <td>24.000000</td>\n",
       "      <td>1900-01-01 00:50:49.044999936</td>\n",
       "      <td>1900-01-01 00:56:53.049999872</td>\n",
       "      <td>10.550000</td>\n",
       "      <td>0 days 00:05:41.125000</td>\n",
       "      <td>5.687204</td>\n",
       "    </tr>\n",
       "    <tr>\n",
       "      <th>75%</th>\n",
       "      <td>10533.250000</td>\n",
       "      <td>45.000000</td>\n",
       "      <td>1900-01-01 01:04:52.869999872</td>\n",
       "      <td>1900-01-01 01:04:38.627500032</td>\n",
       "      <td>11.650000</td>\n",
       "      <td>0 days 00:06:24.520000</td>\n",
       "      <td>6.465517</td>\n",
       "    </tr>\n",
       "    <tr>\n",
       "      <th>max</th>\n",
       "      <td>10918.000000</td>\n",
       "      <td>110.000000</td>\n",
       "      <td>1900-01-01 01:36:45.280000</td>\n",
       "      <td>1900-01-01 01:50:33.340000</td>\n",
       "      <td>18.990000</td>\n",
       "      <td>0 days 00:17:02.570000</td>\n",
       "      <td>11.049724</td>\n",
       "    </tr>\n",
       "    <tr>\n",
       "      <th>std</th>\n",
       "      <td>5094.388053</td>\n",
       "      <td>24.862790</td>\n",
       "      <td>NaN</td>\n",
       "      <td>NaN</td>\n",
       "      <td>1.931527</td>\n",
       "      <td>0 days 00:03:12.040572497</td>\n",
       "      <td>1.104452</td>\n",
       "    </tr>\n",
       "  </tbody>\n",
       "</table>\n",
       "</div>"
      ],
      "text/plain": [
       "                Num  Por Categoria                             PC  \\\n",
       "count    958.000000     957.000000                            946   \n",
       "mean    5280.797495      30.218391  1900-01-01 00:53:35.749111808   \n",
       "min        1.000000       1.000000     1900-01-01 00:28:04.650000   \n",
       "25%      288.250000      10.000000  1900-01-01 00:45:50.557500160   \n",
       "50%      821.000000      24.000000  1900-01-01 00:50:49.044999936   \n",
       "75%    10533.250000      45.000000  1900-01-01 01:04:52.869999872   \n",
       "max    10918.000000     110.000000     1900-01-01 01:36:45.280000   \n",
       "std     5094.388053      24.862790                            NaN   \n",
       "\n",
       "                               Tempo   Vel.Média               Sprint_Final  \\\n",
       "count                            958  958.000000                        946   \n",
       "mean   1900-01-01 00:58:35.900146176   10.590021  0 days 00:04:51.116183932   \n",
       "min       1900-01-01 00:31:36.430000    5.430000   -1 days +23:53:44.970000   \n",
       "25%    1900-01-01 00:51:29.364999936    9.280000     0 days 00:04:40.397500   \n",
       "50%    1900-01-01 00:56:53.049999872   10.550000     0 days 00:05:41.125000   \n",
       "75%    1900-01-01 01:04:38.627500032   11.650000     0 days 00:06:24.520000   \n",
       "max       1900-01-01 01:50:33.340000   18.990000     0 days 00:17:02.570000   \n",
       "std                              NaN    1.931527  0 days 00:03:12.040572497   \n",
       "\n",
       "       Pace_Final  \n",
       "count  958.000000  \n",
       "mean     5.858980  \n",
       "min      3.159558  \n",
       "25%      5.150215  \n",
       "50%      5.687204  \n",
       "75%      6.465517  \n",
       "max     11.049724  \n",
       "std      1.104452  "
      ]
     },
     "execution_count": 25,
     "metadata": {},
     "output_type": "execute_result"
    }
   ],
   "source": [
    "dados_corrida_so_quem_completou.describe()"
   ]
  },
  {
   "cell_type": "markdown",
   "metadata": {},
   "source": [
    "### Desempenho em Relação ao Sexo"
   ]
  },
  {
   "cell_type": "code",
   "execution_count": 26,
   "metadata": {},
   "outputs": [
    {
     "data": {
      "application/vnd.plotly.v1+json": {
       "config": {
        "plotlyServerURL": "https://plot.ly"
       },
       "data": [
        {
         "alignmentgroup": "True",
         "hovertemplate": "Sx=%{x}<br>Pace_Final=%{y}<extra></extra>",
         "legendgroup": "Masculino",
         "marker": {
          "color": "#636efa"
         },
         "name": "Masculino",
         "notched": false,
         "offsetgroup": "Masculino",
         "orientation": "v",
         "showlegend": true,
         "type": "box",
         "x": [
          "Masculino",
          "Masculino",
          "Masculino",
          "Masculino",
          "Masculino",
          "Masculino",
          "Masculino",
          "Masculino",
          "Masculino",
          "Masculino",
          "Masculino",
          "Masculino",
          "Masculino",
          "Masculino",
          "Masculino",
          "Masculino",
          "Masculino",
          "Masculino",
          "Masculino",
          "Masculino",
          "Masculino",
          "Masculino",
          "Masculino",
          "Masculino",
          "Masculino",
          "Masculino",
          "Masculino",
          "Masculino",
          "Masculino",
          "Masculino",
          "Masculino",
          "Masculino",
          "Masculino",
          "Masculino",
          "Masculino",
          "Masculino",
          "Masculino",
          "Masculino",
          "Masculino",
          "Masculino",
          "Masculino",
          "Masculino",
          "Masculino",
          "Masculino",
          "Masculino",
          "Masculino",
          "Masculino",
          "Masculino",
          "Masculino",
          "Masculino",
          "Masculino",
          "Masculino",
          "Masculino",
          "Masculino",
          "Masculino",
          "Masculino",
          "Masculino",
          "Masculino",
          "Masculino",
          "Masculino",
          "Masculino",
          "Masculino",
          "Masculino",
          "Masculino",
          "Masculino",
          "Masculino",
          "Masculino",
          "Masculino",
          "Masculino",
          "Masculino",
          "Masculino",
          "Masculino",
          "Masculino",
          "Masculino",
          "Masculino",
          "Masculino",
          "Masculino",
          "Masculino",
          "Masculino",
          "Masculino",
          "Masculino",
          "Masculino",
          "Masculino",
          "Masculino",
          "Masculino",
          "Masculino",
          "Masculino",
          "Masculino",
          "Masculino",
          "Masculino",
          "Masculino",
          "Masculino",
          "Masculino",
          "Masculino",
          "Masculino",
          "Masculino",
          "Masculino",
          "Masculino",
          "Masculino",
          "Masculino",
          "Masculino",
          "Masculino",
          "Masculino",
          "Masculino",
          "Masculino",
          "Masculino",
          "Masculino",
          "Masculino",
          "Masculino",
          "Masculino",
          "Masculino",
          "Masculino",
          "Masculino",
          "Masculino",
          "Masculino",
          "Masculino",
          "Masculino",
          "Masculino",
          "Masculino",
          "Masculino",
          "Masculino",
          "Masculino",
          "Masculino",
          "Masculino",
          "Masculino",
          "Masculino",
          "Masculino",
          "Masculino",
          "Masculino",
          "Masculino",
          "Masculino",
          "Masculino",
          "Masculino",
          "Masculino",
          "Masculino",
          "Masculino",
          "Masculino",
          "Masculino",
          "Masculino",
          "Masculino",
          "Masculino",
          "Masculino",
          "Masculino",
          "Masculino",
          "Masculino",
          "Masculino",
          "Masculino",
          "Masculino",
          "Masculino",
          "Masculino",
          "Masculino",
          "Masculino",
          "Masculino",
          "Masculino",
          "Masculino",
          "Masculino",
          "Masculino",
          "Masculino",
          "Masculino",
          "Masculino",
          "Masculino",
          "Masculino",
          "Masculino",
          "Masculino",
          "Masculino",
          "Masculino",
          "Masculino",
          "Masculino",
          "Masculino",
          "Masculino",
          "Masculino",
          "Masculino",
          "Masculino",
          "Masculino",
          "Masculino",
          "Masculino",
          "Masculino",
          "Masculino",
          "Masculino",
          "Masculino",
          "Masculino",
          "Masculino",
          "Masculino",
          "Masculino",
          "Masculino",
          "Masculino",
          "Masculino",
          "Masculino",
          "Masculino",
          "Masculino",
          "Masculino",
          "Masculino",
          "Masculino",
          "Masculino",
          "Masculino",
          "Masculino",
          "Masculino",
          "Masculino",
          "Masculino",
          "Masculino",
          "Masculino",
          "Masculino",
          "Masculino",
          "Masculino",
          "Masculino",
          "Masculino",
          "Masculino",
          "Masculino",
          "Masculino",
          "Masculino",
          "Masculino",
          "Masculino",
          "Masculino",
          "Masculino",
          "Masculino",
          "Masculino",
          "Masculino",
          "Masculino",
          "Masculino",
          "Masculino",
          "Masculino",
          "Masculino",
          "Masculino",
          "Masculino",
          "Masculino",
          "Masculino",
          "Masculino",
          "Masculino",
          "Masculino",
          "Masculino",
          "Masculino",
          "Masculino",
          "Masculino",
          "Masculino",
          "Masculino",
          "Masculino",
          "Masculino",
          "Masculino",
          "Masculino",
          "Masculino",
          "Masculino",
          "Masculino",
          "Masculino",
          "Masculino",
          "Masculino",
          "Masculino",
          "Masculino",
          "Masculino",
          "Masculino",
          "Masculino",
          "Masculino",
          "Masculino",
          "Masculino",
          "Masculino",
          "Masculino",
          "Masculino",
          "Masculino",
          "Masculino",
          "Masculino",
          "Masculino",
          "Masculino",
          "Masculino",
          "Masculino",
          "Masculino",
          "Masculino",
          "Masculino",
          "Masculino",
          "Masculino",
          "Masculino",
          "Masculino",
          "Masculino",
          "Masculino",
          "Masculino",
          "Masculino",
          "Masculino",
          "Masculino",
          "Masculino",
          "Masculino",
          "Masculino",
          "Masculino",
          "Masculino",
          "Masculino",
          "Masculino",
          "Masculino",
          "Masculino",
          "Masculino",
          "Masculino",
          "Masculino",
          "Masculino",
          "Masculino",
          "Masculino",
          "Masculino",
          "Masculino",
          "Masculino",
          "Masculino",
          "Masculino",
          "Masculino",
          "Masculino",
          "Masculino",
          "Masculino",
          "Masculino",
          "Masculino",
          "Masculino",
          "Masculino",
          "Masculino",
          "Masculino",
          "Masculino",
          "Masculino",
          "Masculino",
          "Masculino",
          "Masculino",
          "Masculino",
          "Masculino",
          "Masculino",
          "Masculino",
          "Masculino",
          "Masculino",
          "Masculino",
          "Masculino",
          "Masculino",
          "Masculino",
          "Masculino",
          "Masculino",
          "Masculino",
          "Masculino",
          "Masculino",
          "Masculino",
          "Masculino",
          "Masculino",
          "Masculino",
          "Masculino",
          "Masculino",
          "Masculino",
          "Masculino",
          "Masculino",
          "Masculino",
          "Masculino",
          "Masculino",
          "Masculino",
          "Masculino",
          "Masculino",
          "Masculino",
          "Masculino",
          "Masculino",
          "Masculino",
          "Masculino",
          "Masculino",
          "Masculino",
          "Masculino",
          "Masculino",
          "Masculino",
          "Masculino",
          "Masculino",
          "Masculino",
          "Masculino",
          "Masculino",
          "Masculino",
          "Masculino",
          "Masculino",
          "Masculino",
          "Masculino",
          "Masculino",
          "Masculino",
          "Masculino",
          "Masculino",
          "Masculino",
          "Masculino",
          "Masculino",
          "Masculino",
          "Masculino",
          "Masculino",
          "Masculino",
          "Masculino",
          "Masculino",
          "Masculino",
          "Masculino",
          "Masculino",
          "Masculino",
          "Masculino",
          "Masculino",
          "Masculino",
          "Masculino",
          "Masculino",
          "Masculino",
          "Masculino",
          "Masculino",
          "Masculino",
          "Masculino",
          "Masculino",
          "Masculino",
          "Masculino",
          "Masculino",
          "Masculino",
          "Masculino",
          "Masculino",
          "Masculino",
          "Masculino",
          "Masculino",
          "Masculino",
          "Masculino",
          "Masculino",
          "Masculino",
          "Masculino",
          "Masculino",
          "Masculino",
          "Masculino",
          "Masculino",
          "Masculino",
          "Masculino",
          "Masculino",
          "Masculino",
          "Masculino",
          "Masculino",
          "Masculino",
          "Masculino",
          "Masculino",
          "Masculino",
          "Masculino",
          "Masculino",
          "Masculino",
          "Masculino",
          "Masculino",
          "Masculino",
          "Masculino",
          "Masculino",
          "Masculino",
          "Masculino",
          "Masculino",
          "Masculino",
          "Masculino",
          "Masculino",
          "Masculino",
          "Masculino",
          "Masculino",
          "Masculino",
          "Masculino",
          "Masculino",
          "Masculino",
          "Masculino",
          "Masculino",
          "Masculino",
          "Masculino",
          "Masculino",
          "Masculino",
          "Masculino",
          "Masculino",
          "Masculino",
          "Masculino",
          "Masculino",
          "Masculino",
          "Masculino",
          "Masculino",
          "Masculino",
          "Masculino",
          "Masculino",
          "Masculino",
          "Masculino",
          "Masculino",
          "Masculino",
          "Masculino",
          "Masculino",
          "Masculino",
          "Masculino",
          "Masculino",
          "Masculino",
          "Masculino",
          "Masculino",
          "Masculino",
          "Masculino",
          "Masculino",
          "Masculino",
          "Masculino",
          "Masculino",
          "Masculino",
          "Masculino",
          "Masculino",
          "Masculino",
          "Masculino",
          "Masculino",
          "Masculino",
          "Masculino",
          "Masculino",
          "Masculino",
          "Masculino",
          "Masculino",
          "Masculino",
          "Masculino",
          "Masculino",
          "Masculino",
          "Masculino",
          "Masculino",
          "Masculino",
          "Masculino",
          "Masculino",
          "Masculino",
          "Masculino",
          "Masculino",
          "Masculino",
          "Masculino",
          "Masculino",
          "Masculino",
          "Masculino",
          "Masculino",
          "Masculino",
          "Masculino",
          "Masculino",
          "Masculino",
          "Masculino",
          "Masculino",
          "Masculino",
          "Masculino",
          "Masculino",
          "Masculino",
          "Masculino",
          "Masculino",
          "Masculino",
          "Masculino",
          "Masculino",
          "Masculino",
          "Masculino",
          "Masculino",
          "Masculino",
          "Masculino",
          "Masculino",
          "Masculino",
          "Masculino",
          "Masculino",
          "Masculino",
          "Masculino",
          "Masculino",
          "Masculino",
          "Masculino",
          "Masculino",
          "Masculino",
          "Masculino",
          "Masculino",
          "Masculino",
          "Masculino",
          "Masculino",
          "Masculino",
          "Masculino",
          "Masculino",
          "Masculino",
          "Masculino",
          "Masculino",
          "Masculino",
          "Masculino",
          "Masculino",
          "Masculino",
          "Masculino",
          "Masculino",
          "Masculino",
          "Masculino",
          "Masculino",
          "Masculino",
          "Masculino",
          "Masculino",
          "Masculino",
          "Masculino",
          "Masculino",
          "Masculino",
          "Masculino",
          "Masculino",
          "Masculino",
          "Masculino",
          "Masculino",
          "Masculino",
          "Masculino",
          "Masculino",
          "Masculino",
          "Masculino",
          "Masculino",
          "Masculino",
          "Masculino",
          "Masculino",
          "Masculino",
          "Masculino",
          "Masculino",
          "Masculino",
          "Masculino",
          "Masculino",
          "Masculino",
          "Masculino",
          "Masculino",
          "Masculino",
          "Masculino",
          "Masculino",
          "Masculino",
          "Masculino",
          "Masculino",
          "Masculino",
          "Masculino",
          "Masculino",
          "Masculino",
          "Masculino",
          "Masculino",
          "Masculino",
          "Masculino",
          "Masculino",
          "Masculino",
          "Masculino",
          "Masculino",
          "Masculino",
          "Masculino",
          "Masculino",
          "Masculino",
          "Masculino",
          "Masculino",
          "Masculino",
          "Masculino",
          "Masculino",
          "Masculino",
          "Masculino",
          "Masculino",
          "Masculino",
          "Masculino",
          "Masculino",
          "Masculino",
          "Masculino",
          "Masculino",
          "Masculino",
          "Masculino",
          "Masculino",
          "Masculino",
          "Masculino",
          "Masculino",
          "Masculino",
          "Masculino",
          "Masculino",
          "Masculino",
          "Masculino",
          "Masculino",
          "Masculino",
          "Masculino",
          "Masculino",
          "Masculino",
          "Masculino",
          "Masculino",
          "Masculino",
          "Masculino",
          "Masculino",
          "Masculino",
          "Masculino",
          "Masculino",
          "Masculino",
          "Masculino",
          "Masculino",
          "Masculino",
          "Masculino",
          "Masculino",
          "Masculino",
          "Masculino",
          "Masculino",
          "Masculino",
          "Masculino",
          "Masculino",
          "Masculino",
          "Masculino",
          "Masculino",
          "Masculino",
          "Masculino",
          "Masculino",
          "Masculino",
          "Masculino",
          "Masculino",
          "Masculino",
          "Masculino",
          "Masculino"
         ],
         "x0": " ",
         "xaxis": "x",
         "y": [
          3.1595576619273302,
          3.3707865168539324,
          3.4443168771526977,
          3.4462952326249283,
          3.4502587694077054,
          3.544004725339634,
          3.621001810500905,
          3.621001810500905,
          3.6607687614399023,
          3.6607687614399023,
          3.780718336483932,
          3.7854889589905363,
          3.8095238095238093,
          3.870967741935484,
          3.878474466709761,
          3.8935756002595716,
          3.90625,
          3.9761431411530817,
          3.9787798408488064,
          3.9787798408488064,
          3.9946737683089215,
          4,
          4.008016032064128,
          4.029550033579583,
          4.0733197556008145,
          4.078857919782461,
          4.118050789293068,
          4.123711340206185,
          4.135079255685734,
          4.14651002073255,
          4.14651002073255,
          4.158004158004158,
          4.178272980501393,
          4.195804195804196,
          4.198740377886634,
          4.204625087596356,
          4.240282685512367,
          4.2492917847025495,
          4.2492917847025495,
          4.261363636363637,
          4.264392324093817,
          4.279600570613409,
          4.288777698355968,
          4.288777698355968,
          4.291845493562231,
          4.291845493562231,
          4.297994269340974,
          4.301075268817205,
          4.313443565780014,
          4.319654427645788,
          4.344677769732078,
          4.354136429608128,
          4.363636363636363,
          4.369992716678805,
          4.385964912280702,
          4.389173372348208,
          4.389173372348208,
          4.402054292002934,
          4.405286343612335,
          4.411764705882353,
          4.428044280442804,
          4.428044280442804,
          4.434589800443459,
          4.444444444444445,
          4.451038575667655,
          4.4543429844097995,
          4.4543429844097995,
          4.49438202247191,
          4.497751124437781,
          4.504504504504505,
          4.507888805409467,
          4.511278195488722,
          4.511278195488722,
          4.52147701582517,
          4.524886877828054,
          4.524886877828054,
          4.524886877828054,
          4.524886877828054,
          4.528301886792453,
          4.531722054380665,
          4.531722054380665,
          4.552352048558422,
          4.552352048558422,
          4.562737642585551,
          4.566210045662101,
          4.566210045662101,
          4.580152671755726,
          4.580152671755726,
          4.587155963302752,
          4.597701149425287,
          4.597701149425287,
          4.601226993865031,
          4.604758250191865,
          4.6082949308755765,
          4.622496147919876,
          4.626060138781804,
          4.633204633204634,
          4.640371229698376,
          4.640371229698376,
          4.647560030983733,
          4.662004662004662,
          4.662004662004662,
          4.665629860031104,
          4.669260700389105,
          4.672897196261682,
          4.6801872074882995,
          4.68384074941452,
          4.68384074941452,
          4.68384074941452,
          4.68384074941452,
          4.6875,
          4.6875,
          4.691164972634871,
          4.694835680751174,
          4.698512137823023,
          4.702194357366771,
          4.702194357366771,
          4.7095761381475665,
          4.7095761381475665,
          4.713275726630008,
          4.724409448818898,
          4.724409448818898,
          4.724409448818898,
          4.728132387706856,
          4.728132387706856,
          4.73559589581689,
          4.73559589581689,
          4.743083003952569,
          4.746835443037974,
          4.758128469468676,
          4.765687053216839,
          4.765687053216839,
          4.77326968973747,
          4.77326968973747,
          4.77326968973747,
          4.777070063694267,
          4.803843074459568,
          4.803843074459568,
          4.803843074459568,
          4.815409309791332,
          4.815409309791332,
          4.815409309791332,
          4.819277108433735,
          4.823151125401929,
          4.823151125401929,
          4.823151125401929,
          4.823151125401929,
          4.8270313757039425,
          4.830917874396135,
          4.8348106365834,
          4.8348106365834,
          4.842615012106537,
          4.846526655896607,
          4.846526655896607,
          4.8543689320388355,
          4.858299595141701,
          4.862236628849271,
          4.87012987012987,
          4.8740861088545895,
          4.8740861088545895,
          4.878048780487805,
          4.882017900732303,
          4.88599348534202,
          4.88599348534202,
          4.88599348534202,
          4.893964110929853,
          4.905968928863451,
          4.918032786885246,
          4.9220672682526665,
          4.930156121610517,
          4.938271604938271,
          4.938271604938271,
          4.938271604938271,
          4.938271604938271,
          4.9464138499587795,
          4.9464138499587795,
          4.9464138499587795,
          4.9464138499587795,
          4.958677685950414,
          4.962779156327543,
          4.971002485501242,
          4.987531172069826,
          4.9916805324459235,
          5.004170141784821,
          5.004170141784821,
          5.016722408026755,
          5.020920502092051,
          5.020920502092051,
          5.029337803855825,
          5.029337803855825,
          5.029337803855825,
          5.037783375314861,
          5.037783375314861,
          5.037783375314861,
          5.046257359125315,
          5.05050505050505,
          5.054759898904802,
          5.059021922428331,
          5.059021922428331,
          5.059021922428331,
          5.0675675675675675,
          5.07185122569738,
          5.0761421319796955,
          5.080440304826418,
          5.080440304826418,
          5.089058524173028,
          5.1020408163265305,
          5.1020408163265305,
          5.1063829787234045,
          5.1063829787234045,
          5.110732538330494,
          5.1194539249146755,
          5.1194539249146755,
          5.1194539249146755,
          5.123825789923142,
          5.128205128205129,
          5.128205128205129,
          5.132591958939265,
          5.132591958939265,
          5.136986301369864,
          5.136986301369864,
          5.141388174807198,
          5.145797598627787,
          5.150214592274678,
          5.150214592274678,
          5.150214592274678,
          5.150214592274678,
          5.150214592274678,
          5.150214592274678,
          5.150214592274678,
          5.154639175257731,
          5.159071367153912,
          5.163511187607574,
          5.167958656330749,
          5.167958656330749,
          5.167958656330749,
          5.172413793103448,
          5.176876617773943,
          5.181347150259067,
          5.181347150259067,
          5.190311418685121,
          5.190311418685121,
          5.194805194805195,
          5.199306759098787,
          5.199306759098787,
          5.203816131830009,
          5.203816131830009,
          5.208333333333334,
          5.208333333333334,
          5.2264808362369335,
          5.2264808362369335,
          5.2264808362369335,
          5.2264808362369335,
          5.231037489102005,
          5.231037489102005,
          5.2356020942408374,
          5.240174672489084,
          5.244755244755245,
          5.244755244755245,
          5.244755244755245,
          5.244755244755245,
          5.253940455341506,
          5.25854513584575,
          5.267778753292362,
          5.267778753292362,
          5.267778753292362,
          5.267778753292362,
          5.277044854881267,
          5.277044854881267,
          5.277044854881267,
          5.277044854881267,
          5.281690140845071,
          5.286343612334802,
          5.291005291005291,
          5.29567519858782,
          5.300353356890459,
          5.300353356890459,
          5.305039787798409,
          5.305039787798409,
          5.309734513274336,
          5.314437555358725,
          5.314437555358725,
          5.314437555358725,
          5.319148936170213,
          5.319148936170213,
          5.323868677905945,
          5.328596802841918,
          5.328596802841918,
          5.328596802841918,
          5.328596802841918,
          5.333333333333333,
          5.338078291814947,
          5.342831700801424,
          5.342831700801424,
          5.357142857142858,
          5.357142857142858,
          5.357142857142858,
          5.361930294906166,
          5.366726296958856,
          5.366726296958856,
          5.371530886302597,
          5.371530886302597,
          5.371530886302597,
          5.376344086021505,
          5.376344086021505,
          5.376344086021505,
          5.376344086021505,
          5.376344086021505,
          5.381165919282511,
          5.381165919282511,
          5.381165919282511,
          5.390835579514825,
          5.390835579514825,
          5.390835579514825,
          5.39568345323741,
          5.39568345323741,
          5.4005400540054005,
          5.405405405405405,
          5.405405405405405,
          5.410279531109107,
          5.410279531109107,
          5.415162454873646,
          5.415162454873646,
          5.420054200542006,
          5.420054200542006,
          5.420054200542006,
          5.420054200542006,
          5.424954792043399,
          5.4298642533936645,
          5.4298642533936645,
          5.4298642533936645,
          5.434782608695652,
          5.434782608695652,
          5.43970988213962,
          5.454545454545454,
          5.454545454545454,
          5.454545454545454,
          5.45950864422202,
          5.46448087431694,
          5.46448087431694,
          5.474452554744525,
          5.474452554744525,
          5.479452054794521,
          5.484460694698355,
          5.484460694698355,
          5.484460694698355,
          5.484460694698355,
          5.489478499542543,
          5.489478499542543,
          5.499541704857928,
          5.499541704857928,
          5.504587155963303,
          5.509641873278237,
          5.514705882352941,
          5.519779208831647,
          5.524861878453039,
          5.535055350553505,
          5.535055350553505,
          5.535055350553505,
          5.535055350553505,
          5.54016620498615,
          5.54016620498615,
          5.545286506469501,
          5.545286506469501,
          5.550416281221091,
          5.555555555555555,
          5.565862708719852,
          5.565862708719852,
          5.5762081784386615,
          5.5762081784386615,
          5.5762081784386615,
          5.58659217877095,
          5.58659217877095,
          5.58659217877095,
          5.58659217877095,
          5.597014925373134,
          5.597014925373134,
          5.597014925373134,
          5.597014925373134,
          5.597014925373134,
          5.607476635514019,
          5.607476635514019,
          5.617977528089888,
          5.623242736644799,
          5.628517823639775,
          5.628517823639775,
          5.628517823639775,
          5.633802816901408,
          5.639097744360902,
          5.639097744360902,
          5.639097744360902,
          5.639097744360902,
          5.639097744360902,
          5.644402634054562,
          5.655042412818096,
          5.655042412818096,
          5.660377358490567,
          5.660377358490567,
          5.665722379603399,
          5.671077504725898,
          5.671077504725898,
          5.676442762535477,
          5.6872037914691935,
          5.6872037914691935,
          5.692599620493359,
          5.692599620493359,
          5.692599620493359,
          5.692599620493359,
          5.692599620493359,
          5.692599620493359,
          5.692599620493359,
          5.692599620493359,
          5.7034220532319395,
          5.7034220532319395,
          5.7034220532319395,
          5.714285714285714,
          5.714285714285714,
          5.719733079122975,
          5.719733079122975,
          5.7251908396946565,
          5.7251908396946565,
          5.730659025787965,
          5.736137667304015,
          5.74712643678161,
          5.752636625119846,
          5.752636625119846,
          5.752636625119846,
          5.752636625119846,
          5.758157389635317,
          5.7747834456207885,
          5.780346820809248,
          5.785920925747349,
          5.797101449275362,
          5.802707930367505,
          5.802707930367505,
          5.802707930367505,
          5.802707930367505,
          5.802707930367505,
          5.808325266214908,
          5.819592628516004,
          5.825242718446601,
          5.830903790087464,
          5.830903790087464,
          5.836575875486382,
          5.836575875486382,
          5.847953216374269,
          5.847953216374269,
          5.847953216374269,
          5.853658536585366,
          5.859375,
          5.870841487279843,
          5.876591576885406,
          5.882352941176471,
          5.888125613346419,
          5.888125613346419,
          5.893909626719057,
          5.893909626719057,
          5.893909626719057,
          5.905511811023622,
          5.905511811023622,
          5.905511811023622,
          5.9171597633136095,
          5.9171597633136095,
          5.9171597633136095,
          5.9171597633136095,
          5.9171597633136095,
          5.9171597633136095,
          5.9171597633136095,
          5.9171597633136095,
          5.923000987166831,
          5.923000987166831,
          5.934718100890208,
          5.9523809523809526,
          5.964214711729622,
          5.964214711729622,
          5.976095617529881,
          5.982053838484546,
          5.9880239520958085,
          6.018054162487462,
          6.018054162487462,
          6.024096385542168,
          6.030150753768845,
          6.036217303822938,
          6.0606060606060606,
          6.0606060606060606,
          6.0606060606060606,
          6.0606060606060606,
          6.072874493927125,
          6.072874493927125,
          6.079027355623101,
          6.079027355623101,
          6.079027355623101,
          6.079027355623101,
          6.079027355623101,
          6.097560975609756,
          6.109979633401222,
          6.109979633401222,
          6.116207951070336,
          6.116207951070336,
          6.116207951070336,
          6.122448979591836,
          6.134969325153374,
          6.141248720573183,
          6.141248720573183,
          6.153846153846154,
          6.153846153846154,
          6.153846153846154,
          6.160164271047228,
          6.160164271047228,
          6.160164271047228,
          6.160164271047228,
          6.172839506172839,
          6.179196704428424,
          6.185567010309279,
          6.185567010309279,
          6.191950464396285,
          6.198347107438017,
          6.211180124223603,
          6.224066390041493,
          6.230529595015576,
          6.237006237006238,
          6.25,
          6.25,
          6.256517205422315,
          6.263048016701461,
          6.269592476489028,
          6.269592476489028,
          6.269592476489028,
          6.2761506276150625,
          6.2761506276150625,
          6.282722513089005,
          6.282722513089005,
          6.282722513089005,
          6.289308176100629,
          6.295907660020987,
          6.295907660020987,
          6.302521008403362,
          6.309148264984227,
          6.309148264984227,
          6.309148264984227,
          6.315789473684211,
          6.315789473684211,
          6.329113924050633,
          6.335797254487856,
          6.34920634920635,
          6.3559322033898304,
          6.3559322033898304,
          6.3559322033898304,
          6.3559322033898304,
          6.362672322375398,
          6.382978723404255,
          6.382978723404255,
          6.3965884861407245,
          6.3965884861407245,
          6.3965884861407245,
          6.4034151547492,
          6.410256410256411,
          6.4171122994652405,
          6.430868167202572,
          6.430868167202572,
          6.451612903225806,
          6.4655172413793105,
          6.500541711809317,
          6.507592190889371,
          6.514657980456025,
          6.5359477124183005,
          6.543075245365322,
          6.543075245365322,
          6.557377049180328,
          6.557377049180328,
          6.571741511500547,
          6.593406593406594,
          6.607929515418502,
          6.615214994487321,
          6.615214994487321,
          6.6298342541436455,
          6.6298342541436455,
          6.651884700665189,
          6.659267480577137,
          6.674082313681868,
          6.681514476614699,
          6.68896321070234,
          6.68896321070234,
          6.703910614525141,
          6.7114093959731544,
          6.71892497200448,
          6.749156355455567,
          6.764374295377678,
          6.795016987542469,
          6.795016987542469,
          6.8181818181818175,
          6.825938566552901,
          6.825938566552901,
          6.825938566552901,
          6.825938566552901,
          6.83371298405467,
          6.83371298405467,
          6.83371298405467,
          6.857142857142857,
          6.857142857142857,
          6.857142857142857,
          6.8728522336769755,
          6.8728522336769755,
          6.880733944954128,
          6.8965517241379315,
          6.904487917146145,
          6.960556844547565,
          6.968641114982579,
          6.968641114982579,
          6.976744186046512,
          6.993006993006993,
          6.993006993006993,
          7.017543859649122,
          7.0588235294117645,
          7.0588235294117645,
          7.0754716981132075,
          7.0754716981132075,
          7.083825265643447,
          7.109004739336493,
          7.109004739336493,
          7.117437722419929,
          7.13436385255648,
          7.151370679380214,
          7.151370679380214,
          7.168458781362008,
          7.202881152460984,
          7.246376811594203,
          7.255139056831923,
          7.263922518159807,
          7.263922518159807,
          7.2727272727272725,
          7.281553398058252,
          7.3081607795371495,
          7.326007326007327,
          7.334963325183375,
          7.37100737100737,
          7.380073800738007,
          7.407407407407407,
          7.407407407407407,
          7.444168734491314,
          7.5,
          7.509386733416771,
          7.518796992481203,
          7.566204287515763,
          7.633587786259541,
          7.633587786259541,
          7.643312101910828,
          7.751937984496124,
          7.83289817232376,
          7.83289817232376,
          7.8431372549019605,
          7.884362680683311,
          7.9787234042553195,
          7.989347536617843,
          8.04289544235925,
          8.219178082191782,
          8.253094910591471,
          8.310249307479225,
          8.583690987124463,
          8.658008658008658,
          8.784773060029282,
          8.849557522123893,
          8.941877794336811,
          9.30232558139535,
          9.966777408637874,
          9.30232558139535,
          10,
          10.849909584086799
         ],
         "y0": " ",
         "yaxis": "y"
        },
        {
         "alignmentgroup": "True",
         "hovertemplate": "Sx=%{x}<br>Pace_Final=%{y}<extra></extra>",
         "legendgroup": "Feminino",
         "marker": {
          "color": "#EF553B"
         },
         "name": "Feminino",
         "notched": false,
         "offsetgroup": "Feminino",
         "orientation": "v",
         "showlegend": true,
         "type": "box",
         "x": [
          "Feminino",
          "Feminino",
          "Feminino",
          "Feminino",
          "Feminino",
          "Feminino",
          "Feminino",
          "Feminino",
          "Feminino",
          "Feminino",
          "Feminino",
          "Feminino",
          "Feminino",
          "Feminino",
          "Feminino",
          "Feminino",
          "Feminino",
          "Feminino",
          "Feminino",
          "Feminino",
          "Feminino",
          "Feminino",
          "Feminino",
          "Feminino",
          "Feminino",
          "Feminino",
          "Feminino",
          "Feminino",
          "Feminino",
          "Feminino",
          "Feminino",
          "Feminino",
          "Feminino",
          "Feminino",
          "Feminino",
          "Feminino",
          "Feminino",
          "Feminino",
          "Feminino",
          "Feminino",
          "Feminino",
          "Feminino",
          "Feminino",
          "Feminino",
          "Feminino",
          "Feminino",
          "Feminino",
          "Feminino",
          "Feminino",
          "Feminino",
          "Feminino",
          "Feminino",
          "Feminino",
          "Feminino",
          "Feminino",
          "Feminino",
          "Feminino",
          "Feminino",
          "Feminino",
          "Feminino",
          "Feminino",
          "Feminino",
          "Feminino",
          "Feminino",
          "Feminino",
          "Feminino",
          "Feminino",
          "Feminino",
          "Feminino",
          "Feminino",
          "Feminino",
          "Feminino",
          "Feminino",
          "Feminino",
          "Feminino",
          "Feminino",
          "Feminino",
          "Feminino",
          "Feminino",
          "Feminino",
          "Feminino",
          "Feminino",
          "Feminino",
          "Feminino",
          "Feminino",
          "Feminino",
          "Feminino",
          "Feminino",
          "Feminino",
          "Feminino",
          "Feminino",
          "Feminino",
          "Feminino",
          "Feminino",
          "Feminino",
          "Feminino",
          "Feminino",
          "Feminino",
          "Feminino",
          "Feminino",
          "Feminino",
          "Feminino",
          "Feminino",
          "Feminino",
          "Feminino",
          "Feminino",
          "Feminino",
          "Feminino",
          "Feminino",
          "Feminino",
          "Feminino",
          "Feminino",
          "Feminino",
          "Feminino",
          "Feminino",
          "Feminino",
          "Feminino",
          "Feminino",
          "Feminino",
          "Feminino",
          "Feminino",
          "Feminino",
          "Feminino",
          "Feminino",
          "Feminino",
          "Feminino",
          "Feminino",
          "Feminino",
          "Feminino",
          "Feminino",
          "Feminino",
          "Feminino",
          "Feminino",
          "Feminino",
          "Feminino",
          "Feminino",
          "Feminino",
          "Feminino",
          "Feminino",
          "Feminino",
          "Feminino",
          "Feminino",
          "Feminino",
          "Feminino",
          "Feminino",
          "Feminino",
          "Feminino",
          "Feminino",
          "Feminino",
          "Feminino",
          "Feminino",
          "Feminino",
          "Feminino",
          "Feminino",
          "Feminino",
          "Feminino",
          "Feminino",
          "Feminino",
          "Feminino",
          "Feminino",
          "Feminino",
          "Feminino",
          "Feminino",
          "Feminino",
          "Feminino",
          "Feminino",
          "Feminino",
          "Feminino",
          "Feminino",
          "Feminino",
          "Feminino",
          "Feminino",
          "Feminino",
          "Feminino",
          "Feminino",
          "Feminino",
          "Feminino",
          "Feminino",
          "Feminino",
          "Feminino",
          "Feminino",
          "Feminino",
          "Feminino",
          "Feminino",
          "Feminino",
          "Feminino",
          "Feminino",
          "Feminino",
          "Feminino",
          "Feminino",
          "Feminino",
          "Feminino",
          "Feminino",
          "Feminino",
          "Feminino",
          "Feminino",
          "Feminino",
          "Feminino",
          "Feminino",
          "Feminino",
          "Feminino",
          "Feminino",
          "Feminino",
          "Feminino",
          "Feminino",
          "Feminino",
          "Feminino",
          "Feminino",
          "Feminino",
          "Feminino",
          "Feminino",
          "Feminino",
          "Feminino",
          "Feminino",
          "Feminino",
          "Feminino",
          "Feminino",
          "Feminino",
          "Feminino",
          "Feminino",
          "Feminino",
          "Feminino",
          "Feminino",
          "Feminino",
          "Feminino",
          "Feminino",
          "Feminino",
          "Feminino",
          "Feminino",
          "Feminino",
          "Feminino",
          "Feminino",
          "Feminino",
          "Feminino",
          "Feminino",
          "Feminino",
          "Feminino",
          "Feminino",
          "Feminino",
          "Feminino",
          "Feminino",
          "Feminino",
          "Feminino",
          "Feminino",
          "Feminino",
          "Feminino",
          "Feminino",
          "Feminino",
          "Feminino",
          "Feminino",
          "Feminino",
          "Feminino",
          "Feminino",
          "Feminino",
          "Feminino",
          "Feminino",
          "Feminino",
          "Feminino",
          "Feminino",
          "Feminino",
          "Feminino",
          "Feminino",
          "Feminino",
          "Feminino",
          "Feminino",
          "Feminino",
          "Feminino",
          "Feminino",
          "Feminino",
          "Feminino",
          "Feminino",
          "Feminino",
          "Feminino",
          "Feminino",
          "Feminino",
          "Feminino",
          "Feminino",
          "Feminino",
          "Feminino",
          "Feminino",
          "Feminino",
          "Feminino",
          "Feminino",
          "Feminino",
          "Feminino",
          "Feminino",
          "Feminino",
          "Feminino",
          "Feminino",
          "Feminino"
         ],
         "x0": " ",
         "xaxis": "x",
         "y": [
          4.14651002073255,
          4.1928721174004195,
          4.676539360872954,
          4.7095761381475665,
          4.765687053216839,
          4.8076923076923075,
          4.811547714514836,
          4.862236628849271,
          4.9504950495049505,
          4.958677685950414,
          4.9916805324459235,
          5.029337803855825,
          5.1020408163265305,
          5.115089514066496,
          5.123825789923142,
          5.136986301369864,
          5.172413793103448,
          5.199306759098787,
          5.203816131830009,
          5.2264808362369335,
          5.2264808362369335,
          5.253940455341506,
          5.281690140845071,
          5.286343612334802,
          5.291005291005291,
          5.319148936170213,
          5.361930294906166,
          5.376344086021505,
          5.376344086021505,
          5.381165919282511,
          5.4298642533936645,
          5.434782608695652,
          5.434782608695652,
          5.43970988213962,
          5.44464609800363,
          5.44464609800363,
          5.4495912806539515,
          5.4495912806539515,
          5.454545454545454,
          5.45950864422202,
          5.46448087431694,
          5.469462169553327,
          5.479452054794521,
          5.489478499542543,
          5.489478499542543,
          5.499541704857928,
          5.504587155963303,
          5.504587155963303,
          5.524861878453039,
          5.54016620498615,
          5.555555555555555,
          5.571030640668524,
          5.571030640668524,
          5.571030640668524,
          5.5762081784386615,
          5.5762081784386615,
          5.5813953488372094,
          5.58659217877095,
          5.58659217877095,
          5.591798695246971,
          5.591798695246971,
          5.602240896358543,
          5.612722170252573,
          5.628517823639775,
          5.628517823639775,
          5.633802816901408,
          5.639097744360902,
          5.644402634054562,
          5.644402634054562,
          5.660377358490567,
          5.665722379603399,
          5.665722379603399,
          5.665722379603399,
          5.676442762535477,
          5.676442762535477,
          5.681818181818182,
          5.698005698005699,
          5.7034220532319395,
          5.730659025787965,
          5.730659025787965,
          5.730659025787965,
          5.730659025787965,
          5.741626794258374,
          5.752636625119846,
          5.752636625119846,
          5.758157389635317,
          5.780346820809248,
          5.780346820809248,
          5.7915057915057915,
          5.808325266214908,
          5.808325266214908,
          5.813953488372093,
          5.813953488372093,
          5.830903790087464,
          5.836575875486382,
          5.842259006815969,
          5.842259006815969,
          5.847953216374269,
          5.870841487279843,
          5.870841487279843,
          5.876591576885406,
          5.893909626719057,
          5.893909626719057,
          5.899705014749262,
          5.899705014749262,
          5.899705014749262,
          5.905511811023622,
          5.928853754940712,
          5.934718100890208,
          5.9523809523809526,
          5.964214711729622,
          5.9880239520958085,
          5.994005994005994,
          5.994005994005994,
          5.994005994005994,
          6.036217303822938,
          6.036217303822938,
          6.036217303822938,
          6.0606060606060606,
          6.072874493927125,
          6.072874493927125,
          6.085192697768763,
          6.091370558375635,
          6.091370558375635,
          6.091370558375635,
          6.091370558375635,
          6.109979633401222,
          6.116207951070336,
          6.153846153846154,
          6.160164271047228,
          6.166495375128468,
          6.166495375128468,
          6.185567010309279,
          6.185567010309279,
          6.217616580310881,
          6.243496357960458,
          6.243496357960458,
          6.25,
          6.263048016701461,
          6.2761506276150625,
          6.282722513089005,
          6.289308176100629,
          6.322444678609062,
          6.329113924050633,
          6.335797254487856,
          6.335797254487856,
          6.3559322033898304,
          6.376195536663125,
          6.3965884861407245,
          6.4034151547492,
          6.4034151547492,
          6.410256410256411,
          6.4239828693790155,
          6.437768240343347,
          6.4446831364124595,
          6.458557588805167,
          6.4655172413793105,
          6.4655172413793105,
          6.479481641468682,
          6.521739130434783,
          6.521739130434783,
          6.557377049180328,
          6.571741511500547,
          6.578947368421053,
          6.607929515418502,
          6.615214994487321,
          6.6298342541436455,
          6.637168141592921,
          6.666666666666667,
          6.674082313681868,
          6.674082313681868,
          6.681514476614699,
          6.681514476614699,
          6.681514476614699,
          6.7114093959731544,
          6.71892497200448,
          6.726457399103139,
          6.741573033707865,
          6.741573033707865,
          6.756756756756756,
          6.756756756756756,
          6.764374295377678,
          6.772009029345373,
          6.787330316742081,
          6.787330316742081,
          6.795016987542469,
          6.795016987542469,
          6.795016987542469,
          6.81044267877412,
          6.8181818181818175,
          6.8181818181818175,
          6.825938566552901,
          6.83371298405467,
          6.83371298405467,
          6.83371298405467,
          6.83371298405467,
          6.841505131128849,
          6.857142857142857,
          6.8886337543053955,
          6.8886337543053955,
          6.904487917146145,
          6.928406466512702,
          6.936416184971098,
          6.952491309385863,
          6.960556844547565,
          6.968641114982579,
          6.968641114982579,
          6.976744186046512,
          6.993006993006993,
          7.017543859649122,
          7.0257611241217806,
          7.042253521126761,
          7.050528789659225,
          7.0588235294117645,
          7.0754716981132075,
          7.083825265643447,
          7.083825265643447,
          7.092198581560283,
          7.109004739336493,
          7.117437722419929,
          7.1258907363420425,
          7.13436385255648,
          7.151370679380214,
          7.159904534606205,
          7.185628742514971,
          7.202881152460984,
          7.2202166064981945,
          7.246376811594203,
          7.246376811594203,
          7.246376811594203,
          7.255139056831923,
          7.263922518159807,
          7.263922518159807,
          7.281553398058252,
          7.290400972053463,
          7.2992700729927,
          7.3081607795371495,
          7.3081607795371495,
          7.326007326007327,
          7.37100737100737,
          7.380073800738007,
          7.407407407407407,
          7.425742574257426,
          7.425742574257426,
          7.444168734491314,
          7.4812967581047385,
          7.490636704119851,
          7.490636704119851,
          7.547169811320755,
          7.585335018963337,
          7.6238881829733165,
          7.633587786259541,
          7.643312101910828,
          7.653061224489796,
          7.662835249042145,
          7.751937984496124,
          7.751937984496124,
          7.782101167315175,
          7.782101167315175,
          7.802340702210663,
          7.8125,
          7.822685788787484,
          7.83289817232376,
          7.905138339920949,
          7.905138339920949,
          7.915567282321899,
          7.936507936507937,
          7.9470198675496695,
          7.989347536617843,
          8,
          8.01068090787717,
          8.032128514056225,
          8.108108108108107,
          8.207934336525309,
          8.253094910591471,
          8.310249307479225,
          8.321775312066574,
          8.356545961002785,
          8.474576271186441,
          8.620689655172415,
          8.771929824561404,
          9.036144578313253,
          9.06344410876133,
          9.174311926605505,
          9.090909090909092,
          9.273570324574962,
          9.6,
          9.630818619582664,
          11.049723756906078,
          11.049723756906078
         ],
         "y0": " ",
         "yaxis": "y"
        },
        {
         "marker": {
          "color": "black",
          "size": 8
         },
         "mode": "markers",
         "name": "Meu Tempo",
         "type": "scatter",
         "x": [
          "Masculino"
         ],
         "y": [
          5.9171597633136095
         ]
        },
        {
         "marker": {
          "color": "black",
          "size": 8
         },
         "mode": "markers",
         "name": "Meu Tempo",
         "type": "scatter",
         "x": [
          "Feminino"
         ],
         "y": [
          5.9171597633136095
         ]
        }
       ],
       "layout": {
        "boxmode": "overlay",
        "legend": {
         "title": {
          "text": "Sx"
         },
         "tracegroupgap": 0
        },
        "template": {
         "data": {
          "bar": [
           {
            "error_x": {
             "color": "#2a3f5f"
            },
            "error_y": {
             "color": "#2a3f5f"
            },
            "marker": {
             "line": {
              "color": "#E5ECF6",
              "width": 0.5
             },
             "pattern": {
              "fillmode": "overlay",
              "size": 10,
              "solidity": 0.2
             }
            },
            "type": "bar"
           }
          ],
          "barpolar": [
           {
            "marker": {
             "line": {
              "color": "#E5ECF6",
              "width": 0.5
             },
             "pattern": {
              "fillmode": "overlay",
              "size": 10,
              "solidity": 0.2
             }
            },
            "type": "barpolar"
           }
          ],
          "carpet": [
           {
            "aaxis": {
             "endlinecolor": "#2a3f5f",
             "gridcolor": "white",
             "linecolor": "white",
             "minorgridcolor": "white",
             "startlinecolor": "#2a3f5f"
            },
            "baxis": {
             "endlinecolor": "#2a3f5f",
             "gridcolor": "white",
             "linecolor": "white",
             "minorgridcolor": "white",
             "startlinecolor": "#2a3f5f"
            },
            "type": "carpet"
           }
          ],
          "choropleth": [
           {
            "colorbar": {
             "outlinewidth": 0,
             "ticks": ""
            },
            "type": "choropleth"
           }
          ],
          "contour": [
           {
            "colorbar": {
             "outlinewidth": 0,
             "ticks": ""
            },
            "colorscale": [
             [
              0,
              "#0d0887"
             ],
             [
              0.1111111111111111,
              "#46039f"
             ],
             [
              0.2222222222222222,
              "#7201a8"
             ],
             [
              0.3333333333333333,
              "#9c179e"
             ],
             [
              0.4444444444444444,
              "#bd3786"
             ],
             [
              0.5555555555555556,
              "#d8576b"
             ],
             [
              0.6666666666666666,
              "#ed7953"
             ],
             [
              0.7777777777777778,
              "#fb9f3a"
             ],
             [
              0.8888888888888888,
              "#fdca26"
             ],
             [
              1,
              "#f0f921"
             ]
            ],
            "type": "contour"
           }
          ],
          "contourcarpet": [
           {
            "colorbar": {
             "outlinewidth": 0,
             "ticks": ""
            },
            "type": "contourcarpet"
           }
          ],
          "heatmap": [
           {
            "colorbar": {
             "outlinewidth": 0,
             "ticks": ""
            },
            "colorscale": [
             [
              0,
              "#0d0887"
             ],
             [
              0.1111111111111111,
              "#46039f"
             ],
             [
              0.2222222222222222,
              "#7201a8"
             ],
             [
              0.3333333333333333,
              "#9c179e"
             ],
             [
              0.4444444444444444,
              "#bd3786"
             ],
             [
              0.5555555555555556,
              "#d8576b"
             ],
             [
              0.6666666666666666,
              "#ed7953"
             ],
             [
              0.7777777777777778,
              "#fb9f3a"
             ],
             [
              0.8888888888888888,
              "#fdca26"
             ],
             [
              1,
              "#f0f921"
             ]
            ],
            "type": "heatmap"
           }
          ],
          "heatmapgl": [
           {
            "colorbar": {
             "outlinewidth": 0,
             "ticks": ""
            },
            "colorscale": [
             [
              0,
              "#0d0887"
             ],
             [
              0.1111111111111111,
              "#46039f"
             ],
             [
              0.2222222222222222,
              "#7201a8"
             ],
             [
              0.3333333333333333,
              "#9c179e"
             ],
             [
              0.4444444444444444,
              "#bd3786"
             ],
             [
              0.5555555555555556,
              "#d8576b"
             ],
             [
              0.6666666666666666,
              "#ed7953"
             ],
             [
              0.7777777777777778,
              "#fb9f3a"
             ],
             [
              0.8888888888888888,
              "#fdca26"
             ],
             [
              1,
              "#f0f921"
             ]
            ],
            "type": "heatmapgl"
           }
          ],
          "histogram": [
           {
            "marker": {
             "pattern": {
              "fillmode": "overlay",
              "size": 10,
              "solidity": 0.2
             }
            },
            "type": "histogram"
           }
          ],
          "histogram2d": [
           {
            "colorbar": {
             "outlinewidth": 0,
             "ticks": ""
            },
            "colorscale": [
             [
              0,
              "#0d0887"
             ],
             [
              0.1111111111111111,
              "#46039f"
             ],
             [
              0.2222222222222222,
              "#7201a8"
             ],
             [
              0.3333333333333333,
              "#9c179e"
             ],
             [
              0.4444444444444444,
              "#bd3786"
             ],
             [
              0.5555555555555556,
              "#d8576b"
             ],
             [
              0.6666666666666666,
              "#ed7953"
             ],
             [
              0.7777777777777778,
              "#fb9f3a"
             ],
             [
              0.8888888888888888,
              "#fdca26"
             ],
             [
              1,
              "#f0f921"
             ]
            ],
            "type": "histogram2d"
           }
          ],
          "histogram2dcontour": [
           {
            "colorbar": {
             "outlinewidth": 0,
             "ticks": ""
            },
            "colorscale": [
             [
              0,
              "#0d0887"
             ],
             [
              0.1111111111111111,
              "#46039f"
             ],
             [
              0.2222222222222222,
              "#7201a8"
             ],
             [
              0.3333333333333333,
              "#9c179e"
             ],
             [
              0.4444444444444444,
              "#bd3786"
             ],
             [
              0.5555555555555556,
              "#d8576b"
             ],
             [
              0.6666666666666666,
              "#ed7953"
             ],
             [
              0.7777777777777778,
              "#fb9f3a"
             ],
             [
              0.8888888888888888,
              "#fdca26"
             ],
             [
              1,
              "#f0f921"
             ]
            ],
            "type": "histogram2dcontour"
           }
          ],
          "mesh3d": [
           {
            "colorbar": {
             "outlinewidth": 0,
             "ticks": ""
            },
            "type": "mesh3d"
           }
          ],
          "parcoords": [
           {
            "line": {
             "colorbar": {
              "outlinewidth": 0,
              "ticks": ""
             }
            },
            "type": "parcoords"
           }
          ],
          "pie": [
           {
            "automargin": true,
            "type": "pie"
           }
          ],
          "scatter": [
           {
            "fillpattern": {
             "fillmode": "overlay",
             "size": 10,
             "solidity": 0.2
            },
            "type": "scatter"
           }
          ],
          "scatter3d": [
           {
            "line": {
             "colorbar": {
              "outlinewidth": 0,
              "ticks": ""
             }
            },
            "marker": {
             "colorbar": {
              "outlinewidth": 0,
              "ticks": ""
             }
            },
            "type": "scatter3d"
           }
          ],
          "scattercarpet": [
           {
            "marker": {
             "colorbar": {
              "outlinewidth": 0,
              "ticks": ""
             }
            },
            "type": "scattercarpet"
           }
          ],
          "scattergeo": [
           {
            "marker": {
             "colorbar": {
              "outlinewidth": 0,
              "ticks": ""
             }
            },
            "type": "scattergeo"
           }
          ],
          "scattergl": [
           {
            "marker": {
             "colorbar": {
              "outlinewidth": 0,
              "ticks": ""
             }
            },
            "type": "scattergl"
           }
          ],
          "scattermapbox": [
           {
            "marker": {
             "colorbar": {
              "outlinewidth": 0,
              "ticks": ""
             }
            },
            "type": "scattermapbox"
           }
          ],
          "scatterpolar": [
           {
            "marker": {
             "colorbar": {
              "outlinewidth": 0,
              "ticks": ""
             }
            },
            "type": "scatterpolar"
           }
          ],
          "scatterpolargl": [
           {
            "marker": {
             "colorbar": {
              "outlinewidth": 0,
              "ticks": ""
             }
            },
            "type": "scatterpolargl"
           }
          ],
          "scatterternary": [
           {
            "marker": {
             "colorbar": {
              "outlinewidth": 0,
              "ticks": ""
             }
            },
            "type": "scatterternary"
           }
          ],
          "surface": [
           {
            "colorbar": {
             "outlinewidth": 0,
             "ticks": ""
            },
            "colorscale": [
             [
              0,
              "#0d0887"
             ],
             [
              0.1111111111111111,
              "#46039f"
             ],
             [
              0.2222222222222222,
              "#7201a8"
             ],
             [
              0.3333333333333333,
              "#9c179e"
             ],
             [
              0.4444444444444444,
              "#bd3786"
             ],
             [
              0.5555555555555556,
              "#d8576b"
             ],
             [
              0.6666666666666666,
              "#ed7953"
             ],
             [
              0.7777777777777778,
              "#fb9f3a"
             ],
             [
              0.8888888888888888,
              "#fdca26"
             ],
             [
              1,
              "#f0f921"
             ]
            ],
            "type": "surface"
           }
          ],
          "table": [
           {
            "cells": {
             "fill": {
              "color": "#EBF0F8"
             },
             "line": {
              "color": "white"
             }
            },
            "header": {
             "fill": {
              "color": "#C8D4E3"
             },
             "line": {
              "color": "white"
             }
            },
            "type": "table"
           }
          ]
         },
         "layout": {
          "annotationdefaults": {
           "arrowcolor": "#2a3f5f",
           "arrowhead": 0,
           "arrowwidth": 1
          },
          "autotypenumbers": "strict",
          "coloraxis": {
           "colorbar": {
            "outlinewidth": 0,
            "ticks": ""
           }
          },
          "colorscale": {
           "diverging": [
            [
             0,
             "#8e0152"
            ],
            [
             0.1,
             "#c51b7d"
            ],
            [
             0.2,
             "#de77ae"
            ],
            [
             0.3,
             "#f1b6da"
            ],
            [
             0.4,
             "#fde0ef"
            ],
            [
             0.5,
             "#f7f7f7"
            ],
            [
             0.6,
             "#e6f5d0"
            ],
            [
             0.7,
             "#b8e186"
            ],
            [
             0.8,
             "#7fbc41"
            ],
            [
             0.9,
             "#4d9221"
            ],
            [
             1,
             "#276419"
            ]
           ],
           "sequential": [
            [
             0,
             "#0d0887"
            ],
            [
             0.1111111111111111,
             "#46039f"
            ],
            [
             0.2222222222222222,
             "#7201a8"
            ],
            [
             0.3333333333333333,
             "#9c179e"
            ],
            [
             0.4444444444444444,
             "#bd3786"
            ],
            [
             0.5555555555555556,
             "#d8576b"
            ],
            [
             0.6666666666666666,
             "#ed7953"
            ],
            [
             0.7777777777777778,
             "#fb9f3a"
            ],
            [
             0.8888888888888888,
             "#fdca26"
            ],
            [
             1,
             "#f0f921"
            ]
           ],
           "sequentialminus": [
            [
             0,
             "#0d0887"
            ],
            [
             0.1111111111111111,
             "#46039f"
            ],
            [
             0.2222222222222222,
             "#7201a8"
            ],
            [
             0.3333333333333333,
             "#9c179e"
            ],
            [
             0.4444444444444444,
             "#bd3786"
            ],
            [
             0.5555555555555556,
             "#d8576b"
            ],
            [
             0.6666666666666666,
             "#ed7953"
            ],
            [
             0.7777777777777778,
             "#fb9f3a"
            ],
            [
             0.8888888888888888,
             "#fdca26"
            ],
            [
             1,
             "#f0f921"
            ]
           ]
          },
          "colorway": [
           "#636efa",
           "#EF553B",
           "#00cc96",
           "#ab63fa",
           "#FFA15A",
           "#19d3f3",
           "#FF6692",
           "#B6E880",
           "#FF97FF",
           "#FECB52"
          ],
          "font": {
           "color": "#2a3f5f"
          },
          "geo": {
           "bgcolor": "white",
           "lakecolor": "white",
           "landcolor": "#E5ECF6",
           "showlakes": true,
           "showland": true,
           "subunitcolor": "white"
          },
          "hoverlabel": {
           "align": "left"
          },
          "hovermode": "closest",
          "mapbox": {
           "style": "light"
          },
          "paper_bgcolor": "white",
          "plot_bgcolor": "#E5ECF6",
          "polar": {
           "angularaxis": {
            "gridcolor": "white",
            "linecolor": "white",
            "ticks": ""
           },
           "bgcolor": "#E5ECF6",
           "radialaxis": {
            "gridcolor": "white",
            "linecolor": "white",
            "ticks": ""
           }
          },
          "scene": {
           "xaxis": {
            "backgroundcolor": "#E5ECF6",
            "gridcolor": "white",
            "gridwidth": 2,
            "linecolor": "white",
            "showbackground": true,
            "ticks": "",
            "zerolinecolor": "white"
           },
           "yaxis": {
            "backgroundcolor": "#E5ECF6",
            "gridcolor": "white",
            "gridwidth": 2,
            "linecolor": "white",
            "showbackground": true,
            "ticks": "",
            "zerolinecolor": "white"
           },
           "zaxis": {
            "backgroundcolor": "#E5ECF6",
            "gridcolor": "white",
            "gridwidth": 2,
            "linecolor": "white",
            "showbackground": true,
            "ticks": "",
            "zerolinecolor": "white"
           }
          },
          "shapedefaults": {
           "line": {
            "color": "#2a3f5f"
           }
          },
          "ternary": {
           "aaxis": {
            "gridcolor": "white",
            "linecolor": "white",
            "ticks": ""
           },
           "baxis": {
            "gridcolor": "white",
            "linecolor": "white",
            "ticks": ""
           },
           "bgcolor": "#E5ECF6",
           "caxis": {
            "gridcolor": "white",
            "linecolor": "white",
            "ticks": ""
           }
          },
          "title": {
           "x": 0.05
          },
          "xaxis": {
           "automargin": true,
           "gridcolor": "white",
           "linecolor": "white",
           "ticks": "",
           "title": {
            "standoff": 15
           },
           "zerolinecolor": "white",
           "zerolinewidth": 2
          },
          "yaxis": {
           "automargin": true,
           "gridcolor": "white",
           "linecolor": "white",
           "ticks": "",
           "title": {
            "standoff": 15
           },
           "zerolinecolor": "white",
           "zerolinewidth": 2
          }
         }
        },
        "title": {
         "text": "Perfomance da Corrida Através do Box Plot por Sexo"
        },
        "xaxis": {
         "anchor": "y",
         "categoryarray": [
          "Masculino",
          "Feminino"
         ],
         "categoryorder": "array",
         "domain": [
          0,
          1
         ],
         "title": {
          "text": "Sx"
         }
        },
        "yaxis": {
         "anchor": "x",
         "domain": [
          0,
          1
         ],
         "title": {
          "text": "Pace_Final"
         }
        }
       }
      }
     },
     "metadata": {},
     "output_type": "display_data"
    }
   ],
   "source": [
    "\n",
    "\n",
    "\n",
    "\n",
    "fig = px.box(\n",
    "    dados_corrida_so_quem_completou,\n",
    "    x = 'Sx', #Agora por ter o sexo não vou precisar multiplicar por 958, pois o meu eixo x no scatter plot do meu tempo vai ser o sexo\n",
    "    y='Pace_Final',\n",
    "    color = 'Sx',\n",
    "    title = 'Perfomance da Corrida Através do Box Plot por Sexo'\n",
    "    \n",
    ")\n",
    "\n",
    "\n",
    "\n",
    "fig.add_trace(\n",
    "    go.Scatter(  \n",
    "        x=['Masculino'],\n",
    "        y=[meu_pace],\n",
    "        mode='markers',\n",
    "        marker=dict(color='black', size=8),\n",
    "        name='Meu Tempo'\n",
    "    )\n",
    ")\n",
    "\n",
    "fig.add_trace(\n",
    "    go.Scatter(  \n",
    "        x=['Feminino'],\n",
    "        y=[meu_pace],\n",
    "        mode='markers',\n",
    "        marker=dict(color='black', size=8),\n",
    "        name='Meu Tempo'\n",
    "    )\n",
    ")\n",
    "\n",
    "fig.show()\n"
   ]
  },
  {
   "cell_type": "markdown",
   "metadata": {},
   "source": [
    "![Gráfico Plotly](Perfomance_de_Corrida_Por_Sexo.png)"
   ]
  },
  {
   "cell_type": "markdown",
   "metadata": {},
   "source": [
    "* Em geral, os homens tem pace melhor que as mulheres.\n",
    "* O tamanho do retangulo são bem parecidos o que demonstra que homens e mulheres tem variação próxima dentro do boxplot.\n",
    "* Separando em Masculino e Feminino, o melhor homem deixa de ser candidato a outlier e ja está dentro do \"bigode\" do box plot\n",
    "* Homens tem mais candidatos a outliers (com perfomance pior) que mulheres.\n",
    "* O q3 dos homens, ou seja, o corte dos 25% piores homens é parecido a mediana das mulheres.\n",
    "* Para homens, eu fico próximo ao q3, e não próximo a mediana.\n",
    "* Com o meu tempo, eu seria perto do q1 feminino."
   ]
  },
  {
   "cell_type": "markdown",
   "metadata": {},
   "source": [
    "### Desempenho em Relação a Faixa Etária"
   ]
  },
  {
   "cell_type": "code",
   "execution_count": 29,
   "metadata": {},
   "outputs": [
    {
     "data": {
      "application/vnd.plotly.v1+json": {
       "config": {
        "plotlyServerURL": "https://plot.ly"
       },
       "data": [
        {
         "alignmentgroup": "True",
         "hovertemplate": "Categoria_Sem_Sexo=%{x}<br>Pace_Final=%{y}<extra></extra>",
         "legendgroup": "",
         "marker": {
          "color": "#636efa"
         },
         "name": "",
         "notched": false,
         "offsetgroup": "",
         "orientation": "v",
         "showlegend": false,
         "type": "box",
         "x": [
          "G",
          "G",
          "G",
          "G",
          "G",
          "3034",
          "2529",
          "4044",
          "3034",
          "2529",
          "3539",
          "3539",
          "4044",
          "3034",
          "2529",
          "2529",
          "6064",
          "6569",
          "5054",
          "3034",
          "5054",
          "2529",
          "2529",
          "5559",
          "5559",
          "2529",
          "3034",
          "3034",
          "2529",
          "G",
          "3034",
          "3539",
          "3539",
          "5054",
          "G",
          "4044",
          "4044",
          "5054",
          "3034",
          "3034",
          "4044",
          "5054",
          "4549",
          "3539",
          "3539",
          "2529",
          "4549",
          "5054",
          "2529",
          "4044",
          "5054",
          "4549",
          "4044",
          "5054",
          "3034",
          "6064",
          "5054",
          "4549",
          "3539",
          "4044",
          "5054",
          "4549",
          "2024",
          "3034",
          "2024",
          "2529",
          "2024",
          "5559",
          "3034",
          "2529",
          "2024",
          "3539",
          "4549",
          "3034",
          "3539",
          "2529",
          "2529",
          "2024",
          "4044",
          "3539",
          "4549",
          "3539",
          "3539",
          "4549",
          "2024",
          "2024",
          "2529",
          "4549",
          "5559",
          "2529",
          "5054",
          "4044",
          "5559",
          "4044",
          "7579",
          "5559",
          "3034",
          "3539",
          "2024",
          "2024",
          "4044",
          "3034",
          "2529",
          "5559",
          "4044",
          "1519",
          "2024",
          "G",
          "4044",
          "3539",
          "4044",
          "3539",
          "3034",
          "3539",
          "2024",
          "4044",
          "3539",
          "3034",
          "4549",
          "3034",
          "2024",
          "3034",
          "G",
          "3539",
          "3539",
          "4044",
          "2024",
          "5559",
          "2024",
          "4044",
          "4044",
          "3539",
          "4044",
          "5559",
          "4044",
          "4044",
          "G",
          "5054",
          "2024",
          "2529",
          "4549",
          "2529",
          "2024",
          "3539",
          "3539",
          "4044",
          "4549",
          "5054",
          "3539",
          "2529",
          "4044",
          "5054",
          "3034",
          "4549",
          "3034",
          "5054",
          "5054",
          "4549",
          "2024",
          "4044",
          "4549",
          "3034",
          "5054",
          "5054",
          "2529",
          "4549",
          "2529",
          "5054",
          "4549",
          "4044",
          "4549",
          "4044",
          "6064",
          "4549",
          "5054",
          "5054",
          "6569",
          "4044",
          "5054",
          "3539",
          "5054",
          "4549",
          "4549",
          "3034",
          "4044",
          "6569",
          "2024",
          "2529",
          "5559",
          "3539",
          "3034",
          "3539",
          "2024",
          "4044",
          "3539",
          "3539",
          "5559",
          "5054",
          "4549",
          "3539",
          "3034",
          "5054",
          "3539",
          "3539",
          "5054",
          "4044",
          "2024",
          "3539",
          "4549",
          "4044",
          "3539",
          "4044",
          "2529",
          "3034",
          "5054",
          "3539",
          "2529",
          "3539",
          "3034",
          "5054",
          "6064",
          "7074",
          "4549",
          "3034",
          "3539",
          "2529",
          "5559",
          "5559",
          "3034",
          "6064",
          "3034",
          "2529",
          "3034",
          "3539",
          "4549",
          "2529",
          "4549",
          "5559",
          "4044",
          "2529",
          "5054",
          "2529",
          "4044",
          "3034",
          "4044",
          "2024",
          "1519",
          "2529",
          "2024",
          "6064",
          "5559",
          "4044",
          "4044",
          "4044",
          "5559",
          "4044",
          "7074",
          "2529",
          "6064",
          "4549",
          "4044",
          "7074",
          "4549",
          "4044",
          "2529",
          "3539",
          "4044",
          "3034",
          "3539",
          "4044",
          "4044",
          "6064",
          "3034",
          "2529",
          "3034",
          "4044",
          "3034",
          "4549",
          "5054",
          "3539",
          "3539",
          "5054",
          "4044",
          "3034",
          "2024",
          "5054",
          "3539",
          "3034",
          "2024",
          "3539",
          "4549",
          "2529",
          "3539",
          "3034",
          "5054",
          "3539",
          "3539",
          "4044",
          "4044",
          "5054",
          "4044",
          "2529",
          "4044",
          "3539",
          "4549",
          "6064",
          "3539",
          "4549",
          "4044",
          "3539",
          "3539",
          "8099",
          "2529",
          "5054",
          "4044",
          "4549",
          "3034",
          "6064",
          "4044",
          "5559",
          "4549",
          "2529",
          "3034",
          "6569",
          "3034",
          "3034",
          "4044",
          "4044",
          "2024",
          "4044",
          "4549",
          "3034",
          "5054",
          "2529",
          "3539",
          "2529",
          "4549",
          "2529",
          "5559",
          "4044",
          "3034",
          "2529",
          "5054",
          "6064",
          "4044",
          "4044",
          "5559",
          "5054",
          "3539",
          "3034",
          "5054",
          "3034",
          "4044",
          "4044",
          "2529",
          "4549",
          "2529",
          "4549",
          "4044",
          "4044",
          "6064",
          "4549",
          "2024",
          "2024",
          "4044",
          "3034",
          "6064",
          "6569",
          "3034",
          "3539",
          "6569",
          "6064",
          "2529",
          "6064",
          "5559",
          "3539",
          "5559",
          "2529",
          "3539",
          "2529",
          "3034",
          "4044",
          "3034",
          "4044",
          "3539",
          "7074",
          "4044",
          "4044",
          "4044",
          "7579",
          "2529",
          "3539",
          "7579",
          "4549",
          "3539",
          "5054",
          "3034",
          "5559",
          "3034",
          "5054",
          "3034",
          "6064",
          "5559",
          "5559",
          "2529",
          "4044",
          "3034",
          "3034",
          "3539",
          "4549",
          "4549",
          "5054",
          "3539",
          "2529",
          "4044",
          "7074",
          "2529",
          "5559",
          null,
          "3539",
          "2529",
          "6064",
          "4044",
          "3539",
          "4044",
          "3539",
          "6064",
          "6064",
          "4044",
          "3539",
          "3034",
          "2024",
          "4044",
          "3034",
          "4549",
          "4044",
          "4549",
          "4549",
          "5054",
          "4549",
          "3034",
          "3034",
          "2024",
          "5054",
          "3034",
          "3034",
          "3539",
          "4044",
          "4044",
          "3539",
          "3539",
          "3034",
          "3539",
          "4044",
          "4549",
          "2024",
          "3034",
          "3539",
          "3539",
          "5054",
          "4549",
          "6064",
          "6064",
          "2024",
          "3539",
          "3539",
          "7074",
          "5559",
          "3539",
          "5559",
          "5054",
          "4044",
          "2024",
          "4044",
          "4549",
          "6569",
          "3539",
          "2024",
          "4549",
          "6064",
          "3539",
          "4044",
          "6064",
          "3034",
          "5559",
          "3539",
          "4044",
          "1519",
          "3539",
          "7579",
          "2529",
          "3539",
          "3034",
          "6064",
          "2024",
          "4549",
          "5054",
          "4044",
          "4549",
          "3539",
          "2529",
          "2024",
          "2024",
          "2529",
          "4549",
          "4549",
          "7074",
          "3034",
          "3034",
          "4549",
          "2529",
          "3539",
          "4044",
          "3539",
          "4549",
          "3034",
          "2529",
          "4044",
          "5559",
          "5559",
          "2024",
          "5559",
          "3539",
          "7074",
          "6064",
          "4044",
          "4044",
          "1519",
          "2529",
          "4549",
          "2529",
          "7074",
          "2024",
          "3539",
          "3539",
          "3539",
          "1519",
          "2529",
          "5054",
          "4044",
          "2529",
          "3539",
          "4549",
          "5559",
          "3539",
          "7074",
          "4044",
          "4044",
          "2529",
          "6569",
          "4044",
          "2529",
          "4549",
          "5054",
          "6064",
          "7074",
          "4044",
          "4549",
          "3539",
          "3539",
          "4044",
          "6569",
          "5054",
          "5054",
          "3539",
          "3539",
          "4044",
          "3539",
          "6064",
          "2529",
          "4044",
          "4549",
          "2529",
          "3034",
          "3539",
          "3034",
          "3034",
          "6569",
          "3034",
          "5559",
          "3539",
          "3539",
          "4044",
          "3539",
          "2529",
          "5559",
          "4549",
          "4044",
          "1519",
          "6064",
          "3539",
          "4044",
          "4044",
          "5559",
          "3034",
          "6064",
          "2529",
          "5559",
          "2529",
          "6064",
          "6569",
          "4044",
          "4044",
          "2529",
          "4549",
          "4549",
          "3539",
          "3539",
          "3034",
          "4044",
          "4044",
          "4044",
          "6569",
          "5559",
          "3034",
          "2529",
          "4044",
          "2529",
          "3034",
          "3034",
          "6064",
          "5054",
          "4549",
          "5054",
          "5559",
          "7579",
          "5559",
          "1519",
          "4549",
          "3539",
          "6064",
          "3539",
          "3539",
          "4549",
          "4044",
          "4549",
          "3539",
          "2024",
          "2529",
          "6064",
          "2529",
          "8099",
          "4044",
          "2024",
          "5054",
          "5559",
          "5559",
          "3539",
          "6064",
          "3539",
          "2529",
          "3539",
          "6064",
          "5054",
          "2529",
          "3034",
          "5559",
          "5559",
          "2529",
          "4044",
          "4044",
          "3034",
          "2024",
          "3539",
          "4549",
          "5559",
          "5559",
          "5054",
          "7074",
          "2529",
          "3539",
          "4549",
          "4044",
          "6064",
          "6569",
          "5054",
          "6064",
          "4549",
          "5559",
          "3034",
          "6064",
          "4044",
          "6569",
          "4549",
          "3539",
          "3539",
          "3539",
          "3539",
          "7579",
          "4549",
          "4549",
          "6569",
          "5054",
          "6569",
          "3539",
          "2529",
          "2529",
          "2529",
          "4549",
          "2024",
          "4044",
          "6064",
          "2529",
          "5559",
          "2529",
          "2529",
          "6064",
          "2024",
          "3539",
          "5054",
          "6569",
          "3034",
          "3034",
          "3539",
          "3539",
          "5054",
          "2024",
          "3034",
          "4549",
          "6569",
          "3539",
          "4044",
          "2024",
          "3539",
          "2529",
          "3034",
          "4044",
          "6569",
          "4044",
          "2529",
          "3034",
          "4044",
          "5559",
          "6064",
          "3539",
          "4044",
          "3034",
          "5054",
          "4044",
          "5054",
          "3539",
          "3539",
          "4044",
          "6064",
          "3539",
          "5559",
          "7074",
          "2529",
          "2529",
          "3539",
          "4549",
          "6569",
          "6569",
          "3539",
          "4549",
          "3034",
          "2529",
          "3539",
          "4044",
          "5054",
          "6569",
          "3034",
          "4044",
          "6064",
          "5054",
          "5054",
          "3034",
          "3539",
          "4549",
          "3034",
          "7074",
          "3539",
          "5559",
          "4549",
          "6064",
          "5559",
          "3539",
          "5559",
          "3539",
          "6569",
          "3539",
          "5559",
          "3539",
          "4044",
          "4044",
          "4044",
          "6064",
          "2529",
          "3034",
          "5559",
          "5054",
          "5054",
          "4044",
          "4044",
          "3034",
          "3034",
          "2024",
          "4549",
          "2529",
          "6064",
          "4549",
          "3034",
          "3034",
          "6569",
          "5559",
          "4044",
          "5559",
          "7074",
          "2024",
          "3034",
          "3034",
          "5054",
          "7579",
          "2529",
          "6569",
          "4549",
          "5559",
          "7074",
          "2529",
          "5559",
          "4044",
          "3539",
          "6064",
          "2529",
          "3034",
          "3539",
          "3539",
          "6569",
          "6064",
          "6064",
          "4549",
          "3034",
          "3539",
          "3539",
          "2024",
          "4044",
          "7579",
          "5559",
          "5559",
          "5054",
          "3539",
          "4044",
          "3034",
          "3539",
          "4044",
          "6569",
          "4549",
          "4044",
          "6064",
          "5054",
          "3034",
          "6569",
          "4044",
          "5054",
          "3034",
          "3034",
          "5054",
          "4549",
          "5054",
          "5559",
          "6064",
          "4044",
          "4044",
          "4044",
          "4044",
          "5054",
          "6064",
          "7579",
          "4044",
          "5054",
          "4044",
          "2529",
          "2529",
          "4549",
          "4549",
          "3539",
          "6064",
          "4549",
          "4549",
          "3034",
          "3034",
          "2024",
          "5054",
          "3034",
          "3539",
          "3539",
          "4044",
          "3539",
          "5559",
          "3539",
          "3539",
          "4549",
          "4044",
          "4549",
          "4044",
          "6064",
          "6064",
          "4549",
          "4044",
          "4044",
          "4549",
          "4044",
          "3034",
          "3539",
          "3539",
          "5054",
          "4549",
          "3034",
          "5054",
          "2024",
          "4044",
          "5559",
          "5054",
          "3539",
          "3034",
          "6569",
          "4549",
          "6569",
          "3539",
          "4044",
          "5559",
          "2024",
          "4044",
          "1519",
          "5054",
          "7074",
          "3539",
          "3034",
          "5559",
          "4549",
          "7074",
          "4044",
          "7074",
          "5559",
          "4549",
          "5559",
          "4549",
          "3034",
          "2529",
          "8099",
          "5559",
          "8099",
          "4044",
          "7579",
          "5054",
          "3034",
          "3539",
          "4549",
          "2024",
          "6064",
          "5559",
          "6569",
          "7074",
          "6569",
          "6064",
          "4044",
          "6064",
          "3539"
         ],
         "x0": " ",
         "xaxis": "x",
         "y": [
          3.1595576619273302,
          3.3707865168539324,
          3.4443168771526977,
          3.4462952326249283,
          3.4502587694077054,
          3.544004725339634,
          3.621001810500905,
          3.621001810500905,
          3.6607687614399023,
          3.6607687614399023,
          3.780718336483932,
          3.7854889589905363,
          3.8095238095238093,
          3.870967741935484,
          3.878474466709761,
          3.8935756002595716,
          3.90625,
          3.9761431411530817,
          3.9787798408488064,
          3.9787798408488064,
          3.9946737683089215,
          4,
          4.008016032064128,
          4.029550033579583,
          4.0733197556008145,
          4.078857919782461,
          4.118050789293068,
          4.123711340206185,
          4.135079255685734,
          4.14651002073255,
          4.14651002073255,
          4.14651002073255,
          4.158004158004158,
          4.178272980501393,
          4.1928721174004195,
          4.195804195804196,
          4.198740377886634,
          4.204625087596356,
          4.240282685512367,
          4.2492917847025495,
          4.2492917847025495,
          4.261363636363637,
          4.264392324093817,
          4.279600570613409,
          4.288777698355968,
          4.288777698355968,
          4.291845493562231,
          4.291845493562231,
          4.297994269340974,
          4.301075268817205,
          4.313443565780014,
          4.319654427645788,
          4.344677769732078,
          4.354136429608128,
          4.363636363636363,
          4.369992716678805,
          4.385964912280702,
          4.389173372348208,
          4.389173372348208,
          4.402054292002934,
          4.405286343612335,
          4.411764705882353,
          4.428044280442804,
          4.428044280442804,
          4.434589800443459,
          4.444444444444445,
          4.451038575667655,
          4.4543429844097995,
          4.4543429844097995,
          4.49438202247191,
          4.497751124437781,
          4.504504504504505,
          4.507888805409467,
          4.511278195488722,
          4.511278195488722,
          4.52147701582517,
          4.524886877828054,
          4.524886877828054,
          4.524886877828054,
          4.524886877828054,
          4.528301886792453,
          4.531722054380665,
          4.531722054380665,
          4.552352048558422,
          4.552352048558422,
          4.562737642585551,
          4.566210045662101,
          4.566210045662101,
          4.580152671755726,
          4.580152671755726,
          4.587155963302752,
          4.597701149425287,
          4.597701149425287,
          4.601226993865031,
          4.604758250191865,
          4.6082949308755765,
          4.622496147919876,
          4.626060138781804,
          4.633204633204634,
          4.640371229698376,
          4.640371229698376,
          4.647560030983733,
          4.662004662004662,
          4.662004662004662,
          4.665629860031104,
          4.669260700389105,
          4.672897196261682,
          4.676539360872954,
          4.6801872074882995,
          4.68384074941452,
          4.68384074941452,
          4.68384074941452,
          4.68384074941452,
          4.6875,
          4.6875,
          4.691164972634871,
          4.694835680751174,
          4.698512137823023,
          4.702194357366771,
          4.702194357366771,
          4.7095761381475665,
          4.7095761381475665,
          4.7095761381475665,
          4.713275726630008,
          4.724409448818898,
          4.724409448818898,
          4.724409448818898,
          4.728132387706856,
          4.728132387706856,
          4.73559589581689,
          4.73559589581689,
          4.743083003952569,
          4.746835443037974,
          4.758128469468676,
          4.765687053216839,
          4.765687053216839,
          4.765687053216839,
          4.77326968973747,
          4.77326968973747,
          4.77326968973747,
          4.777070063694267,
          4.803843074459568,
          4.803843074459568,
          4.803843074459568,
          4.8076923076923075,
          4.811547714514836,
          4.815409309791332,
          4.815409309791332,
          4.815409309791332,
          4.819277108433735,
          4.823151125401929,
          4.823151125401929,
          4.823151125401929,
          4.823151125401929,
          4.8270313757039425,
          4.830917874396135,
          4.8348106365834,
          4.8348106365834,
          4.842615012106537,
          4.846526655896607,
          4.846526655896607,
          4.8543689320388355,
          4.858299595141701,
          4.862236628849271,
          4.862236628849271,
          4.87012987012987,
          4.8740861088545895,
          4.8740861088545895,
          4.878048780487805,
          4.882017900732303,
          4.88599348534202,
          4.88599348534202,
          4.88599348534202,
          4.893964110929853,
          4.905968928863451,
          4.918032786885246,
          4.9220672682526665,
          4.930156121610517,
          4.938271604938271,
          4.938271604938271,
          4.938271604938271,
          4.938271604938271,
          4.9464138499587795,
          4.9464138499587795,
          4.9464138499587795,
          4.9464138499587795,
          4.9504950495049505,
          4.958677685950414,
          4.958677685950414,
          4.962779156327543,
          4.971002485501242,
          4.987531172069826,
          4.9916805324459235,
          4.9916805324459235,
          5.004170141784821,
          5.004170141784821,
          5.016722408026755,
          5.020920502092051,
          5.020920502092051,
          5.029337803855825,
          5.029337803855825,
          5.029337803855825,
          5.029337803855825,
          5.037783375314861,
          5.037783375314861,
          5.037783375314861,
          5.046257359125315,
          5.05050505050505,
          5.054759898904802,
          5.059021922428331,
          5.059021922428331,
          5.059021922428331,
          5.0675675675675675,
          5.07185122569738,
          5.0761421319796955,
          5.080440304826418,
          5.080440304826418,
          5.089058524173028,
          5.1020408163265305,
          5.1020408163265305,
          5.1020408163265305,
          5.1063829787234045,
          5.1063829787234045,
          5.110732538330494,
          5.115089514066496,
          5.1194539249146755,
          5.1194539249146755,
          5.1194539249146755,
          5.123825789923142,
          5.123825789923142,
          5.128205128205129,
          5.128205128205129,
          5.132591958939265,
          5.132591958939265,
          5.136986301369864,
          5.136986301369864,
          5.136986301369864,
          5.141388174807198,
          5.145797598627787,
          5.150214592274678,
          5.150214592274678,
          5.150214592274678,
          5.150214592274678,
          5.150214592274678,
          5.150214592274678,
          5.150214592274678,
          5.154639175257731,
          5.159071367153912,
          5.163511187607574,
          5.167958656330749,
          5.167958656330749,
          5.167958656330749,
          5.172413793103448,
          5.172413793103448,
          5.176876617773943,
          5.181347150259067,
          5.181347150259067,
          5.190311418685121,
          5.190311418685121,
          5.194805194805195,
          5.199306759098787,
          5.199306759098787,
          5.199306759098787,
          5.203816131830009,
          5.203816131830009,
          5.203816131830009,
          5.208333333333334,
          5.208333333333334,
          5.2264808362369335,
          5.2264808362369335,
          5.2264808362369335,
          5.2264808362369335,
          5.2264808362369335,
          5.2264808362369335,
          5.231037489102005,
          5.231037489102005,
          5.2356020942408374,
          5.240174672489084,
          5.244755244755245,
          5.244755244755245,
          5.244755244755245,
          5.244755244755245,
          5.253940455341506,
          5.253940455341506,
          5.25854513584575,
          5.267778753292362,
          5.267778753292362,
          5.267778753292362,
          5.267778753292362,
          5.277044854881267,
          5.277044854881267,
          5.277044854881267,
          5.277044854881267,
          5.281690140845071,
          5.281690140845071,
          5.286343612334802,
          5.286343612334802,
          5.291005291005291,
          5.291005291005291,
          5.29567519858782,
          5.300353356890459,
          5.300353356890459,
          5.305039787798409,
          5.305039787798409,
          5.309734513274336,
          5.314437555358725,
          5.314437555358725,
          5.314437555358725,
          5.319148936170213,
          5.319148936170213,
          5.319148936170213,
          5.323868677905945,
          5.328596802841918,
          5.328596802841918,
          5.328596802841918,
          5.328596802841918,
          5.333333333333333,
          5.338078291814947,
          5.342831700801424,
          5.342831700801424,
          5.357142857142858,
          5.357142857142858,
          5.357142857142858,
          5.361930294906166,
          5.361930294906166,
          5.366726296958856,
          5.366726296958856,
          5.371530886302597,
          5.371530886302597,
          5.371530886302597,
          5.376344086021505,
          5.376344086021505,
          5.376344086021505,
          5.376344086021505,
          5.376344086021505,
          5.376344086021505,
          5.376344086021505,
          5.381165919282511,
          5.381165919282511,
          5.381165919282511,
          5.381165919282511,
          5.390835579514825,
          5.390835579514825,
          5.390835579514825,
          5.39568345323741,
          5.39568345323741,
          5.4005400540054005,
          5.405405405405405,
          5.405405405405405,
          5.410279531109107,
          5.410279531109107,
          5.415162454873646,
          5.415162454873646,
          5.420054200542006,
          5.420054200542006,
          5.420054200542006,
          5.420054200542006,
          5.424954792043399,
          5.4298642533936645,
          5.4298642533936645,
          5.4298642533936645,
          5.4298642533936645,
          5.434782608695652,
          5.434782608695652,
          5.434782608695652,
          5.434782608695652,
          5.43970988213962,
          5.43970988213962,
          5.44464609800363,
          5.44464609800363,
          5.4495912806539515,
          5.4495912806539515,
          5.454545454545454,
          5.454545454545454,
          5.454545454545454,
          5.454545454545454,
          5.45950864422202,
          5.45950864422202,
          5.46448087431694,
          5.46448087431694,
          5.46448087431694,
          5.469462169553327,
          5.474452554744525,
          5.474452554744525,
          5.479452054794521,
          5.479452054794521,
          5.484460694698355,
          5.484460694698355,
          5.484460694698355,
          5.484460694698355,
          5.489478499542543,
          5.489478499542543,
          5.489478499542543,
          5.489478499542543,
          5.499541704857928,
          5.499541704857928,
          5.499541704857928,
          5.504587155963303,
          5.504587155963303,
          5.504587155963303,
          5.509641873278237,
          5.514705882352941,
          5.519779208831647,
          5.524861878453039,
          5.524861878453039,
          5.535055350553505,
          5.535055350553505,
          5.535055350553505,
          5.535055350553505,
          5.54016620498615,
          5.54016620498615,
          5.54016620498615,
          5.545286506469501,
          5.545286506469501,
          5.550416281221091,
          5.555555555555555,
          5.555555555555555,
          5.565862708719852,
          5.565862708719852,
          5.571030640668524,
          5.571030640668524,
          5.571030640668524,
          5.5762081784386615,
          5.5762081784386615,
          5.5762081784386615,
          5.5762081784386615,
          5.5762081784386615,
          5.5813953488372094,
          5.58659217877095,
          5.58659217877095,
          5.58659217877095,
          5.58659217877095,
          5.58659217877095,
          5.58659217877095,
          5.591798695246971,
          5.591798695246971,
          5.597014925373134,
          5.597014925373134,
          5.597014925373134,
          5.597014925373134,
          5.597014925373134,
          5.602240896358543,
          5.607476635514019,
          5.607476635514019,
          5.612722170252573,
          5.617977528089888,
          5.623242736644799,
          5.628517823639775,
          5.628517823639775,
          5.628517823639775,
          5.628517823639775,
          5.628517823639775,
          5.633802816901408,
          5.633802816901408,
          5.639097744360902,
          5.639097744360902,
          5.639097744360902,
          5.639097744360902,
          5.639097744360902,
          5.639097744360902,
          5.644402634054562,
          5.644402634054562,
          5.644402634054562,
          5.655042412818096,
          5.655042412818096,
          5.660377358490567,
          5.660377358490567,
          5.660377358490567,
          5.665722379603399,
          5.665722379603399,
          5.665722379603399,
          5.665722379603399,
          5.671077504725898,
          5.671077504725898,
          5.676442762535477,
          5.676442762535477,
          5.676442762535477,
          5.681818181818182,
          5.6872037914691935,
          5.6872037914691935,
          5.692599620493359,
          5.692599620493359,
          5.692599620493359,
          5.692599620493359,
          5.692599620493359,
          5.692599620493359,
          5.692599620493359,
          5.692599620493359,
          5.698005698005699,
          5.7034220532319395,
          5.7034220532319395,
          5.7034220532319395,
          5.7034220532319395,
          5.714285714285714,
          5.714285714285714,
          5.719733079122975,
          5.719733079122975,
          5.7251908396946565,
          5.7251908396946565,
          5.730659025787965,
          5.730659025787965,
          5.730659025787965,
          5.730659025787965,
          5.730659025787965,
          5.736137667304015,
          5.741626794258374,
          5.74712643678161,
          5.752636625119846,
          5.752636625119846,
          5.752636625119846,
          5.752636625119846,
          5.752636625119846,
          5.752636625119846,
          5.758157389635317,
          5.758157389635317,
          5.7747834456207885,
          5.780346820809248,
          5.780346820809248,
          5.780346820809248,
          5.785920925747349,
          5.7915057915057915,
          5.797101449275362,
          5.802707930367505,
          5.802707930367505,
          5.802707930367505,
          5.802707930367505,
          5.802707930367505,
          5.808325266214908,
          5.808325266214908,
          5.808325266214908,
          5.813953488372093,
          5.813953488372093,
          5.819592628516004,
          5.825242718446601,
          5.830903790087464,
          5.830903790087464,
          5.830903790087464,
          5.836575875486382,
          5.836575875486382,
          5.836575875486382,
          5.842259006815969,
          5.842259006815969,
          5.847953216374269,
          5.847953216374269,
          5.847953216374269,
          5.847953216374269,
          5.853658536585366,
          5.859375,
          5.870841487279843,
          5.870841487279843,
          5.870841487279843,
          5.876591576885406,
          5.876591576885406,
          5.882352941176471,
          5.888125613346419,
          5.888125613346419,
          5.893909626719057,
          5.893909626719057,
          5.893909626719057,
          5.893909626719057,
          5.893909626719057,
          5.899705014749262,
          5.899705014749262,
          5.899705014749262,
          5.905511811023622,
          5.905511811023622,
          5.905511811023622,
          5.905511811023622,
          5.9171597633136095,
          5.9171597633136095,
          5.9171597633136095,
          5.9171597633136095,
          5.9171597633136095,
          5.9171597633136095,
          5.9171597633136095,
          5.9171597633136095,
          5.923000987166831,
          5.923000987166831,
          5.928853754940712,
          5.934718100890208,
          5.934718100890208,
          5.9523809523809526,
          5.9523809523809526,
          5.964214711729622,
          5.964214711729622,
          5.964214711729622,
          5.976095617529881,
          5.982053838484546,
          5.9880239520958085,
          5.9880239520958085,
          5.994005994005994,
          5.994005994005994,
          5.994005994005994,
          6.018054162487462,
          6.018054162487462,
          6.024096385542168,
          6.030150753768845,
          6.036217303822938,
          6.036217303822938,
          6.036217303822938,
          6.036217303822938,
          6.0606060606060606,
          6.0606060606060606,
          6.0606060606060606,
          6.0606060606060606,
          6.0606060606060606,
          6.072874493927125,
          6.072874493927125,
          6.072874493927125,
          6.072874493927125,
          6.079027355623101,
          6.079027355623101,
          6.079027355623101,
          6.079027355623101,
          6.079027355623101,
          6.085192697768763,
          6.091370558375635,
          6.091370558375635,
          6.091370558375635,
          6.091370558375635,
          6.097560975609756,
          6.109979633401222,
          6.109979633401222,
          6.109979633401222,
          6.116207951070336,
          6.116207951070336,
          6.116207951070336,
          6.116207951070336,
          6.122448979591836,
          6.134969325153374,
          6.141248720573183,
          6.141248720573183,
          6.153846153846154,
          6.153846153846154,
          6.153846153846154,
          6.153846153846154,
          6.160164271047228,
          6.160164271047228,
          6.160164271047228,
          6.160164271047228,
          6.160164271047228,
          6.166495375128468,
          6.166495375128468,
          6.172839506172839,
          6.179196704428424,
          6.185567010309279,
          6.185567010309279,
          6.185567010309279,
          6.185567010309279,
          6.191950464396285,
          6.198347107438017,
          6.211180124223603,
          6.217616580310881,
          6.224066390041493,
          6.230529595015576,
          6.237006237006238,
          6.243496357960458,
          6.243496357960458,
          6.25,
          6.25,
          6.25,
          6.256517205422315,
          6.263048016701461,
          6.263048016701461,
          6.269592476489028,
          6.269592476489028,
          6.269592476489028,
          6.2761506276150625,
          6.2761506276150625,
          6.2761506276150625,
          6.282722513089005,
          6.282722513089005,
          6.282722513089005,
          6.282722513089005,
          6.289308176100629,
          6.289308176100629,
          6.295907660020987,
          6.295907660020987,
          6.302521008403362,
          6.309148264984227,
          6.309148264984227,
          6.309148264984227,
          6.315789473684211,
          6.315789473684211,
          6.322444678609062,
          6.329113924050633,
          6.329113924050633,
          6.335797254487856,
          6.335797254487856,
          6.335797254487856,
          6.34920634920635,
          6.3559322033898304,
          6.3559322033898304,
          6.3559322033898304,
          6.3559322033898304,
          6.3559322033898304,
          6.362672322375398,
          6.376195536663125,
          6.382978723404255,
          6.382978723404255,
          6.3965884861407245,
          6.3965884861407245,
          6.3965884861407245,
          6.3965884861407245,
          6.4034151547492,
          6.4034151547492,
          6.4034151547492,
          6.410256410256411,
          6.410256410256411,
          6.4171122994652405,
          6.4239828693790155,
          6.430868167202572,
          6.430868167202572,
          6.437768240343347,
          6.4446831364124595,
          6.451612903225806,
          6.458557588805167,
          6.4655172413793105,
          6.4655172413793105,
          6.4655172413793105,
          6.479481641468682,
          6.500541711809317,
          6.507592190889371,
          6.514657980456025,
          6.521739130434783,
          6.521739130434783,
          6.5359477124183005,
          6.543075245365322,
          6.543075245365322,
          6.557377049180328,
          6.557377049180328,
          6.557377049180328,
          6.571741511500547,
          6.571741511500547,
          6.578947368421053,
          6.593406593406594,
          6.607929515418502,
          6.607929515418502,
          6.615214994487321,
          6.615214994487321,
          6.615214994487321,
          6.6298342541436455,
          6.6298342541436455,
          6.6298342541436455,
          6.637168141592921,
          6.651884700665189,
          6.659267480577137,
          6.666666666666667,
          6.674082313681868,
          6.674082313681868,
          6.674082313681868,
          6.681514476614699,
          6.681514476614699,
          6.681514476614699,
          6.681514476614699,
          6.68896321070234,
          6.68896321070234,
          6.703910614525141,
          6.7114093959731544,
          6.7114093959731544,
          6.71892497200448,
          6.71892497200448,
          6.726457399103139,
          6.741573033707865,
          6.741573033707865,
          6.749156355455567,
          6.756756756756756,
          6.756756756756756,
          6.764374295377678,
          6.764374295377678,
          6.772009029345373,
          6.787330316742081,
          6.787330316742081,
          6.795016987542469,
          6.795016987542469,
          6.795016987542469,
          6.795016987542469,
          6.795016987542469,
          6.81044267877412,
          6.8181818181818175,
          6.8181818181818175,
          6.8181818181818175,
          6.825938566552901,
          6.825938566552901,
          6.825938566552901,
          6.825938566552901,
          6.825938566552901,
          6.83371298405467,
          6.83371298405467,
          6.83371298405467,
          6.83371298405467,
          6.83371298405467,
          6.83371298405467,
          6.83371298405467,
          6.841505131128849,
          6.857142857142857,
          6.857142857142857,
          6.857142857142857,
          6.857142857142857,
          6.8728522336769755,
          6.8728522336769755,
          6.880733944954128,
          6.8886337543053955,
          6.8886337543053955,
          6.8965517241379315,
          6.904487917146145,
          6.904487917146145,
          6.928406466512702,
          6.936416184971098,
          6.952491309385863,
          6.960556844547565,
          6.960556844547565,
          6.968641114982579,
          6.968641114982579,
          6.968641114982579,
          6.968641114982579,
          6.976744186046512,
          6.976744186046512,
          6.993006993006993,
          6.993006993006993,
          6.993006993006993,
          7.017543859649122,
          7.017543859649122,
          7.0257611241217806,
          7.042253521126761,
          7.050528789659225,
          7.0588235294117645,
          7.0588235294117645,
          7.0588235294117645,
          7.0754716981132075,
          7.0754716981132075,
          7.0754716981132075,
          7.083825265643447,
          7.083825265643447,
          7.083825265643447,
          7.092198581560283,
          7.109004739336493,
          7.109004739336493,
          7.109004739336493,
          7.117437722419929,
          7.117437722419929,
          7.1258907363420425,
          7.13436385255648,
          7.13436385255648,
          7.151370679380214,
          7.151370679380214,
          7.151370679380214,
          7.159904534606205,
          7.168458781362008,
          7.185628742514971,
          7.202881152460984,
          7.202881152460984,
          7.2202166064981945,
          7.246376811594203,
          7.246376811594203,
          7.246376811594203,
          7.246376811594203,
          7.255139056831923,
          7.255139056831923,
          7.263922518159807,
          7.263922518159807,
          7.263922518159807,
          7.263922518159807,
          7.2727272727272725,
          7.281553398058252,
          7.281553398058252,
          7.290400972053463,
          7.2992700729927,
          7.3081607795371495,
          7.3081607795371495,
          7.3081607795371495,
          7.326007326007327,
          7.326007326007327,
          7.334963325183375,
          7.37100737100737,
          7.37100737100737,
          7.380073800738007,
          7.380073800738007,
          7.407407407407407,
          7.407407407407407,
          7.407407407407407,
          7.425742574257426,
          7.425742574257426,
          7.444168734491314,
          7.444168734491314,
          7.4812967581047385,
          7.490636704119851,
          7.490636704119851,
          7.5,
          7.509386733416771,
          7.518796992481203,
          7.547169811320755,
          7.566204287515763,
          7.585335018963337,
          7.6238881829733165,
          7.633587786259541,
          7.633587786259541,
          7.633587786259541,
          7.643312101910828,
          7.643312101910828,
          7.653061224489796,
          7.662835249042145,
          7.751937984496124,
          7.751937984496124,
          7.751937984496124,
          7.782101167315175,
          7.782101167315175,
          7.802340702210663,
          7.8125,
          7.822685788787484,
          7.83289817232376,
          7.83289817232376,
          7.83289817232376,
          7.8431372549019605,
          7.884362680683311,
          7.905138339920949,
          7.905138339920949,
          7.915567282321899,
          7.936507936507937,
          7.9470198675496695,
          7.9787234042553195,
          7.989347536617843,
          7.989347536617843,
          8,
          8.01068090787717,
          8.032128514056225,
          8.04289544235925,
          8.108108108108107,
          8.207934336525309,
          8.219178082191782,
          8.253094910591471,
          8.253094910591471,
          8.310249307479225,
          8.310249307479225,
          8.321775312066574,
          8.356545961002785,
          8.474576271186441,
          8.583690987124463,
          8.620689655172415,
          8.658008658008658,
          8.771929824561404,
          8.784773060029282,
          8.849557522123893,
          8.941877794336811,
          9.036144578313253,
          9.06344410876133,
          9.174311926605505,
          9.30232558139535,
          9.090909090909092,
          9.273570324574962,
          9.6,
          9.630818619582664,
          9.966777408637874,
          9.30232558139535,
          10,
          10.849909584086799,
          11.049723756906078,
          11.049723756906078
         ],
         "y0": " ",
         "yaxis": "y"
        },
        {
         "marker": {
          "color": "black",
          "size": 8
         },
         "mode": "markers",
         "name": "Meu Tempo",
         "type": "scatter",
         "x": [
          "2529"
         ],
         "y": [
          5.9171597633136095
         ]
        }
       ],
       "layout": {
        "boxmode": "group",
        "legend": {
         "tracegroupgap": 0
        },
        "template": {
         "data": {
          "bar": [
           {
            "error_x": {
             "color": "#2a3f5f"
            },
            "error_y": {
             "color": "#2a3f5f"
            },
            "marker": {
             "line": {
              "color": "#E5ECF6",
              "width": 0.5
             },
             "pattern": {
              "fillmode": "overlay",
              "size": 10,
              "solidity": 0.2
             }
            },
            "type": "bar"
           }
          ],
          "barpolar": [
           {
            "marker": {
             "line": {
              "color": "#E5ECF6",
              "width": 0.5
             },
             "pattern": {
              "fillmode": "overlay",
              "size": 10,
              "solidity": 0.2
             }
            },
            "type": "barpolar"
           }
          ],
          "carpet": [
           {
            "aaxis": {
             "endlinecolor": "#2a3f5f",
             "gridcolor": "white",
             "linecolor": "white",
             "minorgridcolor": "white",
             "startlinecolor": "#2a3f5f"
            },
            "baxis": {
             "endlinecolor": "#2a3f5f",
             "gridcolor": "white",
             "linecolor": "white",
             "minorgridcolor": "white",
             "startlinecolor": "#2a3f5f"
            },
            "type": "carpet"
           }
          ],
          "choropleth": [
           {
            "colorbar": {
             "outlinewidth": 0,
             "ticks": ""
            },
            "type": "choropleth"
           }
          ],
          "contour": [
           {
            "colorbar": {
             "outlinewidth": 0,
             "ticks": ""
            },
            "colorscale": [
             [
              0,
              "#0d0887"
             ],
             [
              0.1111111111111111,
              "#46039f"
             ],
             [
              0.2222222222222222,
              "#7201a8"
             ],
             [
              0.3333333333333333,
              "#9c179e"
             ],
             [
              0.4444444444444444,
              "#bd3786"
             ],
             [
              0.5555555555555556,
              "#d8576b"
             ],
             [
              0.6666666666666666,
              "#ed7953"
             ],
             [
              0.7777777777777778,
              "#fb9f3a"
             ],
             [
              0.8888888888888888,
              "#fdca26"
             ],
             [
              1,
              "#f0f921"
             ]
            ],
            "type": "contour"
           }
          ],
          "contourcarpet": [
           {
            "colorbar": {
             "outlinewidth": 0,
             "ticks": ""
            },
            "type": "contourcarpet"
           }
          ],
          "heatmap": [
           {
            "colorbar": {
             "outlinewidth": 0,
             "ticks": ""
            },
            "colorscale": [
             [
              0,
              "#0d0887"
             ],
             [
              0.1111111111111111,
              "#46039f"
             ],
             [
              0.2222222222222222,
              "#7201a8"
             ],
             [
              0.3333333333333333,
              "#9c179e"
             ],
             [
              0.4444444444444444,
              "#bd3786"
             ],
             [
              0.5555555555555556,
              "#d8576b"
             ],
             [
              0.6666666666666666,
              "#ed7953"
             ],
             [
              0.7777777777777778,
              "#fb9f3a"
             ],
             [
              0.8888888888888888,
              "#fdca26"
             ],
             [
              1,
              "#f0f921"
             ]
            ],
            "type": "heatmap"
           }
          ],
          "heatmapgl": [
           {
            "colorbar": {
             "outlinewidth": 0,
             "ticks": ""
            },
            "colorscale": [
             [
              0,
              "#0d0887"
             ],
             [
              0.1111111111111111,
              "#46039f"
             ],
             [
              0.2222222222222222,
              "#7201a8"
             ],
             [
              0.3333333333333333,
              "#9c179e"
             ],
             [
              0.4444444444444444,
              "#bd3786"
             ],
             [
              0.5555555555555556,
              "#d8576b"
             ],
             [
              0.6666666666666666,
              "#ed7953"
             ],
             [
              0.7777777777777778,
              "#fb9f3a"
             ],
             [
              0.8888888888888888,
              "#fdca26"
             ],
             [
              1,
              "#f0f921"
             ]
            ],
            "type": "heatmapgl"
           }
          ],
          "histogram": [
           {
            "marker": {
             "pattern": {
              "fillmode": "overlay",
              "size": 10,
              "solidity": 0.2
             }
            },
            "type": "histogram"
           }
          ],
          "histogram2d": [
           {
            "colorbar": {
             "outlinewidth": 0,
             "ticks": ""
            },
            "colorscale": [
             [
              0,
              "#0d0887"
             ],
             [
              0.1111111111111111,
              "#46039f"
             ],
             [
              0.2222222222222222,
              "#7201a8"
             ],
             [
              0.3333333333333333,
              "#9c179e"
             ],
             [
              0.4444444444444444,
              "#bd3786"
             ],
             [
              0.5555555555555556,
              "#d8576b"
             ],
             [
              0.6666666666666666,
              "#ed7953"
             ],
             [
              0.7777777777777778,
              "#fb9f3a"
             ],
             [
              0.8888888888888888,
              "#fdca26"
             ],
             [
              1,
              "#f0f921"
             ]
            ],
            "type": "histogram2d"
           }
          ],
          "histogram2dcontour": [
           {
            "colorbar": {
             "outlinewidth": 0,
             "ticks": ""
            },
            "colorscale": [
             [
              0,
              "#0d0887"
             ],
             [
              0.1111111111111111,
              "#46039f"
             ],
             [
              0.2222222222222222,
              "#7201a8"
             ],
             [
              0.3333333333333333,
              "#9c179e"
             ],
             [
              0.4444444444444444,
              "#bd3786"
             ],
             [
              0.5555555555555556,
              "#d8576b"
             ],
             [
              0.6666666666666666,
              "#ed7953"
             ],
             [
              0.7777777777777778,
              "#fb9f3a"
             ],
             [
              0.8888888888888888,
              "#fdca26"
             ],
             [
              1,
              "#f0f921"
             ]
            ],
            "type": "histogram2dcontour"
           }
          ],
          "mesh3d": [
           {
            "colorbar": {
             "outlinewidth": 0,
             "ticks": ""
            },
            "type": "mesh3d"
           }
          ],
          "parcoords": [
           {
            "line": {
             "colorbar": {
              "outlinewidth": 0,
              "ticks": ""
             }
            },
            "type": "parcoords"
           }
          ],
          "pie": [
           {
            "automargin": true,
            "type": "pie"
           }
          ],
          "scatter": [
           {
            "fillpattern": {
             "fillmode": "overlay",
             "size": 10,
             "solidity": 0.2
            },
            "type": "scatter"
           }
          ],
          "scatter3d": [
           {
            "line": {
             "colorbar": {
              "outlinewidth": 0,
              "ticks": ""
             }
            },
            "marker": {
             "colorbar": {
              "outlinewidth": 0,
              "ticks": ""
             }
            },
            "type": "scatter3d"
           }
          ],
          "scattercarpet": [
           {
            "marker": {
             "colorbar": {
              "outlinewidth": 0,
              "ticks": ""
             }
            },
            "type": "scattercarpet"
           }
          ],
          "scattergeo": [
           {
            "marker": {
             "colorbar": {
              "outlinewidth": 0,
              "ticks": ""
             }
            },
            "type": "scattergeo"
           }
          ],
          "scattergl": [
           {
            "marker": {
             "colorbar": {
              "outlinewidth": 0,
              "ticks": ""
             }
            },
            "type": "scattergl"
           }
          ],
          "scattermapbox": [
           {
            "marker": {
             "colorbar": {
              "outlinewidth": 0,
              "ticks": ""
             }
            },
            "type": "scattermapbox"
           }
          ],
          "scatterpolar": [
           {
            "marker": {
             "colorbar": {
              "outlinewidth": 0,
              "ticks": ""
             }
            },
            "type": "scatterpolar"
           }
          ],
          "scatterpolargl": [
           {
            "marker": {
             "colorbar": {
              "outlinewidth": 0,
              "ticks": ""
             }
            },
            "type": "scatterpolargl"
           }
          ],
          "scatterternary": [
           {
            "marker": {
             "colorbar": {
              "outlinewidth": 0,
              "ticks": ""
             }
            },
            "type": "scatterternary"
           }
          ],
          "surface": [
           {
            "colorbar": {
             "outlinewidth": 0,
             "ticks": ""
            },
            "colorscale": [
             [
              0,
              "#0d0887"
             ],
             [
              0.1111111111111111,
              "#46039f"
             ],
             [
              0.2222222222222222,
              "#7201a8"
             ],
             [
              0.3333333333333333,
              "#9c179e"
             ],
             [
              0.4444444444444444,
              "#bd3786"
             ],
             [
              0.5555555555555556,
              "#d8576b"
             ],
             [
              0.6666666666666666,
              "#ed7953"
             ],
             [
              0.7777777777777778,
              "#fb9f3a"
             ],
             [
              0.8888888888888888,
              "#fdca26"
             ],
             [
              1,
              "#f0f921"
             ]
            ],
            "type": "surface"
           }
          ],
          "table": [
           {
            "cells": {
             "fill": {
              "color": "#EBF0F8"
             },
             "line": {
              "color": "white"
             }
            },
            "header": {
             "fill": {
              "color": "#C8D4E3"
             },
             "line": {
              "color": "white"
             }
            },
            "type": "table"
           }
          ]
         },
         "layout": {
          "annotationdefaults": {
           "arrowcolor": "#2a3f5f",
           "arrowhead": 0,
           "arrowwidth": 1
          },
          "autotypenumbers": "strict",
          "coloraxis": {
           "colorbar": {
            "outlinewidth": 0,
            "ticks": ""
           }
          },
          "colorscale": {
           "diverging": [
            [
             0,
             "#8e0152"
            ],
            [
             0.1,
             "#c51b7d"
            ],
            [
             0.2,
             "#de77ae"
            ],
            [
             0.3,
             "#f1b6da"
            ],
            [
             0.4,
             "#fde0ef"
            ],
            [
             0.5,
             "#f7f7f7"
            ],
            [
             0.6,
             "#e6f5d0"
            ],
            [
             0.7,
             "#b8e186"
            ],
            [
             0.8,
             "#7fbc41"
            ],
            [
             0.9,
             "#4d9221"
            ],
            [
             1,
             "#276419"
            ]
           ],
           "sequential": [
            [
             0,
             "#0d0887"
            ],
            [
             0.1111111111111111,
             "#46039f"
            ],
            [
             0.2222222222222222,
             "#7201a8"
            ],
            [
             0.3333333333333333,
             "#9c179e"
            ],
            [
             0.4444444444444444,
             "#bd3786"
            ],
            [
             0.5555555555555556,
             "#d8576b"
            ],
            [
             0.6666666666666666,
             "#ed7953"
            ],
            [
             0.7777777777777778,
             "#fb9f3a"
            ],
            [
             0.8888888888888888,
             "#fdca26"
            ],
            [
             1,
             "#f0f921"
            ]
           ],
           "sequentialminus": [
            [
             0,
             "#0d0887"
            ],
            [
             0.1111111111111111,
             "#46039f"
            ],
            [
             0.2222222222222222,
             "#7201a8"
            ],
            [
             0.3333333333333333,
             "#9c179e"
            ],
            [
             0.4444444444444444,
             "#bd3786"
            ],
            [
             0.5555555555555556,
             "#d8576b"
            ],
            [
             0.6666666666666666,
             "#ed7953"
            ],
            [
             0.7777777777777778,
             "#fb9f3a"
            ],
            [
             0.8888888888888888,
             "#fdca26"
            ],
            [
             1,
             "#f0f921"
            ]
           ]
          },
          "colorway": [
           "#636efa",
           "#EF553B",
           "#00cc96",
           "#ab63fa",
           "#FFA15A",
           "#19d3f3",
           "#FF6692",
           "#B6E880",
           "#FF97FF",
           "#FECB52"
          ],
          "font": {
           "color": "#2a3f5f"
          },
          "geo": {
           "bgcolor": "white",
           "lakecolor": "white",
           "landcolor": "#E5ECF6",
           "showlakes": true,
           "showland": true,
           "subunitcolor": "white"
          },
          "hoverlabel": {
           "align": "left"
          },
          "hovermode": "closest",
          "mapbox": {
           "style": "light"
          },
          "paper_bgcolor": "white",
          "plot_bgcolor": "#E5ECF6",
          "polar": {
           "angularaxis": {
            "gridcolor": "white",
            "linecolor": "white",
            "ticks": ""
           },
           "bgcolor": "#E5ECF6",
           "radialaxis": {
            "gridcolor": "white",
            "linecolor": "white",
            "ticks": ""
           }
          },
          "scene": {
           "xaxis": {
            "backgroundcolor": "#E5ECF6",
            "gridcolor": "white",
            "gridwidth": 2,
            "linecolor": "white",
            "showbackground": true,
            "ticks": "",
            "zerolinecolor": "white"
           },
           "yaxis": {
            "backgroundcolor": "#E5ECF6",
            "gridcolor": "white",
            "gridwidth": 2,
            "linecolor": "white",
            "showbackground": true,
            "ticks": "",
            "zerolinecolor": "white"
           },
           "zaxis": {
            "backgroundcolor": "#E5ECF6",
            "gridcolor": "white",
            "gridwidth": 2,
            "linecolor": "white",
            "showbackground": true,
            "ticks": "",
            "zerolinecolor": "white"
           }
          },
          "shapedefaults": {
           "line": {
            "color": "#2a3f5f"
           }
          },
          "ternary": {
           "aaxis": {
            "gridcolor": "white",
            "linecolor": "white",
            "ticks": ""
           },
           "baxis": {
            "gridcolor": "white",
            "linecolor": "white",
            "ticks": ""
           },
           "bgcolor": "#E5ECF6",
           "caxis": {
            "gridcolor": "white",
            "linecolor": "white",
            "ticks": ""
           }
          },
          "title": {
           "x": 0.05
          },
          "xaxis": {
           "automargin": true,
           "gridcolor": "white",
           "linecolor": "white",
           "ticks": "",
           "title": {
            "standoff": 15
           },
           "zerolinecolor": "white",
           "zerolinewidth": 2
          },
          "yaxis": {
           "automargin": true,
           "gridcolor": "white",
           "linecolor": "white",
           "ticks": "",
           "title": {
            "standoff": 15
           },
           "zerolinecolor": "white",
           "zerolinewidth": 2
          }
         }
        },
        "title": {
         "text": "Perfomance da Corrida por Faixa Etária Através do Box Plot"
        },
        "xaxis": {
         "anchor": "y",
         "domain": [
          0,
          1
         ],
         "title": {
          "text": "Categoria_Sem_Sexo"
         }
        },
        "yaxis": {
         "anchor": "x",
         "domain": [
          0,
          1
         ],
         "title": {
          "text": "Pace_Final"
         }
        }
       }
      }
     },
     "metadata": {},
     "output_type": "display_data"
    }
   ],
   "source": [
    "fig = px.box(\n",
    "    dados_corrida_so_quem_completou,\n",
    "    x = 'Categoria_Sem_Sexo',\n",
    "    y='Pace_Final',\n",
    "    title = 'Perfomance da Corrida por Faixa Etária Através do Box Plot'\n",
    "    \n",
    ")\n",
    "\n",
    "\n",
    "\n",
    "fig.add_trace(\n",
    "    go.Scatter(  # Categoria correspondente ao seu tempo\n",
    "        x=['2529'],\n",
    "        y=[meu_pace],\n",
    "        mode='markers',\n",
    "        marker=dict(color='black', size=8),\n",
    "        name='Meu Tempo'\n",
    "    )\n",
    ")\n",
    "fig.show()"
   ]
  },
  {
   "cell_type": "markdown",
   "metadata": {},
   "source": [
    "![Gráfico Plotly](Perfomance_de_Corrida_Por_Faixa_Etária.png)"
   ]
  },
  {
   "cell_type": "markdown",
   "metadata": {},
   "source": [
    "* Um gráfico mais dificil de ler, por conta da quantidade de categorias, e até porque umas categorias tem poucos participantes.\n",
    "* Para isso, vou criar uma categoria que vai ser com relação a 10 anos, ou seja, vamos fazer de 1524, 2534 e assim pro diante. até 8099\n",
    "* Para a minha categoria, fiquei bem proximo ao Q3.\n"
   ]
  },
  {
   "cell_type": "code",
   "execution_count": 30,
   "metadata": {},
   "outputs": [
    {
     "name": "stderr",
     "output_type": "stream",
     "text": [
      "C:\\Users\\joaov\\AppData\\Local\\Temp\\ipykernel_14380\\4055608082.py:20: SettingWithCopyWarning:\n",
      "\n",
      "\n",
      "A value is trying to be set on a copy of a slice from a DataFrame.\n",
      "Try using .loc[row_indexer,col_indexer] = value instead\n",
      "\n",
      "See the caveats in the documentation: https://pandas.pydata.org/pandas-docs/stable/user_guide/indexing.html#returning-a-view-versus-a-copy\n",
      "\n"
     ]
    }
   ],
   "source": [
    "# Fazendo as categorias com 10 anos.\n",
    "def cria_categoria_10_anos(row):\n",
    "    if row in ['1519','2024']:\n",
    "        return '15-24'\n",
    "    elif row in ['2529','3034']:\n",
    "        return '25-34'\n",
    "    elif row in ['3539','4044']:\n",
    "        return '35-44'\n",
    "    elif row in ['4549','5054']:\n",
    "        return '45-54'\n",
    "    elif row in ['5559','6064']:\n",
    "        return '55-64'\n",
    "    elif row in ['6569','7074']:\n",
    "        return '65-74'\n",
    "    elif row in ['7579','8099']:\n",
    "        return '75-99'\n",
    "    else:\n",
    "        return np.nan\n",
    "    \n",
    "dados_corrida_so_quem_completou['Faixa Etária'] = dados_corrida_so_quem_completou['Categoria_Sem_Sexo'].apply(cria_categoria_10_anos)"
   ]
  },
  {
   "cell_type": "markdown",
   "metadata": {},
   "source": [
    "* Lembrando que os 5 melhores de cada sexo, não tem faixa etária definida e por isso ficarão com nan."
   ]
  },
  {
   "cell_type": "code",
   "execution_count": 32,
   "metadata": {},
   "outputs": [
    {
     "data": {
      "application/vnd.plotly.v1+json": {
       "config": {
        "plotlyServerURL": "https://plot.ly"
       },
       "data": [
        {
         "alignmentgroup": "True",
         "hovertemplate": "Faixa Etária=%{x}<br>Pace_Final=%{y}<extra></extra>",
         "legendgroup": "",
         "marker": {
          "color": "#636efa"
         },
         "name": "",
         "notched": false,
         "offsetgroup": "",
         "orientation": "v",
         "showlegend": false,
         "type": "box",
         "x": [
          null,
          null,
          null,
          null,
          null,
          "25-34",
          "25-34",
          "35-44",
          "25-34",
          "25-34",
          "35-44",
          "35-44",
          "35-44",
          "25-34",
          "25-34",
          "25-34",
          "55-64",
          "65-74",
          "45-54",
          "25-34",
          "45-54",
          "25-34",
          "25-34",
          "55-64",
          "55-64",
          "25-34",
          "25-34",
          "25-34",
          "25-34",
          null,
          "25-34",
          "35-44",
          "35-44",
          "45-54",
          null,
          "35-44",
          "35-44",
          "45-54",
          "25-34",
          "25-34",
          "35-44",
          "45-54",
          "45-54",
          "35-44",
          "35-44",
          "25-34",
          "45-54",
          "45-54",
          "25-34",
          "35-44",
          "45-54",
          "45-54",
          "35-44",
          "45-54",
          "25-34",
          "55-64",
          "45-54",
          "45-54",
          "35-44",
          "35-44",
          "45-54",
          "45-54",
          "15-24",
          "25-34",
          "15-24",
          "25-34",
          "15-24",
          "55-64",
          "25-34",
          "25-34",
          "15-24",
          "35-44",
          "45-54",
          "25-34",
          "35-44",
          "25-34",
          "25-34",
          "15-24",
          "35-44",
          "35-44",
          "45-54",
          "35-44",
          "35-44",
          "45-54",
          "15-24",
          "15-24",
          "25-34",
          "45-54",
          "55-64",
          "25-34",
          "45-54",
          "35-44",
          "55-64",
          "35-44",
          "75-99",
          "55-64",
          "25-34",
          "35-44",
          "15-24",
          "15-24",
          "35-44",
          "25-34",
          "25-34",
          "55-64",
          "35-44",
          "15-24",
          "15-24",
          null,
          "35-44",
          "35-44",
          "35-44",
          "35-44",
          "25-34",
          "35-44",
          "15-24",
          "35-44",
          "35-44",
          "25-34",
          "45-54",
          "25-34",
          "15-24",
          "25-34",
          null,
          "35-44",
          "35-44",
          "35-44",
          "15-24",
          "55-64",
          "15-24",
          "35-44",
          "35-44",
          "35-44",
          "35-44",
          "55-64",
          "35-44",
          "35-44",
          null,
          "45-54",
          "15-24",
          "25-34",
          "45-54",
          "25-34",
          "15-24",
          "35-44",
          "35-44",
          "35-44",
          "45-54",
          "45-54",
          "35-44",
          "25-34",
          "35-44",
          "45-54",
          "25-34",
          "45-54",
          "25-34",
          "45-54",
          "45-54",
          "45-54",
          "15-24",
          "35-44",
          "45-54",
          "25-34",
          "45-54",
          "45-54",
          "25-34",
          "45-54",
          "25-34",
          "45-54",
          "45-54",
          "35-44",
          "45-54",
          "35-44",
          "55-64",
          "45-54",
          "45-54",
          "45-54",
          "65-74",
          "35-44",
          "45-54",
          "35-44",
          "45-54",
          "45-54",
          "45-54",
          "25-34",
          "35-44",
          "65-74",
          "15-24",
          "25-34",
          "55-64",
          "35-44",
          "25-34",
          "35-44",
          "15-24",
          "35-44",
          "35-44",
          "35-44",
          "55-64",
          "45-54",
          "45-54",
          "35-44",
          "25-34",
          "45-54",
          "35-44",
          "35-44",
          "45-54",
          "35-44",
          "15-24",
          "35-44",
          "45-54",
          "35-44",
          "35-44",
          "35-44",
          "25-34",
          "25-34",
          "45-54",
          "35-44",
          "25-34",
          "35-44",
          "25-34",
          "45-54",
          "55-64",
          "65-74",
          "45-54",
          "25-34",
          "35-44",
          "25-34",
          "55-64",
          "55-64",
          "25-34",
          "55-64",
          "25-34",
          "25-34",
          "25-34",
          "35-44",
          "45-54",
          "25-34",
          "45-54",
          "55-64",
          "35-44",
          "25-34",
          "45-54",
          "25-34",
          "35-44",
          "25-34",
          "35-44",
          "15-24",
          "15-24",
          "25-34",
          "15-24",
          "55-64",
          "55-64",
          "35-44",
          "35-44",
          "35-44",
          "55-64",
          "35-44",
          "65-74",
          "25-34",
          "55-64",
          "45-54",
          "35-44",
          "65-74",
          "45-54",
          "35-44",
          "25-34",
          "35-44",
          "35-44",
          "25-34",
          "35-44",
          "35-44",
          "35-44",
          "55-64",
          "25-34",
          "25-34",
          "25-34",
          "35-44",
          "25-34",
          "45-54",
          "45-54",
          "35-44",
          "35-44",
          "45-54",
          "35-44",
          "25-34",
          "15-24",
          "45-54",
          "35-44",
          "25-34",
          "15-24",
          "35-44",
          "45-54",
          "25-34",
          "35-44",
          "25-34",
          "45-54",
          "35-44",
          "35-44",
          "35-44",
          "35-44",
          "45-54",
          "35-44",
          "25-34",
          "35-44",
          "35-44",
          "45-54",
          "55-64",
          "35-44",
          "45-54",
          "35-44",
          "35-44",
          "35-44",
          "75-99",
          "25-34",
          "45-54",
          "35-44",
          "45-54",
          "25-34",
          "55-64",
          "35-44",
          "55-64",
          "45-54",
          "25-34",
          "25-34",
          "65-74",
          "25-34",
          "25-34",
          "35-44",
          "35-44",
          "15-24",
          "35-44",
          "45-54",
          "25-34",
          "45-54",
          "25-34",
          "35-44",
          "25-34",
          "45-54",
          "25-34",
          "55-64",
          "35-44",
          "25-34",
          "25-34",
          "45-54",
          "55-64",
          "35-44",
          "35-44",
          "55-64",
          "45-54",
          "35-44",
          "25-34",
          "45-54",
          "25-34",
          "35-44",
          "35-44",
          "25-34",
          "45-54",
          "25-34",
          "45-54",
          "35-44",
          "35-44",
          "55-64",
          "45-54",
          "15-24",
          "15-24",
          "35-44",
          "25-34",
          "55-64",
          "65-74",
          "25-34",
          "35-44",
          "65-74",
          "55-64",
          "25-34",
          "55-64",
          "55-64",
          "35-44",
          "55-64",
          "25-34",
          "35-44",
          "25-34",
          "25-34",
          "35-44",
          "25-34",
          "35-44",
          "35-44",
          "65-74",
          "35-44",
          "35-44",
          "35-44",
          "75-99",
          "25-34",
          "35-44",
          "75-99",
          "45-54",
          "35-44",
          "45-54",
          "25-34",
          "55-64",
          "25-34",
          "45-54",
          "25-34",
          "55-64",
          "55-64",
          "55-64",
          "25-34",
          "35-44",
          "25-34",
          "25-34",
          "35-44",
          "45-54",
          "45-54",
          "45-54",
          "35-44",
          "25-34",
          "35-44",
          "65-74",
          "25-34",
          "55-64",
          null,
          "35-44",
          "25-34",
          "55-64",
          "35-44",
          "35-44",
          "35-44",
          "35-44",
          "55-64",
          "55-64",
          "35-44",
          "35-44",
          "25-34",
          "15-24",
          "35-44",
          "25-34",
          "45-54",
          "35-44",
          "45-54",
          "45-54",
          "45-54",
          "45-54",
          "25-34",
          "25-34",
          "15-24",
          "45-54",
          "25-34",
          "25-34",
          "35-44",
          "35-44",
          "35-44",
          "35-44",
          "35-44",
          "25-34",
          "35-44",
          "35-44",
          "45-54",
          "15-24",
          "25-34",
          "35-44",
          "35-44",
          "45-54",
          "45-54",
          "55-64",
          "55-64",
          "15-24",
          "35-44",
          "35-44",
          "65-74",
          "55-64",
          "35-44",
          "55-64",
          "45-54",
          "35-44",
          "15-24",
          "35-44",
          "45-54",
          "65-74",
          "35-44",
          "15-24",
          "45-54",
          "55-64",
          "35-44",
          "35-44",
          "55-64",
          "25-34",
          "55-64",
          "35-44",
          "35-44",
          "15-24",
          "35-44",
          "75-99",
          "25-34",
          "35-44",
          "25-34",
          "55-64",
          "15-24",
          "45-54",
          "45-54",
          "35-44",
          "45-54",
          "35-44",
          "25-34",
          "15-24",
          "15-24",
          "25-34",
          "45-54",
          "45-54",
          "65-74",
          "25-34",
          "25-34",
          "45-54",
          "25-34",
          "35-44",
          "35-44",
          "35-44",
          "45-54",
          "25-34",
          "25-34",
          "35-44",
          "55-64",
          "55-64",
          "15-24",
          "55-64",
          "35-44",
          "65-74",
          "55-64",
          "35-44",
          "35-44",
          "15-24",
          "25-34",
          "45-54",
          "25-34",
          "65-74",
          "15-24",
          "35-44",
          "35-44",
          "35-44",
          "15-24",
          "25-34",
          "45-54",
          "35-44",
          "25-34",
          "35-44",
          "45-54",
          "55-64",
          "35-44",
          "65-74",
          "35-44",
          "35-44",
          "25-34",
          "65-74",
          "35-44",
          "25-34",
          "45-54",
          "45-54",
          "55-64",
          "65-74",
          "35-44",
          "45-54",
          "35-44",
          "35-44",
          "35-44",
          "65-74",
          "45-54",
          "45-54",
          "35-44",
          "35-44",
          "35-44",
          "35-44",
          "55-64",
          "25-34",
          "35-44",
          "45-54",
          "25-34",
          "25-34",
          "35-44",
          "25-34",
          "25-34",
          "65-74",
          "25-34",
          "55-64",
          "35-44",
          "35-44",
          "35-44",
          "35-44",
          "25-34",
          "55-64",
          "45-54",
          "35-44",
          "15-24",
          "55-64",
          "35-44",
          "35-44",
          "35-44",
          "55-64",
          "25-34",
          "55-64",
          "25-34",
          "55-64",
          "25-34",
          "55-64",
          "65-74",
          "35-44",
          "35-44",
          "25-34",
          "45-54",
          "45-54",
          "35-44",
          "35-44",
          "25-34",
          "35-44",
          "35-44",
          "35-44",
          "65-74",
          "55-64",
          "25-34",
          "25-34",
          "35-44",
          "25-34",
          "25-34",
          "25-34",
          "55-64",
          "45-54",
          "45-54",
          "45-54",
          "55-64",
          "75-99",
          "55-64",
          "15-24",
          "45-54",
          "35-44",
          "55-64",
          "35-44",
          "35-44",
          "45-54",
          "35-44",
          "45-54",
          "35-44",
          "15-24",
          "25-34",
          "55-64",
          "25-34",
          "75-99",
          "35-44",
          "15-24",
          "45-54",
          "55-64",
          "55-64",
          "35-44",
          "55-64",
          "35-44",
          "25-34",
          "35-44",
          "55-64",
          "45-54",
          "25-34",
          "25-34",
          "55-64",
          "55-64",
          "25-34",
          "35-44",
          "35-44",
          "25-34",
          "15-24",
          "35-44",
          "45-54",
          "55-64",
          "55-64",
          "45-54",
          "65-74",
          "25-34",
          "35-44",
          "45-54",
          "35-44",
          "55-64",
          "65-74",
          "45-54",
          "55-64",
          "45-54",
          "55-64",
          "25-34",
          "55-64",
          "35-44",
          "65-74",
          "45-54",
          "35-44",
          "35-44",
          "35-44",
          "35-44",
          "75-99",
          "45-54",
          "45-54",
          "65-74",
          "45-54",
          "65-74",
          "35-44",
          "25-34",
          "25-34",
          "25-34",
          "45-54",
          "15-24",
          "35-44",
          "55-64",
          "25-34",
          "55-64",
          "25-34",
          "25-34",
          "55-64",
          "15-24",
          "35-44",
          "45-54",
          "65-74",
          "25-34",
          "25-34",
          "35-44",
          "35-44",
          "45-54",
          "15-24",
          "25-34",
          "45-54",
          "65-74",
          "35-44",
          "35-44",
          "15-24",
          "35-44",
          "25-34",
          "25-34",
          "35-44",
          "65-74",
          "35-44",
          "25-34",
          "25-34",
          "35-44",
          "55-64",
          "55-64",
          "35-44",
          "35-44",
          "25-34",
          "45-54",
          "35-44",
          "45-54",
          "35-44",
          "35-44",
          "35-44",
          "55-64",
          "35-44",
          "55-64",
          "65-74",
          "25-34",
          "25-34",
          "35-44",
          "45-54",
          "65-74",
          "65-74",
          "35-44",
          "45-54",
          "25-34",
          "25-34",
          "35-44",
          "35-44",
          "45-54",
          "65-74",
          "25-34",
          "35-44",
          "55-64",
          "45-54",
          "45-54",
          "25-34",
          "35-44",
          "45-54",
          "25-34",
          "65-74",
          "35-44",
          "55-64",
          "45-54",
          "55-64",
          "55-64",
          "35-44",
          "55-64",
          "35-44",
          "65-74",
          "35-44",
          "55-64",
          "35-44",
          "35-44",
          "35-44",
          "35-44",
          "55-64",
          "25-34",
          "25-34",
          "55-64",
          "45-54",
          "45-54",
          "35-44",
          "35-44",
          "25-34",
          "25-34",
          "15-24",
          "45-54",
          "25-34",
          "55-64",
          "45-54",
          "25-34",
          "25-34",
          "65-74",
          "55-64",
          "35-44",
          "55-64",
          "65-74",
          "15-24",
          "25-34",
          "25-34",
          "45-54",
          "75-99",
          "25-34",
          "65-74",
          "45-54",
          "55-64",
          "65-74",
          "25-34",
          "55-64",
          "35-44",
          "35-44",
          "55-64",
          "25-34",
          "25-34",
          "35-44",
          "35-44",
          "65-74",
          "55-64",
          "55-64",
          "45-54",
          "25-34",
          "35-44",
          "35-44",
          "15-24",
          "35-44",
          "75-99",
          "55-64",
          "55-64",
          "45-54",
          "35-44",
          "35-44",
          "25-34",
          "35-44",
          "35-44",
          "65-74",
          "45-54",
          "35-44",
          "55-64",
          "45-54",
          "25-34",
          "65-74",
          "35-44",
          "45-54",
          "25-34",
          "25-34",
          "45-54",
          "45-54",
          "45-54",
          "55-64",
          "55-64",
          "35-44",
          "35-44",
          "35-44",
          "35-44",
          "45-54",
          "55-64",
          "75-99",
          "35-44",
          "45-54",
          "35-44",
          "25-34",
          "25-34",
          "45-54",
          "45-54",
          "35-44",
          "55-64",
          "45-54",
          "45-54",
          "25-34",
          "25-34",
          "15-24",
          "45-54",
          "25-34",
          "35-44",
          "35-44",
          "35-44",
          "35-44",
          "55-64",
          "35-44",
          "35-44",
          "45-54",
          "35-44",
          "45-54",
          "35-44",
          "55-64",
          "55-64",
          "45-54",
          "35-44",
          "35-44",
          "45-54",
          "35-44",
          "25-34",
          "35-44",
          "35-44",
          "45-54",
          "45-54",
          "25-34",
          "45-54",
          "15-24",
          "35-44",
          "55-64",
          "45-54",
          "35-44",
          "25-34",
          "65-74",
          "45-54",
          "65-74",
          "35-44",
          "35-44",
          "55-64",
          "15-24",
          "35-44",
          "15-24",
          "45-54",
          "65-74",
          "35-44",
          "25-34",
          "55-64",
          "45-54",
          "65-74",
          "35-44",
          "65-74",
          "55-64",
          "45-54",
          "55-64",
          "45-54",
          "25-34",
          "25-34",
          "75-99",
          "55-64",
          "75-99",
          "35-44",
          "75-99",
          "45-54",
          "25-34",
          "35-44",
          "45-54",
          "15-24",
          "55-64",
          "55-64",
          "65-74",
          "65-74",
          "65-74",
          "55-64",
          "35-44",
          "55-64",
          "35-44"
         ],
         "x0": " ",
         "xaxis": "x",
         "y": [
          3.1595576619273302,
          3.3707865168539324,
          3.4443168771526977,
          3.4462952326249283,
          3.4502587694077054,
          3.544004725339634,
          3.621001810500905,
          3.621001810500905,
          3.6607687614399023,
          3.6607687614399023,
          3.780718336483932,
          3.7854889589905363,
          3.8095238095238093,
          3.870967741935484,
          3.878474466709761,
          3.8935756002595716,
          3.90625,
          3.9761431411530817,
          3.9787798408488064,
          3.9787798408488064,
          3.9946737683089215,
          4,
          4.008016032064128,
          4.029550033579583,
          4.0733197556008145,
          4.078857919782461,
          4.118050789293068,
          4.123711340206185,
          4.135079255685734,
          4.14651002073255,
          4.14651002073255,
          4.14651002073255,
          4.158004158004158,
          4.178272980501393,
          4.1928721174004195,
          4.195804195804196,
          4.198740377886634,
          4.204625087596356,
          4.240282685512367,
          4.2492917847025495,
          4.2492917847025495,
          4.261363636363637,
          4.264392324093817,
          4.279600570613409,
          4.288777698355968,
          4.288777698355968,
          4.291845493562231,
          4.291845493562231,
          4.297994269340974,
          4.301075268817205,
          4.313443565780014,
          4.319654427645788,
          4.344677769732078,
          4.354136429608128,
          4.363636363636363,
          4.369992716678805,
          4.385964912280702,
          4.389173372348208,
          4.389173372348208,
          4.402054292002934,
          4.405286343612335,
          4.411764705882353,
          4.428044280442804,
          4.428044280442804,
          4.434589800443459,
          4.444444444444445,
          4.451038575667655,
          4.4543429844097995,
          4.4543429844097995,
          4.49438202247191,
          4.497751124437781,
          4.504504504504505,
          4.507888805409467,
          4.511278195488722,
          4.511278195488722,
          4.52147701582517,
          4.524886877828054,
          4.524886877828054,
          4.524886877828054,
          4.524886877828054,
          4.528301886792453,
          4.531722054380665,
          4.531722054380665,
          4.552352048558422,
          4.552352048558422,
          4.562737642585551,
          4.566210045662101,
          4.566210045662101,
          4.580152671755726,
          4.580152671755726,
          4.587155963302752,
          4.597701149425287,
          4.597701149425287,
          4.601226993865031,
          4.604758250191865,
          4.6082949308755765,
          4.622496147919876,
          4.626060138781804,
          4.633204633204634,
          4.640371229698376,
          4.640371229698376,
          4.647560030983733,
          4.662004662004662,
          4.662004662004662,
          4.665629860031104,
          4.669260700389105,
          4.672897196261682,
          4.676539360872954,
          4.6801872074882995,
          4.68384074941452,
          4.68384074941452,
          4.68384074941452,
          4.68384074941452,
          4.6875,
          4.6875,
          4.691164972634871,
          4.694835680751174,
          4.698512137823023,
          4.702194357366771,
          4.702194357366771,
          4.7095761381475665,
          4.7095761381475665,
          4.7095761381475665,
          4.713275726630008,
          4.724409448818898,
          4.724409448818898,
          4.724409448818898,
          4.728132387706856,
          4.728132387706856,
          4.73559589581689,
          4.73559589581689,
          4.743083003952569,
          4.746835443037974,
          4.758128469468676,
          4.765687053216839,
          4.765687053216839,
          4.765687053216839,
          4.77326968973747,
          4.77326968973747,
          4.77326968973747,
          4.777070063694267,
          4.803843074459568,
          4.803843074459568,
          4.803843074459568,
          4.8076923076923075,
          4.811547714514836,
          4.815409309791332,
          4.815409309791332,
          4.815409309791332,
          4.819277108433735,
          4.823151125401929,
          4.823151125401929,
          4.823151125401929,
          4.823151125401929,
          4.8270313757039425,
          4.830917874396135,
          4.8348106365834,
          4.8348106365834,
          4.842615012106537,
          4.846526655896607,
          4.846526655896607,
          4.8543689320388355,
          4.858299595141701,
          4.862236628849271,
          4.862236628849271,
          4.87012987012987,
          4.8740861088545895,
          4.8740861088545895,
          4.878048780487805,
          4.882017900732303,
          4.88599348534202,
          4.88599348534202,
          4.88599348534202,
          4.893964110929853,
          4.905968928863451,
          4.918032786885246,
          4.9220672682526665,
          4.930156121610517,
          4.938271604938271,
          4.938271604938271,
          4.938271604938271,
          4.938271604938271,
          4.9464138499587795,
          4.9464138499587795,
          4.9464138499587795,
          4.9464138499587795,
          4.9504950495049505,
          4.958677685950414,
          4.958677685950414,
          4.962779156327543,
          4.971002485501242,
          4.987531172069826,
          4.9916805324459235,
          4.9916805324459235,
          5.004170141784821,
          5.004170141784821,
          5.016722408026755,
          5.020920502092051,
          5.020920502092051,
          5.029337803855825,
          5.029337803855825,
          5.029337803855825,
          5.029337803855825,
          5.037783375314861,
          5.037783375314861,
          5.037783375314861,
          5.046257359125315,
          5.05050505050505,
          5.054759898904802,
          5.059021922428331,
          5.059021922428331,
          5.059021922428331,
          5.0675675675675675,
          5.07185122569738,
          5.0761421319796955,
          5.080440304826418,
          5.080440304826418,
          5.089058524173028,
          5.1020408163265305,
          5.1020408163265305,
          5.1020408163265305,
          5.1063829787234045,
          5.1063829787234045,
          5.110732538330494,
          5.115089514066496,
          5.1194539249146755,
          5.1194539249146755,
          5.1194539249146755,
          5.123825789923142,
          5.123825789923142,
          5.128205128205129,
          5.128205128205129,
          5.132591958939265,
          5.132591958939265,
          5.136986301369864,
          5.136986301369864,
          5.136986301369864,
          5.141388174807198,
          5.145797598627787,
          5.150214592274678,
          5.150214592274678,
          5.150214592274678,
          5.150214592274678,
          5.150214592274678,
          5.150214592274678,
          5.150214592274678,
          5.154639175257731,
          5.159071367153912,
          5.163511187607574,
          5.167958656330749,
          5.167958656330749,
          5.167958656330749,
          5.172413793103448,
          5.172413793103448,
          5.176876617773943,
          5.181347150259067,
          5.181347150259067,
          5.190311418685121,
          5.190311418685121,
          5.194805194805195,
          5.199306759098787,
          5.199306759098787,
          5.199306759098787,
          5.203816131830009,
          5.203816131830009,
          5.203816131830009,
          5.208333333333334,
          5.208333333333334,
          5.2264808362369335,
          5.2264808362369335,
          5.2264808362369335,
          5.2264808362369335,
          5.2264808362369335,
          5.2264808362369335,
          5.231037489102005,
          5.231037489102005,
          5.2356020942408374,
          5.240174672489084,
          5.244755244755245,
          5.244755244755245,
          5.244755244755245,
          5.244755244755245,
          5.253940455341506,
          5.253940455341506,
          5.25854513584575,
          5.267778753292362,
          5.267778753292362,
          5.267778753292362,
          5.267778753292362,
          5.277044854881267,
          5.277044854881267,
          5.277044854881267,
          5.277044854881267,
          5.281690140845071,
          5.281690140845071,
          5.286343612334802,
          5.286343612334802,
          5.291005291005291,
          5.291005291005291,
          5.29567519858782,
          5.300353356890459,
          5.300353356890459,
          5.305039787798409,
          5.305039787798409,
          5.309734513274336,
          5.314437555358725,
          5.314437555358725,
          5.314437555358725,
          5.319148936170213,
          5.319148936170213,
          5.319148936170213,
          5.323868677905945,
          5.328596802841918,
          5.328596802841918,
          5.328596802841918,
          5.328596802841918,
          5.333333333333333,
          5.338078291814947,
          5.342831700801424,
          5.342831700801424,
          5.357142857142858,
          5.357142857142858,
          5.357142857142858,
          5.361930294906166,
          5.361930294906166,
          5.366726296958856,
          5.366726296958856,
          5.371530886302597,
          5.371530886302597,
          5.371530886302597,
          5.376344086021505,
          5.376344086021505,
          5.376344086021505,
          5.376344086021505,
          5.376344086021505,
          5.376344086021505,
          5.376344086021505,
          5.381165919282511,
          5.381165919282511,
          5.381165919282511,
          5.381165919282511,
          5.390835579514825,
          5.390835579514825,
          5.390835579514825,
          5.39568345323741,
          5.39568345323741,
          5.4005400540054005,
          5.405405405405405,
          5.405405405405405,
          5.410279531109107,
          5.410279531109107,
          5.415162454873646,
          5.415162454873646,
          5.420054200542006,
          5.420054200542006,
          5.420054200542006,
          5.420054200542006,
          5.424954792043399,
          5.4298642533936645,
          5.4298642533936645,
          5.4298642533936645,
          5.4298642533936645,
          5.434782608695652,
          5.434782608695652,
          5.434782608695652,
          5.434782608695652,
          5.43970988213962,
          5.43970988213962,
          5.44464609800363,
          5.44464609800363,
          5.4495912806539515,
          5.4495912806539515,
          5.454545454545454,
          5.454545454545454,
          5.454545454545454,
          5.454545454545454,
          5.45950864422202,
          5.45950864422202,
          5.46448087431694,
          5.46448087431694,
          5.46448087431694,
          5.469462169553327,
          5.474452554744525,
          5.474452554744525,
          5.479452054794521,
          5.479452054794521,
          5.484460694698355,
          5.484460694698355,
          5.484460694698355,
          5.484460694698355,
          5.489478499542543,
          5.489478499542543,
          5.489478499542543,
          5.489478499542543,
          5.499541704857928,
          5.499541704857928,
          5.499541704857928,
          5.504587155963303,
          5.504587155963303,
          5.504587155963303,
          5.509641873278237,
          5.514705882352941,
          5.519779208831647,
          5.524861878453039,
          5.524861878453039,
          5.535055350553505,
          5.535055350553505,
          5.535055350553505,
          5.535055350553505,
          5.54016620498615,
          5.54016620498615,
          5.54016620498615,
          5.545286506469501,
          5.545286506469501,
          5.550416281221091,
          5.555555555555555,
          5.555555555555555,
          5.565862708719852,
          5.565862708719852,
          5.571030640668524,
          5.571030640668524,
          5.571030640668524,
          5.5762081784386615,
          5.5762081784386615,
          5.5762081784386615,
          5.5762081784386615,
          5.5762081784386615,
          5.5813953488372094,
          5.58659217877095,
          5.58659217877095,
          5.58659217877095,
          5.58659217877095,
          5.58659217877095,
          5.58659217877095,
          5.591798695246971,
          5.591798695246971,
          5.597014925373134,
          5.597014925373134,
          5.597014925373134,
          5.597014925373134,
          5.597014925373134,
          5.602240896358543,
          5.607476635514019,
          5.607476635514019,
          5.612722170252573,
          5.617977528089888,
          5.623242736644799,
          5.628517823639775,
          5.628517823639775,
          5.628517823639775,
          5.628517823639775,
          5.628517823639775,
          5.633802816901408,
          5.633802816901408,
          5.639097744360902,
          5.639097744360902,
          5.639097744360902,
          5.639097744360902,
          5.639097744360902,
          5.639097744360902,
          5.644402634054562,
          5.644402634054562,
          5.644402634054562,
          5.655042412818096,
          5.655042412818096,
          5.660377358490567,
          5.660377358490567,
          5.660377358490567,
          5.665722379603399,
          5.665722379603399,
          5.665722379603399,
          5.665722379603399,
          5.671077504725898,
          5.671077504725898,
          5.676442762535477,
          5.676442762535477,
          5.676442762535477,
          5.681818181818182,
          5.6872037914691935,
          5.6872037914691935,
          5.692599620493359,
          5.692599620493359,
          5.692599620493359,
          5.692599620493359,
          5.692599620493359,
          5.692599620493359,
          5.692599620493359,
          5.692599620493359,
          5.698005698005699,
          5.7034220532319395,
          5.7034220532319395,
          5.7034220532319395,
          5.7034220532319395,
          5.714285714285714,
          5.714285714285714,
          5.719733079122975,
          5.719733079122975,
          5.7251908396946565,
          5.7251908396946565,
          5.730659025787965,
          5.730659025787965,
          5.730659025787965,
          5.730659025787965,
          5.730659025787965,
          5.736137667304015,
          5.741626794258374,
          5.74712643678161,
          5.752636625119846,
          5.752636625119846,
          5.752636625119846,
          5.752636625119846,
          5.752636625119846,
          5.752636625119846,
          5.758157389635317,
          5.758157389635317,
          5.7747834456207885,
          5.780346820809248,
          5.780346820809248,
          5.780346820809248,
          5.785920925747349,
          5.7915057915057915,
          5.797101449275362,
          5.802707930367505,
          5.802707930367505,
          5.802707930367505,
          5.802707930367505,
          5.802707930367505,
          5.808325266214908,
          5.808325266214908,
          5.808325266214908,
          5.813953488372093,
          5.813953488372093,
          5.819592628516004,
          5.825242718446601,
          5.830903790087464,
          5.830903790087464,
          5.830903790087464,
          5.836575875486382,
          5.836575875486382,
          5.836575875486382,
          5.842259006815969,
          5.842259006815969,
          5.847953216374269,
          5.847953216374269,
          5.847953216374269,
          5.847953216374269,
          5.853658536585366,
          5.859375,
          5.870841487279843,
          5.870841487279843,
          5.870841487279843,
          5.876591576885406,
          5.876591576885406,
          5.882352941176471,
          5.888125613346419,
          5.888125613346419,
          5.893909626719057,
          5.893909626719057,
          5.893909626719057,
          5.893909626719057,
          5.893909626719057,
          5.899705014749262,
          5.899705014749262,
          5.899705014749262,
          5.905511811023622,
          5.905511811023622,
          5.905511811023622,
          5.905511811023622,
          5.9171597633136095,
          5.9171597633136095,
          5.9171597633136095,
          5.9171597633136095,
          5.9171597633136095,
          5.9171597633136095,
          5.9171597633136095,
          5.9171597633136095,
          5.923000987166831,
          5.923000987166831,
          5.928853754940712,
          5.934718100890208,
          5.934718100890208,
          5.9523809523809526,
          5.9523809523809526,
          5.964214711729622,
          5.964214711729622,
          5.964214711729622,
          5.976095617529881,
          5.982053838484546,
          5.9880239520958085,
          5.9880239520958085,
          5.994005994005994,
          5.994005994005994,
          5.994005994005994,
          6.018054162487462,
          6.018054162487462,
          6.024096385542168,
          6.030150753768845,
          6.036217303822938,
          6.036217303822938,
          6.036217303822938,
          6.036217303822938,
          6.0606060606060606,
          6.0606060606060606,
          6.0606060606060606,
          6.0606060606060606,
          6.0606060606060606,
          6.072874493927125,
          6.072874493927125,
          6.072874493927125,
          6.072874493927125,
          6.079027355623101,
          6.079027355623101,
          6.079027355623101,
          6.079027355623101,
          6.079027355623101,
          6.085192697768763,
          6.091370558375635,
          6.091370558375635,
          6.091370558375635,
          6.091370558375635,
          6.097560975609756,
          6.109979633401222,
          6.109979633401222,
          6.109979633401222,
          6.116207951070336,
          6.116207951070336,
          6.116207951070336,
          6.116207951070336,
          6.122448979591836,
          6.134969325153374,
          6.141248720573183,
          6.141248720573183,
          6.153846153846154,
          6.153846153846154,
          6.153846153846154,
          6.153846153846154,
          6.160164271047228,
          6.160164271047228,
          6.160164271047228,
          6.160164271047228,
          6.160164271047228,
          6.166495375128468,
          6.166495375128468,
          6.172839506172839,
          6.179196704428424,
          6.185567010309279,
          6.185567010309279,
          6.185567010309279,
          6.185567010309279,
          6.191950464396285,
          6.198347107438017,
          6.211180124223603,
          6.217616580310881,
          6.224066390041493,
          6.230529595015576,
          6.237006237006238,
          6.243496357960458,
          6.243496357960458,
          6.25,
          6.25,
          6.25,
          6.256517205422315,
          6.263048016701461,
          6.263048016701461,
          6.269592476489028,
          6.269592476489028,
          6.269592476489028,
          6.2761506276150625,
          6.2761506276150625,
          6.2761506276150625,
          6.282722513089005,
          6.282722513089005,
          6.282722513089005,
          6.282722513089005,
          6.289308176100629,
          6.289308176100629,
          6.295907660020987,
          6.295907660020987,
          6.302521008403362,
          6.309148264984227,
          6.309148264984227,
          6.309148264984227,
          6.315789473684211,
          6.315789473684211,
          6.322444678609062,
          6.329113924050633,
          6.329113924050633,
          6.335797254487856,
          6.335797254487856,
          6.335797254487856,
          6.34920634920635,
          6.3559322033898304,
          6.3559322033898304,
          6.3559322033898304,
          6.3559322033898304,
          6.3559322033898304,
          6.362672322375398,
          6.376195536663125,
          6.382978723404255,
          6.382978723404255,
          6.3965884861407245,
          6.3965884861407245,
          6.3965884861407245,
          6.3965884861407245,
          6.4034151547492,
          6.4034151547492,
          6.4034151547492,
          6.410256410256411,
          6.410256410256411,
          6.4171122994652405,
          6.4239828693790155,
          6.430868167202572,
          6.430868167202572,
          6.437768240343347,
          6.4446831364124595,
          6.451612903225806,
          6.458557588805167,
          6.4655172413793105,
          6.4655172413793105,
          6.4655172413793105,
          6.479481641468682,
          6.500541711809317,
          6.507592190889371,
          6.514657980456025,
          6.521739130434783,
          6.521739130434783,
          6.5359477124183005,
          6.543075245365322,
          6.543075245365322,
          6.557377049180328,
          6.557377049180328,
          6.557377049180328,
          6.571741511500547,
          6.571741511500547,
          6.578947368421053,
          6.593406593406594,
          6.607929515418502,
          6.607929515418502,
          6.615214994487321,
          6.615214994487321,
          6.615214994487321,
          6.6298342541436455,
          6.6298342541436455,
          6.6298342541436455,
          6.637168141592921,
          6.651884700665189,
          6.659267480577137,
          6.666666666666667,
          6.674082313681868,
          6.674082313681868,
          6.674082313681868,
          6.681514476614699,
          6.681514476614699,
          6.681514476614699,
          6.681514476614699,
          6.68896321070234,
          6.68896321070234,
          6.703910614525141,
          6.7114093959731544,
          6.7114093959731544,
          6.71892497200448,
          6.71892497200448,
          6.726457399103139,
          6.741573033707865,
          6.741573033707865,
          6.749156355455567,
          6.756756756756756,
          6.756756756756756,
          6.764374295377678,
          6.764374295377678,
          6.772009029345373,
          6.787330316742081,
          6.787330316742081,
          6.795016987542469,
          6.795016987542469,
          6.795016987542469,
          6.795016987542469,
          6.795016987542469,
          6.81044267877412,
          6.8181818181818175,
          6.8181818181818175,
          6.8181818181818175,
          6.825938566552901,
          6.825938566552901,
          6.825938566552901,
          6.825938566552901,
          6.825938566552901,
          6.83371298405467,
          6.83371298405467,
          6.83371298405467,
          6.83371298405467,
          6.83371298405467,
          6.83371298405467,
          6.83371298405467,
          6.841505131128849,
          6.857142857142857,
          6.857142857142857,
          6.857142857142857,
          6.857142857142857,
          6.8728522336769755,
          6.8728522336769755,
          6.880733944954128,
          6.8886337543053955,
          6.8886337543053955,
          6.8965517241379315,
          6.904487917146145,
          6.904487917146145,
          6.928406466512702,
          6.936416184971098,
          6.952491309385863,
          6.960556844547565,
          6.960556844547565,
          6.968641114982579,
          6.968641114982579,
          6.968641114982579,
          6.968641114982579,
          6.976744186046512,
          6.976744186046512,
          6.993006993006993,
          6.993006993006993,
          6.993006993006993,
          7.017543859649122,
          7.017543859649122,
          7.0257611241217806,
          7.042253521126761,
          7.050528789659225,
          7.0588235294117645,
          7.0588235294117645,
          7.0588235294117645,
          7.0754716981132075,
          7.0754716981132075,
          7.0754716981132075,
          7.083825265643447,
          7.083825265643447,
          7.083825265643447,
          7.092198581560283,
          7.109004739336493,
          7.109004739336493,
          7.109004739336493,
          7.117437722419929,
          7.117437722419929,
          7.1258907363420425,
          7.13436385255648,
          7.13436385255648,
          7.151370679380214,
          7.151370679380214,
          7.151370679380214,
          7.159904534606205,
          7.168458781362008,
          7.185628742514971,
          7.202881152460984,
          7.202881152460984,
          7.2202166064981945,
          7.246376811594203,
          7.246376811594203,
          7.246376811594203,
          7.246376811594203,
          7.255139056831923,
          7.255139056831923,
          7.263922518159807,
          7.263922518159807,
          7.263922518159807,
          7.263922518159807,
          7.2727272727272725,
          7.281553398058252,
          7.281553398058252,
          7.290400972053463,
          7.2992700729927,
          7.3081607795371495,
          7.3081607795371495,
          7.3081607795371495,
          7.326007326007327,
          7.326007326007327,
          7.334963325183375,
          7.37100737100737,
          7.37100737100737,
          7.380073800738007,
          7.380073800738007,
          7.407407407407407,
          7.407407407407407,
          7.407407407407407,
          7.425742574257426,
          7.425742574257426,
          7.444168734491314,
          7.444168734491314,
          7.4812967581047385,
          7.490636704119851,
          7.490636704119851,
          7.5,
          7.509386733416771,
          7.518796992481203,
          7.547169811320755,
          7.566204287515763,
          7.585335018963337,
          7.6238881829733165,
          7.633587786259541,
          7.633587786259541,
          7.633587786259541,
          7.643312101910828,
          7.643312101910828,
          7.653061224489796,
          7.662835249042145,
          7.751937984496124,
          7.751937984496124,
          7.751937984496124,
          7.782101167315175,
          7.782101167315175,
          7.802340702210663,
          7.8125,
          7.822685788787484,
          7.83289817232376,
          7.83289817232376,
          7.83289817232376,
          7.8431372549019605,
          7.884362680683311,
          7.905138339920949,
          7.905138339920949,
          7.915567282321899,
          7.936507936507937,
          7.9470198675496695,
          7.9787234042553195,
          7.989347536617843,
          7.989347536617843,
          8,
          8.01068090787717,
          8.032128514056225,
          8.04289544235925,
          8.108108108108107,
          8.207934336525309,
          8.219178082191782,
          8.253094910591471,
          8.253094910591471,
          8.310249307479225,
          8.310249307479225,
          8.321775312066574,
          8.356545961002785,
          8.474576271186441,
          8.583690987124463,
          8.620689655172415,
          8.658008658008658,
          8.771929824561404,
          8.784773060029282,
          8.849557522123893,
          8.941877794336811,
          9.036144578313253,
          9.06344410876133,
          9.174311926605505,
          9.30232558139535,
          9.090909090909092,
          9.273570324574962,
          9.6,
          9.630818619582664,
          9.966777408637874,
          9.30232558139535,
          10,
          10.849909584086799,
          11.049723756906078,
          11.049723756906078
         ],
         "y0": " ",
         "yaxis": "y"
        },
        {
         "marker": {
          "color": "black",
          "size": 8
         },
         "mode": "markers",
         "name": "Meu Tempo",
         "type": "scatter",
         "x": [
          "25-34"
         ],
         "y": [
          5.9171597633136095
         ]
        }
       ],
       "layout": {
        "boxmode": "group",
        "legend": {
         "tracegroupgap": 0
        },
        "template": {
         "data": {
          "bar": [
           {
            "error_x": {
             "color": "#2a3f5f"
            },
            "error_y": {
             "color": "#2a3f5f"
            },
            "marker": {
             "line": {
              "color": "#E5ECF6",
              "width": 0.5
             },
             "pattern": {
              "fillmode": "overlay",
              "size": 10,
              "solidity": 0.2
             }
            },
            "type": "bar"
           }
          ],
          "barpolar": [
           {
            "marker": {
             "line": {
              "color": "#E5ECF6",
              "width": 0.5
             },
             "pattern": {
              "fillmode": "overlay",
              "size": 10,
              "solidity": 0.2
             }
            },
            "type": "barpolar"
           }
          ],
          "carpet": [
           {
            "aaxis": {
             "endlinecolor": "#2a3f5f",
             "gridcolor": "white",
             "linecolor": "white",
             "minorgridcolor": "white",
             "startlinecolor": "#2a3f5f"
            },
            "baxis": {
             "endlinecolor": "#2a3f5f",
             "gridcolor": "white",
             "linecolor": "white",
             "minorgridcolor": "white",
             "startlinecolor": "#2a3f5f"
            },
            "type": "carpet"
           }
          ],
          "choropleth": [
           {
            "colorbar": {
             "outlinewidth": 0,
             "ticks": ""
            },
            "type": "choropleth"
           }
          ],
          "contour": [
           {
            "colorbar": {
             "outlinewidth": 0,
             "ticks": ""
            },
            "colorscale": [
             [
              0,
              "#0d0887"
             ],
             [
              0.1111111111111111,
              "#46039f"
             ],
             [
              0.2222222222222222,
              "#7201a8"
             ],
             [
              0.3333333333333333,
              "#9c179e"
             ],
             [
              0.4444444444444444,
              "#bd3786"
             ],
             [
              0.5555555555555556,
              "#d8576b"
             ],
             [
              0.6666666666666666,
              "#ed7953"
             ],
             [
              0.7777777777777778,
              "#fb9f3a"
             ],
             [
              0.8888888888888888,
              "#fdca26"
             ],
             [
              1,
              "#f0f921"
             ]
            ],
            "type": "contour"
           }
          ],
          "contourcarpet": [
           {
            "colorbar": {
             "outlinewidth": 0,
             "ticks": ""
            },
            "type": "contourcarpet"
           }
          ],
          "heatmap": [
           {
            "colorbar": {
             "outlinewidth": 0,
             "ticks": ""
            },
            "colorscale": [
             [
              0,
              "#0d0887"
             ],
             [
              0.1111111111111111,
              "#46039f"
             ],
             [
              0.2222222222222222,
              "#7201a8"
             ],
             [
              0.3333333333333333,
              "#9c179e"
             ],
             [
              0.4444444444444444,
              "#bd3786"
             ],
             [
              0.5555555555555556,
              "#d8576b"
             ],
             [
              0.6666666666666666,
              "#ed7953"
             ],
             [
              0.7777777777777778,
              "#fb9f3a"
             ],
             [
              0.8888888888888888,
              "#fdca26"
             ],
             [
              1,
              "#f0f921"
             ]
            ],
            "type": "heatmap"
           }
          ],
          "heatmapgl": [
           {
            "colorbar": {
             "outlinewidth": 0,
             "ticks": ""
            },
            "colorscale": [
             [
              0,
              "#0d0887"
             ],
             [
              0.1111111111111111,
              "#46039f"
             ],
             [
              0.2222222222222222,
              "#7201a8"
             ],
             [
              0.3333333333333333,
              "#9c179e"
             ],
             [
              0.4444444444444444,
              "#bd3786"
             ],
             [
              0.5555555555555556,
              "#d8576b"
             ],
             [
              0.6666666666666666,
              "#ed7953"
             ],
             [
              0.7777777777777778,
              "#fb9f3a"
             ],
             [
              0.8888888888888888,
              "#fdca26"
             ],
             [
              1,
              "#f0f921"
             ]
            ],
            "type": "heatmapgl"
           }
          ],
          "histogram": [
           {
            "marker": {
             "pattern": {
              "fillmode": "overlay",
              "size": 10,
              "solidity": 0.2
             }
            },
            "type": "histogram"
           }
          ],
          "histogram2d": [
           {
            "colorbar": {
             "outlinewidth": 0,
             "ticks": ""
            },
            "colorscale": [
             [
              0,
              "#0d0887"
             ],
             [
              0.1111111111111111,
              "#46039f"
             ],
             [
              0.2222222222222222,
              "#7201a8"
             ],
             [
              0.3333333333333333,
              "#9c179e"
             ],
             [
              0.4444444444444444,
              "#bd3786"
             ],
             [
              0.5555555555555556,
              "#d8576b"
             ],
             [
              0.6666666666666666,
              "#ed7953"
             ],
             [
              0.7777777777777778,
              "#fb9f3a"
             ],
             [
              0.8888888888888888,
              "#fdca26"
             ],
             [
              1,
              "#f0f921"
             ]
            ],
            "type": "histogram2d"
           }
          ],
          "histogram2dcontour": [
           {
            "colorbar": {
             "outlinewidth": 0,
             "ticks": ""
            },
            "colorscale": [
             [
              0,
              "#0d0887"
             ],
             [
              0.1111111111111111,
              "#46039f"
             ],
             [
              0.2222222222222222,
              "#7201a8"
             ],
             [
              0.3333333333333333,
              "#9c179e"
             ],
             [
              0.4444444444444444,
              "#bd3786"
             ],
             [
              0.5555555555555556,
              "#d8576b"
             ],
             [
              0.6666666666666666,
              "#ed7953"
             ],
             [
              0.7777777777777778,
              "#fb9f3a"
             ],
             [
              0.8888888888888888,
              "#fdca26"
             ],
             [
              1,
              "#f0f921"
             ]
            ],
            "type": "histogram2dcontour"
           }
          ],
          "mesh3d": [
           {
            "colorbar": {
             "outlinewidth": 0,
             "ticks": ""
            },
            "type": "mesh3d"
           }
          ],
          "parcoords": [
           {
            "line": {
             "colorbar": {
              "outlinewidth": 0,
              "ticks": ""
             }
            },
            "type": "parcoords"
           }
          ],
          "pie": [
           {
            "automargin": true,
            "type": "pie"
           }
          ],
          "scatter": [
           {
            "fillpattern": {
             "fillmode": "overlay",
             "size": 10,
             "solidity": 0.2
            },
            "type": "scatter"
           }
          ],
          "scatter3d": [
           {
            "line": {
             "colorbar": {
              "outlinewidth": 0,
              "ticks": ""
             }
            },
            "marker": {
             "colorbar": {
              "outlinewidth": 0,
              "ticks": ""
             }
            },
            "type": "scatter3d"
           }
          ],
          "scattercarpet": [
           {
            "marker": {
             "colorbar": {
              "outlinewidth": 0,
              "ticks": ""
             }
            },
            "type": "scattercarpet"
           }
          ],
          "scattergeo": [
           {
            "marker": {
             "colorbar": {
              "outlinewidth": 0,
              "ticks": ""
             }
            },
            "type": "scattergeo"
           }
          ],
          "scattergl": [
           {
            "marker": {
             "colorbar": {
              "outlinewidth": 0,
              "ticks": ""
             }
            },
            "type": "scattergl"
           }
          ],
          "scattermapbox": [
           {
            "marker": {
             "colorbar": {
              "outlinewidth": 0,
              "ticks": ""
             }
            },
            "type": "scattermapbox"
           }
          ],
          "scatterpolar": [
           {
            "marker": {
             "colorbar": {
              "outlinewidth": 0,
              "ticks": ""
             }
            },
            "type": "scatterpolar"
           }
          ],
          "scatterpolargl": [
           {
            "marker": {
             "colorbar": {
              "outlinewidth": 0,
              "ticks": ""
             }
            },
            "type": "scatterpolargl"
           }
          ],
          "scatterternary": [
           {
            "marker": {
             "colorbar": {
              "outlinewidth": 0,
              "ticks": ""
             }
            },
            "type": "scatterternary"
           }
          ],
          "surface": [
           {
            "colorbar": {
             "outlinewidth": 0,
             "ticks": ""
            },
            "colorscale": [
             [
              0,
              "#0d0887"
             ],
             [
              0.1111111111111111,
              "#46039f"
             ],
             [
              0.2222222222222222,
              "#7201a8"
             ],
             [
              0.3333333333333333,
              "#9c179e"
             ],
             [
              0.4444444444444444,
              "#bd3786"
             ],
             [
              0.5555555555555556,
              "#d8576b"
             ],
             [
              0.6666666666666666,
              "#ed7953"
             ],
             [
              0.7777777777777778,
              "#fb9f3a"
             ],
             [
              0.8888888888888888,
              "#fdca26"
             ],
             [
              1,
              "#f0f921"
             ]
            ],
            "type": "surface"
           }
          ],
          "table": [
           {
            "cells": {
             "fill": {
              "color": "#EBF0F8"
             },
             "line": {
              "color": "white"
             }
            },
            "header": {
             "fill": {
              "color": "#C8D4E3"
             },
             "line": {
              "color": "white"
             }
            },
            "type": "table"
           }
          ]
         },
         "layout": {
          "annotationdefaults": {
           "arrowcolor": "#2a3f5f",
           "arrowhead": 0,
           "arrowwidth": 1
          },
          "autotypenumbers": "strict",
          "coloraxis": {
           "colorbar": {
            "outlinewidth": 0,
            "ticks": ""
           }
          },
          "colorscale": {
           "diverging": [
            [
             0,
             "#8e0152"
            ],
            [
             0.1,
             "#c51b7d"
            ],
            [
             0.2,
             "#de77ae"
            ],
            [
             0.3,
             "#f1b6da"
            ],
            [
             0.4,
             "#fde0ef"
            ],
            [
             0.5,
             "#f7f7f7"
            ],
            [
             0.6,
             "#e6f5d0"
            ],
            [
             0.7,
             "#b8e186"
            ],
            [
             0.8,
             "#7fbc41"
            ],
            [
             0.9,
             "#4d9221"
            ],
            [
             1,
             "#276419"
            ]
           ],
           "sequential": [
            [
             0,
             "#0d0887"
            ],
            [
             0.1111111111111111,
             "#46039f"
            ],
            [
             0.2222222222222222,
             "#7201a8"
            ],
            [
             0.3333333333333333,
             "#9c179e"
            ],
            [
             0.4444444444444444,
             "#bd3786"
            ],
            [
             0.5555555555555556,
             "#d8576b"
            ],
            [
             0.6666666666666666,
             "#ed7953"
            ],
            [
             0.7777777777777778,
             "#fb9f3a"
            ],
            [
             0.8888888888888888,
             "#fdca26"
            ],
            [
             1,
             "#f0f921"
            ]
           ],
           "sequentialminus": [
            [
             0,
             "#0d0887"
            ],
            [
             0.1111111111111111,
             "#46039f"
            ],
            [
             0.2222222222222222,
             "#7201a8"
            ],
            [
             0.3333333333333333,
             "#9c179e"
            ],
            [
             0.4444444444444444,
             "#bd3786"
            ],
            [
             0.5555555555555556,
             "#d8576b"
            ],
            [
             0.6666666666666666,
             "#ed7953"
            ],
            [
             0.7777777777777778,
             "#fb9f3a"
            ],
            [
             0.8888888888888888,
             "#fdca26"
            ],
            [
             1,
             "#f0f921"
            ]
           ]
          },
          "colorway": [
           "#636efa",
           "#EF553B",
           "#00cc96",
           "#ab63fa",
           "#FFA15A",
           "#19d3f3",
           "#FF6692",
           "#B6E880",
           "#FF97FF",
           "#FECB52"
          ],
          "font": {
           "color": "#2a3f5f"
          },
          "geo": {
           "bgcolor": "white",
           "lakecolor": "white",
           "landcolor": "#E5ECF6",
           "showlakes": true,
           "showland": true,
           "subunitcolor": "white"
          },
          "hoverlabel": {
           "align": "left"
          },
          "hovermode": "closest",
          "mapbox": {
           "style": "light"
          },
          "paper_bgcolor": "white",
          "plot_bgcolor": "#E5ECF6",
          "polar": {
           "angularaxis": {
            "gridcolor": "white",
            "linecolor": "white",
            "ticks": ""
           },
           "bgcolor": "#E5ECF6",
           "radialaxis": {
            "gridcolor": "white",
            "linecolor": "white",
            "ticks": ""
           }
          },
          "scene": {
           "xaxis": {
            "backgroundcolor": "#E5ECF6",
            "gridcolor": "white",
            "gridwidth": 2,
            "linecolor": "white",
            "showbackground": true,
            "ticks": "",
            "zerolinecolor": "white"
           },
           "yaxis": {
            "backgroundcolor": "#E5ECF6",
            "gridcolor": "white",
            "gridwidth": 2,
            "linecolor": "white",
            "showbackground": true,
            "ticks": "",
            "zerolinecolor": "white"
           },
           "zaxis": {
            "backgroundcolor": "#E5ECF6",
            "gridcolor": "white",
            "gridwidth": 2,
            "linecolor": "white",
            "showbackground": true,
            "ticks": "",
            "zerolinecolor": "white"
           }
          },
          "shapedefaults": {
           "line": {
            "color": "#2a3f5f"
           }
          },
          "ternary": {
           "aaxis": {
            "gridcolor": "white",
            "linecolor": "white",
            "ticks": ""
           },
           "baxis": {
            "gridcolor": "white",
            "linecolor": "white",
            "ticks": ""
           },
           "bgcolor": "#E5ECF6",
           "caxis": {
            "gridcolor": "white",
            "linecolor": "white",
            "ticks": ""
           }
          },
          "title": {
           "x": 0.05
          },
          "xaxis": {
           "automargin": true,
           "gridcolor": "white",
           "linecolor": "white",
           "ticks": "",
           "title": {
            "standoff": 15
           },
           "zerolinecolor": "white",
           "zerolinewidth": 2
          },
          "yaxis": {
           "automargin": true,
           "gridcolor": "white",
           "linecolor": "white",
           "ticks": "",
           "title": {
            "standoff": 15
           },
           "zerolinecolor": "white",
           "zerolinewidth": 2
          }
         }
        },
        "title": {
         "text": "Perfomance da Corrida Através do Box Plot em Faixas Etárias Maiores"
        },
        "xaxis": {
         "anchor": "y",
         "categoryarray": [
          "15-24",
          "25-34",
          "35-44",
          "45-54",
          "55-64",
          "65-74",
          "75-99"
         ],
         "categoryorder": "array",
         "domain": [
          0,
          1
         ],
         "title": {
          "text": "Faixa Etária"
         }
        },
        "yaxis": {
         "anchor": "x",
         "domain": [
          0,
          1
         ],
         "title": {
          "text": "Pace_Final"
         }
        }
       }
      }
     },
     "metadata": {},
     "output_type": "display_data"
    }
   ],
   "source": [
    "ordem_categoria = ['15-24','25-34','35-44','45-54','55-64','65-74','75-99']\n",
    "\n",
    "fig = px.box(\n",
    "    dados_corrida_so_quem_completou,\n",
    "    x = 'Faixa Etária',\n",
    "    y='Pace_Final',\n",
    "    title = 'Perfomance da Corrida Através do Box Plot em Faixas Etárias Maiores',\n",
    "    category_orders = {\"Faixa Etária\":ordem_categoria}\n",
    "    \n",
    ")\n",
    "\n",
    "\n",
    "fig.add_trace(\n",
    "    go.Scatter(  # Categoria correspondente ao seu tempo\n",
    "        x=['25-34'],\n",
    "        y=[meu_pace],\n",
    "        mode='markers',\n",
    "        marker=dict(color='black', size=8),\n",
    "        name='Meu Tempo'\n",
    "    )\n",
    ")\n",
    "\n",
    "fig.show()"
   ]
  },
  {
   "cell_type": "markdown",
   "metadata": {},
   "source": [
    "![Gráfico Plotly](Perfomance_de_Corrida_Por_Faixa_Etária_Maiores.png)"
   ]
  },
  {
   "cell_type": "markdown",
   "metadata": {},
   "source": [
    "* Nas Faixas Etárias um pouco maiores, fico entre a mediana e o terceiro quartil.\n",
    "* As dispersões parecem ser próximas devido ao fato do tamanho do retangulo ser bem parecido.\n",
    "* Não temos nenhum candidato a outlier de alta perfomance, apenas outliers de baixa perfomance."
   ]
  },
  {
   "cell_type": "code",
   "execution_count": 34,
   "metadata": {},
   "outputs": [
    {
     "data": {
      "application/vnd.plotly.v1+json": {
       "config": {
        "plotlyServerURL": "https://plot.ly"
       },
       "data": [
        {
         "hovertemplate": "Sx=Masculino<br>Faixa Etária=%{x}<br>Pace_Final=%{y}<extra></extra>",
         "legendgroup": "Masculino",
         "marker": {
          "color": "#636efa",
          "symbol": "circle"
         },
         "mode": "markers",
         "name": "Masculino",
         "orientation": "v",
         "showlegend": true,
         "type": "scatter",
         "x": [
          null,
          null,
          null,
          null,
          null,
          "25-34",
          "25-34",
          "35-44",
          "25-34",
          "25-34",
          "35-44",
          "35-44",
          "35-44",
          "25-34",
          "25-34",
          "25-34",
          "55-64",
          "65-74",
          "45-54",
          "25-34",
          "45-54",
          "25-34",
          "25-34",
          "55-64",
          "55-64",
          "25-34",
          "25-34",
          "25-34",
          "25-34",
          "25-34",
          "35-44",
          "35-44",
          "45-54",
          "35-44",
          "35-44",
          "45-54",
          "25-34",
          "25-34",
          "35-44",
          "45-54",
          "45-54",
          "35-44",
          "35-44",
          "25-34",
          "45-54",
          "45-54",
          "25-34",
          "35-44",
          "45-54",
          "45-54",
          "35-44",
          "45-54",
          "25-34",
          "55-64",
          "45-54",
          "45-54",
          "35-44",
          "35-44",
          "45-54",
          "45-54",
          "15-24",
          "25-34",
          "15-24",
          "25-34",
          "15-24",
          "55-64",
          "25-34",
          "25-34",
          "15-24",
          "35-44",
          "45-54",
          "25-34",
          "35-44",
          "25-34",
          "25-34",
          "15-24",
          "35-44",
          "35-44",
          "45-54",
          "35-44",
          "35-44",
          "45-54",
          "15-24",
          "15-24",
          "25-34",
          "45-54",
          "55-64",
          "25-34",
          "45-54",
          "35-44",
          "55-64",
          "35-44",
          "75-99",
          "55-64",
          "25-34",
          "35-44",
          "15-24",
          "15-24",
          "35-44",
          "25-34",
          "25-34",
          "55-64",
          "35-44",
          "15-24",
          "15-24",
          "35-44",
          "35-44",
          "35-44",
          "35-44",
          "25-34",
          "35-44",
          "15-24",
          "35-44",
          "35-44",
          "25-34",
          "45-54",
          "25-34",
          "15-24",
          "25-34",
          "35-44",
          "35-44",
          "35-44",
          "15-24",
          "55-64",
          "15-24",
          "35-44",
          "35-44",
          "35-44",
          "35-44",
          "55-64",
          "35-44",
          "35-44",
          "45-54",
          "15-24",
          "25-34",
          "45-54",
          "25-34",
          "15-24",
          "35-44",
          "45-54",
          "45-54",
          "35-44",
          "25-34",
          "35-44",
          "45-54",
          "25-34",
          "45-54",
          "25-34",
          "45-54",
          "45-54",
          "45-54",
          "15-24",
          "35-44",
          "45-54",
          "25-34",
          "45-54",
          "25-34",
          "45-54",
          "25-34",
          "45-54",
          "45-54",
          "35-44",
          "45-54",
          "35-44",
          "55-64",
          "45-54",
          "45-54",
          "45-54",
          "65-74",
          "35-44",
          "45-54",
          "35-44",
          "45-54",
          "45-54",
          "45-54",
          "25-34",
          "35-44",
          "65-74",
          "55-64",
          "35-44",
          "25-34",
          "35-44",
          "15-24",
          "35-44",
          "35-44",
          "55-64",
          "45-54",
          "45-54",
          "35-44",
          "25-34",
          "45-54",
          "35-44",
          "45-54",
          "35-44",
          "15-24",
          "35-44",
          "45-54",
          "35-44",
          "35-44",
          "35-44",
          "25-34",
          "25-34",
          "45-54",
          "35-44",
          "25-34",
          "35-44",
          "45-54",
          "55-64",
          "65-74",
          "45-54",
          "25-34",
          "25-34",
          "55-64",
          "55-64",
          "55-64",
          "25-34",
          "25-34",
          "25-34",
          "35-44",
          "25-34",
          "45-54",
          "55-64",
          "35-44",
          "25-34",
          "45-54",
          "25-34",
          "35-44",
          "25-34",
          "35-44",
          "15-24",
          "15-24",
          "25-34",
          "15-24",
          "55-64",
          "55-64",
          "35-44",
          "35-44",
          "55-64",
          "35-44",
          "65-74",
          "25-34",
          "55-64",
          "45-54",
          "35-44",
          "45-54",
          "25-34",
          "35-44",
          "35-44",
          "25-34",
          "35-44",
          "35-44",
          "55-64",
          "25-34",
          "25-34",
          "35-44",
          "25-34",
          "45-54",
          "45-54",
          "35-44",
          "35-44",
          "45-54",
          "25-34",
          "15-24",
          "45-54",
          "35-44",
          "25-34",
          "15-24",
          "35-44",
          "45-54",
          "25-34",
          "35-44",
          "25-34",
          "35-44",
          "35-44",
          "45-54",
          "35-44",
          "25-34",
          "35-44",
          "35-44",
          "45-54",
          "55-64",
          "35-44",
          "45-54",
          "35-44",
          "35-44",
          "75-99",
          "25-34",
          "45-54",
          "35-44",
          "45-54",
          "25-34",
          "55-64",
          "35-44",
          "55-64",
          "45-54",
          "25-34",
          "25-34",
          "65-74",
          "25-34",
          "35-44",
          "35-44",
          "15-24",
          "35-44",
          "25-34",
          "45-54",
          "25-34",
          "25-34",
          "45-54",
          "55-64",
          "35-44",
          "25-34",
          "25-34",
          "45-54",
          "55-64",
          "35-44",
          "35-44",
          "55-64",
          "45-54",
          "35-44",
          "25-34",
          "45-54",
          "25-34",
          "35-44",
          "35-44",
          "25-34",
          "45-54",
          "25-34",
          "45-54",
          "35-44",
          "35-44",
          "45-54",
          "15-24",
          "25-34",
          "65-74",
          "25-34",
          "55-64",
          "55-64",
          "25-34",
          "25-34",
          "25-34",
          "25-34",
          "35-44",
          "65-74",
          "35-44",
          "35-44",
          "35-44",
          "75-99",
          "35-44",
          "75-99",
          "45-54",
          "25-34",
          "55-64",
          "25-34",
          "55-64",
          "55-64",
          "55-64",
          "35-44",
          "25-34",
          "25-34",
          "35-44",
          "45-54",
          "45-54",
          "35-44",
          "25-34",
          "35-44",
          "25-34",
          "55-64",
          null,
          "35-44",
          "35-44",
          "35-44",
          "35-44",
          "25-34",
          "15-24",
          "25-34",
          "45-54",
          "45-54",
          "45-54",
          "45-54",
          "25-34",
          "15-24",
          "45-54",
          "25-34",
          "35-44",
          "35-44",
          "35-44",
          "35-44",
          "35-44",
          "45-54",
          "15-24",
          "25-34",
          "35-44",
          "45-54",
          "55-64",
          "15-24",
          "35-44",
          "35-44",
          "65-74",
          "45-54",
          "15-24",
          "35-44",
          "45-54",
          "45-54",
          "55-64",
          "35-44",
          "35-44",
          "55-64",
          "25-34",
          "55-64",
          "35-44",
          "35-44",
          "15-24",
          "75-99",
          "25-34",
          "35-44",
          "55-64",
          "15-24",
          "45-54",
          "45-54",
          "35-44",
          "45-54",
          "25-34",
          "45-54",
          "65-74",
          "25-34",
          "25-34",
          "25-34",
          "35-44",
          "45-54",
          "25-34",
          "55-64",
          "55-64",
          "55-64",
          "35-44",
          "65-74",
          "55-64",
          "35-44",
          "35-44",
          "25-34",
          "15-24",
          "35-44",
          "35-44",
          "15-24",
          "25-34",
          "35-44",
          "45-54",
          "55-64",
          "35-44",
          "35-44",
          "35-44",
          "35-44",
          "45-54",
          "45-54",
          "55-64",
          "65-74",
          "35-44",
          "35-44",
          "35-44",
          "35-44",
          "35-44",
          "35-44",
          "55-64",
          "25-34",
          "35-44",
          "45-54",
          "25-34",
          "25-34",
          "35-44",
          "25-34",
          "25-34",
          "65-74",
          "55-64",
          "35-44",
          "35-44",
          "55-64",
          "45-54",
          "35-44",
          "55-64",
          "55-64",
          "25-34",
          "55-64",
          "25-34",
          "55-64",
          "35-44",
          "35-44",
          "25-34",
          "45-54",
          "35-44",
          "35-44",
          "35-44",
          "35-44",
          "65-74",
          "55-64",
          "25-34",
          "55-64",
          "45-54",
          "45-54",
          "55-64",
          "75-99",
          "55-64",
          "45-54",
          "35-44",
          "55-64",
          "35-44",
          "35-44",
          "45-54",
          "35-44",
          "35-44",
          "15-24",
          "55-64",
          "25-34",
          "15-24",
          "45-54",
          "55-64",
          "55-64",
          "35-44",
          "25-34",
          "35-44",
          "45-54",
          "25-34",
          "25-34",
          "35-44",
          "35-44",
          "25-34",
          "15-24",
          "45-54",
          "55-64",
          "55-64",
          "45-54",
          "65-74",
          "35-44",
          "35-44",
          "55-64",
          "65-74",
          "55-64",
          "45-54",
          "55-64",
          "25-34",
          "55-64",
          "35-44",
          "65-74",
          "45-54",
          "35-44",
          "75-99",
          "45-54",
          "65-74",
          "65-74",
          "35-44",
          "25-34",
          "25-34",
          "45-54",
          "15-24",
          "35-44",
          "25-34",
          "55-64",
          "25-34",
          "35-44",
          "45-54",
          "25-34",
          "25-34",
          "45-54",
          "65-74",
          "35-44",
          "15-24",
          "35-44",
          "35-44",
          "65-74",
          "35-44",
          "25-34",
          "35-44",
          "55-64",
          "35-44",
          "25-34",
          "45-54",
          "35-44",
          "35-44",
          "55-64",
          "55-64",
          "65-74",
          "45-54",
          "45-54",
          "25-34",
          "25-34",
          "35-44",
          "45-54",
          "25-34",
          "45-54",
          "45-54",
          "55-64",
          "35-44",
          "55-64",
          "35-44",
          "35-44",
          "35-44",
          "55-64",
          "25-34",
          "55-64",
          "45-54",
          "25-34",
          "15-24",
          "45-54",
          "55-64",
          "45-54",
          "25-34",
          "55-64",
          "55-64",
          "45-54",
          "25-34",
          "65-74",
          "55-64",
          "25-34",
          "35-44",
          "35-44",
          "35-44",
          "55-64",
          "55-64",
          "25-34",
          "35-44",
          "75-99",
          "55-64",
          "45-54",
          "35-44",
          "65-74",
          "45-54",
          "55-64",
          "65-74",
          "45-54",
          "45-54",
          "35-44",
          "35-44",
          "35-44",
          "45-54",
          "35-44",
          "25-34",
          "45-54",
          "45-54",
          "55-64",
          "45-54",
          "25-34",
          "35-44",
          "55-64",
          "35-44",
          "35-44",
          "35-44",
          "55-64",
          "55-64",
          "35-44",
          "35-44",
          "55-64",
          "45-54",
          "35-44",
          "25-34",
          "55-64",
          "15-24",
          "35-44",
          "45-54",
          "65-74",
          "55-64",
          "25-34",
          "75-99",
          "75-99",
          "35-44",
          "75-99",
          "45-54",
          "65-74",
          "65-74",
          "55-64",
          "35-44"
         ],
         "xaxis": "x",
         "y": [
          3.1595576619273302,
          3.3707865168539324,
          3.4443168771526977,
          3.4462952326249283,
          3.4502587694077054,
          3.544004725339634,
          3.621001810500905,
          3.621001810500905,
          3.6607687614399023,
          3.6607687614399023,
          3.780718336483932,
          3.7854889589905363,
          3.8095238095238093,
          3.870967741935484,
          3.878474466709761,
          3.8935756002595716,
          3.90625,
          3.9761431411530817,
          3.9787798408488064,
          3.9787798408488064,
          3.9946737683089215,
          4,
          4.008016032064128,
          4.029550033579583,
          4.0733197556008145,
          4.078857919782461,
          4.118050789293068,
          4.123711340206185,
          4.135079255685734,
          4.14651002073255,
          4.14651002073255,
          4.158004158004158,
          4.178272980501393,
          4.195804195804196,
          4.198740377886634,
          4.204625087596356,
          4.240282685512367,
          4.2492917847025495,
          4.2492917847025495,
          4.261363636363637,
          4.264392324093817,
          4.279600570613409,
          4.288777698355968,
          4.288777698355968,
          4.291845493562231,
          4.291845493562231,
          4.297994269340974,
          4.301075268817205,
          4.313443565780014,
          4.319654427645788,
          4.344677769732078,
          4.354136429608128,
          4.363636363636363,
          4.369992716678805,
          4.385964912280702,
          4.389173372348208,
          4.389173372348208,
          4.402054292002934,
          4.405286343612335,
          4.411764705882353,
          4.428044280442804,
          4.428044280442804,
          4.434589800443459,
          4.444444444444445,
          4.451038575667655,
          4.4543429844097995,
          4.4543429844097995,
          4.49438202247191,
          4.497751124437781,
          4.504504504504505,
          4.507888805409467,
          4.511278195488722,
          4.511278195488722,
          4.52147701582517,
          4.524886877828054,
          4.524886877828054,
          4.524886877828054,
          4.524886877828054,
          4.528301886792453,
          4.531722054380665,
          4.531722054380665,
          4.552352048558422,
          4.552352048558422,
          4.562737642585551,
          4.566210045662101,
          4.566210045662101,
          4.580152671755726,
          4.580152671755726,
          4.587155963302752,
          4.597701149425287,
          4.597701149425287,
          4.601226993865031,
          4.604758250191865,
          4.6082949308755765,
          4.622496147919876,
          4.626060138781804,
          4.633204633204634,
          4.640371229698376,
          4.640371229698376,
          4.647560030983733,
          4.662004662004662,
          4.662004662004662,
          4.665629860031104,
          4.669260700389105,
          4.672897196261682,
          4.6801872074882995,
          4.68384074941452,
          4.68384074941452,
          4.68384074941452,
          4.68384074941452,
          4.6875,
          4.6875,
          4.691164972634871,
          4.694835680751174,
          4.698512137823023,
          4.702194357366771,
          4.702194357366771,
          4.7095761381475665,
          4.7095761381475665,
          4.713275726630008,
          4.724409448818898,
          4.724409448818898,
          4.724409448818898,
          4.728132387706856,
          4.728132387706856,
          4.73559589581689,
          4.73559589581689,
          4.743083003952569,
          4.746835443037974,
          4.758128469468676,
          4.765687053216839,
          4.765687053216839,
          4.77326968973747,
          4.77326968973747,
          4.77326968973747,
          4.777070063694267,
          4.803843074459568,
          4.803843074459568,
          4.803843074459568,
          4.815409309791332,
          4.815409309791332,
          4.815409309791332,
          4.819277108433735,
          4.823151125401929,
          4.823151125401929,
          4.823151125401929,
          4.823151125401929,
          4.8270313757039425,
          4.830917874396135,
          4.8348106365834,
          4.8348106365834,
          4.842615012106537,
          4.846526655896607,
          4.846526655896607,
          4.8543689320388355,
          4.858299595141701,
          4.862236628849271,
          4.87012987012987,
          4.8740861088545895,
          4.8740861088545895,
          4.878048780487805,
          4.882017900732303,
          4.88599348534202,
          4.88599348534202,
          4.88599348534202,
          4.893964110929853,
          4.905968928863451,
          4.918032786885246,
          4.9220672682526665,
          4.930156121610517,
          4.938271604938271,
          4.938271604938271,
          4.938271604938271,
          4.938271604938271,
          4.9464138499587795,
          4.9464138499587795,
          4.9464138499587795,
          4.9464138499587795,
          4.958677685950414,
          4.962779156327543,
          4.971002485501242,
          4.987531172069826,
          4.9916805324459235,
          5.004170141784821,
          5.004170141784821,
          5.016722408026755,
          5.020920502092051,
          5.020920502092051,
          5.029337803855825,
          5.029337803855825,
          5.029337803855825,
          5.037783375314861,
          5.037783375314861,
          5.037783375314861,
          5.046257359125315,
          5.05050505050505,
          5.054759898904802,
          5.059021922428331,
          5.059021922428331,
          5.059021922428331,
          5.0675675675675675,
          5.07185122569738,
          5.0761421319796955,
          5.080440304826418,
          5.080440304826418,
          5.089058524173028,
          5.1020408163265305,
          5.1020408163265305,
          5.1063829787234045,
          5.1063829787234045,
          5.110732538330494,
          5.1194539249146755,
          5.1194539249146755,
          5.1194539249146755,
          5.123825789923142,
          5.128205128205129,
          5.128205128205129,
          5.132591958939265,
          5.132591958939265,
          5.136986301369864,
          5.136986301369864,
          5.141388174807198,
          5.145797598627787,
          5.150214592274678,
          5.150214592274678,
          5.150214592274678,
          5.150214592274678,
          5.150214592274678,
          5.150214592274678,
          5.150214592274678,
          5.154639175257731,
          5.159071367153912,
          5.163511187607574,
          5.167958656330749,
          5.167958656330749,
          5.167958656330749,
          5.172413793103448,
          5.176876617773943,
          5.181347150259067,
          5.181347150259067,
          5.190311418685121,
          5.190311418685121,
          5.194805194805195,
          5.199306759098787,
          5.199306759098787,
          5.203816131830009,
          5.203816131830009,
          5.208333333333334,
          5.208333333333334,
          5.2264808362369335,
          5.2264808362369335,
          5.2264808362369335,
          5.2264808362369335,
          5.231037489102005,
          5.231037489102005,
          5.2356020942408374,
          5.240174672489084,
          5.244755244755245,
          5.244755244755245,
          5.244755244755245,
          5.244755244755245,
          5.253940455341506,
          5.25854513584575,
          5.267778753292362,
          5.267778753292362,
          5.267778753292362,
          5.267778753292362,
          5.277044854881267,
          5.277044854881267,
          5.277044854881267,
          5.277044854881267,
          5.281690140845071,
          5.286343612334802,
          5.291005291005291,
          5.29567519858782,
          5.300353356890459,
          5.300353356890459,
          5.305039787798409,
          5.305039787798409,
          5.309734513274336,
          5.314437555358725,
          5.314437555358725,
          5.314437555358725,
          5.319148936170213,
          5.319148936170213,
          5.323868677905945,
          5.328596802841918,
          5.328596802841918,
          5.328596802841918,
          5.328596802841918,
          5.333333333333333,
          5.338078291814947,
          5.342831700801424,
          5.342831700801424,
          5.357142857142858,
          5.357142857142858,
          5.357142857142858,
          5.361930294906166,
          5.366726296958856,
          5.366726296958856,
          5.371530886302597,
          5.371530886302597,
          5.371530886302597,
          5.376344086021505,
          5.376344086021505,
          5.376344086021505,
          5.376344086021505,
          5.376344086021505,
          5.381165919282511,
          5.381165919282511,
          5.381165919282511,
          5.390835579514825,
          5.390835579514825,
          5.390835579514825,
          5.39568345323741,
          5.39568345323741,
          5.4005400540054005,
          5.405405405405405,
          5.405405405405405,
          5.410279531109107,
          5.410279531109107,
          5.415162454873646,
          5.415162454873646,
          5.420054200542006,
          5.420054200542006,
          5.420054200542006,
          5.420054200542006,
          5.424954792043399,
          5.4298642533936645,
          5.4298642533936645,
          5.4298642533936645,
          5.434782608695652,
          5.434782608695652,
          5.43970988213962,
          5.454545454545454,
          5.454545454545454,
          5.454545454545454,
          5.45950864422202,
          5.46448087431694,
          5.46448087431694,
          5.474452554744525,
          5.474452554744525,
          5.479452054794521,
          5.484460694698355,
          5.484460694698355,
          5.484460694698355,
          5.484460694698355,
          5.489478499542543,
          5.489478499542543,
          5.499541704857928,
          5.499541704857928,
          5.504587155963303,
          5.509641873278237,
          5.514705882352941,
          5.519779208831647,
          5.524861878453039,
          5.535055350553505,
          5.535055350553505,
          5.535055350553505,
          5.535055350553505,
          5.54016620498615,
          5.54016620498615,
          5.545286506469501,
          5.545286506469501,
          5.550416281221091,
          5.555555555555555,
          5.565862708719852,
          5.565862708719852,
          5.5762081784386615,
          5.5762081784386615,
          5.5762081784386615,
          5.58659217877095,
          5.58659217877095,
          5.58659217877095,
          5.58659217877095,
          5.597014925373134,
          5.597014925373134,
          5.597014925373134,
          5.597014925373134,
          5.597014925373134,
          5.607476635514019,
          5.607476635514019,
          5.617977528089888,
          5.623242736644799,
          5.628517823639775,
          5.628517823639775,
          5.628517823639775,
          5.633802816901408,
          5.639097744360902,
          5.639097744360902,
          5.639097744360902,
          5.639097744360902,
          5.639097744360902,
          5.644402634054562,
          5.655042412818096,
          5.655042412818096,
          5.660377358490567,
          5.660377358490567,
          5.665722379603399,
          5.671077504725898,
          5.671077504725898,
          5.676442762535477,
          5.6872037914691935,
          5.6872037914691935,
          5.692599620493359,
          5.692599620493359,
          5.692599620493359,
          5.692599620493359,
          5.692599620493359,
          5.692599620493359,
          5.692599620493359,
          5.692599620493359,
          5.7034220532319395,
          5.7034220532319395,
          5.7034220532319395,
          5.714285714285714,
          5.714285714285714,
          5.719733079122975,
          5.719733079122975,
          5.7251908396946565,
          5.7251908396946565,
          5.730659025787965,
          5.736137667304015,
          5.74712643678161,
          5.752636625119846,
          5.752636625119846,
          5.752636625119846,
          5.752636625119846,
          5.758157389635317,
          5.7747834456207885,
          5.780346820809248,
          5.785920925747349,
          5.797101449275362,
          5.802707930367505,
          5.802707930367505,
          5.802707930367505,
          5.802707930367505,
          5.802707930367505,
          5.808325266214908,
          5.819592628516004,
          5.825242718446601,
          5.830903790087464,
          5.830903790087464,
          5.836575875486382,
          5.836575875486382,
          5.847953216374269,
          5.847953216374269,
          5.847953216374269,
          5.853658536585366,
          5.859375,
          5.870841487279843,
          5.876591576885406,
          5.882352941176471,
          5.888125613346419,
          5.888125613346419,
          5.893909626719057,
          5.893909626719057,
          5.893909626719057,
          5.905511811023622,
          5.905511811023622,
          5.905511811023622,
          5.9171597633136095,
          5.9171597633136095,
          5.9171597633136095,
          5.9171597633136095,
          5.9171597633136095,
          5.9171597633136095,
          5.9171597633136095,
          5.9171597633136095,
          5.923000987166831,
          5.923000987166831,
          5.934718100890208,
          5.9523809523809526,
          5.964214711729622,
          5.964214711729622,
          5.976095617529881,
          5.982053838484546,
          5.9880239520958085,
          6.018054162487462,
          6.018054162487462,
          6.024096385542168,
          6.030150753768845,
          6.036217303822938,
          6.0606060606060606,
          6.0606060606060606,
          6.0606060606060606,
          6.0606060606060606,
          6.072874493927125,
          6.072874493927125,
          6.079027355623101,
          6.079027355623101,
          6.079027355623101,
          6.079027355623101,
          6.079027355623101,
          6.097560975609756,
          6.109979633401222,
          6.109979633401222,
          6.116207951070336,
          6.116207951070336,
          6.116207951070336,
          6.122448979591836,
          6.134969325153374,
          6.141248720573183,
          6.141248720573183,
          6.153846153846154,
          6.153846153846154,
          6.153846153846154,
          6.160164271047228,
          6.160164271047228,
          6.160164271047228,
          6.160164271047228,
          6.172839506172839,
          6.179196704428424,
          6.185567010309279,
          6.185567010309279,
          6.191950464396285,
          6.198347107438017,
          6.211180124223603,
          6.224066390041493,
          6.230529595015576,
          6.237006237006238,
          6.25,
          6.25,
          6.256517205422315,
          6.263048016701461,
          6.269592476489028,
          6.269592476489028,
          6.269592476489028,
          6.2761506276150625,
          6.2761506276150625,
          6.282722513089005,
          6.282722513089005,
          6.282722513089005,
          6.289308176100629,
          6.295907660020987,
          6.295907660020987,
          6.302521008403362,
          6.309148264984227,
          6.309148264984227,
          6.309148264984227,
          6.315789473684211,
          6.315789473684211,
          6.329113924050633,
          6.335797254487856,
          6.34920634920635,
          6.3559322033898304,
          6.3559322033898304,
          6.3559322033898304,
          6.3559322033898304,
          6.362672322375398,
          6.382978723404255,
          6.382978723404255,
          6.3965884861407245,
          6.3965884861407245,
          6.3965884861407245,
          6.4034151547492,
          6.410256410256411,
          6.4171122994652405,
          6.430868167202572,
          6.430868167202572,
          6.451612903225806,
          6.4655172413793105,
          6.500541711809317,
          6.507592190889371,
          6.514657980456025,
          6.5359477124183005,
          6.543075245365322,
          6.543075245365322,
          6.557377049180328,
          6.557377049180328,
          6.571741511500547,
          6.593406593406594,
          6.607929515418502,
          6.615214994487321,
          6.615214994487321,
          6.6298342541436455,
          6.6298342541436455,
          6.651884700665189,
          6.659267480577137,
          6.674082313681868,
          6.681514476614699,
          6.68896321070234,
          6.68896321070234,
          6.703910614525141,
          6.7114093959731544,
          6.71892497200448,
          6.749156355455567,
          6.764374295377678,
          6.795016987542469,
          6.795016987542469,
          6.8181818181818175,
          6.825938566552901,
          6.825938566552901,
          6.825938566552901,
          6.825938566552901,
          6.83371298405467,
          6.83371298405467,
          6.83371298405467,
          6.857142857142857,
          6.857142857142857,
          6.857142857142857,
          6.8728522336769755,
          6.8728522336769755,
          6.880733944954128,
          6.8965517241379315,
          6.904487917146145,
          6.960556844547565,
          6.968641114982579,
          6.968641114982579,
          6.976744186046512,
          6.993006993006993,
          6.993006993006993,
          7.017543859649122,
          7.0588235294117645,
          7.0588235294117645,
          7.0754716981132075,
          7.0754716981132075,
          7.083825265643447,
          7.109004739336493,
          7.109004739336493,
          7.117437722419929,
          7.13436385255648,
          7.151370679380214,
          7.151370679380214,
          7.168458781362008,
          7.202881152460984,
          7.246376811594203,
          7.255139056831923,
          7.263922518159807,
          7.263922518159807,
          7.2727272727272725,
          7.281553398058252,
          7.3081607795371495,
          7.326007326007327,
          7.334963325183375,
          7.37100737100737,
          7.380073800738007,
          7.407407407407407,
          7.407407407407407,
          7.444168734491314,
          7.5,
          7.509386733416771,
          7.518796992481203,
          7.566204287515763,
          7.633587786259541,
          7.633587786259541,
          7.643312101910828,
          7.751937984496124,
          7.83289817232376,
          7.83289817232376,
          7.8431372549019605,
          7.884362680683311,
          7.9787234042553195,
          7.989347536617843,
          8.04289544235925,
          8.219178082191782,
          8.253094910591471,
          8.310249307479225,
          8.583690987124463,
          8.658008658008658,
          8.784773060029282,
          8.849557522123893,
          8.941877794336811,
          9.30232558139535,
          9.966777408637874,
          9.30232558139535,
          10,
          10.849909584086799
         ],
         "yaxis": "y"
        },
        {
         "hovertemplate": "Sx=Feminino<br>Faixa Etária=%{x}<br>Pace_Final=%{y}<extra></extra>",
         "legendgroup": "Feminino",
         "marker": {
          "color": "#EF553B",
          "symbol": "circle"
         },
         "mode": "markers",
         "name": "Feminino",
         "orientation": "v",
         "showlegend": true,
         "type": "scatter",
         "x": [
          null,
          null,
          null,
          null,
          null,
          "35-44",
          "35-44",
          "45-54",
          "15-24",
          "25-34",
          "35-44",
          "35-44",
          "25-34",
          "35-44",
          "25-34",
          "45-54",
          "35-44",
          "65-74",
          "35-44",
          "35-44",
          "25-34",
          "35-44",
          "45-54",
          "35-44",
          "35-44",
          "35-44",
          "25-34",
          "45-54",
          "35-44",
          "25-34",
          "55-64",
          "15-24",
          "35-44",
          "55-64",
          "25-34",
          "35-44",
          "65-74",
          "55-64",
          "35-44",
          "55-64",
          "35-44",
          "35-44",
          "35-44",
          "25-34",
          "45-54",
          "35-44",
          "25-34",
          "45-54",
          "25-34",
          "45-54",
          "65-74",
          "35-44",
          "25-34",
          "55-64",
          "35-44",
          "55-64",
          "55-64",
          "35-44",
          "35-44",
          "45-54",
          "35-44",
          "25-34",
          "25-34",
          "35-44",
          "25-34",
          "35-44",
          "35-44",
          "45-54",
          "55-64",
          "55-64",
          "35-44",
          "55-64",
          "35-44",
          "65-74",
          "35-44",
          "15-24",
          "35-44",
          "25-34",
          "35-44",
          "15-24",
          "15-24",
          "25-34",
          "45-54",
          "45-54",
          "35-44",
          "35-44",
          "25-34",
          "35-44",
          "15-24",
          "15-24",
          "45-54",
          "25-34",
          "65-74",
          "35-44",
          "45-54",
          "25-34",
          "35-44",
          "65-74",
          "25-34",
          "65-74",
          "25-34",
          "45-54",
          "35-44",
          "65-74",
          "45-54",
          "45-54",
          "35-44",
          "25-34",
          "35-44",
          "35-44",
          "25-34",
          "15-24",
          "35-44",
          "35-44",
          "35-44",
          "25-34",
          "55-64",
          "65-74",
          "45-54",
          "35-44",
          "25-34",
          "25-34",
          "35-44",
          "25-34",
          "25-34",
          "25-34",
          "45-54",
          "15-24",
          "45-54",
          "25-34",
          "75-99",
          "35-44",
          "35-44",
          "55-64",
          "55-64",
          "55-64",
          "55-64",
          "25-34",
          "35-44",
          "25-34",
          "45-54",
          "45-54",
          "35-44",
          "35-44",
          "35-44",
          "45-54",
          "45-54",
          "25-34",
          "55-64",
          "25-34",
          "55-64",
          "15-24",
          "65-74",
          "35-44",
          "35-44",
          "15-24",
          "25-34",
          "45-54",
          "35-44",
          "25-34",
          "25-34",
          "25-34",
          "55-64",
          "35-44",
          "45-54",
          "35-44",
          "35-44",
          "35-44",
          "25-34",
          "25-34",
          "35-44",
          "65-74",
          "65-74",
          "35-44",
          "35-44",
          "65-74",
          "35-44",
          "55-64",
          "45-54",
          "25-34",
          "35-44",
          "25-34",
          "65-74",
          "35-44",
          "55-64",
          "45-54",
          "55-64",
          "55-64",
          "35-44",
          "65-74",
          "35-44",
          "35-44",
          "25-34",
          "45-54",
          "35-44",
          "35-44",
          "25-34",
          "25-34",
          "25-34",
          "65-74",
          "35-44",
          "65-74",
          "15-24",
          "25-34",
          "25-34",
          "75-99",
          "45-54",
          "65-74",
          "55-64",
          "55-64",
          "25-34",
          "25-34",
          "35-44",
          "65-74",
          "45-54",
          "35-44",
          "15-24",
          "35-44",
          "55-64",
          "35-44",
          "35-44",
          "25-34",
          "35-44",
          "35-44",
          "45-54",
          "25-34",
          "35-44",
          "45-54",
          "25-34",
          "25-34",
          "45-54",
          "55-64",
          "55-64",
          "35-44",
          "55-64",
          "75-99",
          "35-44",
          "45-54",
          "25-34",
          "35-44",
          "45-54",
          "25-34",
          "15-24",
          "45-54",
          "25-34",
          "35-44",
          "35-44",
          "35-44",
          "45-54",
          "45-54",
          "35-44",
          "45-54",
          "35-44",
          "45-54",
          "35-44",
          "25-34",
          "35-44",
          "45-54",
          "45-54",
          "25-34",
          "45-54",
          "15-24",
          "35-44",
          "65-74",
          "45-54",
          "65-74",
          "35-44",
          "35-44",
          "35-44",
          "15-24",
          "45-54",
          "65-74",
          "25-34",
          "55-64",
          "35-44",
          "65-74",
          "45-54",
          "55-64",
          "45-54",
          "25-34",
          "55-64",
          "45-54",
          "25-34",
          "35-44",
          "15-24",
          "55-64",
          "55-64",
          "65-74",
          "55-64",
          "35-44"
         ],
         "xaxis": "x",
         "y": [
          4.14651002073255,
          4.1928721174004195,
          4.676539360872954,
          4.7095761381475665,
          4.765687053216839,
          4.8076923076923075,
          4.811547714514836,
          4.862236628849271,
          4.9504950495049505,
          4.958677685950414,
          4.9916805324459235,
          5.029337803855825,
          5.1020408163265305,
          5.115089514066496,
          5.123825789923142,
          5.136986301369864,
          5.172413793103448,
          5.199306759098787,
          5.203816131830009,
          5.2264808362369335,
          5.2264808362369335,
          5.253940455341506,
          5.281690140845071,
          5.286343612334802,
          5.291005291005291,
          5.319148936170213,
          5.361930294906166,
          5.376344086021505,
          5.376344086021505,
          5.381165919282511,
          5.4298642533936645,
          5.434782608695652,
          5.434782608695652,
          5.43970988213962,
          5.44464609800363,
          5.44464609800363,
          5.4495912806539515,
          5.4495912806539515,
          5.454545454545454,
          5.45950864422202,
          5.46448087431694,
          5.469462169553327,
          5.479452054794521,
          5.489478499542543,
          5.489478499542543,
          5.499541704857928,
          5.504587155963303,
          5.504587155963303,
          5.524861878453039,
          5.54016620498615,
          5.555555555555555,
          5.571030640668524,
          5.571030640668524,
          5.571030640668524,
          5.5762081784386615,
          5.5762081784386615,
          5.5813953488372094,
          5.58659217877095,
          5.58659217877095,
          5.591798695246971,
          5.591798695246971,
          5.602240896358543,
          5.612722170252573,
          5.628517823639775,
          5.628517823639775,
          5.633802816901408,
          5.639097744360902,
          5.644402634054562,
          5.644402634054562,
          5.660377358490567,
          5.665722379603399,
          5.665722379603399,
          5.665722379603399,
          5.676442762535477,
          5.676442762535477,
          5.681818181818182,
          5.698005698005699,
          5.7034220532319395,
          5.730659025787965,
          5.730659025787965,
          5.730659025787965,
          5.730659025787965,
          5.741626794258374,
          5.752636625119846,
          5.752636625119846,
          5.758157389635317,
          5.780346820809248,
          5.780346820809248,
          5.7915057915057915,
          5.808325266214908,
          5.808325266214908,
          5.813953488372093,
          5.813953488372093,
          5.830903790087464,
          5.836575875486382,
          5.842259006815969,
          5.842259006815969,
          5.847953216374269,
          5.870841487279843,
          5.870841487279843,
          5.876591576885406,
          5.893909626719057,
          5.893909626719057,
          5.899705014749262,
          5.899705014749262,
          5.899705014749262,
          5.905511811023622,
          5.928853754940712,
          5.934718100890208,
          5.9523809523809526,
          5.964214711729622,
          5.9880239520958085,
          5.994005994005994,
          5.994005994005994,
          5.994005994005994,
          6.036217303822938,
          6.036217303822938,
          6.036217303822938,
          6.0606060606060606,
          6.072874493927125,
          6.072874493927125,
          6.085192697768763,
          6.091370558375635,
          6.091370558375635,
          6.091370558375635,
          6.091370558375635,
          6.109979633401222,
          6.116207951070336,
          6.153846153846154,
          6.160164271047228,
          6.166495375128468,
          6.166495375128468,
          6.185567010309279,
          6.185567010309279,
          6.217616580310881,
          6.243496357960458,
          6.243496357960458,
          6.25,
          6.263048016701461,
          6.2761506276150625,
          6.282722513089005,
          6.289308176100629,
          6.322444678609062,
          6.329113924050633,
          6.335797254487856,
          6.335797254487856,
          6.3559322033898304,
          6.376195536663125,
          6.3965884861407245,
          6.4034151547492,
          6.4034151547492,
          6.410256410256411,
          6.4239828693790155,
          6.437768240343347,
          6.4446831364124595,
          6.458557588805167,
          6.4655172413793105,
          6.4655172413793105,
          6.479481641468682,
          6.521739130434783,
          6.521739130434783,
          6.557377049180328,
          6.571741511500547,
          6.578947368421053,
          6.607929515418502,
          6.615214994487321,
          6.6298342541436455,
          6.637168141592921,
          6.666666666666667,
          6.674082313681868,
          6.674082313681868,
          6.681514476614699,
          6.681514476614699,
          6.681514476614699,
          6.7114093959731544,
          6.71892497200448,
          6.726457399103139,
          6.741573033707865,
          6.741573033707865,
          6.756756756756756,
          6.756756756756756,
          6.764374295377678,
          6.772009029345373,
          6.787330316742081,
          6.787330316742081,
          6.795016987542469,
          6.795016987542469,
          6.795016987542469,
          6.81044267877412,
          6.8181818181818175,
          6.8181818181818175,
          6.825938566552901,
          6.83371298405467,
          6.83371298405467,
          6.83371298405467,
          6.83371298405467,
          6.841505131128849,
          6.857142857142857,
          6.8886337543053955,
          6.8886337543053955,
          6.904487917146145,
          6.928406466512702,
          6.936416184971098,
          6.952491309385863,
          6.960556844547565,
          6.968641114982579,
          6.968641114982579,
          6.976744186046512,
          6.993006993006993,
          7.017543859649122,
          7.0257611241217806,
          7.042253521126761,
          7.050528789659225,
          7.0588235294117645,
          7.0754716981132075,
          7.083825265643447,
          7.083825265643447,
          7.092198581560283,
          7.109004739336493,
          7.117437722419929,
          7.1258907363420425,
          7.13436385255648,
          7.151370679380214,
          7.159904534606205,
          7.185628742514971,
          7.202881152460984,
          7.2202166064981945,
          7.246376811594203,
          7.246376811594203,
          7.246376811594203,
          7.255139056831923,
          7.263922518159807,
          7.263922518159807,
          7.281553398058252,
          7.290400972053463,
          7.2992700729927,
          7.3081607795371495,
          7.3081607795371495,
          7.326007326007327,
          7.37100737100737,
          7.380073800738007,
          7.407407407407407,
          7.425742574257426,
          7.425742574257426,
          7.444168734491314,
          7.4812967581047385,
          7.490636704119851,
          7.490636704119851,
          7.547169811320755,
          7.585335018963337,
          7.6238881829733165,
          7.633587786259541,
          7.643312101910828,
          7.653061224489796,
          7.662835249042145,
          7.751937984496124,
          7.751937984496124,
          7.782101167315175,
          7.782101167315175,
          7.802340702210663,
          7.8125,
          7.822685788787484,
          7.83289817232376,
          7.905138339920949,
          7.905138339920949,
          7.915567282321899,
          7.936507936507937,
          7.9470198675496695,
          7.989347536617843,
          8,
          8.01068090787717,
          8.032128514056225,
          8.108108108108107,
          8.207934336525309,
          8.253094910591471,
          8.310249307479225,
          8.321775312066574,
          8.356545961002785,
          8.474576271186441,
          8.620689655172415,
          8.771929824561404,
          9.036144578313253,
          9.06344410876133,
          9.174311926605505,
          9.090909090909092,
          9.273570324574962,
          9.6,
          9.630818619582664,
          11.049723756906078,
          11.049723756906078
         ],
         "yaxis": "y"
        }
       ],
       "layout": {
        "legend": {
         "title": {
          "text": "Sx"
         },
         "tracegroupgap": 0
        },
        "template": {
         "data": {
          "bar": [
           {
            "error_x": {
             "color": "#2a3f5f"
            },
            "error_y": {
             "color": "#2a3f5f"
            },
            "marker": {
             "line": {
              "color": "#E5ECF6",
              "width": 0.5
             },
             "pattern": {
              "fillmode": "overlay",
              "size": 10,
              "solidity": 0.2
             }
            },
            "type": "bar"
           }
          ],
          "barpolar": [
           {
            "marker": {
             "line": {
              "color": "#E5ECF6",
              "width": 0.5
             },
             "pattern": {
              "fillmode": "overlay",
              "size": 10,
              "solidity": 0.2
             }
            },
            "type": "barpolar"
           }
          ],
          "carpet": [
           {
            "aaxis": {
             "endlinecolor": "#2a3f5f",
             "gridcolor": "white",
             "linecolor": "white",
             "minorgridcolor": "white",
             "startlinecolor": "#2a3f5f"
            },
            "baxis": {
             "endlinecolor": "#2a3f5f",
             "gridcolor": "white",
             "linecolor": "white",
             "minorgridcolor": "white",
             "startlinecolor": "#2a3f5f"
            },
            "type": "carpet"
           }
          ],
          "choropleth": [
           {
            "colorbar": {
             "outlinewidth": 0,
             "ticks": ""
            },
            "type": "choropleth"
           }
          ],
          "contour": [
           {
            "colorbar": {
             "outlinewidth": 0,
             "ticks": ""
            },
            "colorscale": [
             [
              0,
              "#0d0887"
             ],
             [
              0.1111111111111111,
              "#46039f"
             ],
             [
              0.2222222222222222,
              "#7201a8"
             ],
             [
              0.3333333333333333,
              "#9c179e"
             ],
             [
              0.4444444444444444,
              "#bd3786"
             ],
             [
              0.5555555555555556,
              "#d8576b"
             ],
             [
              0.6666666666666666,
              "#ed7953"
             ],
             [
              0.7777777777777778,
              "#fb9f3a"
             ],
             [
              0.8888888888888888,
              "#fdca26"
             ],
             [
              1,
              "#f0f921"
             ]
            ],
            "type": "contour"
           }
          ],
          "contourcarpet": [
           {
            "colorbar": {
             "outlinewidth": 0,
             "ticks": ""
            },
            "type": "contourcarpet"
           }
          ],
          "heatmap": [
           {
            "colorbar": {
             "outlinewidth": 0,
             "ticks": ""
            },
            "colorscale": [
             [
              0,
              "#0d0887"
             ],
             [
              0.1111111111111111,
              "#46039f"
             ],
             [
              0.2222222222222222,
              "#7201a8"
             ],
             [
              0.3333333333333333,
              "#9c179e"
             ],
             [
              0.4444444444444444,
              "#bd3786"
             ],
             [
              0.5555555555555556,
              "#d8576b"
             ],
             [
              0.6666666666666666,
              "#ed7953"
             ],
             [
              0.7777777777777778,
              "#fb9f3a"
             ],
             [
              0.8888888888888888,
              "#fdca26"
             ],
             [
              1,
              "#f0f921"
             ]
            ],
            "type": "heatmap"
           }
          ],
          "heatmapgl": [
           {
            "colorbar": {
             "outlinewidth": 0,
             "ticks": ""
            },
            "colorscale": [
             [
              0,
              "#0d0887"
             ],
             [
              0.1111111111111111,
              "#46039f"
             ],
             [
              0.2222222222222222,
              "#7201a8"
             ],
             [
              0.3333333333333333,
              "#9c179e"
             ],
             [
              0.4444444444444444,
              "#bd3786"
             ],
             [
              0.5555555555555556,
              "#d8576b"
             ],
             [
              0.6666666666666666,
              "#ed7953"
             ],
             [
              0.7777777777777778,
              "#fb9f3a"
             ],
             [
              0.8888888888888888,
              "#fdca26"
             ],
             [
              1,
              "#f0f921"
             ]
            ],
            "type": "heatmapgl"
           }
          ],
          "histogram": [
           {
            "marker": {
             "pattern": {
              "fillmode": "overlay",
              "size": 10,
              "solidity": 0.2
             }
            },
            "type": "histogram"
           }
          ],
          "histogram2d": [
           {
            "colorbar": {
             "outlinewidth": 0,
             "ticks": ""
            },
            "colorscale": [
             [
              0,
              "#0d0887"
             ],
             [
              0.1111111111111111,
              "#46039f"
             ],
             [
              0.2222222222222222,
              "#7201a8"
             ],
             [
              0.3333333333333333,
              "#9c179e"
             ],
             [
              0.4444444444444444,
              "#bd3786"
             ],
             [
              0.5555555555555556,
              "#d8576b"
             ],
             [
              0.6666666666666666,
              "#ed7953"
             ],
             [
              0.7777777777777778,
              "#fb9f3a"
             ],
             [
              0.8888888888888888,
              "#fdca26"
             ],
             [
              1,
              "#f0f921"
             ]
            ],
            "type": "histogram2d"
           }
          ],
          "histogram2dcontour": [
           {
            "colorbar": {
             "outlinewidth": 0,
             "ticks": ""
            },
            "colorscale": [
             [
              0,
              "#0d0887"
             ],
             [
              0.1111111111111111,
              "#46039f"
             ],
             [
              0.2222222222222222,
              "#7201a8"
             ],
             [
              0.3333333333333333,
              "#9c179e"
             ],
             [
              0.4444444444444444,
              "#bd3786"
             ],
             [
              0.5555555555555556,
              "#d8576b"
             ],
             [
              0.6666666666666666,
              "#ed7953"
             ],
             [
              0.7777777777777778,
              "#fb9f3a"
             ],
             [
              0.8888888888888888,
              "#fdca26"
             ],
             [
              1,
              "#f0f921"
             ]
            ],
            "type": "histogram2dcontour"
           }
          ],
          "mesh3d": [
           {
            "colorbar": {
             "outlinewidth": 0,
             "ticks": ""
            },
            "type": "mesh3d"
           }
          ],
          "parcoords": [
           {
            "line": {
             "colorbar": {
              "outlinewidth": 0,
              "ticks": ""
             }
            },
            "type": "parcoords"
           }
          ],
          "pie": [
           {
            "automargin": true,
            "type": "pie"
           }
          ],
          "scatter": [
           {
            "fillpattern": {
             "fillmode": "overlay",
             "size": 10,
             "solidity": 0.2
            },
            "type": "scatter"
           }
          ],
          "scatter3d": [
           {
            "line": {
             "colorbar": {
              "outlinewidth": 0,
              "ticks": ""
             }
            },
            "marker": {
             "colorbar": {
              "outlinewidth": 0,
              "ticks": ""
             }
            },
            "type": "scatter3d"
           }
          ],
          "scattercarpet": [
           {
            "marker": {
             "colorbar": {
              "outlinewidth": 0,
              "ticks": ""
             }
            },
            "type": "scattercarpet"
           }
          ],
          "scattergeo": [
           {
            "marker": {
             "colorbar": {
              "outlinewidth": 0,
              "ticks": ""
             }
            },
            "type": "scattergeo"
           }
          ],
          "scattergl": [
           {
            "marker": {
             "colorbar": {
              "outlinewidth": 0,
              "ticks": ""
             }
            },
            "type": "scattergl"
           }
          ],
          "scattermapbox": [
           {
            "marker": {
             "colorbar": {
              "outlinewidth": 0,
              "ticks": ""
             }
            },
            "type": "scattermapbox"
           }
          ],
          "scatterpolar": [
           {
            "marker": {
             "colorbar": {
              "outlinewidth": 0,
              "ticks": ""
             }
            },
            "type": "scatterpolar"
           }
          ],
          "scatterpolargl": [
           {
            "marker": {
             "colorbar": {
              "outlinewidth": 0,
              "ticks": ""
             }
            },
            "type": "scatterpolargl"
           }
          ],
          "scatterternary": [
           {
            "marker": {
             "colorbar": {
              "outlinewidth": 0,
              "ticks": ""
             }
            },
            "type": "scatterternary"
           }
          ],
          "surface": [
           {
            "colorbar": {
             "outlinewidth": 0,
             "ticks": ""
            },
            "colorscale": [
             [
              0,
              "#0d0887"
             ],
             [
              0.1111111111111111,
              "#46039f"
             ],
             [
              0.2222222222222222,
              "#7201a8"
             ],
             [
              0.3333333333333333,
              "#9c179e"
             ],
             [
              0.4444444444444444,
              "#bd3786"
             ],
             [
              0.5555555555555556,
              "#d8576b"
             ],
             [
              0.6666666666666666,
              "#ed7953"
             ],
             [
              0.7777777777777778,
              "#fb9f3a"
             ],
             [
              0.8888888888888888,
              "#fdca26"
             ],
             [
              1,
              "#f0f921"
             ]
            ],
            "type": "surface"
           }
          ],
          "table": [
           {
            "cells": {
             "fill": {
              "color": "#EBF0F8"
             },
             "line": {
              "color": "white"
             }
            },
            "header": {
             "fill": {
              "color": "#C8D4E3"
             },
             "line": {
              "color": "white"
             }
            },
            "type": "table"
           }
          ]
         },
         "layout": {
          "annotationdefaults": {
           "arrowcolor": "#2a3f5f",
           "arrowhead": 0,
           "arrowwidth": 1
          },
          "autotypenumbers": "strict",
          "coloraxis": {
           "colorbar": {
            "outlinewidth": 0,
            "ticks": ""
           }
          },
          "colorscale": {
           "diverging": [
            [
             0,
             "#8e0152"
            ],
            [
             0.1,
             "#c51b7d"
            ],
            [
             0.2,
             "#de77ae"
            ],
            [
             0.3,
             "#f1b6da"
            ],
            [
             0.4,
             "#fde0ef"
            ],
            [
             0.5,
             "#f7f7f7"
            ],
            [
             0.6,
             "#e6f5d0"
            ],
            [
             0.7,
             "#b8e186"
            ],
            [
             0.8,
             "#7fbc41"
            ],
            [
             0.9,
             "#4d9221"
            ],
            [
             1,
             "#276419"
            ]
           ],
           "sequential": [
            [
             0,
             "#0d0887"
            ],
            [
             0.1111111111111111,
             "#46039f"
            ],
            [
             0.2222222222222222,
             "#7201a8"
            ],
            [
             0.3333333333333333,
             "#9c179e"
            ],
            [
             0.4444444444444444,
             "#bd3786"
            ],
            [
             0.5555555555555556,
             "#d8576b"
            ],
            [
             0.6666666666666666,
             "#ed7953"
            ],
            [
             0.7777777777777778,
             "#fb9f3a"
            ],
            [
             0.8888888888888888,
             "#fdca26"
            ],
            [
             1,
             "#f0f921"
            ]
           ],
           "sequentialminus": [
            [
             0,
             "#0d0887"
            ],
            [
             0.1111111111111111,
             "#46039f"
            ],
            [
             0.2222222222222222,
             "#7201a8"
            ],
            [
             0.3333333333333333,
             "#9c179e"
            ],
            [
             0.4444444444444444,
             "#bd3786"
            ],
            [
             0.5555555555555556,
             "#d8576b"
            ],
            [
             0.6666666666666666,
             "#ed7953"
            ],
            [
             0.7777777777777778,
             "#fb9f3a"
            ],
            [
             0.8888888888888888,
             "#fdca26"
            ],
            [
             1,
             "#f0f921"
            ]
           ]
          },
          "colorway": [
           "#636efa",
           "#EF553B",
           "#00cc96",
           "#ab63fa",
           "#FFA15A",
           "#19d3f3",
           "#FF6692",
           "#B6E880",
           "#FF97FF",
           "#FECB52"
          ],
          "font": {
           "color": "#2a3f5f"
          },
          "geo": {
           "bgcolor": "white",
           "lakecolor": "white",
           "landcolor": "#E5ECF6",
           "showlakes": true,
           "showland": true,
           "subunitcolor": "white"
          },
          "hoverlabel": {
           "align": "left"
          },
          "hovermode": "closest",
          "mapbox": {
           "style": "light"
          },
          "paper_bgcolor": "white",
          "plot_bgcolor": "#E5ECF6",
          "polar": {
           "angularaxis": {
            "gridcolor": "white",
            "linecolor": "white",
            "ticks": ""
           },
           "bgcolor": "#E5ECF6",
           "radialaxis": {
            "gridcolor": "white",
            "linecolor": "white",
            "ticks": ""
           }
          },
          "scene": {
           "xaxis": {
            "backgroundcolor": "#E5ECF6",
            "gridcolor": "white",
            "gridwidth": 2,
            "linecolor": "white",
            "showbackground": true,
            "ticks": "",
            "zerolinecolor": "white"
           },
           "yaxis": {
            "backgroundcolor": "#E5ECF6",
            "gridcolor": "white",
            "gridwidth": 2,
            "linecolor": "white",
            "showbackground": true,
            "ticks": "",
            "zerolinecolor": "white"
           },
           "zaxis": {
            "backgroundcolor": "#E5ECF6",
            "gridcolor": "white",
            "gridwidth": 2,
            "linecolor": "white",
            "showbackground": true,
            "ticks": "",
            "zerolinecolor": "white"
           }
          },
          "shapedefaults": {
           "line": {
            "color": "#2a3f5f"
           }
          },
          "ternary": {
           "aaxis": {
            "gridcolor": "white",
            "linecolor": "white",
            "ticks": ""
           },
           "baxis": {
            "gridcolor": "white",
            "linecolor": "white",
            "ticks": ""
           },
           "bgcolor": "#E5ECF6",
           "caxis": {
            "gridcolor": "white",
            "linecolor": "white",
            "ticks": ""
           }
          },
          "title": {
           "x": 0.05
          },
          "xaxis": {
           "automargin": true,
           "gridcolor": "white",
           "linecolor": "white",
           "ticks": "",
           "title": {
            "standoff": 15
           },
           "zerolinecolor": "white",
           "zerolinewidth": 2
          },
          "yaxis": {
           "automargin": true,
           "gridcolor": "white",
           "linecolor": "white",
           "ticks": "",
           "title": {
            "standoff": 15
           },
           "zerolinecolor": "white",
           "zerolinewidth": 2
          }
         }
        },
        "title": {
         "text": "Perfomance da Corrida Através do Gráfico de Pontos"
        },
        "xaxis": {
         "anchor": "y",
         "categoryarray": [
          "15-24",
          "25-34",
          "35-44",
          "45-54",
          "55-64",
          "65-74",
          "75-99"
         ],
         "categoryorder": "array",
         "domain": [
          0,
          1
         ],
         "title": {
          "text": "Faixa Etária"
         }
        },
        "yaxis": {
         "anchor": "x",
         "domain": [
          0,
          1
         ],
         "title": {
          "text": "Pace_Final"
         }
        }
       }
      }
     },
     "metadata": {},
     "output_type": "display_data"
    }
   ],
   "source": [
    "fig = px.scatter(\n",
    "    dados_corrida_so_quem_completou,\n",
    "    x = 'Faixa Etária',\n",
    "    y='Pace_Final',\n",
    "    title = 'Perfomance da Corrida Através do Gráfico de Pontos',\n",
    "    color = 'Sx',\n",
    "    category_orders = {\"Faixa Etária\":ordem_categoria}\n",
    "    \n",
    ")\n",
    "fig.show()"
   ]
  },
  {
   "cell_type": "markdown",
   "metadata": {},
   "source": [
    "![Gráfico Plotly](Perfomance_de_Corrida_Por_Sexo_Grafico_Pontos.png)"
   ]
  },
  {
   "cell_type": "code",
   "execution_count": 35,
   "metadata": {},
   "outputs": [
    {
     "data": {
      "application/vnd.plotly.v1+json": {
       "config": {
        "plotlyServerURL": "https://plot.ly"
       },
       "data": [
        {
         "alignmentgroup": "True",
         "hovertemplate": "Sx=Masculino<br>Faixa Etária=%{x}<br>Pace_Final=%{y}<extra></extra>",
         "legendgroup": "Masculino",
         "marker": {
          "color": "#636efa"
         },
         "name": "Masculino",
         "notched": false,
         "offsetgroup": "Masculino",
         "orientation": "v",
         "showlegend": true,
         "type": "box",
         "x": [
          null,
          null,
          null,
          null,
          null,
          "25-34",
          "25-34",
          "35-44",
          "25-34",
          "25-34",
          "35-44",
          "35-44",
          "35-44",
          "25-34",
          "25-34",
          "25-34",
          "55-64",
          "65-74",
          "45-54",
          "25-34",
          "45-54",
          "25-34",
          "25-34",
          "55-64",
          "55-64",
          "25-34",
          "25-34",
          "25-34",
          "25-34",
          "25-34",
          "35-44",
          "35-44",
          "45-54",
          "35-44",
          "35-44",
          "45-54",
          "25-34",
          "25-34",
          "35-44",
          "45-54",
          "45-54",
          "35-44",
          "35-44",
          "25-34",
          "45-54",
          "45-54",
          "25-34",
          "35-44",
          "45-54",
          "45-54",
          "35-44",
          "45-54",
          "25-34",
          "55-64",
          "45-54",
          "45-54",
          "35-44",
          "35-44",
          "45-54",
          "45-54",
          "15-24",
          "25-34",
          "15-24",
          "25-34",
          "15-24",
          "55-64",
          "25-34",
          "25-34",
          "15-24",
          "35-44",
          "45-54",
          "25-34",
          "35-44",
          "25-34",
          "25-34",
          "15-24",
          "35-44",
          "35-44",
          "45-54",
          "35-44",
          "35-44",
          "45-54",
          "15-24",
          "15-24",
          "25-34",
          "45-54",
          "55-64",
          "25-34",
          "45-54",
          "35-44",
          "55-64",
          "35-44",
          "75-99",
          "55-64",
          "25-34",
          "35-44",
          "15-24",
          "15-24",
          "35-44",
          "25-34",
          "25-34",
          "55-64",
          "35-44",
          "15-24",
          "15-24",
          "35-44",
          "35-44",
          "35-44",
          "35-44",
          "25-34",
          "35-44",
          "15-24",
          "35-44",
          "35-44",
          "25-34",
          "45-54",
          "25-34",
          "15-24",
          "25-34",
          "35-44",
          "35-44",
          "35-44",
          "15-24",
          "55-64",
          "15-24",
          "35-44",
          "35-44",
          "35-44",
          "35-44",
          "55-64",
          "35-44",
          "35-44",
          "45-54",
          "15-24",
          "25-34",
          "45-54",
          "25-34",
          "15-24",
          "35-44",
          "45-54",
          "45-54",
          "35-44",
          "25-34",
          "35-44",
          "45-54",
          "25-34",
          "45-54",
          "25-34",
          "45-54",
          "45-54",
          "45-54",
          "15-24",
          "35-44",
          "45-54",
          "25-34",
          "45-54",
          "25-34",
          "45-54",
          "25-34",
          "45-54",
          "45-54",
          "35-44",
          "45-54",
          "35-44",
          "55-64",
          "45-54",
          "45-54",
          "45-54",
          "65-74",
          "35-44",
          "45-54",
          "35-44",
          "45-54",
          "45-54",
          "45-54",
          "25-34",
          "35-44",
          "65-74",
          "55-64",
          "35-44",
          "25-34",
          "35-44",
          "15-24",
          "35-44",
          "35-44",
          "55-64",
          "45-54",
          "45-54",
          "35-44",
          "25-34",
          "45-54",
          "35-44",
          "45-54",
          "35-44",
          "15-24",
          "35-44",
          "45-54",
          "35-44",
          "35-44",
          "35-44",
          "25-34",
          "25-34",
          "45-54",
          "35-44",
          "25-34",
          "35-44",
          "45-54",
          "55-64",
          "65-74",
          "45-54",
          "25-34",
          "25-34",
          "55-64",
          "55-64",
          "55-64",
          "25-34",
          "25-34",
          "25-34",
          "35-44",
          "25-34",
          "45-54",
          "55-64",
          "35-44",
          "25-34",
          "45-54",
          "25-34",
          "35-44",
          "25-34",
          "35-44",
          "15-24",
          "15-24",
          "25-34",
          "15-24",
          "55-64",
          "55-64",
          "35-44",
          "35-44",
          "55-64",
          "35-44",
          "65-74",
          "25-34",
          "55-64",
          "45-54",
          "35-44",
          "45-54",
          "25-34",
          "35-44",
          "35-44",
          "25-34",
          "35-44",
          "35-44",
          "55-64",
          "25-34",
          "25-34",
          "35-44",
          "25-34",
          "45-54",
          "45-54",
          "35-44",
          "35-44",
          "45-54",
          "25-34",
          "15-24",
          "45-54",
          "35-44",
          "25-34",
          "15-24",
          "35-44",
          "45-54",
          "25-34",
          "35-44",
          "25-34",
          "35-44",
          "35-44",
          "45-54",
          "35-44",
          "25-34",
          "35-44",
          "35-44",
          "45-54",
          "55-64",
          "35-44",
          "45-54",
          "35-44",
          "35-44",
          "75-99",
          "25-34",
          "45-54",
          "35-44",
          "45-54",
          "25-34",
          "55-64",
          "35-44",
          "55-64",
          "45-54",
          "25-34",
          "25-34",
          "65-74",
          "25-34",
          "35-44",
          "35-44",
          "15-24",
          "35-44",
          "25-34",
          "45-54",
          "25-34",
          "25-34",
          "45-54",
          "55-64",
          "35-44",
          "25-34",
          "25-34",
          "45-54",
          "55-64",
          "35-44",
          "35-44",
          "55-64",
          "45-54",
          "35-44",
          "25-34",
          "45-54",
          "25-34",
          "35-44",
          "35-44",
          "25-34",
          "45-54",
          "25-34",
          "45-54",
          "35-44",
          "35-44",
          "45-54",
          "15-24",
          "25-34",
          "65-74",
          "25-34",
          "55-64",
          "55-64",
          "25-34",
          "25-34",
          "25-34",
          "25-34",
          "35-44",
          "65-74",
          "35-44",
          "35-44",
          "35-44",
          "75-99",
          "35-44",
          "75-99",
          "45-54",
          "25-34",
          "55-64",
          "25-34",
          "55-64",
          "55-64",
          "55-64",
          "35-44",
          "25-34",
          "25-34",
          "35-44",
          "45-54",
          "45-54",
          "35-44",
          "25-34",
          "35-44",
          "25-34",
          "55-64",
          null,
          "35-44",
          "35-44",
          "35-44",
          "35-44",
          "25-34",
          "15-24",
          "25-34",
          "45-54",
          "45-54",
          "45-54",
          "45-54",
          "25-34",
          "15-24",
          "45-54",
          "25-34",
          "35-44",
          "35-44",
          "35-44",
          "35-44",
          "35-44",
          "45-54",
          "15-24",
          "25-34",
          "35-44",
          "45-54",
          "55-64",
          "15-24",
          "35-44",
          "35-44",
          "65-74",
          "45-54",
          "15-24",
          "35-44",
          "45-54",
          "45-54",
          "55-64",
          "35-44",
          "35-44",
          "55-64",
          "25-34",
          "55-64",
          "35-44",
          "35-44",
          "15-24",
          "75-99",
          "25-34",
          "35-44",
          "55-64",
          "15-24",
          "45-54",
          "45-54",
          "35-44",
          "45-54",
          "25-34",
          "45-54",
          "65-74",
          "25-34",
          "25-34",
          "25-34",
          "35-44",
          "45-54",
          "25-34",
          "55-64",
          "55-64",
          "55-64",
          "35-44",
          "65-74",
          "55-64",
          "35-44",
          "35-44",
          "25-34",
          "15-24",
          "35-44",
          "35-44",
          "15-24",
          "25-34",
          "35-44",
          "45-54",
          "55-64",
          "35-44",
          "35-44",
          "35-44",
          "35-44",
          "45-54",
          "45-54",
          "55-64",
          "65-74",
          "35-44",
          "35-44",
          "35-44",
          "35-44",
          "35-44",
          "35-44",
          "55-64",
          "25-34",
          "35-44",
          "45-54",
          "25-34",
          "25-34",
          "35-44",
          "25-34",
          "25-34",
          "65-74",
          "55-64",
          "35-44",
          "35-44",
          "55-64",
          "45-54",
          "35-44",
          "55-64",
          "55-64",
          "25-34",
          "55-64",
          "25-34",
          "55-64",
          "35-44",
          "35-44",
          "25-34",
          "45-54",
          "35-44",
          "35-44",
          "35-44",
          "35-44",
          "65-74",
          "55-64",
          "25-34",
          "55-64",
          "45-54",
          "45-54",
          "55-64",
          "75-99",
          "55-64",
          "45-54",
          "35-44",
          "55-64",
          "35-44",
          "35-44",
          "45-54",
          "35-44",
          "35-44",
          "15-24",
          "55-64",
          "25-34",
          "15-24",
          "45-54",
          "55-64",
          "55-64",
          "35-44",
          "25-34",
          "35-44",
          "45-54",
          "25-34",
          "25-34",
          "35-44",
          "35-44",
          "25-34",
          "15-24",
          "45-54",
          "55-64",
          "55-64",
          "45-54",
          "65-74",
          "35-44",
          "35-44",
          "55-64",
          "65-74",
          "55-64",
          "45-54",
          "55-64",
          "25-34",
          "55-64",
          "35-44",
          "65-74",
          "45-54",
          "35-44",
          "75-99",
          "45-54",
          "65-74",
          "65-74",
          "35-44",
          "25-34",
          "25-34",
          "45-54",
          "15-24",
          "35-44",
          "25-34",
          "55-64",
          "25-34",
          "35-44",
          "45-54",
          "25-34",
          "25-34",
          "45-54",
          "65-74",
          "35-44",
          "15-24",
          "35-44",
          "35-44",
          "65-74",
          "35-44",
          "25-34",
          "35-44",
          "55-64",
          "35-44",
          "25-34",
          "45-54",
          "35-44",
          "35-44",
          "55-64",
          "55-64",
          "65-74",
          "45-54",
          "45-54",
          "25-34",
          "25-34",
          "35-44",
          "45-54",
          "25-34",
          "45-54",
          "45-54",
          "55-64",
          "35-44",
          "55-64",
          "35-44",
          "35-44",
          "35-44",
          "55-64",
          "25-34",
          "55-64",
          "45-54",
          "25-34",
          "15-24",
          "45-54",
          "55-64",
          "45-54",
          "25-34",
          "55-64",
          "55-64",
          "45-54",
          "25-34",
          "65-74",
          "55-64",
          "25-34",
          "35-44",
          "35-44",
          "35-44",
          "55-64",
          "55-64",
          "25-34",
          "35-44",
          "75-99",
          "55-64",
          "45-54",
          "35-44",
          "65-74",
          "45-54",
          "55-64",
          "65-74",
          "45-54",
          "45-54",
          "35-44",
          "35-44",
          "35-44",
          "45-54",
          "35-44",
          "25-34",
          "45-54",
          "45-54",
          "55-64",
          "45-54",
          "25-34",
          "35-44",
          "55-64",
          "35-44",
          "35-44",
          "35-44",
          "55-64",
          "55-64",
          "35-44",
          "35-44",
          "55-64",
          "45-54",
          "35-44",
          "25-34",
          "55-64",
          "15-24",
          "35-44",
          "45-54",
          "65-74",
          "55-64",
          "25-34",
          "75-99",
          "75-99",
          "35-44",
          "75-99",
          "45-54",
          "65-74",
          "65-74",
          "55-64",
          "35-44"
         ],
         "x0": " ",
         "xaxis": "x",
         "y": [
          3.1595576619273302,
          3.3707865168539324,
          3.4443168771526977,
          3.4462952326249283,
          3.4502587694077054,
          3.544004725339634,
          3.621001810500905,
          3.621001810500905,
          3.6607687614399023,
          3.6607687614399023,
          3.780718336483932,
          3.7854889589905363,
          3.8095238095238093,
          3.870967741935484,
          3.878474466709761,
          3.8935756002595716,
          3.90625,
          3.9761431411530817,
          3.9787798408488064,
          3.9787798408488064,
          3.9946737683089215,
          4,
          4.008016032064128,
          4.029550033579583,
          4.0733197556008145,
          4.078857919782461,
          4.118050789293068,
          4.123711340206185,
          4.135079255685734,
          4.14651002073255,
          4.14651002073255,
          4.158004158004158,
          4.178272980501393,
          4.195804195804196,
          4.198740377886634,
          4.204625087596356,
          4.240282685512367,
          4.2492917847025495,
          4.2492917847025495,
          4.261363636363637,
          4.264392324093817,
          4.279600570613409,
          4.288777698355968,
          4.288777698355968,
          4.291845493562231,
          4.291845493562231,
          4.297994269340974,
          4.301075268817205,
          4.313443565780014,
          4.319654427645788,
          4.344677769732078,
          4.354136429608128,
          4.363636363636363,
          4.369992716678805,
          4.385964912280702,
          4.389173372348208,
          4.389173372348208,
          4.402054292002934,
          4.405286343612335,
          4.411764705882353,
          4.428044280442804,
          4.428044280442804,
          4.434589800443459,
          4.444444444444445,
          4.451038575667655,
          4.4543429844097995,
          4.4543429844097995,
          4.49438202247191,
          4.497751124437781,
          4.504504504504505,
          4.507888805409467,
          4.511278195488722,
          4.511278195488722,
          4.52147701582517,
          4.524886877828054,
          4.524886877828054,
          4.524886877828054,
          4.524886877828054,
          4.528301886792453,
          4.531722054380665,
          4.531722054380665,
          4.552352048558422,
          4.552352048558422,
          4.562737642585551,
          4.566210045662101,
          4.566210045662101,
          4.580152671755726,
          4.580152671755726,
          4.587155963302752,
          4.597701149425287,
          4.597701149425287,
          4.601226993865031,
          4.604758250191865,
          4.6082949308755765,
          4.622496147919876,
          4.626060138781804,
          4.633204633204634,
          4.640371229698376,
          4.640371229698376,
          4.647560030983733,
          4.662004662004662,
          4.662004662004662,
          4.665629860031104,
          4.669260700389105,
          4.672897196261682,
          4.6801872074882995,
          4.68384074941452,
          4.68384074941452,
          4.68384074941452,
          4.68384074941452,
          4.6875,
          4.6875,
          4.691164972634871,
          4.694835680751174,
          4.698512137823023,
          4.702194357366771,
          4.702194357366771,
          4.7095761381475665,
          4.7095761381475665,
          4.713275726630008,
          4.724409448818898,
          4.724409448818898,
          4.724409448818898,
          4.728132387706856,
          4.728132387706856,
          4.73559589581689,
          4.73559589581689,
          4.743083003952569,
          4.746835443037974,
          4.758128469468676,
          4.765687053216839,
          4.765687053216839,
          4.77326968973747,
          4.77326968973747,
          4.77326968973747,
          4.777070063694267,
          4.803843074459568,
          4.803843074459568,
          4.803843074459568,
          4.815409309791332,
          4.815409309791332,
          4.815409309791332,
          4.819277108433735,
          4.823151125401929,
          4.823151125401929,
          4.823151125401929,
          4.823151125401929,
          4.8270313757039425,
          4.830917874396135,
          4.8348106365834,
          4.8348106365834,
          4.842615012106537,
          4.846526655896607,
          4.846526655896607,
          4.8543689320388355,
          4.858299595141701,
          4.862236628849271,
          4.87012987012987,
          4.8740861088545895,
          4.8740861088545895,
          4.878048780487805,
          4.882017900732303,
          4.88599348534202,
          4.88599348534202,
          4.88599348534202,
          4.893964110929853,
          4.905968928863451,
          4.918032786885246,
          4.9220672682526665,
          4.930156121610517,
          4.938271604938271,
          4.938271604938271,
          4.938271604938271,
          4.938271604938271,
          4.9464138499587795,
          4.9464138499587795,
          4.9464138499587795,
          4.9464138499587795,
          4.958677685950414,
          4.962779156327543,
          4.971002485501242,
          4.987531172069826,
          4.9916805324459235,
          5.004170141784821,
          5.004170141784821,
          5.016722408026755,
          5.020920502092051,
          5.020920502092051,
          5.029337803855825,
          5.029337803855825,
          5.029337803855825,
          5.037783375314861,
          5.037783375314861,
          5.037783375314861,
          5.046257359125315,
          5.05050505050505,
          5.054759898904802,
          5.059021922428331,
          5.059021922428331,
          5.059021922428331,
          5.0675675675675675,
          5.07185122569738,
          5.0761421319796955,
          5.080440304826418,
          5.080440304826418,
          5.089058524173028,
          5.1020408163265305,
          5.1020408163265305,
          5.1063829787234045,
          5.1063829787234045,
          5.110732538330494,
          5.1194539249146755,
          5.1194539249146755,
          5.1194539249146755,
          5.123825789923142,
          5.128205128205129,
          5.128205128205129,
          5.132591958939265,
          5.132591958939265,
          5.136986301369864,
          5.136986301369864,
          5.141388174807198,
          5.145797598627787,
          5.150214592274678,
          5.150214592274678,
          5.150214592274678,
          5.150214592274678,
          5.150214592274678,
          5.150214592274678,
          5.150214592274678,
          5.154639175257731,
          5.159071367153912,
          5.163511187607574,
          5.167958656330749,
          5.167958656330749,
          5.167958656330749,
          5.172413793103448,
          5.176876617773943,
          5.181347150259067,
          5.181347150259067,
          5.190311418685121,
          5.190311418685121,
          5.194805194805195,
          5.199306759098787,
          5.199306759098787,
          5.203816131830009,
          5.203816131830009,
          5.208333333333334,
          5.208333333333334,
          5.2264808362369335,
          5.2264808362369335,
          5.2264808362369335,
          5.2264808362369335,
          5.231037489102005,
          5.231037489102005,
          5.2356020942408374,
          5.240174672489084,
          5.244755244755245,
          5.244755244755245,
          5.244755244755245,
          5.244755244755245,
          5.253940455341506,
          5.25854513584575,
          5.267778753292362,
          5.267778753292362,
          5.267778753292362,
          5.267778753292362,
          5.277044854881267,
          5.277044854881267,
          5.277044854881267,
          5.277044854881267,
          5.281690140845071,
          5.286343612334802,
          5.291005291005291,
          5.29567519858782,
          5.300353356890459,
          5.300353356890459,
          5.305039787798409,
          5.305039787798409,
          5.309734513274336,
          5.314437555358725,
          5.314437555358725,
          5.314437555358725,
          5.319148936170213,
          5.319148936170213,
          5.323868677905945,
          5.328596802841918,
          5.328596802841918,
          5.328596802841918,
          5.328596802841918,
          5.333333333333333,
          5.338078291814947,
          5.342831700801424,
          5.342831700801424,
          5.357142857142858,
          5.357142857142858,
          5.357142857142858,
          5.361930294906166,
          5.366726296958856,
          5.366726296958856,
          5.371530886302597,
          5.371530886302597,
          5.371530886302597,
          5.376344086021505,
          5.376344086021505,
          5.376344086021505,
          5.376344086021505,
          5.376344086021505,
          5.381165919282511,
          5.381165919282511,
          5.381165919282511,
          5.390835579514825,
          5.390835579514825,
          5.390835579514825,
          5.39568345323741,
          5.39568345323741,
          5.4005400540054005,
          5.405405405405405,
          5.405405405405405,
          5.410279531109107,
          5.410279531109107,
          5.415162454873646,
          5.415162454873646,
          5.420054200542006,
          5.420054200542006,
          5.420054200542006,
          5.420054200542006,
          5.424954792043399,
          5.4298642533936645,
          5.4298642533936645,
          5.4298642533936645,
          5.434782608695652,
          5.434782608695652,
          5.43970988213962,
          5.454545454545454,
          5.454545454545454,
          5.454545454545454,
          5.45950864422202,
          5.46448087431694,
          5.46448087431694,
          5.474452554744525,
          5.474452554744525,
          5.479452054794521,
          5.484460694698355,
          5.484460694698355,
          5.484460694698355,
          5.484460694698355,
          5.489478499542543,
          5.489478499542543,
          5.499541704857928,
          5.499541704857928,
          5.504587155963303,
          5.509641873278237,
          5.514705882352941,
          5.519779208831647,
          5.524861878453039,
          5.535055350553505,
          5.535055350553505,
          5.535055350553505,
          5.535055350553505,
          5.54016620498615,
          5.54016620498615,
          5.545286506469501,
          5.545286506469501,
          5.550416281221091,
          5.555555555555555,
          5.565862708719852,
          5.565862708719852,
          5.5762081784386615,
          5.5762081784386615,
          5.5762081784386615,
          5.58659217877095,
          5.58659217877095,
          5.58659217877095,
          5.58659217877095,
          5.597014925373134,
          5.597014925373134,
          5.597014925373134,
          5.597014925373134,
          5.597014925373134,
          5.607476635514019,
          5.607476635514019,
          5.617977528089888,
          5.623242736644799,
          5.628517823639775,
          5.628517823639775,
          5.628517823639775,
          5.633802816901408,
          5.639097744360902,
          5.639097744360902,
          5.639097744360902,
          5.639097744360902,
          5.639097744360902,
          5.644402634054562,
          5.655042412818096,
          5.655042412818096,
          5.660377358490567,
          5.660377358490567,
          5.665722379603399,
          5.671077504725898,
          5.671077504725898,
          5.676442762535477,
          5.6872037914691935,
          5.6872037914691935,
          5.692599620493359,
          5.692599620493359,
          5.692599620493359,
          5.692599620493359,
          5.692599620493359,
          5.692599620493359,
          5.692599620493359,
          5.692599620493359,
          5.7034220532319395,
          5.7034220532319395,
          5.7034220532319395,
          5.714285714285714,
          5.714285714285714,
          5.719733079122975,
          5.719733079122975,
          5.7251908396946565,
          5.7251908396946565,
          5.730659025787965,
          5.736137667304015,
          5.74712643678161,
          5.752636625119846,
          5.752636625119846,
          5.752636625119846,
          5.752636625119846,
          5.758157389635317,
          5.7747834456207885,
          5.780346820809248,
          5.785920925747349,
          5.797101449275362,
          5.802707930367505,
          5.802707930367505,
          5.802707930367505,
          5.802707930367505,
          5.802707930367505,
          5.808325266214908,
          5.819592628516004,
          5.825242718446601,
          5.830903790087464,
          5.830903790087464,
          5.836575875486382,
          5.836575875486382,
          5.847953216374269,
          5.847953216374269,
          5.847953216374269,
          5.853658536585366,
          5.859375,
          5.870841487279843,
          5.876591576885406,
          5.882352941176471,
          5.888125613346419,
          5.888125613346419,
          5.893909626719057,
          5.893909626719057,
          5.893909626719057,
          5.905511811023622,
          5.905511811023622,
          5.905511811023622,
          5.9171597633136095,
          5.9171597633136095,
          5.9171597633136095,
          5.9171597633136095,
          5.9171597633136095,
          5.9171597633136095,
          5.9171597633136095,
          5.9171597633136095,
          5.923000987166831,
          5.923000987166831,
          5.934718100890208,
          5.9523809523809526,
          5.964214711729622,
          5.964214711729622,
          5.976095617529881,
          5.982053838484546,
          5.9880239520958085,
          6.018054162487462,
          6.018054162487462,
          6.024096385542168,
          6.030150753768845,
          6.036217303822938,
          6.0606060606060606,
          6.0606060606060606,
          6.0606060606060606,
          6.0606060606060606,
          6.072874493927125,
          6.072874493927125,
          6.079027355623101,
          6.079027355623101,
          6.079027355623101,
          6.079027355623101,
          6.079027355623101,
          6.097560975609756,
          6.109979633401222,
          6.109979633401222,
          6.116207951070336,
          6.116207951070336,
          6.116207951070336,
          6.122448979591836,
          6.134969325153374,
          6.141248720573183,
          6.141248720573183,
          6.153846153846154,
          6.153846153846154,
          6.153846153846154,
          6.160164271047228,
          6.160164271047228,
          6.160164271047228,
          6.160164271047228,
          6.172839506172839,
          6.179196704428424,
          6.185567010309279,
          6.185567010309279,
          6.191950464396285,
          6.198347107438017,
          6.211180124223603,
          6.224066390041493,
          6.230529595015576,
          6.237006237006238,
          6.25,
          6.25,
          6.256517205422315,
          6.263048016701461,
          6.269592476489028,
          6.269592476489028,
          6.269592476489028,
          6.2761506276150625,
          6.2761506276150625,
          6.282722513089005,
          6.282722513089005,
          6.282722513089005,
          6.289308176100629,
          6.295907660020987,
          6.295907660020987,
          6.302521008403362,
          6.309148264984227,
          6.309148264984227,
          6.309148264984227,
          6.315789473684211,
          6.315789473684211,
          6.329113924050633,
          6.335797254487856,
          6.34920634920635,
          6.3559322033898304,
          6.3559322033898304,
          6.3559322033898304,
          6.3559322033898304,
          6.362672322375398,
          6.382978723404255,
          6.382978723404255,
          6.3965884861407245,
          6.3965884861407245,
          6.3965884861407245,
          6.4034151547492,
          6.410256410256411,
          6.4171122994652405,
          6.430868167202572,
          6.430868167202572,
          6.451612903225806,
          6.4655172413793105,
          6.500541711809317,
          6.507592190889371,
          6.514657980456025,
          6.5359477124183005,
          6.543075245365322,
          6.543075245365322,
          6.557377049180328,
          6.557377049180328,
          6.571741511500547,
          6.593406593406594,
          6.607929515418502,
          6.615214994487321,
          6.615214994487321,
          6.6298342541436455,
          6.6298342541436455,
          6.651884700665189,
          6.659267480577137,
          6.674082313681868,
          6.681514476614699,
          6.68896321070234,
          6.68896321070234,
          6.703910614525141,
          6.7114093959731544,
          6.71892497200448,
          6.749156355455567,
          6.764374295377678,
          6.795016987542469,
          6.795016987542469,
          6.8181818181818175,
          6.825938566552901,
          6.825938566552901,
          6.825938566552901,
          6.825938566552901,
          6.83371298405467,
          6.83371298405467,
          6.83371298405467,
          6.857142857142857,
          6.857142857142857,
          6.857142857142857,
          6.8728522336769755,
          6.8728522336769755,
          6.880733944954128,
          6.8965517241379315,
          6.904487917146145,
          6.960556844547565,
          6.968641114982579,
          6.968641114982579,
          6.976744186046512,
          6.993006993006993,
          6.993006993006993,
          7.017543859649122,
          7.0588235294117645,
          7.0588235294117645,
          7.0754716981132075,
          7.0754716981132075,
          7.083825265643447,
          7.109004739336493,
          7.109004739336493,
          7.117437722419929,
          7.13436385255648,
          7.151370679380214,
          7.151370679380214,
          7.168458781362008,
          7.202881152460984,
          7.246376811594203,
          7.255139056831923,
          7.263922518159807,
          7.263922518159807,
          7.2727272727272725,
          7.281553398058252,
          7.3081607795371495,
          7.326007326007327,
          7.334963325183375,
          7.37100737100737,
          7.380073800738007,
          7.407407407407407,
          7.407407407407407,
          7.444168734491314,
          7.5,
          7.509386733416771,
          7.518796992481203,
          7.566204287515763,
          7.633587786259541,
          7.633587786259541,
          7.643312101910828,
          7.751937984496124,
          7.83289817232376,
          7.83289817232376,
          7.8431372549019605,
          7.884362680683311,
          7.9787234042553195,
          7.989347536617843,
          8.04289544235925,
          8.219178082191782,
          8.253094910591471,
          8.310249307479225,
          8.583690987124463,
          8.658008658008658,
          8.784773060029282,
          8.849557522123893,
          8.941877794336811,
          9.30232558139535,
          9.966777408637874,
          9.30232558139535,
          10,
          10.849909584086799
         ],
         "y0": " ",
         "yaxis": "y"
        },
        {
         "alignmentgroup": "True",
         "hovertemplate": "Sx=Feminino<br>Faixa Etária=%{x}<br>Pace_Final=%{y}<extra></extra>",
         "legendgroup": "Feminino",
         "marker": {
          "color": "#EF553B"
         },
         "name": "Feminino",
         "notched": false,
         "offsetgroup": "Feminino",
         "orientation": "v",
         "showlegend": true,
         "type": "box",
         "x": [
          null,
          null,
          null,
          null,
          null,
          "35-44",
          "35-44",
          "45-54",
          "15-24",
          "25-34",
          "35-44",
          "35-44",
          "25-34",
          "35-44",
          "25-34",
          "45-54",
          "35-44",
          "65-74",
          "35-44",
          "35-44",
          "25-34",
          "35-44",
          "45-54",
          "35-44",
          "35-44",
          "35-44",
          "25-34",
          "45-54",
          "35-44",
          "25-34",
          "55-64",
          "15-24",
          "35-44",
          "55-64",
          "25-34",
          "35-44",
          "65-74",
          "55-64",
          "35-44",
          "55-64",
          "35-44",
          "35-44",
          "35-44",
          "25-34",
          "45-54",
          "35-44",
          "25-34",
          "45-54",
          "25-34",
          "45-54",
          "65-74",
          "35-44",
          "25-34",
          "55-64",
          "35-44",
          "55-64",
          "55-64",
          "35-44",
          "35-44",
          "45-54",
          "35-44",
          "25-34",
          "25-34",
          "35-44",
          "25-34",
          "35-44",
          "35-44",
          "45-54",
          "55-64",
          "55-64",
          "35-44",
          "55-64",
          "35-44",
          "65-74",
          "35-44",
          "15-24",
          "35-44",
          "25-34",
          "35-44",
          "15-24",
          "15-24",
          "25-34",
          "45-54",
          "45-54",
          "35-44",
          "35-44",
          "25-34",
          "35-44",
          "15-24",
          "15-24",
          "45-54",
          "25-34",
          "65-74",
          "35-44",
          "45-54",
          "25-34",
          "35-44",
          "65-74",
          "25-34",
          "65-74",
          "25-34",
          "45-54",
          "35-44",
          "65-74",
          "45-54",
          "45-54",
          "35-44",
          "25-34",
          "35-44",
          "35-44",
          "25-34",
          "15-24",
          "35-44",
          "35-44",
          "35-44",
          "25-34",
          "55-64",
          "65-74",
          "45-54",
          "35-44",
          "25-34",
          "25-34",
          "35-44",
          "25-34",
          "25-34",
          "25-34",
          "45-54",
          "15-24",
          "45-54",
          "25-34",
          "75-99",
          "35-44",
          "35-44",
          "55-64",
          "55-64",
          "55-64",
          "55-64",
          "25-34",
          "35-44",
          "25-34",
          "45-54",
          "45-54",
          "35-44",
          "35-44",
          "35-44",
          "45-54",
          "45-54",
          "25-34",
          "55-64",
          "25-34",
          "55-64",
          "15-24",
          "65-74",
          "35-44",
          "35-44",
          "15-24",
          "25-34",
          "45-54",
          "35-44",
          "25-34",
          "25-34",
          "25-34",
          "55-64",
          "35-44",
          "45-54",
          "35-44",
          "35-44",
          "35-44",
          "25-34",
          "25-34",
          "35-44",
          "65-74",
          "65-74",
          "35-44",
          "35-44",
          "65-74",
          "35-44",
          "55-64",
          "45-54",
          "25-34",
          "35-44",
          "25-34",
          "65-74",
          "35-44",
          "55-64",
          "45-54",
          "55-64",
          "55-64",
          "35-44",
          "65-74",
          "35-44",
          "35-44",
          "25-34",
          "45-54",
          "35-44",
          "35-44",
          "25-34",
          "25-34",
          "25-34",
          "65-74",
          "35-44",
          "65-74",
          "15-24",
          "25-34",
          "25-34",
          "75-99",
          "45-54",
          "65-74",
          "55-64",
          "55-64",
          "25-34",
          "25-34",
          "35-44",
          "65-74",
          "45-54",
          "35-44",
          "15-24",
          "35-44",
          "55-64",
          "35-44",
          "35-44",
          "25-34",
          "35-44",
          "35-44",
          "45-54",
          "25-34",
          "35-44",
          "45-54",
          "25-34",
          "25-34",
          "45-54",
          "55-64",
          "55-64",
          "35-44",
          "55-64",
          "75-99",
          "35-44",
          "45-54",
          "25-34",
          "35-44",
          "45-54",
          "25-34",
          "15-24",
          "45-54",
          "25-34",
          "35-44",
          "35-44",
          "35-44",
          "45-54",
          "45-54",
          "35-44",
          "45-54",
          "35-44",
          "45-54",
          "35-44",
          "25-34",
          "35-44",
          "45-54",
          "45-54",
          "25-34",
          "45-54",
          "15-24",
          "35-44",
          "65-74",
          "45-54",
          "65-74",
          "35-44",
          "35-44",
          "35-44",
          "15-24",
          "45-54",
          "65-74",
          "25-34",
          "55-64",
          "35-44",
          "65-74",
          "45-54",
          "55-64",
          "45-54",
          "25-34",
          "55-64",
          "45-54",
          "25-34",
          "35-44",
          "15-24",
          "55-64",
          "55-64",
          "65-74",
          "55-64",
          "35-44"
         ],
         "x0": " ",
         "xaxis": "x",
         "y": [
          4.14651002073255,
          4.1928721174004195,
          4.676539360872954,
          4.7095761381475665,
          4.765687053216839,
          4.8076923076923075,
          4.811547714514836,
          4.862236628849271,
          4.9504950495049505,
          4.958677685950414,
          4.9916805324459235,
          5.029337803855825,
          5.1020408163265305,
          5.115089514066496,
          5.123825789923142,
          5.136986301369864,
          5.172413793103448,
          5.199306759098787,
          5.203816131830009,
          5.2264808362369335,
          5.2264808362369335,
          5.253940455341506,
          5.281690140845071,
          5.286343612334802,
          5.291005291005291,
          5.319148936170213,
          5.361930294906166,
          5.376344086021505,
          5.376344086021505,
          5.381165919282511,
          5.4298642533936645,
          5.434782608695652,
          5.434782608695652,
          5.43970988213962,
          5.44464609800363,
          5.44464609800363,
          5.4495912806539515,
          5.4495912806539515,
          5.454545454545454,
          5.45950864422202,
          5.46448087431694,
          5.469462169553327,
          5.479452054794521,
          5.489478499542543,
          5.489478499542543,
          5.499541704857928,
          5.504587155963303,
          5.504587155963303,
          5.524861878453039,
          5.54016620498615,
          5.555555555555555,
          5.571030640668524,
          5.571030640668524,
          5.571030640668524,
          5.5762081784386615,
          5.5762081784386615,
          5.5813953488372094,
          5.58659217877095,
          5.58659217877095,
          5.591798695246971,
          5.591798695246971,
          5.602240896358543,
          5.612722170252573,
          5.628517823639775,
          5.628517823639775,
          5.633802816901408,
          5.639097744360902,
          5.644402634054562,
          5.644402634054562,
          5.660377358490567,
          5.665722379603399,
          5.665722379603399,
          5.665722379603399,
          5.676442762535477,
          5.676442762535477,
          5.681818181818182,
          5.698005698005699,
          5.7034220532319395,
          5.730659025787965,
          5.730659025787965,
          5.730659025787965,
          5.730659025787965,
          5.741626794258374,
          5.752636625119846,
          5.752636625119846,
          5.758157389635317,
          5.780346820809248,
          5.780346820809248,
          5.7915057915057915,
          5.808325266214908,
          5.808325266214908,
          5.813953488372093,
          5.813953488372093,
          5.830903790087464,
          5.836575875486382,
          5.842259006815969,
          5.842259006815969,
          5.847953216374269,
          5.870841487279843,
          5.870841487279843,
          5.876591576885406,
          5.893909626719057,
          5.893909626719057,
          5.899705014749262,
          5.899705014749262,
          5.899705014749262,
          5.905511811023622,
          5.928853754940712,
          5.934718100890208,
          5.9523809523809526,
          5.964214711729622,
          5.9880239520958085,
          5.994005994005994,
          5.994005994005994,
          5.994005994005994,
          6.036217303822938,
          6.036217303822938,
          6.036217303822938,
          6.0606060606060606,
          6.072874493927125,
          6.072874493927125,
          6.085192697768763,
          6.091370558375635,
          6.091370558375635,
          6.091370558375635,
          6.091370558375635,
          6.109979633401222,
          6.116207951070336,
          6.153846153846154,
          6.160164271047228,
          6.166495375128468,
          6.166495375128468,
          6.185567010309279,
          6.185567010309279,
          6.217616580310881,
          6.243496357960458,
          6.243496357960458,
          6.25,
          6.263048016701461,
          6.2761506276150625,
          6.282722513089005,
          6.289308176100629,
          6.322444678609062,
          6.329113924050633,
          6.335797254487856,
          6.335797254487856,
          6.3559322033898304,
          6.376195536663125,
          6.3965884861407245,
          6.4034151547492,
          6.4034151547492,
          6.410256410256411,
          6.4239828693790155,
          6.437768240343347,
          6.4446831364124595,
          6.458557588805167,
          6.4655172413793105,
          6.4655172413793105,
          6.479481641468682,
          6.521739130434783,
          6.521739130434783,
          6.557377049180328,
          6.571741511500547,
          6.578947368421053,
          6.607929515418502,
          6.615214994487321,
          6.6298342541436455,
          6.637168141592921,
          6.666666666666667,
          6.674082313681868,
          6.674082313681868,
          6.681514476614699,
          6.681514476614699,
          6.681514476614699,
          6.7114093959731544,
          6.71892497200448,
          6.726457399103139,
          6.741573033707865,
          6.741573033707865,
          6.756756756756756,
          6.756756756756756,
          6.764374295377678,
          6.772009029345373,
          6.787330316742081,
          6.787330316742081,
          6.795016987542469,
          6.795016987542469,
          6.795016987542469,
          6.81044267877412,
          6.8181818181818175,
          6.8181818181818175,
          6.825938566552901,
          6.83371298405467,
          6.83371298405467,
          6.83371298405467,
          6.83371298405467,
          6.841505131128849,
          6.857142857142857,
          6.8886337543053955,
          6.8886337543053955,
          6.904487917146145,
          6.928406466512702,
          6.936416184971098,
          6.952491309385863,
          6.960556844547565,
          6.968641114982579,
          6.968641114982579,
          6.976744186046512,
          6.993006993006993,
          7.017543859649122,
          7.0257611241217806,
          7.042253521126761,
          7.050528789659225,
          7.0588235294117645,
          7.0754716981132075,
          7.083825265643447,
          7.083825265643447,
          7.092198581560283,
          7.109004739336493,
          7.117437722419929,
          7.1258907363420425,
          7.13436385255648,
          7.151370679380214,
          7.159904534606205,
          7.185628742514971,
          7.202881152460984,
          7.2202166064981945,
          7.246376811594203,
          7.246376811594203,
          7.246376811594203,
          7.255139056831923,
          7.263922518159807,
          7.263922518159807,
          7.281553398058252,
          7.290400972053463,
          7.2992700729927,
          7.3081607795371495,
          7.3081607795371495,
          7.326007326007327,
          7.37100737100737,
          7.380073800738007,
          7.407407407407407,
          7.425742574257426,
          7.425742574257426,
          7.444168734491314,
          7.4812967581047385,
          7.490636704119851,
          7.490636704119851,
          7.547169811320755,
          7.585335018963337,
          7.6238881829733165,
          7.633587786259541,
          7.643312101910828,
          7.653061224489796,
          7.662835249042145,
          7.751937984496124,
          7.751937984496124,
          7.782101167315175,
          7.782101167315175,
          7.802340702210663,
          7.8125,
          7.822685788787484,
          7.83289817232376,
          7.905138339920949,
          7.905138339920949,
          7.915567282321899,
          7.936507936507937,
          7.9470198675496695,
          7.989347536617843,
          8,
          8.01068090787717,
          8.032128514056225,
          8.108108108108107,
          8.207934336525309,
          8.253094910591471,
          8.310249307479225,
          8.321775312066574,
          8.356545961002785,
          8.474576271186441,
          8.620689655172415,
          8.771929824561404,
          9.036144578313253,
          9.06344410876133,
          9.174311926605505,
          9.090909090909092,
          9.273570324574962,
          9.6,
          9.630818619582664,
          11.049723756906078,
          11.049723756906078
         ],
         "y0": " ",
         "yaxis": "y"
        }
       ],
       "layout": {
        "boxmode": "group",
        "legend": {
         "title": {
          "text": "Sx"
         },
         "tracegroupgap": 0
        },
        "template": {
         "data": {
          "bar": [
           {
            "error_x": {
             "color": "#2a3f5f"
            },
            "error_y": {
             "color": "#2a3f5f"
            },
            "marker": {
             "line": {
              "color": "#E5ECF6",
              "width": 0.5
             },
             "pattern": {
              "fillmode": "overlay",
              "size": 10,
              "solidity": 0.2
             }
            },
            "type": "bar"
           }
          ],
          "barpolar": [
           {
            "marker": {
             "line": {
              "color": "#E5ECF6",
              "width": 0.5
             },
             "pattern": {
              "fillmode": "overlay",
              "size": 10,
              "solidity": 0.2
             }
            },
            "type": "barpolar"
           }
          ],
          "carpet": [
           {
            "aaxis": {
             "endlinecolor": "#2a3f5f",
             "gridcolor": "white",
             "linecolor": "white",
             "minorgridcolor": "white",
             "startlinecolor": "#2a3f5f"
            },
            "baxis": {
             "endlinecolor": "#2a3f5f",
             "gridcolor": "white",
             "linecolor": "white",
             "minorgridcolor": "white",
             "startlinecolor": "#2a3f5f"
            },
            "type": "carpet"
           }
          ],
          "choropleth": [
           {
            "colorbar": {
             "outlinewidth": 0,
             "ticks": ""
            },
            "type": "choropleth"
           }
          ],
          "contour": [
           {
            "colorbar": {
             "outlinewidth": 0,
             "ticks": ""
            },
            "colorscale": [
             [
              0,
              "#0d0887"
             ],
             [
              0.1111111111111111,
              "#46039f"
             ],
             [
              0.2222222222222222,
              "#7201a8"
             ],
             [
              0.3333333333333333,
              "#9c179e"
             ],
             [
              0.4444444444444444,
              "#bd3786"
             ],
             [
              0.5555555555555556,
              "#d8576b"
             ],
             [
              0.6666666666666666,
              "#ed7953"
             ],
             [
              0.7777777777777778,
              "#fb9f3a"
             ],
             [
              0.8888888888888888,
              "#fdca26"
             ],
             [
              1,
              "#f0f921"
             ]
            ],
            "type": "contour"
           }
          ],
          "contourcarpet": [
           {
            "colorbar": {
             "outlinewidth": 0,
             "ticks": ""
            },
            "type": "contourcarpet"
           }
          ],
          "heatmap": [
           {
            "colorbar": {
             "outlinewidth": 0,
             "ticks": ""
            },
            "colorscale": [
             [
              0,
              "#0d0887"
             ],
             [
              0.1111111111111111,
              "#46039f"
             ],
             [
              0.2222222222222222,
              "#7201a8"
             ],
             [
              0.3333333333333333,
              "#9c179e"
             ],
             [
              0.4444444444444444,
              "#bd3786"
             ],
             [
              0.5555555555555556,
              "#d8576b"
             ],
             [
              0.6666666666666666,
              "#ed7953"
             ],
             [
              0.7777777777777778,
              "#fb9f3a"
             ],
             [
              0.8888888888888888,
              "#fdca26"
             ],
             [
              1,
              "#f0f921"
             ]
            ],
            "type": "heatmap"
           }
          ],
          "heatmapgl": [
           {
            "colorbar": {
             "outlinewidth": 0,
             "ticks": ""
            },
            "colorscale": [
             [
              0,
              "#0d0887"
             ],
             [
              0.1111111111111111,
              "#46039f"
             ],
             [
              0.2222222222222222,
              "#7201a8"
             ],
             [
              0.3333333333333333,
              "#9c179e"
             ],
             [
              0.4444444444444444,
              "#bd3786"
             ],
             [
              0.5555555555555556,
              "#d8576b"
             ],
             [
              0.6666666666666666,
              "#ed7953"
             ],
             [
              0.7777777777777778,
              "#fb9f3a"
             ],
             [
              0.8888888888888888,
              "#fdca26"
             ],
             [
              1,
              "#f0f921"
             ]
            ],
            "type": "heatmapgl"
           }
          ],
          "histogram": [
           {
            "marker": {
             "pattern": {
              "fillmode": "overlay",
              "size": 10,
              "solidity": 0.2
             }
            },
            "type": "histogram"
           }
          ],
          "histogram2d": [
           {
            "colorbar": {
             "outlinewidth": 0,
             "ticks": ""
            },
            "colorscale": [
             [
              0,
              "#0d0887"
             ],
             [
              0.1111111111111111,
              "#46039f"
             ],
             [
              0.2222222222222222,
              "#7201a8"
             ],
             [
              0.3333333333333333,
              "#9c179e"
             ],
             [
              0.4444444444444444,
              "#bd3786"
             ],
             [
              0.5555555555555556,
              "#d8576b"
             ],
             [
              0.6666666666666666,
              "#ed7953"
             ],
             [
              0.7777777777777778,
              "#fb9f3a"
             ],
             [
              0.8888888888888888,
              "#fdca26"
             ],
             [
              1,
              "#f0f921"
             ]
            ],
            "type": "histogram2d"
           }
          ],
          "histogram2dcontour": [
           {
            "colorbar": {
             "outlinewidth": 0,
             "ticks": ""
            },
            "colorscale": [
             [
              0,
              "#0d0887"
             ],
             [
              0.1111111111111111,
              "#46039f"
             ],
             [
              0.2222222222222222,
              "#7201a8"
             ],
             [
              0.3333333333333333,
              "#9c179e"
             ],
             [
              0.4444444444444444,
              "#bd3786"
             ],
             [
              0.5555555555555556,
              "#d8576b"
             ],
             [
              0.6666666666666666,
              "#ed7953"
             ],
             [
              0.7777777777777778,
              "#fb9f3a"
             ],
             [
              0.8888888888888888,
              "#fdca26"
             ],
             [
              1,
              "#f0f921"
             ]
            ],
            "type": "histogram2dcontour"
           }
          ],
          "mesh3d": [
           {
            "colorbar": {
             "outlinewidth": 0,
             "ticks": ""
            },
            "type": "mesh3d"
           }
          ],
          "parcoords": [
           {
            "line": {
             "colorbar": {
              "outlinewidth": 0,
              "ticks": ""
             }
            },
            "type": "parcoords"
           }
          ],
          "pie": [
           {
            "automargin": true,
            "type": "pie"
           }
          ],
          "scatter": [
           {
            "fillpattern": {
             "fillmode": "overlay",
             "size": 10,
             "solidity": 0.2
            },
            "type": "scatter"
           }
          ],
          "scatter3d": [
           {
            "line": {
             "colorbar": {
              "outlinewidth": 0,
              "ticks": ""
             }
            },
            "marker": {
             "colorbar": {
              "outlinewidth": 0,
              "ticks": ""
             }
            },
            "type": "scatter3d"
           }
          ],
          "scattercarpet": [
           {
            "marker": {
             "colorbar": {
              "outlinewidth": 0,
              "ticks": ""
             }
            },
            "type": "scattercarpet"
           }
          ],
          "scattergeo": [
           {
            "marker": {
             "colorbar": {
              "outlinewidth": 0,
              "ticks": ""
             }
            },
            "type": "scattergeo"
           }
          ],
          "scattergl": [
           {
            "marker": {
             "colorbar": {
              "outlinewidth": 0,
              "ticks": ""
             }
            },
            "type": "scattergl"
           }
          ],
          "scattermapbox": [
           {
            "marker": {
             "colorbar": {
              "outlinewidth": 0,
              "ticks": ""
             }
            },
            "type": "scattermapbox"
           }
          ],
          "scatterpolar": [
           {
            "marker": {
             "colorbar": {
              "outlinewidth": 0,
              "ticks": ""
             }
            },
            "type": "scatterpolar"
           }
          ],
          "scatterpolargl": [
           {
            "marker": {
             "colorbar": {
              "outlinewidth": 0,
              "ticks": ""
             }
            },
            "type": "scatterpolargl"
           }
          ],
          "scatterternary": [
           {
            "marker": {
             "colorbar": {
              "outlinewidth": 0,
              "ticks": ""
             }
            },
            "type": "scatterternary"
           }
          ],
          "surface": [
           {
            "colorbar": {
             "outlinewidth": 0,
             "ticks": ""
            },
            "colorscale": [
             [
              0,
              "#0d0887"
             ],
             [
              0.1111111111111111,
              "#46039f"
             ],
             [
              0.2222222222222222,
              "#7201a8"
             ],
             [
              0.3333333333333333,
              "#9c179e"
             ],
             [
              0.4444444444444444,
              "#bd3786"
             ],
             [
              0.5555555555555556,
              "#d8576b"
             ],
             [
              0.6666666666666666,
              "#ed7953"
             ],
             [
              0.7777777777777778,
              "#fb9f3a"
             ],
             [
              0.8888888888888888,
              "#fdca26"
             ],
             [
              1,
              "#f0f921"
             ]
            ],
            "type": "surface"
           }
          ],
          "table": [
           {
            "cells": {
             "fill": {
              "color": "#EBF0F8"
             },
             "line": {
              "color": "white"
             }
            },
            "header": {
             "fill": {
              "color": "#C8D4E3"
             },
             "line": {
              "color": "white"
             }
            },
            "type": "table"
           }
          ]
         },
         "layout": {
          "annotationdefaults": {
           "arrowcolor": "#2a3f5f",
           "arrowhead": 0,
           "arrowwidth": 1
          },
          "autotypenumbers": "strict",
          "coloraxis": {
           "colorbar": {
            "outlinewidth": 0,
            "ticks": ""
           }
          },
          "colorscale": {
           "diverging": [
            [
             0,
             "#8e0152"
            ],
            [
             0.1,
             "#c51b7d"
            ],
            [
             0.2,
             "#de77ae"
            ],
            [
             0.3,
             "#f1b6da"
            ],
            [
             0.4,
             "#fde0ef"
            ],
            [
             0.5,
             "#f7f7f7"
            ],
            [
             0.6,
             "#e6f5d0"
            ],
            [
             0.7,
             "#b8e186"
            ],
            [
             0.8,
             "#7fbc41"
            ],
            [
             0.9,
             "#4d9221"
            ],
            [
             1,
             "#276419"
            ]
           ],
           "sequential": [
            [
             0,
             "#0d0887"
            ],
            [
             0.1111111111111111,
             "#46039f"
            ],
            [
             0.2222222222222222,
             "#7201a8"
            ],
            [
             0.3333333333333333,
             "#9c179e"
            ],
            [
             0.4444444444444444,
             "#bd3786"
            ],
            [
             0.5555555555555556,
             "#d8576b"
            ],
            [
             0.6666666666666666,
             "#ed7953"
            ],
            [
             0.7777777777777778,
             "#fb9f3a"
            ],
            [
             0.8888888888888888,
             "#fdca26"
            ],
            [
             1,
             "#f0f921"
            ]
           ],
           "sequentialminus": [
            [
             0,
             "#0d0887"
            ],
            [
             0.1111111111111111,
             "#46039f"
            ],
            [
             0.2222222222222222,
             "#7201a8"
            ],
            [
             0.3333333333333333,
             "#9c179e"
            ],
            [
             0.4444444444444444,
             "#bd3786"
            ],
            [
             0.5555555555555556,
             "#d8576b"
            ],
            [
             0.6666666666666666,
             "#ed7953"
            ],
            [
             0.7777777777777778,
             "#fb9f3a"
            ],
            [
             0.8888888888888888,
             "#fdca26"
            ],
            [
             1,
             "#f0f921"
            ]
           ]
          },
          "colorway": [
           "#636efa",
           "#EF553B",
           "#00cc96",
           "#ab63fa",
           "#FFA15A",
           "#19d3f3",
           "#FF6692",
           "#B6E880",
           "#FF97FF",
           "#FECB52"
          ],
          "font": {
           "color": "#2a3f5f"
          },
          "geo": {
           "bgcolor": "white",
           "lakecolor": "white",
           "landcolor": "#E5ECF6",
           "showlakes": true,
           "showland": true,
           "subunitcolor": "white"
          },
          "hoverlabel": {
           "align": "left"
          },
          "hovermode": "closest",
          "mapbox": {
           "style": "light"
          },
          "paper_bgcolor": "white",
          "plot_bgcolor": "#E5ECF6",
          "polar": {
           "angularaxis": {
            "gridcolor": "white",
            "linecolor": "white",
            "ticks": ""
           },
           "bgcolor": "#E5ECF6",
           "radialaxis": {
            "gridcolor": "white",
            "linecolor": "white",
            "ticks": ""
           }
          },
          "scene": {
           "xaxis": {
            "backgroundcolor": "#E5ECF6",
            "gridcolor": "white",
            "gridwidth": 2,
            "linecolor": "white",
            "showbackground": true,
            "ticks": "",
            "zerolinecolor": "white"
           },
           "yaxis": {
            "backgroundcolor": "#E5ECF6",
            "gridcolor": "white",
            "gridwidth": 2,
            "linecolor": "white",
            "showbackground": true,
            "ticks": "",
            "zerolinecolor": "white"
           },
           "zaxis": {
            "backgroundcolor": "#E5ECF6",
            "gridcolor": "white",
            "gridwidth": 2,
            "linecolor": "white",
            "showbackground": true,
            "ticks": "",
            "zerolinecolor": "white"
           }
          },
          "shapedefaults": {
           "line": {
            "color": "#2a3f5f"
           }
          },
          "ternary": {
           "aaxis": {
            "gridcolor": "white",
            "linecolor": "white",
            "ticks": ""
           },
           "baxis": {
            "gridcolor": "white",
            "linecolor": "white",
            "ticks": ""
           },
           "bgcolor": "#E5ECF6",
           "caxis": {
            "gridcolor": "white",
            "linecolor": "white",
            "ticks": ""
           }
          },
          "title": {
           "x": 0.05
          },
          "xaxis": {
           "automargin": true,
           "gridcolor": "white",
           "linecolor": "white",
           "ticks": "",
           "title": {
            "standoff": 15
           },
           "zerolinecolor": "white",
           "zerolinewidth": 2
          },
          "yaxis": {
           "automargin": true,
           "gridcolor": "white",
           "linecolor": "white",
           "ticks": "",
           "title": {
            "standoff": 15
           },
           "zerolinecolor": "white",
           "zerolinewidth": 2
          }
         }
        },
        "title": {
         "text": "Perfomance da Corrida Através do Box Plot em Faixas Etárias e Sexo"
        },
        "xaxis": {
         "anchor": "y",
         "categoryarray": [
          "15-24",
          "25-34",
          "35-44",
          "45-54",
          "55-64",
          "65-74",
          "75-99"
         ],
         "categoryorder": "array",
         "domain": [
          0,
          1
         ],
         "title": {
          "text": "Faixa Etária"
         }
        },
        "yaxis": {
         "anchor": "x",
         "domain": [
          0,
          1
         ],
         "title": {
          "text": "Pace_Final"
         }
        }
       }
      }
     },
     "metadata": {},
     "output_type": "display_data"
    }
   ],
   "source": [
    "ordem_categoria = ['15-24','25-34','35-44','45-54','55-64','65-74','75-99']\n",
    "\n",
    "fig = px.box(\n",
    "    dados_corrida_so_quem_completou,\n",
    "    x = 'Faixa Etária',\n",
    "    y='Pace_Final',\n",
    "    color='Sx',\n",
    "    title = 'Perfomance da Corrida Através do Box Plot em Faixas Etárias e Sexo',\n",
    "    category_orders = {\"Faixa Etária\":ordem_categoria}\n",
    "    \n",
    ")\n",
    "\n",
    "\n",
    "\n",
    "fig.show()"
   ]
  },
  {
   "cell_type": "markdown",
   "metadata": {},
   "source": [
    "![Gráfico Plotly](Perfomance_de_Corrida_Por_Faixas_Etárias_Sexo.png)"
   ]
  },
  {
   "cell_type": "markdown",
   "metadata": {},
   "source": [
    "#### Algumas Observações:\n",
    "* A categoria de menor mediana geral é a de 25 a 34 anos.\n",
    "* A categoria com maior desvio padrão parece ser a de 75 a 99, até por apresentar a maior diferença de idades, enquanto as idades são de 10 anos, essa é de 25 anos. Além disso, acredito que existam idosos muito bons com paces muito bons como o Drauzio Varella.\n",
    "* Como podemos ver, em todas as categorias, homens tem um pace melhor. Ainda mais, tirando de 75 a 99, o 75% dos homens tem perfomance melhor que 50% das mulheres, ou seja, a mulher mediana ficaria no q3 dos homens.\n",
    "* Para voce ser o melhor em uma categoria, voce precisa ter um pace abaixo de 4 minutos/km\n",
    "* A disparidade do 65-74 entre o primeiro e segundo é de quase 1 minuto/km, igualmente para o de 75-99."
   ]
  },
  {
   "cell_type": "markdown",
   "metadata": {},
   "source": [
    "### Desempenho em relação a ser ou nao da APPAI"
   ]
  },
  {
   "cell_type": "code",
   "execution_count": 65,
   "metadata": {},
   "outputs": [
    {
     "data": {
      "text/html": [
       "<div>\n",
       "<style scoped>\n",
       "    .dataframe tbody tr th:only-of-type {\n",
       "        vertical-align: middle;\n",
       "    }\n",
       "\n",
       "    .dataframe tbody tr th {\n",
       "        vertical-align: top;\n",
       "    }\n",
       "\n",
       "    .dataframe thead th {\n",
       "        text-align: right;\n",
       "    }\n",
       "</style>\n",
       "<table border=\"1\" class=\"dataframe\">\n",
       "  <thead>\n",
       "    <tr style=\"text-align: right;\">\n",
       "      <th></th>\n",
       "      <th>Pos</th>\n",
       "      <th>Num</th>\n",
       "      <th>Nome</th>\n",
       "      <th>Equipe</th>\n",
       "      <th>Sx</th>\n",
       "      <th>Cat</th>\n",
       "      <th>Por Categoria</th>\n",
       "      <th>PC</th>\n",
       "      <th>Tempo</th>\n",
       "      <th>Tempo Bruto</th>\n",
       "      <th>Vel.Média</th>\n",
       "      <th>Categoria_Sem_Sexo</th>\n",
       "      <th>Equipe Appae</th>\n",
       "      <th>Pace_Final</th>\n",
       "      <th>Sprint_Final</th>\n",
       "      <th>Faixa Etária</th>\n",
       "      <th>Sprint_Final_Segundos</th>\n",
       "      <th>Sprint_Final_Minutos</th>\n",
       "    </tr>\n",
       "  </thead>\n",
       "  <tbody>\n",
       "    <tr>\n",
       "      <th>0</th>\n",
       "      <td>1.</td>\n",
       "      <td>543.0</td>\n",
       "      <td>COSME ANCELMO</td>\n",
       "      <td>NaN</td>\n",
       "      <td>Masculino</td>\n",
       "      <td>GM</td>\n",
       "      <td>1.0</td>\n",
       "      <td>1900-01-01 00:28:04.650</td>\n",
       "      <td>1900-01-01 00:31:36.430</td>\n",
       "      <td>0:31:39.35</td>\n",
       "      <td>18.99</td>\n",
       "      <td>G</td>\n",
       "      <td>False</td>\n",
       "      <td>3.159558</td>\n",
       "      <td>0 days 00:03:31.780000</td>\n",
       "      <td>NaN</td>\n",
       "      <td>211.78</td>\n",
       "      <td>3.529667</td>\n",
       "    </tr>\n",
       "    <tr>\n",
       "      <th>1</th>\n",
       "      <td>2.</td>\n",
       "      <td>5.0</td>\n",
       "      <td>Jose Eloy</td>\n",
       "      <td>EloAtle - Petropolis</td>\n",
       "      <td>Masculino</td>\n",
       "      <td>GM</td>\n",
       "      <td>2.0</td>\n",
       "      <td>1900-01-01 00:29:45.880</td>\n",
       "      <td>1900-01-01 00:33:42.890</td>\n",
       "      <td>0:33:44.60</td>\n",
       "      <td>17.80</td>\n",
       "      <td>G</td>\n",
       "      <td>False</td>\n",
       "      <td>3.370787</td>\n",
       "      <td>0 days 00:03:57.010000</td>\n",
       "      <td>NaN</td>\n",
       "      <td>237.01</td>\n",
       "      <td>3.950167</td>\n",
       "    </tr>\n",
       "    <tr>\n",
       "      <th>2</th>\n",
       "      <td>3.</td>\n",
       "      <td>7.0</td>\n",
       "      <td>Fabio Baltasar Da Silva</td>\n",
       "      <td>EloAtle - Petropolis</td>\n",
       "      <td>Masculino</td>\n",
       "      <td>GM</td>\n",
       "      <td>3.0</td>\n",
       "      <td>1900-01-01 00:30:34.410</td>\n",
       "      <td>1900-01-01 00:34:27.920</td>\n",
       "      <td>0:34:29.59</td>\n",
       "      <td>17.42</td>\n",
       "      <td>G</td>\n",
       "      <td>False</td>\n",
       "      <td>3.444317</td>\n",
       "      <td>0 days 00:03:53.510000</td>\n",
       "      <td>NaN</td>\n",
       "      <td>233.51</td>\n",
       "      <td>3.891833</td>\n",
       "    </tr>\n",
       "    <tr>\n",
       "      <th>3</th>\n",
       "      <td>4.</td>\n",
       "      <td>286.0</td>\n",
       "      <td>Renato Rodrigues Castro</td>\n",
       "      <td>KPR CADU PERRUCI FARIA</td>\n",
       "      <td>Masculino</td>\n",
       "      <td>GM</td>\n",
       "      <td>4.0</td>\n",
       "      <td>1900-01-01 00:30:42.420</td>\n",
       "      <td>1900-01-01 00:34:28.940</td>\n",
       "      <td>0:34:29.10</td>\n",
       "      <td>17.41</td>\n",
       "      <td>G</td>\n",
       "      <td>False</td>\n",
       "      <td>3.446295</td>\n",
       "      <td>0 days 00:03:46.520000</td>\n",
       "      <td>NaN</td>\n",
       "      <td>226.52</td>\n",
       "      <td>3.775333</td>\n",
       "    </tr>\n",
       "    <tr>\n",
       "      <th>4</th>\n",
       "      <td>5.</td>\n",
       "      <td>250.0</td>\n",
       "      <td>Marcio Antonio Rodrigues De Souza</td>\n",
       "      <td>Toscano</td>\n",
       "      <td>Masculino</td>\n",
       "      <td>GM</td>\n",
       "      <td>5.0</td>\n",
       "      <td>1900-01-01 00:30:43.410</td>\n",
       "      <td>1900-01-01 00:34:30.670</td>\n",
       "      <td>0:34:34.35</td>\n",
       "      <td>17.39</td>\n",
       "      <td>G</td>\n",
       "      <td>False</td>\n",
       "      <td>3.450259</td>\n",
       "      <td>0 days 00:03:47.260000</td>\n",
       "      <td>NaN</td>\n",
       "      <td>227.26</td>\n",
       "      <td>3.787667</td>\n",
       "    </tr>\n",
       "  </tbody>\n",
       "</table>\n",
       "</div>"
      ],
      "text/plain": [
       "  Pos    Num                               Nome                  Equipe  \\\n",
       "0  1.  543.0                      COSME ANCELMO                     NaN   \n",
       "1  2.    5.0                          Jose Eloy    EloAtle - Petropolis   \n",
       "2  3.    7.0            Fabio Baltasar Da Silva    EloAtle - Petropolis   \n",
       "3  4.  286.0            Renato Rodrigues Castro  KPR CADU PERRUCI FARIA   \n",
       "4  5.  250.0  Marcio Antonio Rodrigues De Souza                 Toscano   \n",
       "\n",
       "          Sx Cat  Por Categoria                      PC  \\\n",
       "0  Masculino  GM            1.0 1900-01-01 00:28:04.650   \n",
       "1  Masculino  GM            2.0 1900-01-01 00:29:45.880   \n",
       "2  Masculino  GM            3.0 1900-01-01 00:30:34.410   \n",
       "3  Masculino  GM            4.0 1900-01-01 00:30:42.420   \n",
       "4  Masculino  GM            5.0 1900-01-01 00:30:43.410   \n",
       "\n",
       "                    Tempo Tempo Bruto    Vel.Média Categoria_Sem_Sexo  \\\n",
       "0 1900-01-01 00:31:36.430    0:31:39.35      18.99                  G   \n",
       "1 1900-01-01 00:33:42.890    0:33:44.60      17.80                  G   \n",
       "2 1900-01-01 00:34:27.920    0:34:29.59      17.42                  G   \n",
       "3 1900-01-01 00:34:28.940    0:34:29.10      17.41                  G   \n",
       "4 1900-01-01 00:34:30.670    0:34:34.35      17.39                  G   \n",
       "\n",
       "   Equipe Appae  Pace_Final           Sprint_Final Faixa Etária  \\\n",
       "0         False    3.159558 0 days 00:03:31.780000          NaN   \n",
       "1         False    3.370787 0 days 00:03:57.010000          NaN   \n",
       "2         False    3.444317 0 days 00:03:53.510000          NaN   \n",
       "3         False    3.446295 0 days 00:03:46.520000          NaN   \n",
       "4         False    3.450259 0 days 00:03:47.260000          NaN   \n",
       "\n",
       "   Sprint_Final_Segundos  Sprint_Final_Minutos  \n",
       "0                 211.78              3.529667  \n",
       "1                 237.01              3.950167  \n",
       "2                 233.51              3.891833  \n",
       "3                 226.52              3.775333  \n",
       "4                 227.26              3.787667  "
      ]
     },
     "execution_count": 65,
     "metadata": {},
     "output_type": "execute_result"
    }
   ],
   "source": [
    "dados_corrida_so_quem_completou.head()"
   ]
  },
  {
   "cell_type": "code",
   "execution_count": 37,
   "metadata": {},
   "outputs": [
    {
     "data": {
      "application/vnd.plotly.v1+json": {
       "config": {
        "plotlyServerURL": "https://plot.ly"
       },
       "data": [
        {
         "alignmentgroup": "True",
         "hovertemplate": "Equipe Appae=%{x}<br>Pace_Final=%{y}<extra></extra>",
         "legendgroup": "",
         "marker": {
          "color": "#636efa"
         },
         "name": "",
         "notched": false,
         "offsetgroup": "",
         "orientation": "v",
         "showlegend": false,
         "type": "box",
         "x": [
          false,
          false,
          false,
          false,
          false,
          false,
          false,
          false,
          false,
          false,
          false,
          false,
          true,
          false,
          false,
          false,
          false,
          true,
          false,
          false,
          false,
          false,
          false,
          false,
          true,
          true,
          true,
          false,
          false,
          false,
          true,
          false,
          false,
          false,
          false,
          false,
          true,
          true,
          false,
          false,
          true,
          true,
          false,
          true,
          false,
          true,
          false,
          true,
          false,
          true,
          true,
          false,
          true,
          false,
          false,
          true,
          true,
          false,
          false,
          true,
          true,
          false,
          false,
          false,
          false,
          false,
          false,
          true,
          false,
          false,
          false,
          true,
          false,
          false,
          false,
          false,
          false,
          true,
          false,
          false,
          false,
          true,
          true,
          true,
          false,
          true,
          false,
          false,
          false,
          false,
          true,
          true,
          true,
          false,
          true,
          true,
          true,
          true,
          false,
          true,
          true,
          false,
          false,
          true,
          false,
          true,
          false,
          false,
          true,
          true,
          true,
          false,
          false,
          true,
          true,
          true,
          false,
          true,
          false,
          false,
          true,
          false,
          false,
          false,
          false,
          false,
          false,
          false,
          false,
          true,
          true,
          false,
          false,
          false,
          false,
          true,
          true,
          false,
          false,
          false,
          true,
          true,
          true,
          false,
          false,
          false,
          true,
          true,
          false,
          false,
          true,
          true,
          true,
          true,
          false,
          false,
          true,
          true,
          false,
          true,
          false,
          true,
          true,
          false,
          false,
          false,
          false,
          true,
          true,
          true,
          false,
          false,
          true,
          true,
          false,
          true,
          false,
          false,
          true,
          true,
          true,
          false,
          true,
          true,
          true,
          false,
          true,
          false,
          false,
          true,
          false,
          true,
          false,
          true,
          true,
          false,
          false,
          false,
          true,
          false,
          false,
          false,
          false,
          false,
          false,
          true,
          true,
          false,
          true,
          false,
          false,
          false,
          false,
          false,
          false,
          false,
          true,
          false,
          false,
          true,
          false,
          false,
          false,
          false,
          true,
          false,
          true,
          false,
          false,
          true,
          false,
          false,
          false,
          true,
          true,
          true,
          false,
          true,
          true,
          false,
          true,
          false,
          false,
          false,
          false,
          false,
          true,
          false,
          false,
          false,
          true,
          false,
          true,
          true,
          false,
          false,
          true,
          true,
          false,
          true,
          true,
          true,
          true,
          false,
          false,
          true,
          false,
          false,
          true,
          false,
          true,
          true,
          false,
          false,
          false,
          true,
          true,
          true,
          true,
          false,
          true,
          true,
          true,
          false,
          true,
          false,
          true,
          true,
          false,
          false,
          false,
          false,
          true,
          false,
          true,
          false,
          true,
          true,
          true,
          true,
          false,
          false,
          true,
          false,
          false,
          false,
          false,
          false,
          true,
          false,
          true,
          true,
          false,
          true,
          true,
          true,
          false,
          false,
          false,
          false,
          false,
          false,
          false,
          false,
          true,
          false,
          false,
          false,
          true,
          true,
          false,
          false,
          true,
          false,
          false,
          true,
          false,
          false,
          true,
          false,
          false,
          false,
          false,
          false,
          true,
          false,
          false,
          false,
          true,
          true,
          true,
          true,
          true,
          false,
          false,
          true,
          true,
          false,
          false,
          true,
          true,
          true,
          true,
          true,
          true,
          false,
          true,
          true,
          false,
          false,
          true,
          true,
          false,
          true,
          true,
          true,
          true,
          false,
          false,
          true,
          false,
          true,
          false,
          false,
          false,
          false,
          true,
          true,
          true,
          false,
          false,
          true,
          true,
          true,
          false,
          true,
          false,
          true,
          true,
          true,
          false,
          true,
          true,
          true,
          false,
          false,
          false,
          false,
          false,
          false,
          false,
          true,
          true,
          true,
          true,
          false,
          false,
          true,
          false,
          false,
          false,
          false,
          true,
          true,
          true,
          false,
          true,
          true,
          false,
          false,
          false,
          true,
          false,
          false,
          false,
          true,
          true,
          false,
          false,
          false,
          false,
          false,
          true,
          true,
          true,
          false,
          false,
          true,
          true,
          true,
          false,
          false,
          true,
          true,
          true,
          true,
          false,
          false,
          true,
          false,
          false,
          false,
          false,
          true,
          true,
          true,
          false,
          true,
          true,
          true,
          true,
          false,
          true,
          false,
          false,
          true,
          false,
          true,
          true,
          true,
          true,
          false,
          false,
          true,
          true,
          true,
          false,
          false,
          false,
          false,
          true,
          false,
          false,
          false,
          true,
          false,
          true,
          false,
          true,
          false,
          false,
          false,
          false,
          false,
          false,
          false,
          true,
          true,
          false,
          true,
          true,
          true,
          true,
          false,
          true,
          false,
          false,
          true,
          false,
          true,
          true,
          false,
          true,
          false,
          true,
          false,
          false,
          true,
          false,
          false,
          false,
          true,
          false,
          true,
          true,
          false,
          true,
          false,
          true,
          false,
          false,
          false,
          false,
          true,
          false,
          true,
          true,
          true,
          false,
          false,
          true,
          false,
          true,
          true,
          false,
          true,
          false,
          true,
          true,
          true,
          true,
          true,
          false,
          false,
          false,
          true,
          true,
          false,
          true,
          false,
          false,
          true,
          false,
          false,
          true,
          false,
          false,
          true,
          false,
          false,
          true,
          false,
          false,
          false,
          false,
          false,
          false,
          true,
          true,
          false,
          false,
          false,
          false,
          true,
          false,
          false,
          true,
          true,
          true,
          true,
          true,
          true,
          false,
          false,
          true,
          true,
          false,
          false,
          true,
          true,
          true,
          false,
          true,
          false,
          false,
          false,
          false,
          false,
          true,
          false,
          false,
          true,
          true,
          false,
          true,
          true,
          false,
          true,
          false,
          false,
          true,
          true,
          true,
          false,
          true,
          false,
          false,
          true,
          false,
          true,
          false,
          true,
          true,
          false,
          true,
          false,
          false,
          true,
          false,
          false,
          false,
          false,
          true,
          false,
          false,
          true,
          true,
          true,
          false,
          false,
          true,
          false,
          true,
          true,
          false,
          true,
          false,
          false,
          false,
          false,
          false,
          true,
          true,
          true,
          true,
          false,
          false,
          true,
          true,
          true,
          false,
          true,
          true,
          true,
          false,
          true,
          false,
          false,
          true,
          true,
          false,
          true,
          true,
          false,
          false,
          false,
          true,
          false,
          false,
          true,
          true,
          true,
          false,
          false,
          true,
          true,
          true,
          true,
          false,
          true,
          true,
          false,
          false,
          false,
          true,
          false,
          false,
          false,
          true,
          true,
          true,
          false,
          true,
          false,
          false,
          false,
          true,
          false,
          true,
          false,
          true,
          true,
          true,
          false,
          true,
          false,
          true,
          true,
          true,
          false,
          true,
          false,
          false,
          true,
          true,
          false,
          true,
          true,
          false,
          true,
          false,
          false,
          true,
          false,
          false,
          false,
          false,
          true,
          true,
          true,
          true,
          true,
          false,
          true,
          true,
          true,
          false,
          false,
          true,
          false,
          true,
          true,
          false,
          false,
          true,
          false,
          false,
          false,
          false,
          true,
          true,
          false,
          true,
          true,
          false,
          true,
          true,
          false,
          false,
          true,
          false,
          true,
          true,
          false,
          false,
          false,
          false,
          true,
          true,
          true,
          true,
          true,
          true,
          true,
          false,
          true,
          false,
          true,
          false,
          true,
          true,
          false,
          false,
          true,
          true,
          true,
          true,
          true,
          false,
          true,
          true,
          true,
          false,
          false,
          false,
          true,
          true,
          true,
          false,
          false,
          true,
          false,
          false,
          true,
          true,
          true,
          true,
          false,
          true,
          false,
          true,
          false,
          true,
          true,
          true,
          false,
          false,
          false,
          false,
          true,
          false,
          false,
          true,
          false,
          false,
          false,
          false,
          true,
          false,
          true,
          true,
          true,
          true,
          true,
          false,
          true,
          true,
          true,
          true,
          true,
          true,
          true,
          true,
          false,
          true,
          true,
          true,
          true,
          true,
          false,
          false,
          true,
          true,
          true,
          false,
          true,
          true,
          true,
          false,
          true,
          false,
          true,
          true,
          false,
          true,
          false,
          false,
          false,
          true,
          true,
          true,
          true,
          false,
          true,
          true,
          true,
          true,
          true,
          true,
          true,
          true,
          true,
          false,
          false,
          false,
          true,
          true,
          true,
          true,
          false,
          true,
          false,
          true,
          false,
          true,
          true,
          true,
          true,
          false,
          false,
          false,
          false,
          false,
          false,
          true,
          true,
          true,
          true,
          true,
          false,
          true,
          false,
          true,
          true,
          true,
          true,
          false,
          true,
          false,
          true,
          false,
          true,
          false,
          false,
          true,
          false,
          true,
          true
         ],
         "x0": " ",
         "xaxis": "x",
         "y": [
          3.1595576619273302,
          3.3707865168539324,
          3.4443168771526977,
          3.4462952326249283,
          3.4502587694077054,
          3.544004725339634,
          3.621001810500905,
          3.621001810500905,
          3.6607687614399023,
          3.6607687614399023,
          3.780718336483932,
          3.7854889589905363,
          3.8095238095238093,
          3.870967741935484,
          3.878474466709761,
          3.8935756002595716,
          3.90625,
          3.9761431411530817,
          3.9787798408488064,
          3.9787798408488064,
          3.9946737683089215,
          4,
          4.008016032064128,
          4.029550033579583,
          4.0733197556008145,
          4.078857919782461,
          4.118050789293068,
          4.123711340206185,
          4.135079255685734,
          4.14651002073255,
          4.14651002073255,
          4.14651002073255,
          4.158004158004158,
          4.178272980501393,
          4.1928721174004195,
          4.195804195804196,
          4.198740377886634,
          4.204625087596356,
          4.240282685512367,
          4.2492917847025495,
          4.2492917847025495,
          4.261363636363637,
          4.264392324093817,
          4.279600570613409,
          4.288777698355968,
          4.288777698355968,
          4.291845493562231,
          4.291845493562231,
          4.297994269340974,
          4.301075268817205,
          4.313443565780014,
          4.319654427645788,
          4.344677769732078,
          4.354136429608128,
          4.363636363636363,
          4.369992716678805,
          4.385964912280702,
          4.389173372348208,
          4.389173372348208,
          4.402054292002934,
          4.405286343612335,
          4.411764705882353,
          4.428044280442804,
          4.428044280442804,
          4.434589800443459,
          4.444444444444445,
          4.451038575667655,
          4.4543429844097995,
          4.4543429844097995,
          4.49438202247191,
          4.497751124437781,
          4.504504504504505,
          4.507888805409467,
          4.511278195488722,
          4.511278195488722,
          4.52147701582517,
          4.524886877828054,
          4.524886877828054,
          4.524886877828054,
          4.524886877828054,
          4.528301886792453,
          4.531722054380665,
          4.531722054380665,
          4.552352048558422,
          4.552352048558422,
          4.562737642585551,
          4.566210045662101,
          4.566210045662101,
          4.580152671755726,
          4.580152671755726,
          4.587155963302752,
          4.597701149425287,
          4.597701149425287,
          4.601226993865031,
          4.604758250191865,
          4.6082949308755765,
          4.622496147919876,
          4.626060138781804,
          4.633204633204634,
          4.640371229698376,
          4.640371229698376,
          4.647560030983733,
          4.662004662004662,
          4.662004662004662,
          4.665629860031104,
          4.669260700389105,
          4.672897196261682,
          4.676539360872954,
          4.6801872074882995,
          4.68384074941452,
          4.68384074941452,
          4.68384074941452,
          4.68384074941452,
          4.6875,
          4.6875,
          4.691164972634871,
          4.694835680751174,
          4.698512137823023,
          4.702194357366771,
          4.702194357366771,
          4.7095761381475665,
          4.7095761381475665,
          4.7095761381475665,
          4.713275726630008,
          4.724409448818898,
          4.724409448818898,
          4.724409448818898,
          4.728132387706856,
          4.728132387706856,
          4.73559589581689,
          4.73559589581689,
          4.743083003952569,
          4.746835443037974,
          4.758128469468676,
          4.765687053216839,
          4.765687053216839,
          4.765687053216839,
          4.77326968973747,
          4.77326968973747,
          4.77326968973747,
          4.777070063694267,
          4.803843074459568,
          4.803843074459568,
          4.803843074459568,
          4.8076923076923075,
          4.811547714514836,
          4.815409309791332,
          4.815409309791332,
          4.815409309791332,
          4.819277108433735,
          4.823151125401929,
          4.823151125401929,
          4.823151125401929,
          4.823151125401929,
          4.8270313757039425,
          4.830917874396135,
          4.8348106365834,
          4.8348106365834,
          4.842615012106537,
          4.846526655896607,
          4.846526655896607,
          4.8543689320388355,
          4.858299595141701,
          4.862236628849271,
          4.862236628849271,
          4.87012987012987,
          4.8740861088545895,
          4.8740861088545895,
          4.878048780487805,
          4.882017900732303,
          4.88599348534202,
          4.88599348534202,
          4.88599348534202,
          4.893964110929853,
          4.905968928863451,
          4.918032786885246,
          4.9220672682526665,
          4.930156121610517,
          4.938271604938271,
          4.938271604938271,
          4.938271604938271,
          4.938271604938271,
          4.9464138499587795,
          4.9464138499587795,
          4.9464138499587795,
          4.9464138499587795,
          4.9504950495049505,
          4.958677685950414,
          4.958677685950414,
          4.962779156327543,
          4.971002485501242,
          4.987531172069826,
          4.9916805324459235,
          4.9916805324459235,
          5.004170141784821,
          5.004170141784821,
          5.016722408026755,
          5.020920502092051,
          5.020920502092051,
          5.029337803855825,
          5.029337803855825,
          5.029337803855825,
          5.029337803855825,
          5.037783375314861,
          5.037783375314861,
          5.037783375314861,
          5.046257359125315,
          5.05050505050505,
          5.054759898904802,
          5.059021922428331,
          5.059021922428331,
          5.059021922428331,
          5.0675675675675675,
          5.07185122569738,
          5.0761421319796955,
          5.080440304826418,
          5.080440304826418,
          5.089058524173028,
          5.1020408163265305,
          5.1020408163265305,
          5.1020408163265305,
          5.1063829787234045,
          5.1063829787234045,
          5.110732538330494,
          5.115089514066496,
          5.1194539249146755,
          5.1194539249146755,
          5.1194539249146755,
          5.123825789923142,
          5.123825789923142,
          5.128205128205129,
          5.128205128205129,
          5.132591958939265,
          5.132591958939265,
          5.136986301369864,
          5.136986301369864,
          5.136986301369864,
          5.141388174807198,
          5.145797598627787,
          5.150214592274678,
          5.150214592274678,
          5.150214592274678,
          5.150214592274678,
          5.150214592274678,
          5.150214592274678,
          5.150214592274678,
          5.154639175257731,
          5.159071367153912,
          5.163511187607574,
          5.167958656330749,
          5.167958656330749,
          5.167958656330749,
          5.172413793103448,
          5.172413793103448,
          5.176876617773943,
          5.181347150259067,
          5.181347150259067,
          5.190311418685121,
          5.190311418685121,
          5.194805194805195,
          5.199306759098787,
          5.199306759098787,
          5.199306759098787,
          5.203816131830009,
          5.203816131830009,
          5.203816131830009,
          5.208333333333334,
          5.208333333333334,
          5.2264808362369335,
          5.2264808362369335,
          5.2264808362369335,
          5.2264808362369335,
          5.2264808362369335,
          5.2264808362369335,
          5.231037489102005,
          5.231037489102005,
          5.2356020942408374,
          5.240174672489084,
          5.244755244755245,
          5.244755244755245,
          5.244755244755245,
          5.244755244755245,
          5.253940455341506,
          5.253940455341506,
          5.25854513584575,
          5.267778753292362,
          5.267778753292362,
          5.267778753292362,
          5.267778753292362,
          5.277044854881267,
          5.277044854881267,
          5.277044854881267,
          5.277044854881267,
          5.281690140845071,
          5.281690140845071,
          5.286343612334802,
          5.286343612334802,
          5.291005291005291,
          5.291005291005291,
          5.29567519858782,
          5.300353356890459,
          5.300353356890459,
          5.305039787798409,
          5.305039787798409,
          5.309734513274336,
          5.314437555358725,
          5.314437555358725,
          5.314437555358725,
          5.319148936170213,
          5.319148936170213,
          5.319148936170213,
          5.323868677905945,
          5.328596802841918,
          5.328596802841918,
          5.328596802841918,
          5.328596802841918,
          5.333333333333333,
          5.338078291814947,
          5.342831700801424,
          5.342831700801424,
          5.357142857142858,
          5.357142857142858,
          5.357142857142858,
          5.361930294906166,
          5.361930294906166,
          5.366726296958856,
          5.366726296958856,
          5.371530886302597,
          5.371530886302597,
          5.371530886302597,
          5.376344086021505,
          5.376344086021505,
          5.376344086021505,
          5.376344086021505,
          5.376344086021505,
          5.376344086021505,
          5.376344086021505,
          5.381165919282511,
          5.381165919282511,
          5.381165919282511,
          5.381165919282511,
          5.390835579514825,
          5.390835579514825,
          5.390835579514825,
          5.39568345323741,
          5.39568345323741,
          5.4005400540054005,
          5.405405405405405,
          5.405405405405405,
          5.410279531109107,
          5.410279531109107,
          5.415162454873646,
          5.415162454873646,
          5.420054200542006,
          5.420054200542006,
          5.420054200542006,
          5.420054200542006,
          5.424954792043399,
          5.4298642533936645,
          5.4298642533936645,
          5.4298642533936645,
          5.4298642533936645,
          5.434782608695652,
          5.434782608695652,
          5.434782608695652,
          5.434782608695652,
          5.43970988213962,
          5.43970988213962,
          5.44464609800363,
          5.44464609800363,
          5.4495912806539515,
          5.4495912806539515,
          5.454545454545454,
          5.454545454545454,
          5.454545454545454,
          5.454545454545454,
          5.45950864422202,
          5.45950864422202,
          5.46448087431694,
          5.46448087431694,
          5.46448087431694,
          5.469462169553327,
          5.474452554744525,
          5.474452554744525,
          5.479452054794521,
          5.479452054794521,
          5.484460694698355,
          5.484460694698355,
          5.484460694698355,
          5.484460694698355,
          5.489478499542543,
          5.489478499542543,
          5.489478499542543,
          5.489478499542543,
          5.499541704857928,
          5.499541704857928,
          5.499541704857928,
          5.504587155963303,
          5.504587155963303,
          5.504587155963303,
          5.509641873278237,
          5.514705882352941,
          5.519779208831647,
          5.524861878453039,
          5.524861878453039,
          5.535055350553505,
          5.535055350553505,
          5.535055350553505,
          5.535055350553505,
          5.54016620498615,
          5.54016620498615,
          5.54016620498615,
          5.545286506469501,
          5.545286506469501,
          5.550416281221091,
          5.555555555555555,
          5.555555555555555,
          5.565862708719852,
          5.565862708719852,
          5.571030640668524,
          5.571030640668524,
          5.571030640668524,
          5.5762081784386615,
          5.5762081784386615,
          5.5762081784386615,
          5.5762081784386615,
          5.5762081784386615,
          5.5813953488372094,
          5.58659217877095,
          5.58659217877095,
          5.58659217877095,
          5.58659217877095,
          5.58659217877095,
          5.58659217877095,
          5.591798695246971,
          5.591798695246971,
          5.597014925373134,
          5.597014925373134,
          5.597014925373134,
          5.597014925373134,
          5.597014925373134,
          5.602240896358543,
          5.607476635514019,
          5.607476635514019,
          5.612722170252573,
          5.617977528089888,
          5.623242736644799,
          5.628517823639775,
          5.628517823639775,
          5.628517823639775,
          5.628517823639775,
          5.628517823639775,
          5.633802816901408,
          5.633802816901408,
          5.639097744360902,
          5.639097744360902,
          5.639097744360902,
          5.639097744360902,
          5.639097744360902,
          5.639097744360902,
          5.644402634054562,
          5.644402634054562,
          5.644402634054562,
          5.655042412818096,
          5.655042412818096,
          5.660377358490567,
          5.660377358490567,
          5.660377358490567,
          5.665722379603399,
          5.665722379603399,
          5.665722379603399,
          5.665722379603399,
          5.671077504725898,
          5.671077504725898,
          5.676442762535477,
          5.676442762535477,
          5.676442762535477,
          5.681818181818182,
          5.6872037914691935,
          5.6872037914691935,
          5.692599620493359,
          5.692599620493359,
          5.692599620493359,
          5.692599620493359,
          5.692599620493359,
          5.692599620493359,
          5.692599620493359,
          5.692599620493359,
          5.698005698005699,
          5.7034220532319395,
          5.7034220532319395,
          5.7034220532319395,
          5.7034220532319395,
          5.714285714285714,
          5.714285714285714,
          5.719733079122975,
          5.719733079122975,
          5.7251908396946565,
          5.7251908396946565,
          5.730659025787965,
          5.730659025787965,
          5.730659025787965,
          5.730659025787965,
          5.730659025787965,
          5.736137667304015,
          5.741626794258374,
          5.74712643678161,
          5.752636625119846,
          5.752636625119846,
          5.752636625119846,
          5.752636625119846,
          5.752636625119846,
          5.752636625119846,
          5.758157389635317,
          5.758157389635317,
          5.7747834456207885,
          5.780346820809248,
          5.780346820809248,
          5.780346820809248,
          5.785920925747349,
          5.7915057915057915,
          5.797101449275362,
          5.802707930367505,
          5.802707930367505,
          5.802707930367505,
          5.802707930367505,
          5.802707930367505,
          5.808325266214908,
          5.808325266214908,
          5.808325266214908,
          5.813953488372093,
          5.813953488372093,
          5.819592628516004,
          5.825242718446601,
          5.830903790087464,
          5.830903790087464,
          5.830903790087464,
          5.836575875486382,
          5.836575875486382,
          5.836575875486382,
          5.842259006815969,
          5.842259006815969,
          5.847953216374269,
          5.847953216374269,
          5.847953216374269,
          5.847953216374269,
          5.853658536585366,
          5.859375,
          5.870841487279843,
          5.870841487279843,
          5.870841487279843,
          5.876591576885406,
          5.876591576885406,
          5.882352941176471,
          5.888125613346419,
          5.888125613346419,
          5.893909626719057,
          5.893909626719057,
          5.893909626719057,
          5.893909626719057,
          5.893909626719057,
          5.899705014749262,
          5.899705014749262,
          5.899705014749262,
          5.905511811023622,
          5.905511811023622,
          5.905511811023622,
          5.905511811023622,
          5.9171597633136095,
          5.9171597633136095,
          5.9171597633136095,
          5.9171597633136095,
          5.9171597633136095,
          5.9171597633136095,
          5.9171597633136095,
          5.9171597633136095,
          5.923000987166831,
          5.923000987166831,
          5.928853754940712,
          5.934718100890208,
          5.934718100890208,
          5.9523809523809526,
          5.9523809523809526,
          5.964214711729622,
          5.964214711729622,
          5.964214711729622,
          5.976095617529881,
          5.982053838484546,
          5.9880239520958085,
          5.9880239520958085,
          5.994005994005994,
          5.994005994005994,
          5.994005994005994,
          6.018054162487462,
          6.018054162487462,
          6.024096385542168,
          6.030150753768845,
          6.036217303822938,
          6.036217303822938,
          6.036217303822938,
          6.036217303822938,
          6.0606060606060606,
          6.0606060606060606,
          6.0606060606060606,
          6.0606060606060606,
          6.0606060606060606,
          6.072874493927125,
          6.072874493927125,
          6.072874493927125,
          6.072874493927125,
          6.079027355623101,
          6.079027355623101,
          6.079027355623101,
          6.079027355623101,
          6.079027355623101,
          6.085192697768763,
          6.091370558375635,
          6.091370558375635,
          6.091370558375635,
          6.091370558375635,
          6.097560975609756,
          6.109979633401222,
          6.109979633401222,
          6.109979633401222,
          6.116207951070336,
          6.116207951070336,
          6.116207951070336,
          6.116207951070336,
          6.122448979591836,
          6.134969325153374,
          6.141248720573183,
          6.141248720573183,
          6.153846153846154,
          6.153846153846154,
          6.153846153846154,
          6.153846153846154,
          6.160164271047228,
          6.160164271047228,
          6.160164271047228,
          6.160164271047228,
          6.160164271047228,
          6.166495375128468,
          6.166495375128468,
          6.172839506172839,
          6.179196704428424,
          6.185567010309279,
          6.185567010309279,
          6.185567010309279,
          6.185567010309279,
          6.191950464396285,
          6.198347107438017,
          6.211180124223603,
          6.217616580310881,
          6.224066390041493,
          6.230529595015576,
          6.237006237006238,
          6.243496357960458,
          6.243496357960458,
          6.25,
          6.25,
          6.25,
          6.256517205422315,
          6.263048016701461,
          6.263048016701461,
          6.269592476489028,
          6.269592476489028,
          6.269592476489028,
          6.2761506276150625,
          6.2761506276150625,
          6.2761506276150625,
          6.282722513089005,
          6.282722513089005,
          6.282722513089005,
          6.282722513089005,
          6.289308176100629,
          6.289308176100629,
          6.295907660020987,
          6.295907660020987,
          6.302521008403362,
          6.309148264984227,
          6.309148264984227,
          6.309148264984227,
          6.315789473684211,
          6.315789473684211,
          6.322444678609062,
          6.329113924050633,
          6.329113924050633,
          6.335797254487856,
          6.335797254487856,
          6.335797254487856,
          6.34920634920635,
          6.3559322033898304,
          6.3559322033898304,
          6.3559322033898304,
          6.3559322033898304,
          6.3559322033898304,
          6.362672322375398,
          6.376195536663125,
          6.382978723404255,
          6.382978723404255,
          6.3965884861407245,
          6.3965884861407245,
          6.3965884861407245,
          6.3965884861407245,
          6.4034151547492,
          6.4034151547492,
          6.4034151547492,
          6.410256410256411,
          6.410256410256411,
          6.4171122994652405,
          6.4239828693790155,
          6.430868167202572,
          6.430868167202572,
          6.437768240343347,
          6.4446831364124595,
          6.451612903225806,
          6.458557588805167,
          6.4655172413793105,
          6.4655172413793105,
          6.4655172413793105,
          6.479481641468682,
          6.500541711809317,
          6.507592190889371,
          6.514657980456025,
          6.521739130434783,
          6.521739130434783,
          6.5359477124183005,
          6.543075245365322,
          6.543075245365322,
          6.557377049180328,
          6.557377049180328,
          6.557377049180328,
          6.571741511500547,
          6.571741511500547,
          6.578947368421053,
          6.593406593406594,
          6.607929515418502,
          6.607929515418502,
          6.615214994487321,
          6.615214994487321,
          6.615214994487321,
          6.6298342541436455,
          6.6298342541436455,
          6.6298342541436455,
          6.637168141592921,
          6.651884700665189,
          6.659267480577137,
          6.666666666666667,
          6.674082313681868,
          6.674082313681868,
          6.674082313681868,
          6.681514476614699,
          6.681514476614699,
          6.681514476614699,
          6.681514476614699,
          6.68896321070234,
          6.68896321070234,
          6.703910614525141,
          6.7114093959731544,
          6.7114093959731544,
          6.71892497200448,
          6.71892497200448,
          6.726457399103139,
          6.741573033707865,
          6.741573033707865,
          6.749156355455567,
          6.756756756756756,
          6.756756756756756,
          6.764374295377678,
          6.764374295377678,
          6.772009029345373,
          6.787330316742081,
          6.787330316742081,
          6.795016987542469,
          6.795016987542469,
          6.795016987542469,
          6.795016987542469,
          6.795016987542469,
          6.81044267877412,
          6.8181818181818175,
          6.8181818181818175,
          6.8181818181818175,
          6.825938566552901,
          6.825938566552901,
          6.825938566552901,
          6.825938566552901,
          6.825938566552901,
          6.83371298405467,
          6.83371298405467,
          6.83371298405467,
          6.83371298405467,
          6.83371298405467,
          6.83371298405467,
          6.83371298405467,
          6.841505131128849,
          6.857142857142857,
          6.857142857142857,
          6.857142857142857,
          6.857142857142857,
          6.8728522336769755,
          6.8728522336769755,
          6.880733944954128,
          6.8886337543053955,
          6.8886337543053955,
          6.8965517241379315,
          6.904487917146145,
          6.904487917146145,
          6.928406466512702,
          6.936416184971098,
          6.952491309385863,
          6.960556844547565,
          6.960556844547565,
          6.968641114982579,
          6.968641114982579,
          6.968641114982579,
          6.968641114982579,
          6.976744186046512,
          6.976744186046512,
          6.993006993006993,
          6.993006993006993,
          6.993006993006993,
          7.017543859649122,
          7.017543859649122,
          7.0257611241217806,
          7.042253521126761,
          7.050528789659225,
          7.0588235294117645,
          7.0588235294117645,
          7.0588235294117645,
          7.0754716981132075,
          7.0754716981132075,
          7.0754716981132075,
          7.083825265643447,
          7.083825265643447,
          7.083825265643447,
          7.092198581560283,
          7.109004739336493,
          7.109004739336493,
          7.109004739336493,
          7.117437722419929,
          7.117437722419929,
          7.1258907363420425,
          7.13436385255648,
          7.13436385255648,
          7.151370679380214,
          7.151370679380214,
          7.151370679380214,
          7.159904534606205,
          7.168458781362008,
          7.185628742514971,
          7.202881152460984,
          7.202881152460984,
          7.2202166064981945,
          7.246376811594203,
          7.246376811594203,
          7.246376811594203,
          7.246376811594203,
          7.255139056831923,
          7.255139056831923,
          7.263922518159807,
          7.263922518159807,
          7.263922518159807,
          7.263922518159807,
          7.2727272727272725,
          7.281553398058252,
          7.281553398058252,
          7.290400972053463,
          7.2992700729927,
          7.3081607795371495,
          7.3081607795371495,
          7.3081607795371495,
          7.326007326007327,
          7.326007326007327,
          7.334963325183375,
          7.37100737100737,
          7.37100737100737,
          7.380073800738007,
          7.380073800738007,
          7.407407407407407,
          7.407407407407407,
          7.407407407407407,
          7.425742574257426,
          7.425742574257426,
          7.444168734491314,
          7.444168734491314,
          7.4812967581047385,
          7.490636704119851,
          7.490636704119851,
          7.5,
          7.509386733416771,
          7.518796992481203,
          7.547169811320755,
          7.566204287515763,
          7.585335018963337,
          7.6238881829733165,
          7.633587786259541,
          7.633587786259541,
          7.633587786259541,
          7.643312101910828,
          7.643312101910828,
          7.653061224489796,
          7.662835249042145,
          7.751937984496124,
          7.751937984496124,
          7.751937984496124,
          7.782101167315175,
          7.782101167315175,
          7.802340702210663,
          7.8125,
          7.822685788787484,
          7.83289817232376,
          7.83289817232376,
          7.83289817232376,
          7.8431372549019605,
          7.884362680683311,
          7.905138339920949,
          7.905138339920949,
          7.915567282321899,
          7.936507936507937,
          7.9470198675496695,
          7.9787234042553195,
          7.989347536617843,
          7.989347536617843,
          8,
          8.01068090787717,
          8.032128514056225,
          8.04289544235925,
          8.108108108108107,
          8.207934336525309,
          8.219178082191782,
          8.253094910591471,
          8.253094910591471,
          8.310249307479225,
          8.310249307479225,
          8.321775312066574,
          8.356545961002785,
          8.474576271186441,
          8.583690987124463,
          8.620689655172415,
          8.658008658008658,
          8.771929824561404,
          8.784773060029282,
          8.849557522123893,
          8.941877794336811,
          9.036144578313253,
          9.06344410876133,
          9.174311926605505,
          9.30232558139535,
          9.090909090909092,
          9.273570324574962,
          9.6,
          9.630818619582664,
          9.966777408637874,
          9.30232558139535,
          10,
          10.849909584086799,
          11.049723756906078,
          11.049723756906078
         ],
         "y0": " ",
         "yaxis": "y"
        },
        {
         "marker": {
          "color": "black",
          "size": 8
         },
         "mode": "markers",
         "name": "Meu Tempo",
         "type": "scatter",
         "x": [
          false
         ],
         "y": [
          5.9171597633136095
         ]
        }
       ],
       "layout": {
        "boxmode": "group",
        "legend": {
         "tracegroupgap": 0
        },
        "template": {
         "data": {
          "bar": [
           {
            "error_x": {
             "color": "#2a3f5f"
            },
            "error_y": {
             "color": "#2a3f5f"
            },
            "marker": {
             "line": {
              "color": "#E5ECF6",
              "width": 0.5
             },
             "pattern": {
              "fillmode": "overlay",
              "size": 10,
              "solidity": 0.2
             }
            },
            "type": "bar"
           }
          ],
          "barpolar": [
           {
            "marker": {
             "line": {
              "color": "#E5ECF6",
              "width": 0.5
             },
             "pattern": {
              "fillmode": "overlay",
              "size": 10,
              "solidity": 0.2
             }
            },
            "type": "barpolar"
           }
          ],
          "carpet": [
           {
            "aaxis": {
             "endlinecolor": "#2a3f5f",
             "gridcolor": "white",
             "linecolor": "white",
             "minorgridcolor": "white",
             "startlinecolor": "#2a3f5f"
            },
            "baxis": {
             "endlinecolor": "#2a3f5f",
             "gridcolor": "white",
             "linecolor": "white",
             "minorgridcolor": "white",
             "startlinecolor": "#2a3f5f"
            },
            "type": "carpet"
           }
          ],
          "choropleth": [
           {
            "colorbar": {
             "outlinewidth": 0,
             "ticks": ""
            },
            "type": "choropleth"
           }
          ],
          "contour": [
           {
            "colorbar": {
             "outlinewidth": 0,
             "ticks": ""
            },
            "colorscale": [
             [
              0,
              "#0d0887"
             ],
             [
              0.1111111111111111,
              "#46039f"
             ],
             [
              0.2222222222222222,
              "#7201a8"
             ],
             [
              0.3333333333333333,
              "#9c179e"
             ],
             [
              0.4444444444444444,
              "#bd3786"
             ],
             [
              0.5555555555555556,
              "#d8576b"
             ],
             [
              0.6666666666666666,
              "#ed7953"
             ],
             [
              0.7777777777777778,
              "#fb9f3a"
             ],
             [
              0.8888888888888888,
              "#fdca26"
             ],
             [
              1,
              "#f0f921"
             ]
            ],
            "type": "contour"
           }
          ],
          "contourcarpet": [
           {
            "colorbar": {
             "outlinewidth": 0,
             "ticks": ""
            },
            "type": "contourcarpet"
           }
          ],
          "heatmap": [
           {
            "colorbar": {
             "outlinewidth": 0,
             "ticks": ""
            },
            "colorscale": [
             [
              0,
              "#0d0887"
             ],
             [
              0.1111111111111111,
              "#46039f"
             ],
             [
              0.2222222222222222,
              "#7201a8"
             ],
             [
              0.3333333333333333,
              "#9c179e"
             ],
             [
              0.4444444444444444,
              "#bd3786"
             ],
             [
              0.5555555555555556,
              "#d8576b"
             ],
             [
              0.6666666666666666,
              "#ed7953"
             ],
             [
              0.7777777777777778,
              "#fb9f3a"
             ],
             [
              0.8888888888888888,
              "#fdca26"
             ],
             [
              1,
              "#f0f921"
             ]
            ],
            "type": "heatmap"
           }
          ],
          "heatmapgl": [
           {
            "colorbar": {
             "outlinewidth": 0,
             "ticks": ""
            },
            "colorscale": [
             [
              0,
              "#0d0887"
             ],
             [
              0.1111111111111111,
              "#46039f"
             ],
             [
              0.2222222222222222,
              "#7201a8"
             ],
             [
              0.3333333333333333,
              "#9c179e"
             ],
             [
              0.4444444444444444,
              "#bd3786"
             ],
             [
              0.5555555555555556,
              "#d8576b"
             ],
             [
              0.6666666666666666,
              "#ed7953"
             ],
             [
              0.7777777777777778,
              "#fb9f3a"
             ],
             [
              0.8888888888888888,
              "#fdca26"
             ],
             [
              1,
              "#f0f921"
             ]
            ],
            "type": "heatmapgl"
           }
          ],
          "histogram": [
           {
            "marker": {
             "pattern": {
              "fillmode": "overlay",
              "size": 10,
              "solidity": 0.2
             }
            },
            "type": "histogram"
           }
          ],
          "histogram2d": [
           {
            "colorbar": {
             "outlinewidth": 0,
             "ticks": ""
            },
            "colorscale": [
             [
              0,
              "#0d0887"
             ],
             [
              0.1111111111111111,
              "#46039f"
             ],
             [
              0.2222222222222222,
              "#7201a8"
             ],
             [
              0.3333333333333333,
              "#9c179e"
             ],
             [
              0.4444444444444444,
              "#bd3786"
             ],
             [
              0.5555555555555556,
              "#d8576b"
             ],
             [
              0.6666666666666666,
              "#ed7953"
             ],
             [
              0.7777777777777778,
              "#fb9f3a"
             ],
             [
              0.8888888888888888,
              "#fdca26"
             ],
             [
              1,
              "#f0f921"
             ]
            ],
            "type": "histogram2d"
           }
          ],
          "histogram2dcontour": [
           {
            "colorbar": {
             "outlinewidth": 0,
             "ticks": ""
            },
            "colorscale": [
             [
              0,
              "#0d0887"
             ],
             [
              0.1111111111111111,
              "#46039f"
             ],
             [
              0.2222222222222222,
              "#7201a8"
             ],
             [
              0.3333333333333333,
              "#9c179e"
             ],
             [
              0.4444444444444444,
              "#bd3786"
             ],
             [
              0.5555555555555556,
              "#d8576b"
             ],
             [
              0.6666666666666666,
              "#ed7953"
             ],
             [
              0.7777777777777778,
              "#fb9f3a"
             ],
             [
              0.8888888888888888,
              "#fdca26"
             ],
             [
              1,
              "#f0f921"
             ]
            ],
            "type": "histogram2dcontour"
           }
          ],
          "mesh3d": [
           {
            "colorbar": {
             "outlinewidth": 0,
             "ticks": ""
            },
            "type": "mesh3d"
           }
          ],
          "parcoords": [
           {
            "line": {
             "colorbar": {
              "outlinewidth": 0,
              "ticks": ""
             }
            },
            "type": "parcoords"
           }
          ],
          "pie": [
           {
            "automargin": true,
            "type": "pie"
           }
          ],
          "scatter": [
           {
            "fillpattern": {
             "fillmode": "overlay",
             "size": 10,
             "solidity": 0.2
            },
            "type": "scatter"
           }
          ],
          "scatter3d": [
           {
            "line": {
             "colorbar": {
              "outlinewidth": 0,
              "ticks": ""
             }
            },
            "marker": {
             "colorbar": {
              "outlinewidth": 0,
              "ticks": ""
             }
            },
            "type": "scatter3d"
           }
          ],
          "scattercarpet": [
           {
            "marker": {
             "colorbar": {
              "outlinewidth": 0,
              "ticks": ""
             }
            },
            "type": "scattercarpet"
           }
          ],
          "scattergeo": [
           {
            "marker": {
             "colorbar": {
              "outlinewidth": 0,
              "ticks": ""
             }
            },
            "type": "scattergeo"
           }
          ],
          "scattergl": [
           {
            "marker": {
             "colorbar": {
              "outlinewidth": 0,
              "ticks": ""
             }
            },
            "type": "scattergl"
           }
          ],
          "scattermapbox": [
           {
            "marker": {
             "colorbar": {
              "outlinewidth": 0,
              "ticks": ""
             }
            },
            "type": "scattermapbox"
           }
          ],
          "scatterpolar": [
           {
            "marker": {
             "colorbar": {
              "outlinewidth": 0,
              "ticks": ""
             }
            },
            "type": "scatterpolar"
           }
          ],
          "scatterpolargl": [
           {
            "marker": {
             "colorbar": {
              "outlinewidth": 0,
              "ticks": ""
             }
            },
            "type": "scatterpolargl"
           }
          ],
          "scatterternary": [
           {
            "marker": {
             "colorbar": {
              "outlinewidth": 0,
              "ticks": ""
             }
            },
            "type": "scatterternary"
           }
          ],
          "surface": [
           {
            "colorbar": {
             "outlinewidth": 0,
             "ticks": ""
            },
            "colorscale": [
             [
              0,
              "#0d0887"
             ],
             [
              0.1111111111111111,
              "#46039f"
             ],
             [
              0.2222222222222222,
              "#7201a8"
             ],
             [
              0.3333333333333333,
              "#9c179e"
             ],
             [
              0.4444444444444444,
              "#bd3786"
             ],
             [
              0.5555555555555556,
              "#d8576b"
             ],
             [
              0.6666666666666666,
              "#ed7953"
             ],
             [
              0.7777777777777778,
              "#fb9f3a"
             ],
             [
              0.8888888888888888,
              "#fdca26"
             ],
             [
              1,
              "#f0f921"
             ]
            ],
            "type": "surface"
           }
          ],
          "table": [
           {
            "cells": {
             "fill": {
              "color": "#EBF0F8"
             },
             "line": {
              "color": "white"
             }
            },
            "header": {
             "fill": {
              "color": "#C8D4E3"
             },
             "line": {
              "color": "white"
             }
            },
            "type": "table"
           }
          ]
         },
         "layout": {
          "annotationdefaults": {
           "arrowcolor": "#2a3f5f",
           "arrowhead": 0,
           "arrowwidth": 1
          },
          "autotypenumbers": "strict",
          "coloraxis": {
           "colorbar": {
            "outlinewidth": 0,
            "ticks": ""
           }
          },
          "colorscale": {
           "diverging": [
            [
             0,
             "#8e0152"
            ],
            [
             0.1,
             "#c51b7d"
            ],
            [
             0.2,
             "#de77ae"
            ],
            [
             0.3,
             "#f1b6da"
            ],
            [
             0.4,
             "#fde0ef"
            ],
            [
             0.5,
             "#f7f7f7"
            ],
            [
             0.6,
             "#e6f5d0"
            ],
            [
             0.7,
             "#b8e186"
            ],
            [
             0.8,
             "#7fbc41"
            ],
            [
             0.9,
             "#4d9221"
            ],
            [
             1,
             "#276419"
            ]
           ],
           "sequential": [
            [
             0,
             "#0d0887"
            ],
            [
             0.1111111111111111,
             "#46039f"
            ],
            [
             0.2222222222222222,
             "#7201a8"
            ],
            [
             0.3333333333333333,
             "#9c179e"
            ],
            [
             0.4444444444444444,
             "#bd3786"
            ],
            [
             0.5555555555555556,
             "#d8576b"
            ],
            [
             0.6666666666666666,
             "#ed7953"
            ],
            [
             0.7777777777777778,
             "#fb9f3a"
            ],
            [
             0.8888888888888888,
             "#fdca26"
            ],
            [
             1,
             "#f0f921"
            ]
           ],
           "sequentialminus": [
            [
             0,
             "#0d0887"
            ],
            [
             0.1111111111111111,
             "#46039f"
            ],
            [
             0.2222222222222222,
             "#7201a8"
            ],
            [
             0.3333333333333333,
             "#9c179e"
            ],
            [
             0.4444444444444444,
             "#bd3786"
            ],
            [
             0.5555555555555556,
             "#d8576b"
            ],
            [
             0.6666666666666666,
             "#ed7953"
            ],
            [
             0.7777777777777778,
             "#fb9f3a"
            ],
            [
             0.8888888888888888,
             "#fdca26"
            ],
            [
             1,
             "#f0f921"
            ]
           ]
          },
          "colorway": [
           "#636efa",
           "#EF553B",
           "#00cc96",
           "#ab63fa",
           "#FFA15A",
           "#19d3f3",
           "#FF6692",
           "#B6E880",
           "#FF97FF",
           "#FECB52"
          ],
          "font": {
           "color": "#2a3f5f"
          },
          "geo": {
           "bgcolor": "white",
           "lakecolor": "white",
           "landcolor": "#E5ECF6",
           "showlakes": true,
           "showland": true,
           "subunitcolor": "white"
          },
          "hoverlabel": {
           "align": "left"
          },
          "hovermode": "closest",
          "mapbox": {
           "style": "light"
          },
          "paper_bgcolor": "white",
          "plot_bgcolor": "#E5ECF6",
          "polar": {
           "angularaxis": {
            "gridcolor": "white",
            "linecolor": "white",
            "ticks": ""
           },
           "bgcolor": "#E5ECF6",
           "radialaxis": {
            "gridcolor": "white",
            "linecolor": "white",
            "ticks": ""
           }
          },
          "scene": {
           "xaxis": {
            "backgroundcolor": "#E5ECF6",
            "gridcolor": "white",
            "gridwidth": 2,
            "linecolor": "white",
            "showbackground": true,
            "ticks": "",
            "zerolinecolor": "white"
           },
           "yaxis": {
            "backgroundcolor": "#E5ECF6",
            "gridcolor": "white",
            "gridwidth": 2,
            "linecolor": "white",
            "showbackground": true,
            "ticks": "",
            "zerolinecolor": "white"
           },
           "zaxis": {
            "backgroundcolor": "#E5ECF6",
            "gridcolor": "white",
            "gridwidth": 2,
            "linecolor": "white",
            "showbackground": true,
            "ticks": "",
            "zerolinecolor": "white"
           }
          },
          "shapedefaults": {
           "line": {
            "color": "#2a3f5f"
           }
          },
          "ternary": {
           "aaxis": {
            "gridcolor": "white",
            "linecolor": "white",
            "ticks": ""
           },
           "baxis": {
            "gridcolor": "white",
            "linecolor": "white",
            "ticks": ""
           },
           "bgcolor": "#E5ECF6",
           "caxis": {
            "gridcolor": "white",
            "linecolor": "white",
            "ticks": ""
           }
          },
          "title": {
           "x": 0.05
          },
          "xaxis": {
           "automargin": true,
           "gridcolor": "white",
           "linecolor": "white",
           "ticks": "",
           "title": {
            "standoff": 15
           },
           "zerolinecolor": "white",
           "zerolinewidth": 2
          },
          "yaxis": {
           "automargin": true,
           "gridcolor": "white",
           "linecolor": "white",
           "ticks": "",
           "title": {
            "standoff": 15
           },
           "zerolinecolor": "white",
           "zerolinewidth": 2
          }
         }
        },
        "title": {
         "text": "Perfomance da Corrida Através do Box Plot em Ser ou Nao da Appai"
        },
        "xaxis": {
         "anchor": "y",
         "domain": [
          0,
          1
         ],
         "ticktext": [
          "Não é APPAI",
          "APPAI"
         ],
         "tickvals": [
          false,
          true
         ],
         "title": {
          "text": "Equipe Appae"
         }
        },
        "yaxis": {
         "anchor": "x",
         "domain": [
          0,
          1
         ],
         "title": {
          "text": "Pace_Final"
         }
        }
       }
      }
     },
     "metadata": {},
     "output_type": "display_data"
    }
   ],
   "source": [
    "fig = px.box(\n",
    "    dados_corrida_so_quem_completou,\n",
    "    x = 'Equipe Appae',\n",
    "    y='Pace_Final',\n",
    "    title = 'Perfomance da Corrida Através do Box Plot em Ser ou Nao da Appai',\n",
    "    \n",
    ")\n",
    "fig.update_xaxes( tickvals = [False, True], # Valores dos ticks\n",
    "    ticktext=['Não é APPAI', 'APPAI']  # Textos dos ticks\n",
    ")\n",
    "\n",
    "\n",
    "fig.add_trace(\n",
    "    go.Scatter(  # Categoria correspondente ao seu tempo\n",
    "        x=[False],\n",
    "        y=[meu_pace],\n",
    "        mode='markers',\n",
    "        marker=dict(color='black', size=8),\n",
    "        name='Meu Tempo'\n",
    "    )\n",
    ")\n",
    "fig.show()"
   ]
  },
  {
   "cell_type": "markdown",
   "metadata": {},
   "source": [
    "![Gráfico Plotly](Perfomance_de_Corrida_Por_Ser_Appai.png)"
   ]
  },
  {
   "cell_type": "markdown",
   "metadata": {},
   "source": [
    "* Não me parece que ser ou não da APPAI determina o desempenho, por mais que a mediana de ser da APPAI seja maior, ou seja além de quase 50% dos participantes ser da APPAI ainda temos uma boa perfomance dos mesmos.\n",
    "* Novamente no caso de ser ou não da Appai, eu fiquei entre a Mediana e o Q3."
   ]
  },
  {
   "cell_type": "code",
   "execution_count": 36,
   "metadata": {},
   "outputs": [
    {
     "data": {
      "text/plain": [
       "Equipe Appae  Sx       \n",
       "False         Masculino    0.383090\n",
       "True          Masculino    0.314196\n",
       "              Feminino     0.172234\n",
       "False         Feminino     0.130480\n",
       "Name: proportion, dtype: float64"
      ]
     },
     "execution_count": 36,
     "metadata": {},
     "output_type": "execute_result"
    }
   ],
   "source": [
    "dados_corrida_so_quem_completou[['Equipe Appae','Sx']].value_counts(normalize=True)\n"
   ]
  },
  {
   "cell_type": "markdown",
   "metadata": {},
   "source": [
    "* Uma coisa que eu quis notar é, as classes do APPAI são balanceadas? Pois, se a APPAI tiver mais mulheres e mulheres tem um pace menor, e mesmo assim o pace APPAI x Nao APPAI ficou parecido, quer dizer que essas mulheres da APPAI são melhores, mas com o dado de cima mostra que não tem tanta diferença entre as bases."
   ]
  },
  {
   "cell_type": "markdown",
   "metadata": {},
   "source": [
    "## Considerações Finais.\n",
    "\n"
   ]
  },
  {
   "cell_type": "markdown",
   "metadata": {},
   "source": [
    "### Participação\n",
    "\n",
    "* A APPAI é uma excelente ferramenta para que grupos profissionais façam parte de corridas e melhorem de vida já que correr está ligado a uma melhora da saúde cardiovascular e vários outros benefícios.\n",
    "\n",
    "* Para uma análise mais aprofundada de participações é importante fazer análises das corridas de 5 km e a caminhada de 3 km, a corrida de 10 km pode afastar alguns iniciantes.\n",
    "\n",
    "* A organização da corrida poderia incentivar mais mulheres a participar da corrida de 10km.\n",
    "\n",
    "### Desempenho\n",
    "\n",
    "* Como já é esperado, homens tem um pace maior que mulheres, mas isso não é novidade e nem demonstra nem um sinal de fraqueza.\n",
    "\n",
    "* Importante notar que o melhor desempenho não vem da faixa etária mais jovem e sim da segunda mais jovem para homens e da terceira mais jovem para mulheres, então, para a corrida de 10km, idade é importante, mas experiência parece contar mais.\n",
    "\n",
    "* A APPAI, além de ter bastante corredores, tem bons corredores, o que demonstra que essas pessoas da APPAI fazer algumas corridas além da do Rio Antigo.\n",
    "\n",
    "* Quanto ao meu desempenho, fiquei feliz, 1 semana antes da corrida conclui o meu primeiro treino de 10 km e agora fiz um sub 6 numa corrida de 10 km. Que venham os próximos e como demonstra os dados, com experiência me tornarei melhor."
   ]
  },
  {
   "cell_type": "markdown",
   "metadata": {},
   "source": []
  },
  {
   "cell_type": "markdown",
   "metadata": {},
   "source": []
  }
 ],
 "metadata": {
  "kernelspec": {
   "display_name": "Python 3",
   "language": "python",
   "name": "python3"
  },
  "language_info": {
   "codemirror_mode": {
    "name": "ipython",
    "version": 3
   },
   "file_extension": ".py",
   "mimetype": "text/x-python",
   "name": "python",
   "nbconvert_exporter": "python",
   "pygments_lexer": "ipython3",
   "version": "3.11.9"
  }
 },
 "nbformat": 4,
 "nbformat_minor": 2
}
